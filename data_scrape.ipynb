{
 "cells": [
  {
   "cell_type": "markdown",
   "id": "dd254527-ae18-43ed-b95c-46821f722ccd",
   "metadata": {},
   "source": [
    "# Steam game review analysis"
   ]
  },
  {
   "cell_type": "markdown",
   "id": "0c06df59-bfcb-4d1e-a669-f445369d47b2",
   "metadata": {},
   "source": [
    "## 1. Imports"
   ]
  },
  {
   "cell_type": "code",
   "execution_count": 1,
   "id": "7e6ff794-f574-41a9-8a28-361939e27e90",
   "metadata": {},
   "outputs": [],
   "source": [
    "import pandas as pd\n",
    "import numpy as np\n",
    "from bs4 import BeautifulSoup\n",
    "import requests\n",
    "import re\n",
    "import json\n",
    "from tqdm import tqdm\n",
    "import csv\n",
    "\n",
    "debug = False\n",
    "url = 'https://store.steampowered.com/search/?category1=998&supportedlang=english'\n",
    "\n",
    "# URL contains # which the scraping loop will replace with the start value in each iteration\n",
    "url_raw = 'https://store.steampowered.com/search/results/?query&start=#&count=50&dynamic_data=&sort_by=_ASC&category1=998&supportedlang=english&snr=1_7_7_230_7&infinite=1'\n",
    "# url_raw = 'https://store.steampowered.com/search/results/?query&start=#&count=50&dynamic_data=&force_infinite=1&category1=998&supportedlang=english&filter=topsellers&ndl=1&snr=1_7_7_7000_7&infinite=1'"
   ]
  },
  {
   "cell_type": "markdown",
   "id": "1a81d88c-8598-4432-a068-73702d6db7c4",
   "metadata": {},
   "source": [
    "## 2. Get number of games on page"
   ]
  },
  {
   "cell_type": "code",
   "execution_count": 2,
   "id": "bef0dd72-a6f9-4d43-96b5-35414c76031e",
   "metadata": {},
   "outputs": [
    {
     "name": "stdout",
     "output_type": "stream",
     "text": [
      "[INFO] 79162 games found\n"
     ]
    }
   ],
   "source": [
    "def scrape_num_games(url):\n",
    "    page = requests.get(url) # Get game homepage\n",
    "    \n",
    "    soup = BeautifulSoup(page.content, \"html.parser\")\n",
    "    div = soup.find(\"div\", {\"id\": \"search_results_filtered_warning\"})\n",
    "    \n",
    "    children = [str(i) for i in div.children]\n",
    "    result = [i for i in children if '<div>' in i][0] # First child div contains game count\n",
    "    game_count = result[result.index(\">\")+1:result.index(\" \")].replace(\",\", \"\") # Get number of games returned by query\n",
    "    excluded_game_count = result[result.index(\". \")+2:result.index(\" titles\")].replace(\",\", \"\") # Get number of games not shown due to search preferences\n",
    "    total_count = int(game_count) - int(excluded_game_count) # Calculate total number of games returned and shown\n",
    "\n",
    "    return total_count\n",
    "\n",
    "game_count = scrape_num_games(url)\n",
    "print(f'[INFO] {game_count} games found') "
   ]
  },
  {
   "cell_type": "markdown",
   "id": "198ff2c8-0297-41cb-9ad3-d84da9d994fe",
   "metadata": {},
   "source": [
    "## 3. Scrape game information"
   ]
  },
  {
   "cell_type": "code",
   "execution_count": 4,
   "id": "a1423e45-f319-45aa-ac49-bdaaa6f53603",
   "metadata": {},
   "outputs": [
    {
     "name": "stdout",
     "output_type": "stream",
     "text": [
      "[INFO] Scraping... \n"
     ]
    },
    {
     "name": "stderr",
     "output_type": "stream",
     "text": [
      "  2%|█▎                                                                        | 28/1583 [1:10:06<53:46:45, 124.51s/it]"
     ]
    },
    {
     "name": "stdout",
     "output_type": "stream",
     "text": [
      "[INFO] Cannot parse following info.\n",
      "<a href=\\\"https:\\/\\/store.steampowered.com\\/app\\/605740\\/Flashing_Lights__Police_Firefighting_Emergency_Services_EMS_Simulator\\/?snr=1_7_7_230_150_29\\\"\\r\\n\\t\\t\\t data-ds-appid=\\\"605740\\\" data-ds-itemkey=\\\"App_605740\\\" data-ds-tagids=\\\"[3968,1774,6378,4175,5363,3814,1644]\\\" data-ds-crtrids=\\\"[32976461,44213547]\\\" onmouseover=\\\"GameHover( this, event, 'global_hover', {&quot;type&quot;:&quot;app&quot;,&quot;id&quot;:605740,&quot;public&quot;:1,&quot;v6&quot;:1} );\\\" onmouseout=\\\"HideGameHover( this, event, 'global_hover' )\\\" class=\\\"search_result_row ds_collapse_flag \\\"\\r\\n\\t\\t   data-search-page=\\\"29\\\" data-gpnav=\\\"item\\\"\\r\\n\\t\\t   data-ds-steam-deck-compat-handled=\\\"true\\\">\\r\\n            <div class=\\\"col search_capsule\\\"><img src=\\\"https:\\/\\/cdn.cloudflare.steamstatic.com\\/steam\\/apps\\/605740\\/capsule_sm_120.jpg?t=1702301411\\\" srcset=\\\"https:\\/\\/cdn.cloudflare.steamstatic.com\\/steam\\/apps\\/605740\\/capsule_sm_120.jpg?t=1702301411 1x, https:\\/\\/cdn.cloudflare.steamstatic.com\\/steam\\/apps\\/605740\\/capsule_231x87.jpg?t=1702301411 2x\\\"><\\/div>\\r\\n            <div class=\\\"responsive_search_name_combined\\\">\\r\\n                <div class=\\\"col search_name ellipsis\\\">\\r\\n                    <span class=\\\"title\\\">Flashing Lights - Police, Firefighting, Emergency Services (EMS) Simulator<\\/span>\\r\\n                    <div>\\r\\n                                                <span class=\\\"platform_img win\\\"><\\/span><span class=\\\"platform_img mac\\\"><\\/span>                                            <\\/div>\\r\\n                <\\/div>\\r\\n                <div class=\\\"col search_released responsive_secondrow\\\">\\r\\n                    15 May, 2023                <\\/div>\\r\\n                <div class=\\\"col search_reviewscore responsive_secondrow\\\">\\r\\n                                            <span class=\\\"search_review_summary positive\\\" data-tooltip-html=\\\"Very Positive&lt;br&gt;83% of the 12,381 user reviews for this game are positive.\\\">\\r\\n\\t\\t\\t\\t\\t\\t\\t\\t<\\/span>\\r\\n                                    <\\/div>\\r\\n\\r\\n\\r\\n                <div class=\\\"col search_price_discount_combined responsive_secondrow\\\" data-price-final=\\\"999\\\">\\r\\n                    <div class=\\\"col search_discount_and_price responsive_secondrow\\\">\\r\\n                        <div class=\\\"discount_block search_discount_block\\\" data-price-final=\\\"999\\\" data-bundlediscount=\\\"0\\\" data-discount=\\\"60\\\"><div class=\\\"discount_pct\\\">-60%<\\/div><div class=\\\"discount_prices\\\"><div class=\\\"discount_original_price\\\">£24.99<\\/div><div class=\\\"discount_final_price\\\">£9.99<\\/div><\\/div><\\/div>                    <\\/div>\\r\\n                <\\/div>\\r\\n            <\\/div>\\r\\n\\r\\n\\r\\n            <div style=\\\"clear: left;\\\"><\\/div>\\r\\n        <\\/a>\\r\\n            \\r\\n\\t\\t\\t\\t\n",
      "=====\n"
     ]
    },
    {
     "name": "stderr",
     "output_type": "stream",
     "text": [
      "  2%|█▍                                                                         | 31/1583 [1:11:36<27:06:08, 62.87s/it]"
     ]
    },
    {
     "name": "stdout",
     "output_type": "stream",
     "text": [
      "[INFO] Cannot parse following info.\n",
      "<a href=\\\"https:\\/\\/store.steampowered.com\\/app\\/2348100\\/YEAH_YOU_WANT_THOSE_GAMES_RIGHT_SO_HERE_YOU_GO_NOW_LETS_SEE_YOU_CLEAR_THEM\\/?snr=1_7_7_230_150_32\\\"\\r\\n\\t\\t\\t data-ds-appid=\\\"2348100\\\" data-ds-itemkey=\\\"App_2348100\\\" data-ds-tagids=\\\"[597,1664,5537,4726,4136,4878,1719]\\\" data-ds-crtrids=\\\"[33518623]\\\" onmouseover=\\\"GameHover( this, event, 'global_hover', {&quot;type&quot;:&quot;app&quot;,&quot;id&quot;:2348100,&quot;public&quot;:1,&quot;v6&quot;:1} );\\\" onmouseout=\\\"HideGameHover( this, event, 'global_hover' )\\\" class=\\\"search_result_row ds_collapse_flag \\\"\\r\\n\\t\\t   data-search-page=\\\"32\\\" data-gpnav=\\\"item\\\"\\r\\n\\t\\t   data-ds-steam-deck-compat-handled=\\\"true\\\">\\r\\n            <div class=\\\"col search_capsule\\\"><img src=\\\"https:\\/\\/cdn.cloudflare.steamstatic.com\\/steam\\/apps\\/2348100\\/capsule_sm_120.jpg?t=1689818514\\\" srcset=\\\"https:\\/\\/cdn.cloudflare.steamstatic.com\\/steam\\/apps\\/2348100\\/capsule_sm_120.jpg?t=1689818514 1x, https:\\/\\/cdn.cloudflare.steamstatic.com\\/steam\\/apps\\/2348100\\/capsule_231x87.jpg?t=1689818514 2x\\\"><\\/div>\\r\\n            <div class=\\\"responsive_search_name_combined\\\">\\r\\n                <div class=\\\"col search_name ellipsis\\\">\\r\\n                    <span class=\\\"title\\\">YEAH! YOU WANT &quot;THOSE GAMES,&quot; RIGHT? SO HERE YOU GO! NOW, LET'S SEE YOU CLEAR THEM!<\\/span>\\r\\n                    <div>\\r\\n                                                <span class=\\\"platform_img win\\\"><\\/span>                                            <\\/div>\\r\\n                <\\/div>\\r\\n                <div class=\\\"col search_released responsive_secondrow\\\">\\r\\n                    19 Jul, 2023                <\\/div>\\r\\n                <div class=\\\"col search_reviewscore responsive_secondrow\\\">\\r\\n                                            <span class=\\\"search_review_summary positive\\\" data-tooltip-html=\\\"Mostly Positive&lt;br&gt;79% of the 708 user reviews for this game are positive.\\\">\\r\\n\\t\\t\\t\\t\\t\\t\\t\\t<\\/span>\\r\\n                                    <\\/div>\\r\\n\\r\\n\\r\\n                <div class=\\\"col search_price_discount_combined responsive_secondrow\\\" data-price-final=\\\"719\\\">\\r\\n                    <div class=\\\"col search_discount_and_price responsive_secondrow\\\">\\r\\n                        <div class=\\\"discount_block search_discount_block\\\" data-price-final=\\\"719\\\" data-bundlediscount=\\\"0\\\" data-discount=\\\"20\\\"><div class=\\\"discount_pct\\\">-20%<\\/div><div class=\\\"discount_prices\\\"><div class=\\\"discount_original_price\\\">£8.99<\\/div><div class=\\\"discount_final_price\\\">£7.19<\\/div><\\/div><\\/div>                    <\\/div>\\r\\n                <\\/div>\\r\\n            <\\/div>\\r\\n\\r\\n\\r\\n            <div style=\\\"clear: left;\\\"><\\/div>\\r\\n        <\\/a>\\r\\n            \\r\\n\\t\\t\\t\\t\n",
      "=====\n"
     ]
    },
    {
     "name": "stderr",
     "output_type": "stream",
     "text": [
      "  4%|██▉                                                                         | 62/1583 [2:04:40<8:39:51, 20.51s/it]"
     ]
    },
    {
     "name": "stdout",
     "output_type": "stream",
     "text": [
      "[INFO] Cannot parse following info.\n",
      "<a href=\\\"https:\\/\\/store.steampowered.com\\/app\\/260230\\/Valiant_Hearts_The_Great_War__Soldats_Inconnus__Mmoires_de_la_Grande_Guerre\\/?snr=1_7_7_230_150_63\\\"\\r\\n\\t\\t\\t data-ds-appid=\\\"260230\\\" data-ds-itemkey=\\\"App_260230\\\" data-ds-tagids=\\\"[4166,3987,5382,21,1678,1742,5984]\\\" data-ds-crtrids=\\\"[33075774]\\\" onmouseover=\\\"GameHover( this, event, 'global_hover', {&quot;type&quot;:&quot;app&quot;,&quot;id&quot;:260230,&quot;public&quot;:1,&quot;v6&quot;:1} );\\\" onmouseout=\\\"HideGameHover( this, event, 'global_hover' )\\\" class=\\\"search_result_row ds_collapse_flag \\\"\\r\\n\\t\\t   data-search-page=\\\"63\\\" data-gpnav=\\\"item\\\"\\r\\n\\t\\t   data-ds-steam-deck-compat-handled=\\\"true\\\">\\r\\n            <div class=\\\"col search_capsule\\\"><img src=\\\"https:\\/\\/cdn.cloudflare.steamstatic.com\\/steam\\/apps\\/260230\\/capsule_sm_120.jpg?t=1680017715\\\" srcset=\\\"https:\\/\\/cdn.cloudflare.steamstatic.com\\/steam\\/apps\\/260230\\/capsule_sm_120.jpg?t=1680017715 1x, https:\\/\\/cdn.cloudflare.steamstatic.com\\/steam\\/apps\\/260230\\/capsule_231x87.jpg?t=1680017715 2x\\\"><\\/div>\\r\\n            <div class=\\\"responsive_search_name_combined\\\">\\r\\n                <div class=\\\"col search_name ellipsis\\\">\\r\\n                    <span class=\\\"title\\\">Valiant Hearts: The Great War™ \\/ Soldats Inconnus : Mémoires de la Grande Guerre™<\\/span>\\r\\n                    <div>\\r\\n                                                <span class=\\\"platform_img win\\\"><\\/span>                                            <\\/div>\\r\\n                <\\/div>\\r\\n                <div class=\\\"col search_released responsive_secondrow\\\">\\r\\n                    25 Jun, 2014                <\\/div>\\r\\n                <div class=\\\"col search_reviewscore responsive_secondrow\\\">\\r\\n                                            <span class=\\\"search_review_summary positive\\\" data-tooltip-html=\\\"Overwhelmingly Positive&lt;br&gt;95% of the 21,079 user reviews for this game are positive.\\\">\\r\\n\\t\\t\\t\\t\\t\\t\\t\\t<\\/span>\\r\\n                                    <\\/div>\\r\\n\\r\\n\\r\\n                <div class=\\\"col search_price_discount_combined responsive_secondrow\\\" data-price-final=\\\"312\\\">\\r\\n                    <div class=\\\"col search_discount_and_price responsive_secondrow\\\">\\r\\n                        <div class=\\\"discount_block search_discount_block\\\" data-price-final=\\\"312\\\" data-bundlediscount=\\\"0\\\" data-discount=\\\"75\\\"><div class=\\\"discount_pct\\\">-75%<\\/div><div class=\\\"discount_prices\\\"><div class=\\\"discount_original_price\\\">£12.49<\\/div><div class=\\\"discount_final_price\\\">£3.12<\\/div><\\/div><\\/div>                    <\\/div>\\r\\n                <\\/div>\\r\\n            <\\/div>\\r\\n\\r\\n\\r\\n            <div style=\\\"clear: left;\\\"><\\/div>\\r\\n        <\\/a>\\r\\n            \\r\\n\\t\\t\\t\\t\n",
      "=====\n"
     ]
    },
    {
     "name": "stderr",
     "output_type": "stream",
     "text": [
      "  4%|███                                                                         | 63/1583 [2:05:10<9:56:04, 23.53s/it]"
     ]
    },
    {
     "name": "stdout",
     "output_type": "stream",
     "text": [
      "[INFO] Cannot parse following info.\n",
      "<a href=\\\"https:\\/\\/store.steampowered.com\\/app\\/2061250\\/Shin_chan_Me_and_the_Professor_on_Summer_Vacation_The_Endless_SevenDay_Journey\\/?snr=1_7_7_230_150_64\\\"\\r\\n\\t\\t\\t data-ds-appid=\\\"2061250\\\" data-ds-itemkey=\\\"App_2061250\\\" data-ds-tagids=\\\"[21,4975,4166,4182,1742,4085,597]\\\" onmouseover=\\\"GameHover( this, event, 'global_hover', {&quot;type&quot;:&quot;app&quot;,&quot;id&quot;:2061250,&quot;public&quot;:1,&quot;v6&quot;:1} );\\\" onmouseout=\\\"HideGameHover( this, event, 'global_hover' )\\\" class=\\\"search_result_row ds_collapse_flag \\\"\\r\\n\\t\\t   data-search-page=\\\"64\\\" data-gpnav=\\\"item\\\"\\r\\n\\t\\t   data-ds-steam-deck-compat-handled=\\\"true\\\">\\r\\n            <div class=\\\"col search_capsule\\\"><img src=\\\"https:\\/\\/cdn.cloudflare.steamstatic.com\\/steam\\/apps\\/2061250\\/capsule_sm_120.jpg?t=1693981165\\\" srcset=\\\"https:\\/\\/cdn.cloudflare.steamstatic.com\\/steam\\/apps\\/2061250\\/capsule_sm_120.jpg?t=1693981165 1x, https:\\/\\/cdn.cloudflare.steamstatic.com\\/steam\\/apps\\/2061250\\/capsule_231x87.jpg?t=1693981165 2x\\\"><\\/div>\\r\\n            <div class=\\\"responsive_search_name_combined\\\">\\r\\n                <div class=\\\"col search_name ellipsis\\\">\\r\\n                    <span class=\\\"title\\\">Shin chan: Me and the Professor on Summer Vacation The Endless Seven-Day Journey<\\/span>\\r\\n                    <div>\\r\\n                                                <span class=\\\"platform_img win\\\"><\\/span>                                            <\\/div>\\r\\n                <\\/div>\\r\\n                <div class=\\\"col search_released responsive_secondrow\\\">\\r\\n                    31 Aug, 2022                <\\/div>\\r\\n                <div class=\\\"col search_reviewscore responsive_secondrow\\\">\\r\\n                                            <span class=\\\"search_review_summary positive\\\" data-tooltip-html=\\\"Very Positive&lt;br&gt;84% of the 199 user reviews for this game are positive.\\\">\\r\\n\\t\\t\\t\\t\\t\\t\\t\\t<\\/span>\\r\\n                                    <\\/div>\\r\\n\\r\\n\\r\\n                <div class=\\\"col search_price_discount_combined responsive_secondrow\\\" data-price-final=\\\"2099\\\">\\r\\n                    <div class=\\\"col search_discount_and_price responsive_secondrow\\\">\\r\\n                        <div class=\\\"discount_block search_discount_block\\\" data-price-final=\\\"2099\\\" data-bundlediscount=\\\"0\\\" data-discount=\\\"50\\\"><div class=\\\"discount_pct\\\">-50%<\\/div><div class=\\\"discount_prices\\\"><div class=\\\"discount_original_price\\\">£41.99<\\/div><div class=\\\"discount_final_price\\\">£20.99<\\/div><\\/div><\\/div>                    <\\/div>\\r\\n                <\\/div>\\r\\n            <\\/div>\\r\\n\\r\\n\\r\\n            <div style=\\\"clear: left;\\\"><\\/div>\\r\\n        <\\/a>\\r\\n            \\r\\n\\t\\t\\t\\t\n",
      "=====\n",
      "[INFO] Cannot parse following info.\n",
      "<a href=\\\"https:\\/\\/store.steampowered.com\\/app\\/1502990\\/Atelier_Lydie__Suelle_The_Alchemists_and_the_Mysterious_Paintings_DX\\/?snr=1_7_7_230_150_64\\\"\\r\\n\\t\\t\\t data-ds-appid=\\\"1502990\\\" data-ds-itemkey=\\\"App_1502990\\\" data-ds-tagids=\\\"[122,4434,7208,4085,4726,1684,21]\\\" data-ds-crtrids=\\\"[33016879]\\\" onmouseover=\\\"GameHover( this, event, 'global_hover', {&quot;type&quot;:&quot;app&quot;,&quot;id&quot;:1502990,&quot;public&quot;:1,&quot;v6&quot;:1} );\\\" onmouseout=\\\"HideGameHover( this, event, 'global_hover' )\\\" class=\\\"search_result_row ds_collapse_flag \\\"\\r\\n\\t\\t   data-search-page=\\\"64\\\" data-gpnav=\\\"item\\\"\\r\\n\\t\\t   data-ds-steam-deck-compat-handled=\\\"true\\\">\\r\\n            <div class=\\\"col search_capsule\\\"><img src=\\\"https:\\/\\/cdn.cloudflare.steamstatic.com\\/steam\\/apps\\/1502990\\/capsule_sm_120.jpg?t=1695968717\\\" srcset=\\\"https:\\/\\/cdn.cloudflare.steamstatic.com\\/steam\\/apps\\/1502990\\/capsule_sm_120.jpg?t=1695968717 1x, https:\\/\\/cdn.cloudflare.steamstatic.com\\/steam\\/apps\\/1502990\\/capsule_231x87.jpg?t=1695968717 2x\\\"><\\/div>\\r\\n            <div class=\\\"responsive_search_name_combined\\\">\\r\\n                <div class=\\\"col search_name ellipsis\\\">\\r\\n                    <span class=\\\"title\\\">Atelier Lydie &amp; Suelle: The Alchemists and the Mysterious Paintings DX<\\/span>\\r\\n                    <div>\\r\\n                                                <span class=\\\"platform_img win\\\"><\\/span>                                            <\\/div>\\r\\n                <\\/div>\\r\\n                <div class=\\\"col search_released responsive_secondrow\\\">\\r\\n                    21 Apr, 2021                <\\/div>\\r\\n                <div class=\\\"col search_reviewscore responsive_secondrow\\\">\\r\\n                                            <span class=\\\"search_review_summary positive\\\" data-tooltip-html=\\\"Very Positive&lt;br&gt;93% of the 235 user reviews for this game are positive.\\\">\\r\\n\\t\\t\\t\\t\\t\\t\\t\\t<\\/span>\\r\\n                                    <\\/div>\\r\\n\\r\\n\\r\\n                <div class=\\\"col search_price_discount_combined responsive_secondrow\\\" data-price-final=\\\"2144\\\">\\r\\n                    <div class=\\\"col search_discount_and_price responsive_secondrow\\\">\\r\\n                        <div class=\\\"discount_block search_discount_block\\\" data-price-final=\\\"2144\\\" data-bundlediscount=\\\"0\\\" data-discount=\\\"35\\\"><div class=\\\"discount_pct\\\">-35%<\\/div><div class=\\\"discount_prices\\\"><div class=\\\"discount_original_price\\\">£32.99<\\/div><div class=\\\"discount_final_price\\\">£21.44<\\/div><\\/div><\\/div>                    <\\/div>\\r\\n                <\\/div>\\r\\n            <\\/div>\\r\\n\\r\\n\\r\\n            <div style=\\\"clear: left;\\\"><\\/div>\\r\\n        <\\/a>\\r\\n            \\r\\n\\t\\t\\t\\t\n",
      "=====\n"
     ]
    },
    {
     "name": "stderr",
     "output_type": "stream",
     "text": [
      "  6%|████▍                                                                       | 92/1583 [2:17:32<2:29:17,  6.01s/it]"
     ]
    },
    {
     "name": "stdout",
     "output_type": "stream",
     "text": [
      "[INFO] Cannot parse following info.\n",
      "<a href=\\\"https:\\/\\/store.steampowered.com\\/app\\/1913620\\/Puzzle_Bobble2XBUSTAMOVE2_Arcade_Edition__Puzzle_Bobble3BUSTAMOVE3_STribute\\/?snr=1_7_7_230_150_93\\\"\\r\\n\\t\\t\\t data-ds-appid=\\\"1913620\\\" data-ds-itemkey=\\\"App_1913620\\\" data-ds-tagids=\\\"[19,1773,1664,3871,5379,4726,3964]\\\" data-ds-crtrids=\\\"[36303858]\\\" onmouseover=\\\"GameHover( this, event, 'global_hover', {&quot;type&quot;:&quot;app&quot;,&quot;id&quot;:1913620,&quot;public&quot;:1,&quot;v6&quot;:1} );\\\" onmouseout=\\\"HideGameHover( this, event, 'global_hover' )\\\" class=\\\"search_result_row ds_collapse_flag \\\"\\r\\n\\t\\t   data-search-page=\\\"93\\\" data-gpnav=\\\"item\\\"\\r\\n\\t\\t   data-ds-steam-deck-compat-handled=\\\"true\\\">\\r\\n            <div class=\\\"col search_capsule\\\"><img src=\\\"https:\\/\\/cdn.cloudflare.steamstatic.com\\/steam\\/apps\\/1913620\\/capsule_sm_120.jpg?t=1676875446\\\" srcset=\\\"https:\\/\\/cdn.cloudflare.steamstatic.com\\/steam\\/apps\\/1913620\\/capsule_sm_120.jpg?t=1676875446 1x, https:\\/\\/cdn.cloudflare.steamstatic.com\\/steam\\/apps\\/1913620\\/capsule_231x87.jpg?t=1676875446 2x\\\"><\\/div>\\r\\n            <div class=\\\"responsive_search_name_combined\\\">\\r\\n                <div class=\\\"col search_name ellipsis\\\">\\r\\n                    <span class=\\\"title\\\">Puzzle Bobble™2X\\/BUST-A-MOVE™2 Arcade Edition &amp; Puzzle Bobble™3\\/BUST-A-MOVE™3 S-Tribute<\\/span>\\r\\n                    <div>\\r\\n                                                <span class=\\\"platform_img win\\\"><\\/span>                                            <\\/div>\\r\\n                <\\/div>\\r\\n                <div class=\\\"col search_released responsive_secondrow\\\">\\r\\n                    1 Feb, 2023                <\\/div>\\r\\n                <div class=\\\"col search_reviewscore responsive_secondrow\\\">\\r\\n                                            <span class=\\\"search_review_summary mixed\\\" data-tooltip-html=\\\"Mixed&lt;br&gt;56% of the 23 user reviews for this game are positive.\\\">\\r\\n\\t\\t\\t\\t\\t\\t\\t\\t<\\/span>\\r\\n                                    <\\/div>\\r\\n\\r\\n\\r\\n                <div class=\\\"col search_price_discount_combined responsive_secondrow\\\" data-price-final=\\\"767\\\">\\r\\n                    <div class=\\\"col search_discount_and_price responsive_secondrow\\\">\\r\\n                        <div class=\\\"discount_block search_discount_block\\\" data-price-final=\\\"767\\\" data-bundlediscount=\\\"0\\\" data-discount=\\\"40\\\"><div class=\\\"discount_pct\\\">-40%<\\/div><div class=\\\"discount_prices\\\"><div class=\\\"discount_original_price\\\">£12.79<\\/div><div class=\\\"discount_final_price\\\">£7.67<\\/div><\\/div><\\/div>                    <\\/div>\\r\\n                <\\/div>\\r\\n            <\\/div>\\r\\n\\r\\n\\r\\n            <div style=\\\"clear: left;\\\"><\\/div>\\r\\n        <\\/a>\\r\\n            \\r\\n\\t\\t\\t\\t\n",
      "=====\n"
     ]
    },
    {
     "name": "stderr",
     "output_type": "stream",
     "text": [
      "  6%|████▋                                                                     | 101/1583 [2:22:26<12:48:47, 31.13s/it]"
     ]
    },
    {
     "name": "stdout",
     "output_type": "stream",
     "text": [
      "[INFO] Cannot parse following info.\n",
      "<a href=\\\"https:\\/\\/store.steampowered.com\\/app\\/2121260\\/My_Mad_Scientist_Roommate_Turned_Me_Into_Her_Personal_Robotic_Battle_Maiden\\/?snr=1_7_7_230_150_102\\\"\\r\\n\\t\\t\\t data-ds-appid=\\\"2121260\\\" data-ds-itemkey=\\\"App_2121260\\\" data-ds-tagids=\\\"[16689,122,4085,1719,599,10235,10695]\\\" data-ds-crtrids=\\\"[43903639]\\\" onmouseover=\\\"GameHover( this, event, 'global_hover', {&quot;type&quot;:&quot;app&quot;,&quot;id&quot;:2121260,&quot;public&quot;:1,&quot;v6&quot;:1} );\\\" onmouseout=\\\"HideGameHover( this, event, 'global_hover' )\\\" class=\\\"search_result_row ds_collapse_flag \\\"\\r\\n\\t\\t   data-search-page=\\\"102\\\" data-gpnav=\\\"item\\\"\\r\\n\\t\\t   data-ds-steam-deck-compat-handled=\\\"true\\\">\\r\\n            <div class=\\\"col search_capsule\\\"><img src=\\\"https:\\/\\/cdn.cloudflare.steamstatic.com\\/steam\\/apps\\/2121260\\/capsule_sm_120.jpg?t=1699332964\\\" srcset=\\\"https:\\/\\/cdn.cloudflare.steamstatic.com\\/steam\\/apps\\/2121260\\/capsule_sm_120.jpg?t=1699332964 1x, https:\\/\\/cdn.cloudflare.steamstatic.com\\/steam\\/apps\\/2121260\\/capsule_231x87.jpg?t=1699332964 2x\\\"><\\/div>\\r\\n            <div class=\\\"responsive_search_name_combined\\\">\\r\\n                <div class=\\\"col search_name ellipsis\\\">\\r\\n                    <span class=\\\"title\\\">My Mad Scientist Roommate Turned Me Into Her Personal Robotic Battle Maiden?!?<\\/span>\\r\\n                    <div>\\r\\n                                                <span class=\\\"platform_img win\\\"><\\/span>                                            <\\/div>\\r\\n                <\\/div>\\r\\n                <div class=\\\"col search_released responsive_secondrow\\\">\\r\\n                    6 Nov, 2023                <\\/div>\\r\\n                <div class=\\\"col search_reviewscore responsive_secondrow\\\">\\r\\n                                            <span class=\\\"search_review_summary positive\\\" data-tooltip-html=\\\"Positive&lt;br&gt;90% of the 21 user reviews for this game are positive.\\\">\\r\\n\\t\\t\\t\\t\\t\\t\\t\\t<\\/span>\\r\\n                                    <\\/div>\\r\\n\\r\\n\\r\\n                <div class=\\\"col search_price_discount_combined responsive_secondrow\\\" data-price-final=\\\"2249\\\">\\r\\n                    <div class=\\\"col search_discount_and_price responsive_secondrow\\\">\\r\\n                        <div class=\\\"discount_block search_discount_block\\\" data-price-final=\\\"2249\\\" data-bundlediscount=\\\"0\\\" data-discount=\\\"10\\\"><div class=\\\"discount_pct\\\">-10%<\\/div><div class=\\\"discount_prices\\\"><div class=\\\"discount_original_price\\\">£24.99<\\/div><div class=\\\"discount_final_price\\\">£22.49<\\/div><\\/div><\\/div>                    <\\/div>\\r\\n                <\\/div>\\r\\n            <\\/div>\\r\\n\\r\\n\\r\\n            <div style=\\\"clear: left;\\\"><\\/div>\\r\\n        <\\/a>\\r\\n            \\r\\n\\t\\t\\t\\t\n",
      "=====\n"
     ]
    },
    {
     "name": "stderr",
     "output_type": "stream",
     "text": [
      "  7%|█████▏                                                                    | 111/1583 [2:25:53<11:04:29, 27.09s/it]"
     ]
    },
    {
     "name": "stdout",
     "output_type": "stream",
     "text": [
      "[INFO] Cannot parse following info.\n",
      "<a href=\\\"https:\\/\\/store.steampowered.com\\/app\\/359050\\/Shower_With_Your_Dad_Simulator_2015_Do_You_Still_Shower_With_Your_Dad\\/?snr=1_7_7_230_150_112\\\"\\r\\n\\t\\t\\t data-ds-appid=\\\"359050\\\" data-ds-itemkey=\\\"App_359050\\\" data-ds-tagids=\\\"[5350,1773,3871,4136,1742,7481,19]\\\" data-ds-descids=\\\"[1,5]\\\" data-ds-crtrids=\\\"[33024256]\\\" onmouseover=\\\"GameHover( this, event, 'global_hover', {&quot;type&quot;:&quot;app&quot;,&quot;id&quot;:359050,&quot;public&quot;:1,&quot;v6&quot;:1} );\\\" onmouseout=\\\"HideGameHover( this, event, 'global_hover' )\\\" class=\\\"search_result_row ds_collapse_flag \\\"\\r\\n\\t\\t   data-search-page=\\\"112\\\" data-gpnav=\\\"item\\\"\\r\\n\\t\\t   data-ds-steam-deck-compat-handled=\\\"true\\\">\\r\\n            <div class=\\\"col search_capsule\\\"><img src=\\\"https:\\/\\/cdn.cloudflare.steamstatic.com\\/steam\\/apps\\/359050\\/capsule_sm_120.jpg?t=1701308172\\\" srcset=\\\"https:\\/\\/cdn.cloudflare.steamstatic.com\\/steam\\/apps\\/359050\\/capsule_sm_120.jpg?t=1701308172 1x, https:\\/\\/cdn.cloudflare.steamstatic.com\\/steam\\/apps\\/359050\\/capsule_231x87.jpg?t=1701308172 2x\\\"><\\/div>\\r\\n            <div class=\\\"responsive_search_name_combined\\\">\\r\\n                <div class=\\\"col search_name ellipsis\\\">\\r\\n                    <span class=\\\"title\\\">Shower With Your Dad Simulator 2015: Do You Still Shower With Your Dad<\\/span>\\r\\n                    <div>\\r\\n                                                <span class=\\\"platform_img win\\\"><\\/span>                                            <\\/div>\\r\\n                <\\/div>\\r\\n                <div class=\\\"col search_released responsive_secondrow\\\">\\r\\n                    2 Sep, 2015                <\\/div>\\r\\n                <div class=\\\"col search_reviewscore responsive_secondrow\\\">\\r\\n                                            <span class=\\\"search_review_summary positive\\\" data-tooltip-html=\\\"Overwhelmingly Positive&lt;br&gt;95% of the 7,094 user reviews for this game are positive.\\\">\\r\\n\\t\\t\\t\\t\\t\\t\\t\\t<\\/span>\\r\\n                                    <\\/div>\\r\\n\\r\\n\\r\\n                <div class=\\\"col search_price_discount_combined responsive_secondrow\\\" data-price-final=\\\"62\\\">\\r\\n                    <div class=\\\"col search_discount_and_price responsive_secondrow\\\">\\r\\n                        <div class=\\\"discount_block search_discount_block\\\" data-price-final=\\\"62\\\" data-bundlediscount=\\\"0\\\" data-discount=\\\"30\\\"><div class=\\\"discount_pct\\\">-30%<\\/div><div class=\\\"discount_prices\\\"><div class=\\\"discount_original_price\\\">£0.89<\\/div><div class=\\\"discount_final_price\\\">£0.62<\\/div><\\/div><\\/div>                    <\\/div>\\r\\n                <\\/div>\\r\\n            <\\/div>\\r\\n\\r\\n\\r\\n            <div style=\\\"clear: left;\\\"><\\/div>\\r\\n        <\\/a>\\r\\n            \\r\\n\\t\\t\\t\\t\n",
      "=====\n"
     ]
    },
    {
     "name": "stderr",
     "output_type": "stream",
     "text": [
      "  9%|██████▎                                                                   | 136/1583 [2:39:34<12:48:41, 31.87s/it]"
     ]
    },
    {
     "name": "stdout",
     "output_type": "stream",
     "text": [
      "[INFO] Cannot parse following info.\n",
      "<a href=\\\"https:\\/\\/store.steampowered.com\\/app\\/1712840\\/Tiny_Tinas_Assault_on_Dragon_Keep_A_Wonderlands_Oneshot_Adventure\\/?snr=1_7_7_230_150_137\\\"\\r\\n\\t\\t\\t data-ds-appid=\\\"1712840\\\" data-ds-itemkey=\\\"App_1712840\\\" data-ds-tagids=\\\"[353880,21,1684,4231,4508,3843,3859]\\\" data-ds-crtrids=\\\"[2428135]\\\" onmouseover=\\\"GameHover( this, event, 'global_hover', {&quot;type&quot;:&quot;app&quot;,&quot;id&quot;:1712840,&quot;public&quot;:1,&quot;v6&quot;:1} );\\\" onmouseout=\\\"HideGameHover( this, event, 'global_hover' )\\\" class=\\\"search_result_row ds_collapse_flag \\\"\\r\\n\\t\\t   data-search-page=\\\"137\\\" data-gpnav=\\\"item\\\"\\r\\n\\t\\t   data-ds-steam-deck-compat-handled=\\\"true\\\">\\r\\n            <div class=\\\"col search_capsule\\\"><img src=\\\"https:\\/\\/cdn.cloudflare.steamstatic.com\\/steam\\/apps\\/1712840\\/capsule_sm_120.jpg?t=1677522819\\\" srcset=\\\"https:\\/\\/cdn.cloudflare.steamstatic.com\\/steam\\/apps\\/1712840\\/capsule_sm_120.jpg?t=1677522819 1x, https:\\/\\/cdn.cloudflare.steamstatic.com\\/steam\\/apps\\/1712840\\/capsule_231x87.jpg?t=1677522819 2x\\\"><\\/div>\\r\\n            <div class=\\\"responsive_search_name_combined\\\">\\r\\n                <div class=\\\"col search_name ellipsis\\\">\\r\\n                    <span class=\\\"title\\\">Tiny Tina's Assault on Dragon Keep: A Wonderlands One-shot Adventure<\\/span>\\r\\n                    <div>\\r\\n                                                <span class=\\\"platform_img win\\\"><\\/span>                                            <\\/div>\\r\\n                <\\/div>\\r\\n                <div class=\\\"col search_released responsive_secondrow\\\">\\r\\n                    9 Nov, 2021                <\\/div>\\r\\n                <div class=\\\"col search_reviewscore responsive_secondrow\\\">\\r\\n                                            <span class=\\\"search_review_summary mixed\\\" data-tooltip-html=\\\"Mixed&lt;br&gt;69% of the 344 user reviews for this game are positive.\\\">\\r\\n\\t\\t\\t\\t\\t\\t\\t\\t<\\/span>\\r\\n                                    <\\/div>\\r\\n\\r\\n\\r\\n                <div class=\\\"col search_price_discount_combined responsive_secondrow\\\" data-price-final=\\\"399\\\">\\r\\n                    <div class=\\\"col search_discount_and_price responsive_secondrow\\\">\\r\\n                        <div class=\\\"discount_block search_discount_block\\\" data-price-final=\\\"399\\\" data-bundlediscount=\\\"0\\\" data-discount=\\\"50\\\"><div class=\\\"discount_pct\\\">-50%<\\/div><div class=\\\"discount_prices\\\"><div class=\\\"discount_original_price\\\">£7.99<\\/div><div class=\\\"discount_final_price\\\">£3.99<\\/div><\\/div><\\/div>                    <\\/div>\\r\\n                <\\/div>\\r\\n            <\\/div>\\r\\n\\r\\n\\r\\n            <div style=\\\"clear: left;\\\"><\\/div>\\r\\n        <\\/a>\\r\\n            \\r\\n\\t\\t\\t\\t\n",
      "=====\n"
     ]
    },
    {
     "name": "stderr",
     "output_type": "stream",
     "text": [
      "  9%|██████▉                                                                   | 149/1583 [2:47:21<15:16:23, 38.34s/it]"
     ]
    },
    {
     "name": "stdout",
     "output_type": "stream",
     "text": [
      "[INFO] Cannot parse following info.\n",
      "<a href=\\\"https:\\/\\/store.steampowered.com\\/app\\/758600\\/Christmas_Stories_Hans_Christian_Andersens_Tin_Soldier_Collectors_Edition\\/?snr=1_7_7_230_150_150\\\"\\r\\n\\t\\t\\t data-ds-appid=\\\"758600\\\" data-ds-itemkey=\\\"App_758600\\\" data-ds-tagids=\\\"[21,597,1738]\\\" data-ds-crtrids=\\\"[33566870,41324674]\\\" onmouseover=\\\"GameHover( this, event, 'global_hover', {&quot;type&quot;:&quot;app&quot;,&quot;id&quot;:758600,&quot;public&quot;:1,&quot;v6&quot;:1} );\\\" onmouseout=\\\"HideGameHover( this, event, 'global_hover' )\\\" class=\\\"search_result_row ds_collapse_flag \\\"\\r\\n\\t\\t   data-search-page=\\\"150\\\" data-gpnav=\\\"item\\\"\\r\\n\\t\\t   data-ds-steam-deck-compat-handled=\\\"true\\\">\\r\\n            <div class=\\\"col search_capsule\\\"><img src=\\\"https:\\/\\/cdn.cloudflare.steamstatic.com\\/steam\\/apps\\/758600\\/capsule_sm_120.jpg?t=1531435128\\\" srcset=\\\"https:\\/\\/cdn.cloudflare.steamstatic.com\\/steam\\/apps\\/758600\\/capsule_sm_120.jpg?t=1531435128 1x, https:\\/\\/cdn.cloudflare.steamstatic.com\\/steam\\/apps\\/758600\\/capsule_231x87.jpg?t=1531435128 2x\\\"><\\/div>\\r\\n            <div class=\\\"responsive_search_name_combined\\\">\\r\\n                <div class=\\\"col search_name ellipsis\\\">\\r\\n                    <span class=\\\"title\\\">Christmas Stories: Hans Christian Andersen's Tin Soldier Collector's Edition<\\/span>\\r\\n                    <div>\\r\\n                                                <span class=\\\"platform_img win\\\"><\\/span>                                            <\\/div>\\r\\n                <\\/div>\\r\\n                <div class=\\\"col search_released responsive_secondrow\\\">\\r\\n                    8 Dec, 2017                <\\/div>\\r\\n                <div class=\\\"col search_reviewscore responsive_secondrow\\\">\\r\\n                                            <span class=\\\"search_review_summary positive\\\" data-tooltip-html=\\\"Mostly Positive&lt;br&gt;72% of the 18 user reviews for this game are positive.\\\">\\r\\n\\t\\t\\t\\t\\t\\t\\t\\t<\\/span>\\r\\n                                    <\\/div>\\r\\n\\r\\n\\r\\n                <div class=\\\"col search_price_discount_combined responsive_secondrow\\\" data-price-final=\\\"359\\\">\\r\\n                    <div class=\\\"col search_discount_and_price responsive_secondrow\\\">\\r\\n                        <div class=\\\"discount_block search_discount_block\\\" data-price-final=\\\"359\\\" data-bundlediscount=\\\"0\\\" data-discount=\\\"50\\\"><div class=\\\"discount_pct\\\">-50%<\\/div><div class=\\\"discount_prices\\\"><div class=\\\"discount_original_price\\\">£7.19<\\/div><div class=\\\"discount_final_price\\\">£3.59<\\/div><\\/div><\\/div>                    <\\/div>\\r\\n                <\\/div>\\r\\n            <\\/div>\\r\\n\\r\\n\\r\\n            <div style=\\\"clear: left;\\\"><\\/div>\\r\\n        <\\/a>\\r\\n            \\r\\n\\t\\t\\t\\t\n",
      "=====\n"
     ]
    },
    {
     "name": "stderr",
     "output_type": "stream",
     "text": [
      " 10%|███████                                                                   | 151/1583 [2:48:26<14:08:09, 35.54s/it]"
     ]
    },
    {
     "name": "stdout",
     "output_type": "stream",
     "text": [
      "[INFO] Cannot parse following info.\n",
      "<a href=\\\"https:\\/\\/store.steampowered.com\\/app\\/2086380\\/Miss_Kobayashis_Dragon_Maid_Burst_Forth_ChorogonBreath_DIRECTORS_CUT\\/?snr=1_7_7_230_150_152\\\"\\r\\n\\t\\t\\t data-ds-appid=\\\"2086380\\\" data-ds-itemkey=\\\"App_2086380\\\" data-ds-tagids=\\\"[19,1773,4885,4726,1719,4182,6971]\\\" data-ds-crtrids=\\\"[44308182]\\\" onmouseover=\\\"GameHover( this, event, 'global_hover', {&quot;type&quot;:&quot;app&quot;,&quot;id&quot;:2086380,&quot;public&quot;:1,&quot;v6&quot;:1} );\\\" onmouseout=\\\"HideGameHover( this, event, 'global_hover' )\\\" class=\\\"search_result_row ds_collapse_flag \\\"\\r\\n\\t\\t   data-search-page=\\\"152\\\" data-gpnav=\\\"item\\\"\\r\\n\\t\\t   data-ds-steam-deck-compat-handled=\\\"true\\\">\\r\\n            <div class=\\\"col search_capsule\\\"><img src=\\\"https:\\/\\/cdn.cloudflare.steamstatic.com\\/steam\\/apps\\/2086380\\/capsule_sm_120.jpg?t=1670396732\\\" srcset=\\\"https:\\/\\/cdn.cloudflare.steamstatic.com\\/steam\\/apps\\/2086380\\/capsule_sm_120.jpg?t=1670396732 1x, https:\\/\\/cdn.cloudflare.steamstatic.com\\/steam\\/apps\\/2086380\\/capsule_231x87.jpg?t=1670396732 2x\\\"><\\/div>\\r\\n            <div class=\\\"responsive_search_name_combined\\\">\\r\\n                <div class=\\\"col search_name ellipsis\\\">\\r\\n                    <span class=\\\"title\\\">Miss Kobayashi's Dragon Maid Burst Forth!! Choro-gon☆Breath DIRECTOR'S CUT<\\/span>\\r\\n                    <div>\\r\\n                                                <span class=\\\"platform_img win\\\"><\\/span>                                            <\\/div>\\r\\n                <\\/div>\\r\\n                <div class=\\\"col search_released responsive_secondrow\\\">\\r\\n                    26 Oct, 2022                <\\/div>\\r\\n                <div class=\\\"col search_reviewscore responsive_secondrow\\\">\\r\\n                                            <span class=\\\"search_review_summary positive\\\" data-tooltip-html=\\\"Very Positive&lt;br&gt;94% of the 57 user reviews for this game are positive.\\\">\\r\\n\\t\\t\\t\\t\\t\\t\\t\\t<\\/span>\\r\\n                                    <\\/div>\\r\\n\\r\\n\\r\\n                <div class=\\\"col search_price_discount_combined responsive_secondrow\\\" data-price-final=\\\"1665\\\">\\r\\n                    <div class=\\\"col search_discount_and_price responsive_secondrow\\\">\\r\\n                        <div class=\\\"discount_block search_discount_block\\\" data-price-final=\\\"1665\\\" data-bundlediscount=\\\"0\\\" data-discount=\\\"30\\\"><div class=\\\"discount_pct\\\">-30%<\\/div><div class=\\\"discount_prices\\\"><div class=\\\"discount_original_price\\\">£23.79<\\/div><div class=\\\"discount_final_price\\\">£16.65<\\/div><\\/div><\\/div>                    <\\/div>\\r\\n                <\\/div>\\r\\n            <\\/div>\\r\\n\\r\\n\\r\\n            <div style=\\\"clear: left;\\\"><\\/div>\\r\\n        <\\/a>\\r\\n            \\r\\n\\t\\t\\t\\t\n",
      "=====\n"
     ]
    },
    {
     "name": "stderr",
     "output_type": "stream",
     "text": [
      " 12%|████████▌                                                                 | 184/1583 [3:08:51<13:56:14, 35.86s/it]"
     ]
    },
    {
     "name": "stdout",
     "output_type": "stream",
     "text": [
      "[INFO] Cannot parse following info.\n",
      "<a href=\\\"https:\\/\\/store.steampowered.com\\/app\\/1161570\\/Dark_Parables_Portrait_of_the_Stained_Princess_Collectors_Edition\\/?snr=1_7_7_230_150_185\\\"\\r\\n\\t\\t\\t data-ds-appid=\\\"1161570\\\" data-ds-itemkey=\\\"App_1161570\\\" data-ds-tagids=\\\"[21,597,1738]\\\" data-ds-crtrids=\\\"[33566870]\\\" onmouseover=\\\"GameHover( this, event, 'global_hover', {&quot;type&quot;:&quot;app&quot;,&quot;id&quot;:1161570,&quot;public&quot;:1,&quot;v6&quot;:1} );\\\" onmouseout=\\\"HideGameHover( this, event, 'global_hover' )\\\" class=\\\"search_result_row ds_collapse_flag \\\"\\r\\n\\t\\t   data-search-page=\\\"185\\\" data-gpnav=\\\"item\\\"\\r\\n\\t\\t   data-ds-steam-deck-compat-handled=\\\"true\\\">\\r\\n            <div class=\\\"col search_capsule\\\"><img src=\\\"https:\\/\\/cdn.cloudflare.steamstatic.com\\/steam\\/apps\\/1161570\\/capsule_sm_120.jpg?t=1568997506\\\" srcset=\\\"https:\\/\\/cdn.cloudflare.steamstatic.com\\/steam\\/apps\\/1161570\\/capsule_sm_120.jpg?t=1568997506 1x, https:\\/\\/cdn.cloudflare.steamstatic.com\\/steam\\/apps\\/1161570\\/capsule_231x87.jpg?t=1568997506 2x\\\"><\\/div>\\r\\n            <div class=\\\"responsive_search_name_combined\\\">\\r\\n                <div class=\\\"col search_name ellipsis\\\">\\r\\n                    <span class=\\\"title\\\">Dark Parables: Portrait of the Stained Princess Collector's Edition<\\/span>\\r\\n                    <div>\\r\\n                                                <span class=\\\"platform_img win\\\"><\\/span>                                            <\\/div>\\r\\n                <\\/div>\\r\\n                <div class=\\\"col search_released responsive_secondrow\\\">\\r\\n                    20 Sep, 2019                <\\/div>\\r\\n                <div class=\\\"col search_reviewscore responsive_secondrow\\\">\\r\\n                                            <span class=\\\"search_review_summary positive\\\" data-tooltip-html=\\\"Positive&lt;br&gt;81% of the 27 user reviews for this game are positive.\\\">\\r\\n\\t\\t\\t\\t\\t\\t\\t\\t<\\/span>\\r\\n                                    <\\/div>\\r\\n\\r\\n\\r\\n                <div class=\\\"col search_price_discount_combined responsive_secondrow\\\" data-price-final=\\\"359\\\">\\r\\n                    <div class=\\\"col search_discount_and_price responsive_secondrow\\\">\\r\\n                        <div class=\\\"discount_block search_discount_block\\\" data-price-final=\\\"359\\\" data-bundlediscount=\\\"0\\\" data-discount=\\\"50\\\"><div class=\\\"discount_pct\\\">-50%<\\/div><div class=\\\"discount_prices\\\"><div class=\\\"discount_original_price\\\">£7.19<\\/div><div class=\\\"discount_final_price\\\">£3.59<\\/div><\\/div><\\/div>                    <\\/div>\\r\\n                <\\/div>\\r\\n            <\\/div>\\r\\n\\r\\n\\r\\n            <div style=\\\"clear: left;\\\"><\\/div>\\r\\n        <\\/a>\\r\\n            \\r\\n\\t\\t\\t\\t\n",
      "=====\n"
     ]
    },
    {
     "name": "stderr",
     "output_type": "stream",
     "text": [
      " 12%|█████████                                                                 | 193/1583 [3:14:29<13:56:24, 36.10s/it]"
     ]
    },
    {
     "name": "stdout",
     "output_type": "stream",
     "text": [
      "[INFO] Cannot parse following info.\n",
      "<a href=\\\"https:\\/\\/store.steampowered.com\\/app\\/1498280\\/The_Christmas_Spirit_Journey_Before_Christmas_Collectors_Edition\\/?snr=1_7_7_230_150_194\\\"\\r\\n\\t\\t\\t data-ds-appid=\\\"1498280\\\" data-ds-itemkey=\\\"App_1498280\\\" data-ds-tagids=\\\"[21,3955,11014,1698,3871,4305,8369]\\\" data-ds-crtrids=\\\"[33566870]\\\" onmouseover=\\\"GameHover( this, event, 'global_hover', {&quot;type&quot;:&quot;app&quot;,&quot;id&quot;:1498280,&quot;public&quot;:1,&quot;v6&quot;:1} );\\\" onmouseout=\\\"HideGameHover( this, event, 'global_hover' )\\\" class=\\\"search_result_row ds_collapse_flag \\\"\\r\\n\\t\\t   data-search-page=\\\"194\\\" data-gpnav=\\\"item\\\"\\r\\n\\t\\t   data-ds-steam-deck-compat-handled=\\\"true\\\">\\r\\n            <div class=\\\"col search_capsule\\\"><img src=\\\"https:\\/\\/cdn.cloudflare.steamstatic.com\\/steam\\/apps\\/1498280\\/capsule_sm_120.jpg?t=1608232424\\\" srcset=\\\"https:\\/\\/cdn.cloudflare.steamstatic.com\\/steam\\/apps\\/1498280\\/capsule_sm_120.jpg?t=1608232424 1x, https:\\/\\/cdn.cloudflare.steamstatic.com\\/steam\\/apps\\/1498280\\/capsule_231x87.jpg?t=1608232424 2x\\\"><\\/div>\\r\\n            <div class=\\\"responsive_search_name_combined\\\">\\r\\n                <div class=\\\"col search_name ellipsis\\\">\\r\\n                    <span class=\\\"title\\\">The Christmas Spirit: Journey Before Christmas Collector's Edition<\\/span>\\r\\n                    <div>\\r\\n                                                <span class=\\\"platform_img win\\\"><\\/span>                                            <\\/div>\\r\\n                <\\/div>\\r\\n                <div class=\\\"col search_released responsive_secondrow\\\">\\r\\n                    14 Dec, 2020                <\\/div>\\r\\n                <div class=\\\"col search_reviewscore responsive_secondrow\\\">\\r\\n                                            <span class=\\\"search_review_summary positive\\\" data-tooltip-html=\\\"Positive&lt;br&gt;84% of the 13 user reviews for this game are positive.\\\">\\r\\n\\t\\t\\t\\t\\t\\t\\t\\t<\\/span>\\r\\n                                    <\\/div>\\r\\n\\r\\n\\r\\n                <div class=\\\"col search_price_discount_combined responsive_secondrow\\\" data-price-final=\\\"359\\\">\\r\\n                    <div class=\\\"col search_discount_and_price responsive_secondrow\\\">\\r\\n                        <div class=\\\"discount_block search_discount_block\\\" data-price-final=\\\"359\\\" data-bundlediscount=\\\"0\\\" data-discount=\\\"50\\\"><div class=\\\"discount_pct\\\">-50%<\\/div><div class=\\\"discount_prices\\\"><div class=\\\"discount_original_price\\\">£7.19<\\/div><div class=\\\"discount_final_price\\\">£3.59<\\/div><\\/div><\\/div>                    <\\/div>\\r\\n                <\\/div>\\r\\n            <\\/div>\\r\\n\\r\\n\\r\\n            <div style=\\\"clear: left;\\\"><\\/div>\\r\\n        <\\/a>\\r\\n            \\r\\n\\t\\t\\t\\t\n",
      "=====\n"
     ]
    },
    {
     "name": "stderr",
     "output_type": "stream",
     "text": [
      " 13%|█████████▍                                                                | 202/1583 [3:19:51<14:09:09, 36.89s/it]"
     ]
    },
    {
     "name": "stdout",
     "output_type": "stream",
     "text": [
      "[INFO] Cannot parse following info.\n",
      "<a href=\\\"https:\\/\\/store.steampowered.com\\/app\\/2026370\\/A_game_that_saves_the_muscles_caught_in_the_ceiling_of_the_gymnasium\\/?snr=1_7_7_230_150_203\\\"\\r\\n\\t\\t\\t data-ds-appid=\\\"2026370\\\" data-ds-itemkey=\\\"App_2026370\\\" data-ds-tagids=\\\"[19,597,701,5055,1774,1663,5652]\\\" onmouseover=\\\"GameHover( this, event, 'global_hover', {&quot;type&quot;:&quot;app&quot;,&quot;id&quot;:2026370,&quot;public&quot;:1,&quot;v6&quot;:1} );\\\" onmouseout=\\\"HideGameHover( this, event, 'global_hover' )\\\" class=\\\"search_result_row ds_collapse_flag \\\"\\r\\n\\t\\t   data-search-page=\\\"203\\\" data-gpnav=\\\"item\\\"\\r\\n\\t\\t   data-ds-steam-deck-compat-handled=\\\"true\\\">\\r\\n            <div class=\\\"col search_capsule\\\"><img src=\\\"https:\\/\\/cdn.cloudflare.steamstatic.com\\/steam\\/apps\\/2026370\\/capsule_sm_120.jpg?t=1656401300\\\" srcset=\\\"https:\\/\\/cdn.cloudflare.steamstatic.com\\/steam\\/apps\\/2026370\\/capsule_sm_120.jpg?t=1656401300 1x, https:\\/\\/cdn.cloudflare.steamstatic.com\\/steam\\/apps\\/2026370\\/capsule_231x87.jpg?t=1656401300 2x\\\"><\\/div>\\r\\n            <div class=\\\"responsive_search_name_combined\\\">\\r\\n                <div class=\\\"col search_name ellipsis\\\">\\r\\n                    <span class=\\\"title\\\">A game that saves the muscles caught in the ceiling of the gymnasium<\\/span>\\r\\n                    <div>\\r\\n                                                <span class=\\\"platform_img win\\\"><\\/span>                                            <\\/div>\\r\\n                <\\/div>\\r\\n                <div class=\\\"col search_released responsive_secondrow\\\">\\r\\n                    28 Jun, 2022                <\\/div>\\r\\n                <div class=\\\"col search_reviewscore responsive_secondrow\\\">\\r\\n                                            <span class=\\\"search_review_summary positive\\\" data-tooltip-html=\\\"Very Positive&lt;br&gt;93% of the 86 user reviews for this game are positive.\\\">\\r\\n\\t\\t\\t\\t\\t\\t\\t\\t<\\/span>\\r\\n                                    <\\/div>\\r\\n\\r\\n\\r\\n                <div class=\\\"col search_price_discount_combined responsive_secondrow\\\" data-price-final=\\\"152\\\">\\r\\n                    <div class=\\\"col search_discount_and_price responsive_secondrow\\\">\\r\\n                        <div class=\\\"discount_block search_discount_block\\\" data-price-final=\\\"152\\\" data-bundlediscount=\\\"0\\\" data-discount=\\\"10\\\"><div class=\\\"discount_pct\\\">-10%<\\/div><div class=\\\"discount_prices\\\"><div class=\\\"discount_original_price\\\">£1.69<\\/div><div class=\\\"discount_final_price\\\">£1.52<\\/div><\\/div><\\/div>                    <\\/div>\\r\\n                <\\/div>\\r\\n            <\\/div>\\r\\n\\r\\n\\r\\n            <div style=\\\"clear: left;\\\"><\\/div>\\r\\n        <\\/a>\\r\\n            \\r\\n\\t\\t\\t\\t\n",
      "=====\n"
     ]
    },
    {
     "name": "stderr",
     "output_type": "stream",
     "text": [
      " 13%|█████████▋                                                                | 208/1583 [3:23:57<16:17:01, 42.63s/it]"
     ]
    },
    {
     "name": "stdout",
     "output_type": "stream",
     "text": [
      "[INFO] Cannot parse following info.\n",
      "<a href=\\\"https:\\/\\/store.steampowered.com\\/app\\/765860\\/Leisure_Suit_Larry_5__Passionate_Patti_Does_a_Little_Undercover_Work\\/?snr=1_7_7_230_150_209\\\"\\r\\n\\t\\t\\t data-ds-appid=\\\"765860\\\" data-ds-itemkey=\\\"App_765860\\\" data-ds-tagids=\\\"[21,1698,12095,3871,3964,6650,1719]\\\" data-ds-crtrids=\\\"[33038208,33977837]\\\" onmouseover=\\\"GameHover( this, event, 'global_hover', {&quot;type&quot;:&quot;app&quot;,&quot;id&quot;:765860,&quot;public&quot;:1,&quot;v6&quot;:1} );\\\" onmouseout=\\\"HideGameHover( this, event, 'global_hover' )\\\" class=\\\"search_result_row ds_collapse_flag \\\"\\r\\n\\t\\t   data-search-page=\\\"209\\\" data-gpnav=\\\"item\\\"\\r\\n\\t\\t   data-ds-steam-deck-compat-handled=\\\"true\\\">\\r\\n            <div class=\\\"col search_capsule\\\"><img src=\\\"https:\\/\\/cdn.cloudflare.steamstatic.com\\/steam\\/apps\\/765860\\/capsule_sm_120.jpg?t=1596471807\\\" srcset=\\\"https:\\/\\/cdn.cloudflare.steamstatic.com\\/steam\\/apps\\/765860\\/capsule_sm_120.jpg?t=1596471807 1x, https:\\/\\/cdn.cloudflare.steamstatic.com\\/steam\\/apps\\/765860\\/capsule_231x87.jpg?t=1596471807 2x\\\"><\\/div>\\r\\n            <div class=\\\"responsive_search_name_combined\\\">\\r\\n                <div class=\\\"col search_name ellipsis\\\">\\r\\n                    <span class=\\\"title\\\">Leisure Suit Larry 5 - Passionate Patti Does a Little Undercover Work<\\/span>\\r\\n                    <div>\\r\\n                                                <span class=\\\"platform_img win\\\"><\\/span>                                            <\\/div>\\r\\n                <\\/div>\\r\\n                <div class=\\\"col search_released responsive_secondrow\\\">\\r\\n                    18 Dec, 2017                <\\/div>\\r\\n                <div class=\\\"col search_reviewscore responsive_secondrow\\\">\\r\\n                                            <span class=\\\"search_review_summary positive\\\" data-tooltip-html=\\\"Positive&lt;br&gt;80% of the 15 user reviews for this game are positive.\\\">\\r\\n\\t\\t\\t\\t\\t\\t\\t\\t<\\/span>\\r\\n                                    <\\/div>\\r\\n\\r\\n\\r\\n                <div class=\\\"col search_price_discount_combined responsive_secondrow\\\" data-price-final=\\\"107\\\">\\r\\n                    <div class=\\\"col search_discount_and_price responsive_secondrow\\\">\\r\\n                        <div class=\\\"discount_block search_discount_block\\\" data-price-final=\\\"107\\\" data-bundlediscount=\\\"0\\\" data-discount=\\\"75\\\"><div class=\\\"discount_pct\\\">-75%<\\/div><div class=\\\"discount_prices\\\"><div class=\\\"discount_original_price\\\">£4.29<\\/div><div class=\\\"discount_final_price\\\">£1.07<\\/div><\\/div><\\/div>                    <\\/div>\\r\\n                <\\/div>\\r\\n            <\\/div>\\r\\n\\r\\n\\r\\n            <div style=\\\"clear: left;\\\"><\\/div>\\r\\n        <\\/a>\\r\\n            \\r\\n\\t\\t\\t\\t\n",
      "=====\n",
      "[INFO] Cannot parse following info.\n",
      "<a href=\\\"https:\\/\\/store.steampowered.com\\/app\\/618710\\/Elminage_ORIGINAL__Priestess_of_Darkness_and_The_Ring_of_the_Gods\\/?snr=1_7_7_230_150_209\\\"\\r\\n\\t\\t\\t data-ds-appid=\\\"618710\\\" data-ds-itemkey=\\\"App_618710\\\" data-ds-tagids=\\\"[122,1720,7569,1677,3839,10695,4182]\\\" data-ds-crtrids=\\\"[33518623]\\\" onmouseover=\\\"GameHover( this, event, 'global_hover', {&quot;type&quot;:&quot;app&quot;,&quot;id&quot;:618710,&quot;public&quot;:1,&quot;v6&quot;:1} );\\\" onmouseout=\\\"HideGameHover( this, event, 'global_hover' )\\\" class=\\\"search_result_row ds_collapse_flag \\\"\\r\\n\\t\\t   data-search-page=\\\"209\\\" data-gpnav=\\\"item\\\"\\r\\n\\t\\t   data-ds-steam-deck-compat-handled=\\\"true\\\">\\r\\n            <div class=\\\"col search_capsule\\\"><img src=\\\"https:\\/\\/cdn.cloudflare.steamstatic.com\\/steam\\/apps\\/618710\\/capsule_sm_120.jpg?t=1652254600\\\" srcset=\\\"https:\\/\\/cdn.cloudflare.steamstatic.com\\/steam\\/apps\\/618710\\/capsule_sm_120.jpg?t=1652254600 1x, https:\\/\\/cdn.cloudflare.steamstatic.com\\/steam\\/apps\\/618710\\/capsule_231x87.jpg?t=1652254600 2x\\\"><\\/div>\\r\\n            <div class=\\\"responsive_search_name_combined\\\">\\r\\n                <div class=\\\"col search_name ellipsis\\\">\\r\\n                    <span class=\\\"title\\\">Elminage ORIGINAL - Priestess of Darkness and The Ring of the Gods<\\/span>\\r\\n                    <div>\\r\\n                                                <span class=\\\"platform_img win\\\"><\\/span>                                            <\\/div>\\r\\n                <\\/div>\\r\\n                <div class=\\\"col search_released responsive_secondrow\\\">\\r\\n                    28 Nov, 2017                <\\/div>\\r\\n                <div class=\\\"col search_reviewscore responsive_secondrow\\\">\\r\\n                                            <span class=\\\"search_review_summary positive\\\" data-tooltip-html=\\\"Very Positive&lt;br&gt;87% of the 56 user reviews for this game are positive.\\\">\\r\\n\\t\\t\\t\\t\\t\\t\\t\\t<\\/span>\\r\\n                                    <\\/div>\\r\\n\\r\\n\\r\\n                <div class=\\\"col search_price_discount_combined responsive_secondrow\\\" data-price-final=\\\"503\\\">\\r\\n                    <div class=\\\"col search_discount_and_price responsive_secondrow\\\">\\r\\n                        <div class=\\\"discount_block search_discount_block\\\" data-price-final=\\\"503\\\" data-bundlediscount=\\\"0\\\" data-discount=\\\"30\\\"><div class=\\\"discount_pct\\\">-30%<\\/div><div class=\\\"discount_prices\\\"><div class=\\\"discount_original_price\\\">£7.19<\\/div><div class=\\\"discount_final_price\\\">£5.03<\\/div><\\/div><\\/div>                    <\\/div>\\r\\n                <\\/div>\\r\\n            <\\/div>\\r\\n\\r\\n\\r\\n            <div style=\\\"clear: left;\\\"><\\/div>\\r\\n        <\\/a>\\r\\n            \\r\\n\\t\\t\\t\\t\n",
      "=====\n"
     ]
    },
    {
     "name": "stderr",
     "output_type": "stream",
     "text": [
      " 14%|██████████▏                                                               | 219/1583 [3:30:16<13:00:42, 34.34s/it]"
     ]
    },
    {
     "name": "stdout",
     "output_type": "stream",
     "text": [
      "[INFO] Cannot parse following info.\n",
      "<a href=\\\"https:\\/\\/store.steampowered.com\\/app\\/765850\\/Leisure_Suit_Larry_3__Passionate_Patti_in_Pursuit_of_the_Pulsating_Pectorals\\/?snr=1_7_7_230_150_220\\\"\\r\\n\\t\\t\\t data-ds-appid=\\\"765850\\\" data-ds-itemkey=\\\"App_765850\\\" data-ds-tagids=\\\"[21,12095,1698,6650,1719,3871,3964]\\\" data-ds-crtrids=\\\"[33038208,33977837]\\\" onmouseover=\\\"GameHover( this, event, 'global_hover', {&quot;type&quot;:&quot;app&quot;,&quot;id&quot;:765850,&quot;public&quot;:1,&quot;v6&quot;:1} );\\\" onmouseout=\\\"HideGameHover( this, event, 'global_hover' )\\\" class=\\\"search_result_row ds_collapse_flag \\\"\\r\\n\\t\\t   data-search-page=\\\"220\\\" data-gpnav=\\\"item\\\"\\r\\n\\t\\t   data-ds-steam-deck-compat-handled=\\\"true\\\">\\r\\n            <div class=\\\"col search_capsule\\\"><img src=\\\"https:\\/\\/cdn.cloudflare.steamstatic.com\\/steam\\/apps\\/765850\\/capsule_sm_120.jpg?t=1596471753\\\" srcset=\\\"https:\\/\\/cdn.cloudflare.steamstatic.com\\/steam\\/apps\\/765850\\/capsule_sm_120.jpg?t=1596471753 1x, https:\\/\\/cdn.cloudflare.steamstatic.com\\/steam\\/apps\\/765850\\/capsule_231x87.jpg?t=1596471753 2x\\\"><\\/div>\\r\\n            <div class=\\\"responsive_search_name_combined\\\">\\r\\n                <div class=\\\"col search_name ellipsis\\\">\\r\\n                    <span class=\\\"title\\\">Leisure Suit Larry 3 - Passionate Patti in Pursuit of the Pulsating Pectorals<\\/span>\\r\\n                    <div>\\r\\n                                                <span class=\\\"platform_img win\\\"><\\/span>                                            <\\/div>\\r\\n                <\\/div>\\r\\n                <div class=\\\"col search_released responsive_secondrow\\\">\\r\\n                    18 Dec, 2017                <\\/div>\\r\\n                <div class=\\\"col search_reviewscore responsive_secondrow\\\">\\r\\n                                            <span class=\\\"search_review_summary positive\\\" data-tooltip-html=\\\"Positive&lt;br&gt;82% of the 23 user reviews for this game are positive.\\\">\\r\\n\\t\\t\\t\\t\\t\\t\\t\\t<\\/span>\\r\\n                                    <\\/div>\\r\\n\\r\\n\\r\\n                <div class=\\\"col search_price_discount_combined responsive_secondrow\\\" data-price-final=\\\"84\\\">\\r\\n                    <div class=\\\"col search_discount_and_price responsive_secondrow\\\">\\r\\n                        <div class=\\\"discount_block search_discount_block\\\" data-price-final=\\\"84\\\" data-bundlediscount=\\\"0\\\" data-discount=\\\"75\\\"><div class=\\\"discount_pct\\\">-75%<\\/div><div class=\\\"discount_prices\\\"><div class=\\\"discount_original_price\\\">£3.39<\\/div><div class=\\\"discount_final_price\\\">£0.84<\\/div><\\/div><\\/div>                    <\\/div>\\r\\n                <\\/div>\\r\\n            <\\/div>\\r\\n\\r\\n\\r\\n            <div style=\\\"clear: left;\\\"><\\/div>\\r\\n        <\\/a>\\r\\n            \\r\\n\\t\\t\\t\\t\n",
      "=====\n"
     ]
    },
    {
     "name": "stderr",
     "output_type": "stream",
     "text": [
      " 14%|██████████▎                                                               | 220/1583 [3:30:55<13:33:08, 35.79s/it]"
     ]
    },
    {
     "name": "stdout",
     "output_type": "stream",
     "text": [
      "[INFO] Cannot parse following info.\n",
      "<a href=\\\"https:\\/\\/store.steampowered.com\\/app\\/1336560\\/Hashiriya_DrifterOnline_Drift_Racing_Multiplayer_DRIFTDRAGRACING\\/?snr=1_7_7_230_150_221\\\"\\r\\n\\t\\t\\t data-ds-appid=\\\"1336560\\\" data-ds-itemkey=\\\"App_1336560\\\" data-ds-tagids=\\\"[699,599,1644,3859,1100687,128,4747]\\\" data-ds-crtrids=\\\"[43154023]\\\" onmouseover=\\\"GameHover( this, event, 'global_hover', {&quot;type&quot;:&quot;app&quot;,&quot;id&quot;:1336560,&quot;public&quot;:1,&quot;v6&quot;:1} );\\\" onmouseout=\\\"HideGameHover( this, event, 'global_hover' )\\\" class=\\\"search_result_row ds_collapse_flag \\\"\\r\\n\\t\\t   data-search-page=\\\"221\\\" data-gpnav=\\\"item\\\"\\r\\n\\t\\t   data-ds-steam-deck-compat-handled=\\\"true\\\">\\r\\n            <div class=\\\"col search_capsule\\\"><img src=\\\"https:\\/\\/cdn.cloudflare.steamstatic.com\\/steam\\/apps\\/1336560\\/capsule_sm_120.jpg?t=1688598243\\\" srcset=\\\"https:\\/\\/cdn.cloudflare.steamstatic.com\\/steam\\/apps\\/1336560\\/capsule_sm_120.jpg?t=1688598243 1x, https:\\/\\/cdn.cloudflare.steamstatic.com\\/steam\\/apps\\/1336560\\/capsule_231x87.jpg?t=1688598243 2x\\\"><\\/div>\\r\\n            <div class=\\\"responsive_search_name_combined\\\">\\r\\n                <div class=\\\"col search_name ellipsis\\\">\\r\\n                    <span class=\\\"title\\\">Hashiriya Drifter-Online Drift Racing Multiplayer (DRIFT\\/DRAG\\/RACING)<\\/span>\\r\\n                    <div>\\r\\n                                                <span class=\\\"platform_img win\\\"><\\/span><span class=\\\"platform_img mac\\\"><\\/span><span class=\\\"platform_img linux\\\"><\\/span>                                            <\\/div>\\r\\n                <\\/div>\\r\\n                <div class=\\\"col search_released responsive_secondrow\\\">\\r\\n                    10 Jul, 2020                <\\/div>\\r\\n                <div class=\\\"col search_reviewscore responsive_secondrow\\\">\\r\\n                                            <span class=\\\"search_review_summary positive\\\" data-tooltip-html=\\\"Mostly Positive&lt;br&gt;70% of the 1,287 user reviews for this game are positive.\\\">\\r\\n\\t\\t\\t\\t\\t\\t\\t\\t<\\/span>\\r\\n                                    <\\/div>\\r\\n\\r\\n\\r\\n                <div class=\\\"col search_price_discount_combined responsive_secondrow\\\" data-price-final=\\\"50\\\">\\r\\n                    <div class=\\\"col search_discount_and_price responsive_secondrow\\\">\\r\\n                        <div class=\\\"discount_block search_discount_block\\\" data-price-final=\\\"50\\\" data-bundlediscount=\\\"0\\\" data-discount=\\\"70\\\"><div class=\\\"discount_pct\\\">-70%<\\/div><div class=\\\"discount_prices\\\"><div class=\\\"discount_original_price\\\">£1.69<\\/div><div class=\\\"discount_final_price\\\">£0.50<\\/div><\\/div><\\/div>                    <\\/div>\\r\\n                <\\/div>\\r\\n            <\\/div>\\r\\n\\r\\n\\r\\n            <div style=\\\"clear: left;\\\"><\\/div>\\r\\n        <\\/a>\\r\\n            \\r\\n\\t\\t\\t\\t\n",
      "=====\n"
     ]
    },
    {
     "name": "stderr",
     "output_type": "stream",
     "text": [
      " 14%|██████████▍                                                               | 224/1583 [3:33:31<14:23:15, 38.11s/it]"
     ]
    },
    {
     "name": "stdout",
     "output_type": "stream",
     "text": [
      "[INFO] Cannot parse following info.\n",
      "<a href=\\\"https:\\/\\/store.steampowered.com\\/app\\/37400\\/Time_Gentlemen_Please_and_Ben_There_Dan_That_Special_Edition__Double_Pack\\/?snr=1_7_7_230_150_225\\\"\\r\\n\\t\\t\\t data-ds-appid=\\\"37400\\\" data-ds-itemkey=\\\"App_37400\\\" data-ds-tagids=\\\"[1698,21,492,1719,3871,4182,4136]\\\" data-ds-crtrids=\\\"[37035212]\\\" onmouseover=\\\"GameHover( this, event, 'global_hover', {&quot;type&quot;:&quot;app&quot;,&quot;id&quot;:37400,&quot;public&quot;:1,&quot;v6&quot;:1} );\\\" onmouseout=\\\"HideGameHover( this, event, 'global_hover' )\\\" class=\\\"search_result_row ds_collapse_flag \\\"\\r\\n\\t\\t   data-search-page=\\\"225\\\" data-gpnav=\\\"item\\\"\\r\\n\\t\\t   data-ds-steam-deck-compat-handled=\\\"true\\\">\\r\\n            <div class=\\\"col search_capsule\\\"><img src=\\\"https:\\/\\/cdn.cloudflare.steamstatic.com\\/steam\\/apps\\/37400\\/capsule_sm_120.jpg?t=1447352433\\\" srcset=\\\"https:\\/\\/cdn.cloudflare.steamstatic.com\\/steam\\/apps\\/37400\\/capsule_sm_120.jpg?t=1447352433 1x, https:\\/\\/cdn.cloudflare.steamstatic.com\\/steam\\/apps\\/37400\\/capsule_231x87.jpg?t=1447352433 2x\\\"><\\/div>\\r\\n            <div class=\\\"responsive_search_name_combined\\\">\\r\\n                <div class=\\\"col search_name ellipsis\\\">\\r\\n                    <span class=\\\"title\\\">Time Gentlemen, Please! and Ben There, Dan That! Special Edition  Double Pack<\\/span>\\r\\n                    <div>\\r\\n                                                <span class=\\\"platform_img win\\\"><\\/span>                                            <\\/div>\\r\\n                <\\/div>\\r\\n                <div class=\\\"col search_released responsive_secondrow\\\">\\r\\n                    25 Aug, 2009                <\\/div>\\r\\n                <div class=\\\"col search_reviewscore responsive_secondrow\\\">\\r\\n                                            <span class=\\\"search_review_summary positive\\\" data-tooltip-html=\\\"Very Positive&lt;br&gt;87% of the 448 user reviews for this game are positive.\\\">\\r\\n\\t\\t\\t\\t\\t\\t\\t\\t<\\/span>\\r\\n                                    <\\/div>\\r\\n\\r\\n\\r\\n                <div class=\\\"col search_price_discount_combined responsive_secondrow\\\" data-price-final=\\\"65\\\">\\r\\n                    <div class=\\\"col search_discount_and_price responsive_secondrow\\\">\\r\\n                        <div class=\\\"discount_block search_discount_block\\\" data-price-final=\\\"65\\\" data-bundlediscount=\\\"0\\\" data-discount=\\\"78\\\"><div class=\\\"discount_pct\\\">-78%<\\/div><div class=\\\"discount_prices\\\"><div class=\\\"discount_original_price\\\">£2.99<\\/div><div class=\\\"discount_final_price\\\">£0.65<\\/div><\\/div><\\/div>                    <\\/div>\\r\\n                <\\/div>\\r\\n            <\\/div>\\r\\n\\r\\n\\r\\n            <div style=\\\"clear: left;\\\"><\\/div>\\r\\n        <\\/a>\\r\\n            \\r\\n\\t\\t\\t\\t\n",
      "=====\n"
     ]
    },
    {
     "name": "stderr",
     "output_type": "stream",
     "text": [
      " 15%|███████████▏                                                              | 238/1583 [3:41:58<13:08:10, 35.16s/it]"
     ]
    },
    {
     "name": "stdout",
     "output_type": "stream",
     "text": [
      "[INFO] Cannot parse following info.\n",
      "<a href=\\\"https:\\/\\/store.steampowered.com\\/app\\/294570\\/Freddi_Fish_5_featuring_Mess_Hall_Mania_The_Case_of_the_Creature_of_Coral_Cove\\/?snr=1_7_7_230_150_239\\\"\\r\\n\\t\\t\\t data-ds-appid=\\\"294570\\\" data-ds-itemkey=\\\"App_294570\\\" data-ds-tagids=\\\"[21,597,5350,1698,1664,14720,4182]\\\" onmouseover=\\\"GameHover( this, event, 'global_hover', {&quot;type&quot;:&quot;app&quot;,&quot;id&quot;:294570,&quot;public&quot;:1,&quot;v6&quot;:1} );\\\" onmouseout=\\\"HideGameHover( this, event, 'global_hover' )\\\" class=\\\"search_result_row ds_collapse_flag \\\"\\r\\n\\t\\t   data-search-page=\\\"239\\\" data-gpnav=\\\"item\\\"\\r\\n\\t\\t   data-ds-steam-deck-compat-handled=\\\"true\\\">\\r\\n            <div class=\\\"col search_capsule\\\"><img src=\\\"https:\\/\\/cdn.cloudflare.steamstatic.com\\/steam\\/apps\\/294570\\/capsule_sm_120.jpg?t=1694471714\\\" srcset=\\\"https:\\/\\/cdn.cloudflare.steamstatic.com\\/steam\\/apps\\/294570\\/capsule_sm_120.jpg?t=1694471714 1x, https:\\/\\/cdn.cloudflare.steamstatic.com\\/steam\\/apps\\/294570\\/capsule_231x87.jpg?t=1694471714 2x\\\"><\\/div>\\r\\n            <div class=\\\"responsive_search_name_combined\\\">\\r\\n                <div class=\\\"col search_name ellipsis\\\">\\r\\n                    <span class=\\\"title\\\">Freddi Fish 5 featuring Mess Hall Mania®: The Case of the Creature of Coral Cove<\\/span>\\r\\n                    <div>\\r\\n                                                <span class=\\\"platform_img win\\\"><\\/span><span class=\\\"platform_img mac\\\"><\\/span><span class=\\\"platform_img linux\\\"><\\/span>                                            <\\/div>\\r\\n                <\\/div>\\r\\n                <div class=\\\"col search_released responsive_secondrow\\\">\\r\\n                    6 Jun, 2014                <\\/div>\\r\\n                <div class=\\\"col search_reviewscore responsive_secondrow\\\">\\r\\n                                            <span class=\\\"search_review_summary positive\\\" data-tooltip-html=\\\"Very Positive&lt;br&gt;91% of the 108 user reviews for this game are positive.\\\">\\r\\n\\t\\t\\t\\t\\t\\t\\t\\t<\\/span>\\r\\n                                    <\\/div>\\r\\n\\r\\n\\r\\n                <div class=\\\"col search_price_discount_combined responsive_secondrow\\\" data-price-final=\\\"299\\\">\\r\\n                    <div class=\\\"col search_discount_and_price responsive_secondrow\\\">\\r\\n                        <div class=\\\"discount_block search_discount_block\\\" data-price-final=\\\"299\\\" data-bundlediscount=\\\"0\\\" data-discount=\\\"40\\\"><div class=\\\"discount_pct\\\">-40%<\\/div><div class=\\\"discount_prices\\\"><div class=\\\"discount_original_price\\\">£4.99<\\/div><div class=\\\"discount_final_price\\\">£2.99<\\/div><\\/div><\\/div>                    <\\/div>\\r\\n                <\\/div>\\r\\n            <\\/div>\\r\\n\\r\\n\\r\\n            <div style=\\\"clear: left;\\\"><\\/div>\\r\\n        <\\/a>\\r\\n            \\r\\n\\t\\t\\t\\t\n",
      "=====\n"
     ]
    },
    {
     "name": "stderr",
     "output_type": "stream",
     "text": [
      " 16%|███████████▍                                                              | 246/1583 [3:46:46<13:10:14, 35.46s/it]"
     ]
    },
    {
     "name": "stdout",
     "output_type": "stream",
     "text": [
      "[INFO] Cannot parse following info.\n",
      "<a href=\\\"https:\\/\\/store.steampowered.com\\/app\\/678400\\/Dark_Tales_Edgar_Allan_Poes_The_Fall_of_the_House_of_Usher_Collectors_Edition\\/?snr=1_7_7_230_150_247\\\"\\r\\n\\t\\t\\t data-ds-appid=\\\"678400\\\" data-ds-itemkey=\\\"App_678400\\\" data-ds-tagids=\\\"[21,597,1738]\\\" data-ds-crtrids=\\\"[33566870]\\\" onmouseover=\\\"GameHover( this, event, 'global_hover', {&quot;type&quot;:&quot;app&quot;,&quot;id&quot;:678400,&quot;public&quot;:1,&quot;v6&quot;:1} );\\\" onmouseout=\\\"HideGameHover( this, event, 'global_hover' )\\\" class=\\\"search_result_row ds_collapse_flag \\\"\\r\\n\\t\\t   data-search-page=\\\"247\\\" data-gpnav=\\\"item\\\"\\r\\n\\t\\t   data-ds-steam-deck-compat-handled=\\\"true\\\">\\r\\n            <div class=\\\"col search_capsule\\\"><img src=\\\"https:\\/\\/cdn.cloudflare.steamstatic.com\\/steam\\/apps\\/678400\\/capsule_sm_120.jpg?t=1608672392\\\" srcset=\\\"https:\\/\\/cdn.cloudflare.steamstatic.com\\/steam\\/apps\\/678400\\/capsule_sm_120.jpg?t=1608672392 1x, https:\\/\\/cdn.cloudflare.steamstatic.com\\/steam\\/apps\\/678400\\/capsule_231x87.jpg?t=1608672392 2x\\\"><\\/div>\\r\\n            <div class=\\\"responsive_search_name_combined\\\">\\r\\n                <div class=\\\"col search_name ellipsis\\\">\\r\\n                    <span class=\\\"title\\\">Dark Tales: Edgar Allan Poe's The Fall of the House of Usher Collector's Edition<\\/span>\\r\\n                    <div>\\r\\n                                                <span class=\\\"platform_img win\\\"><\\/span>                                            <\\/div>\\r\\n                <\\/div>\\r\\n                <div class=\\\"col search_released responsive_secondrow\\\">\\r\\n                    19 Jul, 2017                <\\/div>\\r\\n                <div class=\\\"col search_reviewscore responsive_secondrow\\\">\\r\\n                                            <span class=\\\"search_review_summary positive\\\" data-tooltip-html=\\\"Positive&lt;br&gt;90% of the 10 user reviews for this game are positive.\\\">\\r\\n\\t\\t\\t\\t\\t\\t\\t\\t<\\/span>\\r\\n                                    <\\/div>\\r\\n\\r\\n\\r\\n                <div class=\\\"col search_price_discount_combined responsive_secondrow\\\" data-price-final=\\\"359\\\">\\r\\n                    <div class=\\\"col search_discount_and_price responsive_secondrow\\\">\\r\\n                        <div class=\\\"discount_block search_discount_block\\\" data-price-final=\\\"359\\\" data-bundlediscount=\\\"0\\\" data-discount=\\\"50\\\"><div class=\\\"discount_pct\\\">-50%<\\/div><div class=\\\"discount_prices\\\"><div class=\\\"discount_original_price\\\">£7.19<\\/div><div class=\\\"discount_final_price\\\">£3.59<\\/div><\\/div><\\/div>                    <\\/div>\\r\\n                <\\/div>\\r\\n            <\\/div>\\r\\n\\r\\n\\r\\n            <div style=\\\"clear: left;\\\"><\\/div>\\r\\n        <\\/a>\\r\\n            \\r\\n\\t\\t\\t\\t\n",
      "=====\n"
     ]
    },
    {
     "name": "stderr",
     "output_type": "stream",
     "text": [
      " 16%|███████████▋                                                              | 249/1583 [3:48:44<14:13:18, 38.38s/it]"
     ]
    },
    {
     "name": "stdout",
     "output_type": "stream",
     "text": [
      "[INFO] Cannot parse following info.\n",
      "<a href=\\\"https:\\/\\/store.steampowered.com\\/app\\/453390\\/Dark_Parables_The_Little_Mermaid_and_the_Purple_Tide_Collectors_Edition\\/?snr=1_7_7_230_150_250\\\"\\r\\n\\t\\t\\t data-ds-appid=\\\"453390\\\" data-ds-itemkey=\\\"App_453390\\\" data-ds-tagids=\\\"[21,597,1738]\\\" data-ds-crtrids=\\\"[33566870]\\\" onmouseover=\\\"GameHover( this, event, 'global_hover', {&quot;type&quot;:&quot;app&quot;,&quot;id&quot;:453390,&quot;public&quot;:1,&quot;v6&quot;:1} );\\\" onmouseout=\\\"HideGameHover( this, event, 'global_hover' )\\\" class=\\\"search_result_row ds_collapse_flag \\\"\\r\\n\\t\\t   data-search-page=\\\"250\\\" data-gpnav=\\\"item\\\"\\r\\n\\t\\t   data-ds-steam-deck-compat-handled=\\\"true\\\">\\r\\n            <div class=\\\"col search_capsule\\\"><img src=\\\"https:\\/\\/cdn.cloudflare.steamstatic.com\\/steam\\/apps\\/453390\\/capsule_sm_120.jpg?t=1530905041\\\" srcset=\\\"https:\\/\\/cdn.cloudflare.steamstatic.com\\/steam\\/apps\\/453390\\/capsule_sm_120.jpg?t=1530905041 1x, https:\\/\\/cdn.cloudflare.steamstatic.com\\/steam\\/apps\\/453390\\/capsule_231x87.jpg?t=1530905041 2x\\\"><\\/div>\\r\\n            <div class=\\\"responsive_search_name_combined\\\">\\r\\n                <div class=\\\"col search_name ellipsis\\\">\\r\\n                    <span class=\\\"title\\\">Dark Parables: The Little Mermaid and the Purple Tide Collector's Edition<\\/span>\\r\\n                    <div>\\r\\n                                                <span class=\\\"platform_img win\\\"><\\/span>                                            <\\/div>\\r\\n                <\\/div>\\r\\n                <div class=\\\"col search_released responsive_secondrow\\\">\\r\\n                    21 Mar, 2016                <\\/div>\\r\\n                <div class=\\\"col search_reviewscore responsive_secondrow\\\">\\r\\n                                            <span class=\\\"search_review_summary positive\\\" data-tooltip-html=\\\"Positive&lt;br&gt;87% of the 49 user reviews for this game are positive.\\\">\\r\\n\\t\\t\\t\\t\\t\\t\\t\\t<\\/span>\\r\\n                                    <\\/div>\\r\\n\\r\\n\\r\\n                <div class=\\\"col search_price_discount_combined responsive_secondrow\\\" data-price-final=\\\"349\\\">\\r\\n                    <div class=\\\"col search_discount_and_price responsive_secondrow\\\">\\r\\n                        <div class=\\\"discount_block search_discount_block\\\" data-price-final=\\\"349\\\" data-bundlediscount=\\\"0\\\" data-discount=\\\"50\\\"><div class=\\\"discount_pct\\\">-50%<\\/div><div class=\\\"discount_prices\\\"><div class=\\\"discount_original_price\\\">£6.99<\\/div><div class=\\\"discount_final_price\\\">£3.49<\\/div><\\/div><\\/div>                    <\\/div>\\r\\n                <\\/div>\\r\\n            <\\/div>\\r\\n\\r\\n\\r\\n            <div style=\\\"clear: left;\\\"><\\/div>\\r\\n        <\\/a>\\r\\n            \\r\\n\\t\\t\\t\\t\n",
      "=====\n"
     ]
    },
    {
     "name": "stderr",
     "output_type": "stream",
     "text": [
      " 16%|███████████▋                                                              | 250/1583 [3:49:19<13:47:42, 37.26s/it]"
     ]
    },
    {
     "name": "stdout",
     "output_type": "stream",
     "text": [
      "[INFO] Cannot parse following info.\n",
      "<a href=\\\"https:\\/\\/store.steampowered.com\\/app\\/1187940\\/Is_It_Wrong_to_Try_to_Pick_Up_Girls_in_a_Dungeon_Infinite_Combate\\/?snr=1_7_7_230_150_251\\\"\\r\\n\\t\\t\\t data-ds-appid=\\\"1187940\\\" data-ds-itemkey=\\\"App_1187940\\\" data-ds-tagids=\\\"[4434,1720,3799,4085,1697,1716,122]\\\" data-ds-descids=\\\"[1,5]\\\" data-ds-crtrids=\\\"[32977561]\\\" onmouseover=\\\"GameHover( this, event, 'global_hover', {&quot;type&quot;:&quot;app&quot;,&quot;id&quot;:1187940,&quot;public&quot;:1,&quot;v6&quot;:1} );\\\" onmouseout=\\\"HideGameHover( this, event, 'global_hover' )\\\" class=\\\"search_result_row ds_collapse_flag \\\"\\r\\n\\t\\t   data-search-page=\\\"251\\\" data-gpnav=\\\"item\\\"\\r\\n\\t\\t   data-ds-steam-deck-compat-handled=\\\"true\\\">\\r\\n            <div class=\\\"col search_capsule\\\"><img src=\\\"https:\\/\\/cdn.cloudflare.steamstatic.com\\/steam\\/apps\\/1187940\\/capsule_sm_120.jpg?t=1668503422\\\" srcset=\\\"https:\\/\\/cdn.cloudflare.steamstatic.com\\/steam\\/apps\\/1187940\\/capsule_sm_120.jpg?t=1668503422 1x, https:\\/\\/cdn.cloudflare.steamstatic.com\\/steam\\/apps\\/1187940\\/capsule_231x87.jpg?t=1668503422 2x\\\"><\\/div>\\r\\n            <div class=\\\"responsive_search_name_combined\\\">\\r\\n                <div class=\\\"col search_name ellipsis\\\">\\r\\n                    <span class=\\\"title\\\">Is It Wrong to Try to Pick Up Girls in a Dungeon? Infinite Combate<\\/span>\\r\\n                    <div>\\r\\n                                                <span class=\\\"platform_img win\\\"><\\/span>                                            <\\/div>\\r\\n                <\\/div>\\r\\n                <div class=\\\"col search_released responsive_secondrow\\\">\\r\\n                    10 Aug, 2020                <\\/div>\\r\\n                <div class=\\\"col search_reviewscore responsive_secondrow\\\">\\r\\n                                            <span class=\\\"search_review_summary mixed\\\" data-tooltip-html=\\\"Mixed&lt;br&gt;43% of the 257 user reviews for this game are positive.\\\">\\r\\n\\t\\t\\t\\t\\t\\t\\t\\t<\\/span>\\r\\n                                    <\\/div>\\r\\n\\r\\n\\r\\n                <div class=\\\"col search_price_discount_combined responsive_secondrow\\\" data-price-final=\\\"874\\\">\\r\\n                    <div class=\\\"col search_discount_and_price responsive_secondrow\\\">\\r\\n                        <div class=\\\"discount_block search_discount_block\\\" data-price-final=\\\"874\\\" data-bundlediscount=\\\"0\\\" data-discount=\\\"75\\\"><div class=\\\"discount_pct\\\">-75%<\\/div><div class=\\\"discount_prices\\\"><div class=\\\"discount_original_price\\\">£34.99<\\/div><div class=\\\"discount_final_price\\\">£8.74<\\/div><\\/div><\\/div>                    <\\/div>\\r\\n                <\\/div>\\r\\n            <\\/div>\\r\\n\\r\\n\\r\\n            <div style=\\\"clear: left;\\\"><\\/div>\\r\\n        <\\/a>\\r\\n            \\r\\n\\t\\t\\t\\t\n",
      "=====\n"
     ]
    },
    {
     "name": "stderr",
     "output_type": "stream",
     "text": [
      " 17%|████████████▊                                                             | 275/1583 [4:07:58<20:21:22, 56.03s/it]"
     ]
    },
    {
     "name": "stdout",
     "output_type": "stream",
     "text": [
      "[INFO] Cannot parse following info.\n",
      "<a href=\\\"https:\\/\\/store.steampowered.com\\/app\\/1384670\\/Dark_Tales_Edgar_Allan_Poes_The_Devil_in_the_Belfry_Collectors_Edition\\/?snr=1_7_7_230_150_276\\\"\\r\\n\\t\\t\\t data-ds-appid=\\\"1384670\\\" data-ds-itemkey=\\\"App_1384670\\\" data-ds-tagids=\\\"[21,597,1738,1664,1698,8369,5613]\\\" data-ds-crtrids=\\\"[33566870]\\\" onmouseover=\\\"GameHover( this, event, 'global_hover', {&quot;type&quot;:&quot;app&quot;,&quot;id&quot;:1384670,&quot;public&quot;:1,&quot;v6&quot;:1} );\\\" onmouseout=\\\"HideGameHover( this, event, 'global_hover' )\\\" class=\\\"search_result_row ds_collapse_flag \\\"\\r\\n\\t\\t   data-search-page=\\\"276\\\" data-gpnav=\\\"item\\\"\\r\\n\\t\\t   data-ds-steam-deck-compat-handled=\\\"true\\\">\\r\\n            <div class=\\\"col search_capsule\\\"><img src=\\\"https:\\/\\/cdn.cloudflare.steamstatic.com\\/steam\\/apps\\/1384670\\/capsule_sm_120.jpg?t=1608671215\\\" srcset=\\\"https:\\/\\/cdn.cloudflare.steamstatic.com\\/steam\\/apps\\/1384670\\/capsule_sm_120.jpg?t=1608671215 1x, https:\\/\\/cdn.cloudflare.steamstatic.com\\/steam\\/apps\\/1384670\\/capsule_231x87.jpg?t=1608671215 2x\\\"><\\/div>\\r\\n            <div class=\\\"responsive_search_name_combined\\\">\\r\\n                <div class=\\\"col search_name ellipsis\\\">\\r\\n                    <span class=\\\"title\\\">Dark Tales: Edgar Allan Poe's The Devil in the Belfry Collector's Edition<\\/span>\\r\\n                    <div>\\r\\n                                                <span class=\\\"platform_img win\\\"><\\/span>                                            <\\/div>\\r\\n                <\\/div>\\r\\n                <div class=\\\"col search_released responsive_secondrow\\\">\\r\\n                    7 Aug, 2020                <\\/div>\\r\\n                <div class=\\\"col search_reviewscore responsive_secondrow\\\">\\r\\n                                            <span class=\\\"search_review_summary positive\\\" data-tooltip-html=\\\"Positive&lt;br&gt;100% of the 10 user reviews for this game are positive.\\\">\\r\\n\\t\\t\\t\\t\\t\\t\\t\\t<\\/span>\\r\\n                                    <\\/div>\\r\\n\\r\\n\\r\\n                <div class=\\\"col search_price_discount_combined responsive_secondrow\\\" data-price-final=\\\"359\\\">\\r\\n                    <div class=\\\"col search_discount_and_price responsive_secondrow\\\">\\r\\n                        <div class=\\\"discount_block search_discount_block\\\" data-price-final=\\\"359\\\" data-bundlediscount=\\\"0\\\" data-discount=\\\"50\\\"><div class=\\\"discount_pct\\\">-50%<\\/div><div class=\\\"discount_prices\\\"><div class=\\\"discount_original_price\\\">£7.19<\\/div><div class=\\\"discount_final_price\\\">£3.59<\\/div><\\/div><\\/div>                    <\\/div>\\r\\n                <\\/div>\\r\\n            <\\/div>\\r\\n\\r\\n\\r\\n            <div style=\\\"clear: left;\\\"><\\/div>\\r\\n        <\\/a>\\r\\n            \\r\\n\\t\\t\\t\\t\n",
      "=====\n"
     ]
    },
    {
     "name": "stderr",
     "output_type": "stream",
     "text": [
      " 19%|█████████████▋                                                            | 294/1583 [4:25:59<18:38:20, 52.06s/it]"
     ]
    },
    {
     "name": "stdout",
     "output_type": "stream",
     "text": [
      "[INFO] Cannot parse following info.\n",
      "<a href=\\\"https:\\/\\/store.steampowered.com\\/app\\/496030\\/Dark_Parables_The_Swan_Princess_and_The_Dire_Tree_Collectors_Edition\\/?snr=1_7_7_230_150_295\\\"\\r\\n\\t\\t\\t data-ds-appid=\\\"496030\\\" data-ds-itemkey=\\\"App_496030\\\" data-ds-tagids=\\\"[21,597,1738]\\\" data-ds-crtrids=\\\"[33566870]\\\" onmouseover=\\\"GameHover( this, event, 'global_hover', {&quot;type&quot;:&quot;app&quot;,&quot;id&quot;:496030,&quot;public&quot;:1,&quot;v6&quot;:1} );\\\" onmouseout=\\\"HideGameHover( this, event, 'global_hover' )\\\" class=\\\"search_result_row ds_collapse_flag \\\"\\r\\n\\t\\t   data-search-page=\\\"295\\\" data-gpnav=\\\"item\\\"\\r\\n\\t\\t   data-ds-steam-deck-compat-handled=\\\"true\\\">\\r\\n            <div class=\\\"col search_capsule\\\"><img src=\\\"https:\\/\\/cdn.cloudflare.steamstatic.com\\/steam\\/apps\\/496030\\/capsule_sm_120.jpg?t=1530905101\\\" srcset=\\\"https:\\/\\/cdn.cloudflare.steamstatic.com\\/steam\\/apps\\/496030\\/capsule_sm_120.jpg?t=1530905101 1x, https:\\/\\/cdn.cloudflare.steamstatic.com\\/steam\\/apps\\/496030\\/capsule_231x87.jpg?t=1530905101 2x\\\"><\\/div>\\r\\n            <div class=\\\"responsive_search_name_combined\\\">\\r\\n                <div class=\\\"col search_name ellipsis\\\">\\r\\n                    <span class=\\\"title\\\">Dark Parables: The Swan Princess and The Dire Tree Collector's Edition<\\/span>\\r\\n                    <div>\\r\\n                                                <span class=\\\"platform_img win\\\"><\\/span>                                            <\\/div>\\r\\n                <\\/div>\\r\\n                <div class=\\\"col search_released responsive_secondrow\\\">\\r\\n                    6 Jul, 2016                <\\/div>\\r\\n                <div class=\\\"col search_reviewscore responsive_secondrow\\\">\\r\\n                                            <span class=\\\"search_review_summary positive\\\" data-tooltip-html=\\\"Mostly Positive&lt;br&gt;79% of the 24 user reviews for this game are positive.\\\">\\r\\n\\t\\t\\t\\t\\t\\t\\t\\t<\\/span>\\r\\n                                    <\\/div>\\r\\n\\r\\n\\r\\n                <div class=\\\"col search_price_discount_combined responsive_secondrow\\\" data-price-final=\\\"359\\\">\\r\\n                    <div class=\\\"col search_discount_and_price responsive_secondrow\\\">\\r\\n                        <div class=\\\"discount_block search_discount_block\\\" data-price-final=\\\"359\\\" data-bundlediscount=\\\"0\\\" data-discount=\\\"50\\\"><div class=\\\"discount_pct\\\">-50%<\\/div><div class=\\\"discount_prices\\\"><div class=\\\"discount_original_price\\\">£7.19<\\/div><div class=\\\"discount_final_price\\\">£3.59<\\/div><\\/div><\\/div>                    <\\/div>\\r\\n                <\\/div>\\r\\n            <\\/div>\\r\\n\\r\\n\\r\\n            <div style=\\\"clear: left;\\\"><\\/div>\\r\\n        <\\/a>\\r\\n            \\r\\n\\t\\t\\t\\t\n",
      "=====\n"
     ]
    },
    {
     "name": "stderr",
     "output_type": "stream",
     "text": [
      " 20%|██████████████▌                                                           | 312/1583 [4:44:30<22:17:15, 63.13s/it]"
     ]
    },
    {
     "name": "stdout",
     "output_type": "stream",
     "text": [
      "[INFO] Cannot parse following info.\n",
      "<a href=\\\"https:\\/\\/store.steampowered.com\\/app\\/1377550\\/Be_a_maid_in_the_Demon_World_The_Secret_Caf_of_the_Demon_Angel_Hero\\/?snr=1_7_7_230_150_313\\\"\\r\\n\\t\\t\\t data-ds-appid=\\\"1377550\\\" data-ds-itemkey=\\\"App_1377550\\\" data-ds-tagids=\\\"[9551,4726,4434,12472,122,6971,5984]\\\" data-ds-descids=\\\"[1,5]\\\" onmouseover=\\\"GameHover( this, event, 'global_hover', {&quot;type&quot;:&quot;app&quot;,&quot;id&quot;:1377550,&quot;public&quot;:1,&quot;v6&quot;:1} );\\\" onmouseout=\\\"HideGameHover( this, event, 'global_hover' )\\\" class=\\\"search_result_row ds_collapse_flag \\\"\\r\\n\\t\\t   data-search-page=\\\"313\\\" data-gpnav=\\\"item\\\"\\r\\n\\t\\t   data-ds-steam-deck-compat-handled=\\\"true\\\">\\r\\n            <div class=\\\"col search_capsule\\\"><img src=\\\"https:\\/\\/cdn.cloudflare.steamstatic.com\\/steam\\/apps\\/1377550\\/capsule_sm_120.jpg?t=1680928226\\\" srcset=\\\"https:\\/\\/cdn.cloudflare.steamstatic.com\\/steam\\/apps\\/1377550\\/capsule_sm_120.jpg?t=1680928226 1x, https:\\/\\/cdn.cloudflare.steamstatic.com\\/steam\\/apps\\/1377550\\/capsule_231x87.jpg?t=1680928226 2x\\\"><\\/div>\\r\\n            <div class=\\\"responsive_search_name_combined\\\">\\r\\n                <div class=\\\"col search_name ellipsis\\\">\\r\\n                    <span class=\\\"title\\\">~Be a maid in the Demon World~ The Secret Café of the Demon Angel Hero.<\\/span>\\r\\n                    <div>\\r\\n                                                <span class=\\\"platform_img win\\\"><\\/span>                                            <\\/div>\\r\\n                <\\/div>\\r\\n                <div class=\\\"col search_released responsive_secondrow\\\">\\r\\n                    20 Nov, 2020                <\\/div>\\r\\n                <div class=\\\"col search_reviewscore responsive_secondrow\\\">\\r\\n                                            <span class=\\\"search_review_summary positive\\\" data-tooltip-html=\\\"Mostly Positive&lt;br&gt;78% of the 284 user reviews for this game are positive.\\\">\\r\\n\\t\\t\\t\\t\\t\\t\\t\\t<\\/span>\\r\\n                                    <\\/div>\\r\\n\\r\\n\\r\\n                <div class=\\\"col search_price_discount_combined responsive_secondrow\\\" data-price-final=\\\"507\\\">\\r\\n                    <div class=\\\"col search_discount_and_price responsive_secondrow\\\">\\r\\n                        <div class=\\\"discount_block search_discount_block\\\" data-price-final=\\\"507\\\" data-bundlediscount=\\\"0\\\" data-discount=\\\"65\\\"><div class=\\\"discount_pct\\\">-65%<\\/div><div class=\\\"discount_prices\\\"><div class=\\\"discount_original_price\\\">£14.49<\\/div><div class=\\\"discount_final_price\\\">£5.07<\\/div><\\/div><\\/div>                    <\\/div>\\r\\n                <\\/div>\\r\\n            <\\/div>\\r\\n\\r\\n\\r\\n            <div style=\\\"clear: left;\\\"><\\/div>\\r\\n        <\\/a>\\r\\n            \\r\\n\\t\\t\\t\\t\n",
      "=====\n"
     ]
    },
    {
     "name": "stderr",
     "output_type": "stream",
     "text": [
      " 20%|██████████████▏                                                         | 313/1583 [5:12:03<190:33:24, 540.16s/it]"
     ]
    },
    {
     "name": "stdout",
     "output_type": "stream",
     "text": [
      "[INFO] Cannot parse following info.\n",
      "<a href=\\\"https:\\/\\/store.steampowered.com\\/app\\/789380\\/Sometimes_to_Deal_with_the_Difficulty_of_Being_Alive_I_Need_to_Believe_There_Is_a_Possibility_That_Life_Is_Not_Real\\/?snr=1_7_7_230_150_314\\\"\\r\\n\\t\\t\\t data-ds-appid=\\\"789380\\\" data-ds-itemkey=\\\"App_789380\\\" data-ds-tagids=\\\"[599,1710]\\\" data-ds-descids=\\\"[5]\\\" data-ds-crtrids=\\\"[34941270]\\\" onmouseover=\\\"GameHover( this, event, 'global_hover', {&quot;type&quot;:&quot;app&quot;,&quot;id&quot;:789380,&quot;public&quot;:1,&quot;v6&quot;:1} );\\\" onmouseout=\\\"HideGameHover( this, event, 'global_hover' )\\\" class=\\\"search_result_row ds_collapse_flag \\\"\\r\\n\\t\\t   data-search-page=\\\"314\\\" data-gpnav=\\\"item\\\"\\r\\n\\t\\t   data-ds-steam-deck-compat-handled=\\\"true\\\">\\r\\n            <div class=\\\"col search_capsule\\\"><img src=\\\"https:\\/\\/cdn.cloudflare.steamstatic.com\\/steam\\/apps\\/789380\\/capsule_sm_120.jpg?t=1667026592\\\" srcset=\\\"https:\\/\\/cdn.cloudflare.steamstatic.com\\/steam\\/apps\\/789380\\/capsule_sm_120.jpg?t=1667026592 1x, https:\\/\\/cdn.cloudflare.steamstatic.com\\/steam\\/apps\\/789380\\/capsule_231x87.jpg?t=1667026592 2x\\\"><\\/div>\\r\\n            <div class=\\\"responsive_search_name_combined\\\">\\r\\n                <div class=\\\"col search_name ellipsis\\\">\\r\\n                    <span class=\\\"title\\\">Sometimes to Deal with the Difficulty of Being Alive, I Need to Believe There Is a Possibility That Life Is Not Real.<\\/span>\\r\\n                    <div>\\r\\n                                                <span class=\\\"platform_img win\\\"><\\/span>                                            <\\/div>\\r\\n                <\\/div>\\r\\n                <div class=\\\"col search_released responsive_secondrow\\\">\\r\\n                    22 May, 2019                <\\/div>\\r\\n                <div class=\\\"col search_reviewscore responsive_secondrow\\\">\\r\\n                                            <span class=\\\"search_review_summary positive\\\" data-tooltip-html=\\\"Very Positive&lt;br&gt;85% of the 75 user reviews for this game are positive.\\\">\\r\\n\\t\\t\\t\\t\\t\\t\\t\\t<\\/span>\\r\\n                                    <\\/div>\\r\\n\\r\\n\\r\\n                <div class=\\\"col search_price_discount_combined responsive_secondrow\\\" data-price-final=\\\"79\\\">\\r\\n                    <div class=\\\"col search_discount_and_price responsive_secondrow\\\">\\r\\n                        <div class=\\\"discount_block search_discount_block no_discount\\\" data-price-final=\\\"79\\\" data-bundlediscount=\\\"0\\\" data-discount=\\\"0\\\"><div class=\\\"discount_prices\\\"><div class=\\\"discount_final_price\\\">£0.79<\\/div><\\/div><\\/div>                    <\\/div>\\r\\n                <\\/div>\\r\\n            <\\/div>\\r\\n\\r\\n\\r\\n            <div style=\\\"clear: left;\\\"><\\/div>\\r\\n        <\\/a>\\r\\n            \\r\\n\\t\\t\\t\\t\n",
      "=====\n"
     ]
    },
    {
     "name": "stderr",
     "output_type": "stream",
     "text": [
      " 22%|████████████████                                                          | 343/1583 [5:35:46<16:56:26, 49.18s/it]"
     ]
    },
    {
     "name": "stdout",
     "output_type": "stream",
     "text": [
      "[INFO] Cannot parse following info.\n",
      "<a href=\\\"https:\\/\\/store.steampowered.com\\/app\\/1030180\\/Dark_Tales_Edgar_Allan_Poes_The_Premature_Burial_Collectors_Edition\\/?snr=1_7_7_230_150_343\\\"\\r\\n\\t\\t\\t data-ds-appid=\\\"1030180\\\" data-ds-itemkey=\\\"App_1030180\\\" data-ds-tagids=\\\"[21,597,1738]\\\" data-ds-crtrids=\\\"[33566870]\\\" onmouseover=\\\"GameHover( this, event, 'global_hover', {&quot;type&quot;:&quot;app&quot;,&quot;id&quot;:1030180,&quot;public&quot;:1,&quot;v6&quot;:1} );\\\" onmouseout=\\\"HideGameHover( this, event, 'global_hover' )\\\" class=\\\"search_result_row ds_collapse_flag \\\"\\r\\n\\t\\t   data-search-page=\\\"343\\\" data-gpnav=\\\"item\\\"\\r\\n\\t\\t   data-ds-steam-deck-compat-handled=\\\"true\\\">\\r\\n            <div class=\\\"col search_capsule\\\"><img src=\\\"https:\\/\\/cdn.cloudflare.steamstatic.com\\/steam\\/apps\\/1030180\\/capsule_sm_120.jpg?t=1608672959\\\" srcset=\\\"https:\\/\\/cdn.cloudflare.steamstatic.com\\/steam\\/apps\\/1030180\\/capsule_sm_120.jpg?t=1608672959 1x, https:\\/\\/cdn.cloudflare.steamstatic.com\\/steam\\/apps\\/1030180\\/capsule_231x87.jpg?t=1608672959 2x\\\"><\\/div>\\r\\n            <div class=\\\"responsive_search_name_combined\\\">\\r\\n                <div class=\\\"col search_name ellipsis\\\">\\r\\n                    <span class=\\\"title\\\">Dark Tales: Edgar Allan Poe's The Premature Burial Collector's Edition<\\/span>\\r\\n                    <div>\\r\\n                                                <span class=\\\"platform_img win\\\"><\\/span>                                            <\\/div>\\r\\n                <\\/div>\\r\\n                <div class=\\\"col search_released responsive_secondrow\\\">\\r\\n                    1 Mar, 2019                <\\/div>\\r\\n                <div class=\\\"col search_reviewscore responsive_secondrow\\\">\\r\\n                                            <span class=\\\"search_review_summary positive\\\" data-tooltip-html=\\\"Mostly Positive&lt;br&gt;76% of the 13 user reviews for this game are positive.\\\">\\r\\n\\t\\t\\t\\t\n",
      "=====\n"
     ]
    },
    {
     "name": "stderr",
     "output_type": "stream",
     "text": [
      " 23%|████████████████▋                                                         | 358/1583 [5:47:37<15:32:25, 45.67s/it]"
     ]
    },
    {
     "name": "stdout",
     "output_type": "stream",
     "text": [
      "[INFO] Cannot parse following info.\n",
      "<a href=\\\"https:\\/\\/store.steampowered.com\\/app\\/376790\\/Sherlock_Holmes_Consulting_Detective_The_Case_of_the_Mystified_Murderess\\/?snr=1_7_7_230_150_359\\\"\\r\\n\\t\\t\\t data-ds-appid=\\\"376790\\\" data-ds-itemkey=\\\"App_376790\\\" data-ds-tagids=\\\"[21,18594,5613,4182]\\\" onmouseover=\\\"GameHover( this, event, 'global_hover', {&quot;type&quot;:&quot;app&quot;,&quot;id&quot;:376790,&quot;public&quot;:1,&quot;v6&quot;:1} );\\\" onmouseout=\\\"HideGameHover( this, event, 'global_hover' )\\\" class=\\\"search_result_row ds_collapse_flag \\\"\\r\\n\\t\\t   data-search-page=\\\"359\\\" data-gpnav=\\\"item\\\"\\r\\n\\t\\t   data-ds-steam-deck-compat-handled=\\\"true\\\">\\r\\n            <div class=\\\"col search_capsule\\\"><img src=\\\"https:\\/\\/cdn.cloudflare.steamstatic.com\\/steam\\/apps\\/376790\\/capsule_sm_120.jpg?t=1693615235\\\" srcset=\\\"https:\\/\\/cdn.cloudflare.steamstatic.com\\/steam\\/apps\\/376790\\/capsule_sm_120.jpg?t=1693615235 1x, https:\\/\\/cdn.cloudflare.steamstatic.com\\/steam\\/apps\\/376790\\/capsule_231x87.jpg?t=1693615235 2x\\\"><\\/div>\\r\\n            <div class=\\\"responsive_search_name_combined\\\">\\r\\n                <div class=\\\"col search_name ellipsis\\\">\\r\\n                    <span class=\\\"title\\\">Sherlock Holmes Consulting Detective: The Case of the Mystified Murderess<\\/span>\\r\\n                    <div>\\r\\n                                                <span class=\\\"platform_img win\\\"><\\/span><span class=\\\"platform_img mac\\\"><\\/span>                                            <\\/div>\\r\\n                <\\/div>\\r\\n                <div class=\\\"col search_released responsive_secondrow\\\">\\r\\n                    8 Jun, 2015                <\\/div>\\r\\n                <div class=\\\"col search_reviewscore responsive_secondrow\\\">\\r\\n                                            <span class=\\\"search_review_summary positive\\\" data-tooltip-html=\\\"Mostly Positive&lt;br&gt;72% of the 29 user reviews for this game are positive.\\\">\\r\\n\\t\\t\\t\\t\\t\\t\\t\\t<\\/span>\\r\\n                                    <\\/div>\\r\\n\\r\\n\\r\\n                <div class=\\\"col search_price_discount_combined responsive_secondrow\\\" data-price-final=\\\"289\\\">\\r\\n                    <div class=\\\"col search_discount_and_price responsive_secondrow\\\">\\r\\n                        <div class=\\\"discount_block search_discount_block no_discount\\\" data-price-final=\\\"289\\\" data-bundlediscount=\\\"0\\\" data-discount=\\\"0\\\"><div class=\\\"discount_prices\\\"><div class=\\\"discount_final_price\\\">£2.89<\\/div><\\/div><\\/div>                    <\\/div>\\r\\n                <\\/div>\\r\\n            <\\/div>\\r\\n\\r\\n\\r\\n            <div style=\\\"clear: left;\\\"><\\/div>\\r\\n        <\\/a>\\r\\n            \\r\\n\\t\\t\\t\\t\n",
      "=====\n"
     ]
    },
    {
     "name": "stderr",
     "output_type": "stream",
     "text": [
      " 25%|██████████████████▏                                                       | 390/1583 [6:28:36<16:18:39, 49.22s/it]"
     ]
    },
    {
     "name": "stdout",
     "output_type": "stream",
     "text": [
      "[INFO] Cannot parse following info.\n",
      "<a href=\\\"https:\\/\\/store.steampowered.com\\/app\\/2146450\\/Car_Racing_Highway_Driving_Simulator_real_parking_driver_sim_speed_traffic_deluxe_2023\\/?snr=1_7_7_230_150_391\\\"\\r\\n\\t\\t\\t data-ds-appid=\\\"2146450\\\" data-ds-itemkey=\\\"App_2146450\\\" data-ds-tagids=\\\"[699,19,599,1100687,1644,1773,176981]\\\" data-ds-crtrids=\\\"[43154023]\\\" onmouseover=\\\"GameHover( this, event, 'global_hover', {&quot;type&quot;:&quot;app&quot;,&quot;id&quot;:2146450,&quot;public&quot;:1,&quot;v6&quot;:1} );\\\" onmouseout=\\\"HideGameHover( this, event, 'global_hover' )\\\" class=\\\"search_result_row ds_collapse_flag \\\"\\r\\n\\t\\t   data-search-page=\\\"391\\\" data-gpnav=\\\"item\\\"\\r\\n\\t\\t   data-ds-steam-deck-compat-handled=\\\"true\\\">\\r\\n            <div class=\\\"col search_capsule\\\"><img src=\\\"https:\\/\\/cdn.cloudflare.steamstatic.com\\/steam\\/apps\\/2146450\\/capsule_sm_120.jpg?t=1673536299\\\" srcset=\\\"https:\\/\\/cdn.cloudflare.steamstatic.com\\/steam\\/apps\\/2146450\\/capsule_sm_120.jpg?t=1673536299 1x, https:\\/\\/cdn.cloudflare.steamstatic.com\\/steam\\/apps\\/2146450\\/capsule_231x87.jpg?t=1673536299 2x\\\"><\\/div>\\r\\n            <div class=\\\"responsive_search_name_combined\\\">\\r\\n                <div class=\\\"col search_name ellipsis\\\">\\r\\n                    <span class=\\\"title\\\">Car Racing Highway Driving Simulator, real parking driver sim speed traffic deluxe 2023<\\/span>\\r\\n                    <div>\\r\\n                                                <span class=\\\"platform_img win\\\"><\\/span><span class=\\\"platform_img linux\\\"><\\/span>                                            <\\/div>\\r\\n                <\\/div>\\r\\n                <div class=\\\"col search_released responsive_secondrow\\\">\\r\\n                    11 Jan, 2023                <\\/div>\\r\\n                <div class=\\\"col search_reviewscore responsive_secondrow\\\">\\r\\n                                            <span class=\\\"search_review_summary positive\\\" data-tooltip-html=\\\"Mostly Positive&lt;br&gt;76% of the 38 user reviews for this game are positive.\\\">\\r\\n\\t\\t\\t\\t\\t\\t\\t\\t<\\/span>\\r\\n                                    <\\/div>\\r\\n\\r\\n\\r\\n                <div class=\\\"col search_price_discount_combined responsive_secondrow\\\" data-price-final=\\\"47\\\">\\r\\n                    <div class=\\\"col search_discount_and_price responsive_secondrow\\\">\\r\\n                        <div class=\\\"discount_block search_discount_block\\\" data-price-final=\\\"47\\\" data-bundlediscount=\\\"0\\\" data-discount=\\\"72\\\"><div class=\\\"discount_pct\\\">-72%<\\/div><div class=\\\"discount_prices\\\"><div class=\\\"discount_original_price\\\">£1.69<\\/div><div class=\\\"discount_final_price\\\">£0.47<\\/div><\\/div><\\/div>                    <\\/div>\\r\\n                <\\/div>\\r\\n            <\\/div>\\r\\n\\r\\n\\r\\n            <div style=\\\"clear: left;\\\"><\\/div>\\r\\n        <\\/a>\\r\\n            \\r\\n\\t\\t\\t\\t\n",
      "=====\n"
     ]
    },
    {
     "name": "stderr",
     "output_type": "stream",
     "text": [
      " 25%|██████████████████▉                                                        | 401/1583 [6:32:40<2:23:38,  7.29s/it]"
     ]
    },
    {
     "name": "stdout",
     "output_type": "stream",
     "text": [
      "[INFO] Cannot parse following info.\n",
      "<a href=\\\"https:\\/\\/store.steampowered.com\\/app\\/756590\\/Atelier_Lydie__Suelle_The_Alchemists_and_the_Mysterious_Paintings\\/?snr=1_7_7_230_150_402\\\"\\r\\n\\t\\t\\t data-ds-appid=\\\"756590\\\" data-ds-itemkey=\\\"App_756590\\\" data-ds-tagids=\\\"[122,4085,4434,4726,7208,1702,1756]\\\" data-ds-crtrids=\\\"[33016879]\\\" onmouseover=\\\"GameHover( this, event, 'global_hover', {&quot;type&quot;:&quot;app&quot;,&quot;id&quot;:756590,&quot;public&quot;:1,&quot;v6&quot;:1} );\\\" onmouseout=\\\"HideGameHover( this, event, 'global_hover' )\\\" class=\\\"search_result_row ds_collapse_flag \\\"\\r\\n\\t\\t   data-search-page=\\\"402\\\" data-gpnav=\\\"item\\\"\\r\\n\\t\\t   data-ds-steam-deck-compat-handled=\\\"true\\\">\\r\\n            <div class=\\\"col search_capsule\\\"><img src=\\\"https:\\/\\/cdn.cloudflare.steamstatic.com\\/steam\\/apps\\/756590\\/capsule_sm_120.jpg?t=1695969959\\\" srcset=\\\"https:\\/\\/cdn.cloudflare.steamstatic.com\\/steam\\/apps\\/756590\\/capsule_sm_120.jpg?t=1695969959 1x, https:\\/\\/cdn.cloudflare.steamstatic.com\\/steam\\/apps\\/756590\\/capsule_231x87.jpg?t=1695969959 2x\\\"><\\/div>\\r\\n            <div class=\\\"responsive_search_name_combined\\\">\\r\\n                <div class=\\\"col search_name ellipsis\\\">\\r\\n                    <span class=\\\"title\\\">Atelier Lydie &amp; Suelle ~The Alchemists and the Mysterious Paintings~<\\/span>\\r\\n                    <div>\\r\\n                                                <span class=\\\"platform_img win\\\"><\\/span>                                            <\\/div>\\r\\n                <\\/div>\\r\\n                <div class=\\\"col search_released responsive_secondrow\\\">\\r\\n                    27 Mar, 2018                <\\/div>\\r\\n                <div class=\\\"col search_reviewscore responsive_secondrow\\\">\\r\\n                                            <span class=\\\"search_review_summary positive\\\" data-tooltip-html=\\\"Very Positive&lt;br&gt;91% of the 451 user reviews for this game are positive.\\\">\\r\\n\\t\\t\\t\\t\\t\\t\\t\\t<\\/span>\\r\\n                                    <\\/div>\\r\\n\\r\\n\\r\\n                <div class=\\\"col search_price_discount_combined responsive_secondrow\\\" data-price-final=\\\"0\\\">\\r\\n                    <div class=\\\"col search_discount_and_price responsive_secondrow\\\">\\r\\n                                            <\\/div>\\r\\n                <\\/div>\\r\\n            <\\/div>\\r\\n\\r\\n\\r\\n            <div style=\\\"clear: left;\\\"><\\/div>\\r\\n        <\\/a>\\r\\n            \\r\\n\\t\\t\\t\\t\n",
      "=====\n"
     ]
    },
    {
     "name": "stderr",
     "output_type": "stream",
     "text": [
      " 26%|███████████████████                                                       | 408/1583 [6:39:31<18:29:05, 56.63s/it]"
     ]
    },
    {
     "name": "stdout",
     "output_type": "stream",
     "text": [
      "[INFO] Cannot parse following info.\n",
      "<a href=\\\"https:\\/\\/store.steampowered.com\\/app\\/953230\\/Quiver_Dicks_Terrible_Tale_For_Terrible_Parents_To_Read_To_Their_Equally_Terrible_Children\\/?snr=1_7_7_230_150_409\\\"\\r\\n\\t\\t\\t data-ds-appid=\\\"953230\\\" data-ds-itemkey=\\\"App_953230\\\" data-ds-tagids=\\\"[1667,4486,4474,4434,4202,3978,597]\\\" data-ds-descids=\\\"[1,5]\\\" data-ds-crtrids=\\\"[33024243]\\\" onmouseover=\\\"GameHover( this, event, 'global_hover', {&quot;type&quot;:&quot;app&quot;,&quot;id&quot;:953230,&quot;public&quot;:1,&quot;v6&quot;:1} );\\\" onmouseout=\\\"HideGameHover( this, event, 'global_hover' )\\\" class=\\\"search_result_row ds_collapse_flag \\\"\\r\\n\\t\\t   data-search-page=\\\"409\\\" data-gpnav=\\\"item\\\"\\r\\n\\t\\t   data-ds-steam-deck-compat-handled=\\\"true\\\">\\r\\n            <div class=\\\"col search_capsule\\\"><img src=\\\"https:\\/\\/cdn.cloudflare.steamstatic.com\\/steam\\/apps\\/953230\\/capsule_sm_120.jpg?t=1660323753\\\" srcset=\\\"https:\\/\\/cdn.cloudflare.steamstatic.com\\/steam\\/apps\\/953230\\/capsule_sm_120.jpg?t=1660323753 1x, https:\\/\\/cdn.cloudflare.steamstatic.com\\/steam\\/apps\\/953230\\/capsule_231x87.jpg?t=1660323753 2x\\\"><\\/div>\\r\\n            <div class=\\\"responsive_search_name_combined\\\">\\r\\n                <div class=\\\"col search_name ellipsis\\\">\\r\\n                    <span class=\\\"title\\\">Quiver Dick's Terrible Tale For Terrible Parents To Read To Their Equally Terrible Children<\\/span>\\r\\n                    <div>\\r\\n                                                <span class=\\\"platform_img win\\\"><\\/span>                                            <\\/div>\\r\\n                <\\/div>\\r\\n                <div class=\\\"col search_released responsive_secondrow\\\">\\r\\n                    26 Oct, 2018                <\\/div>\\r\\n                <div class=\\\"col search_reviewscore responsive_secondrow\\\">\\r\\n                                            <span class=\\\"search_review_summary positive\\\" data-tooltip-html=\\\"Very Positive&lt;br&gt;90% of the 102 user reviews for this game are positive.\\\">\\r\\n\\t\\t\\t\\t\\t\\t\\t\\t<\\/span>\\r\\n                                    <\\/div>\\r\\n\\r\\n\\r\\n                <div class=\\\"col search_price_discount_combined responsive_secondrow\\\" data-price-final=\\\"71\\\">\\r\\n                    <div class=\\\"col search_discount_and_price responsive_secondrow\\\">\\r\\n                        <div class=\\\"discount_block search_discount_block\\\" data-price-final=\\\"71\\\" data-bundlediscount=\\\"0\\\" data-discount=\\\"20\\\"><div class=\\\"discount_pct\\\">-20%<\\/div><div class=\\\"discount_prices\\\"><div class=\\\"discount_original_price\\\">£0.89<\\/div><div class=\\\"discount_final_price\\\">£0.71<\\/div><\\/div><\\/div>                    <\\/div>\\r\\n                <\\/div>\\r\\n            <\\/div>\\r\\n\\r\\n\\r\\n            <div style=\\\"clear: left;\\\"><\\/div>\\r\\n        <\\/a>\\r\\n            \\r\\n\\t\\t\\t\\t\n",
      "=====\n"
     ]
    },
    {
     "name": "stderr",
     "output_type": "stream",
     "text": [
      " 26%|███████████████████▎                                                      | 412/1583 [6:43:33<20:14:05, 62.21s/it]"
     ]
    },
    {
     "name": "stdout",
     "output_type": "stream",
     "text": [
      "[INFO] Cannot parse following info.\n",
      "<a href=\\\"https:\\/\\/store.steampowered.com\\/app\\/1522140\\/Demon_Skin\\/?snr=1_7_7_230_150_413\\\"\\r\\n\\t\\t\\t data-ds-appid=\\\"1522140\\\" data-ds-itemkey=\\\"App_1522140\\\" data-ds-tagids=\\\"[19,122,1646,3798,4342,4182,1625]\\\" data-ds-descids=\\\"[2,5]\\\" data-ds-crtrids=\\\"[32941917]\\\" onmouseover=\\\"GameHover( this, event, 'global_hover', {&quot;type&quot;:&quot;app&quot;,&quot;id&quot;:1522140,&quot;public&quot;:1,&quot;v6&quot;:1} );\\\" onmouseout=\\\"HideGameHover( this, event, 'global_hover' )\\\" class=\\\"search_result_row ds_collapse_flag \\\"\\r\\n\\t\\t   data-search-page=\\\"413\\\" data-gpnav=\\\"item\\\"\\r\\n\\t\\t   data-ds-steam-deck-compat-handled=\\\"true\\\">\\r\\n            <div class=\\\"col search_capsule\\\"><img src=\\\"https:\\/\\/cdn.cloudflare.steamstatic.com\\/steam\\/apps\\/1522140\\/capsule_sm_120.jpg?t=1695299195\\\" srcset=\\\"https:\\/\\/cdn.cloudflare.steamstatic.com\\/steam\\/apps\\/1522140\\/capsule_sm_120.jpg?t=1695299195 1x, https:\\/\\/cdn.cloudflare.steamstatic.com\\/steam\\/apps\\/1522140\\/capsule_231x87.jpg?t=1695299195 2x\\\"><\\/div>\\r\\n            <div class=\\\"responsive_search_name_combined\\\">\\r\\n                <div class=\\\"col search_name ellipsis\\\">\\r\\n                    <span class=\\\"title\\\">Demon Skin<\\/span>\\r\\n                    <div>\\r\\n                                                <span class=\\\"platform_img win\\\"><\\/span>                                            <\\/div>\\r\\n                <\\/div>\\r\\n                <div class=\\\"col search_released responsive_secondrow\\\">\\r\\n                    13 Apr, 2021                <\\/div>\\r\\n                <div class=\\\"col search_reviewscore responsive_secondrow\\\">\\r\\n                                            <span class=\\\"search_review_summary positive\\\" data-tooltip-html=\\\"Mostly Positive&lt;br&gt;74% of the 82 user reviews for this game are positive.\\\">\\r\\n\\t\\t\\t\\t\\t\\t\\t\\t<\\/span>\\r\\n                                    <\\/div>\\r\\n\\r\\n\\r\\n                <div class=\\\"col search_price_discount_combined responsive_secondrow\\\" data-price-final=\\\"382\\\">\\r\\n                    <div class=\\\"col search_discount_and_price responsive_secondrow\\\">\\r\\n                        <div class=\\\"discount_block search_discount_block\\\" data-price-final=\\\"382\\\" data-bundlediscount=\\\"0\\\" data-discount=\\\"55\\\"><div class=\\\"discount_pct\\\">-55%<\\/div><div class=\\\"discount_prices\\\"><div class=\\\"discount_original_price\\\">£8.50<\\/div><div class=\\\"discount_final_price\\\">£3.82<\\/div><\\/div><\\/div>                    <\\/div>\\r\\n                <\\/div>\\r\\n            <\\/div>\\r\\n\\r\\n\\r\\n            <div style=\\\"clear: left;\\\"><\\/div>\\r\\n        <\\/a>\\r\\n            \\r\\n\\t\\t\\t\\t\n",
      "=====\n"
     ]
    },
    {
     "name": "stderr",
     "output_type": "stream",
     "text": [
      " 29%|█████████████████████▏                                                    | 454/1583 [7:23:07<14:04:19, 44.87s/it]"
     ]
    },
    {
     "name": "stdout",
     "output_type": "stream",
     "text": [
      "[INFO] Cannot parse following info.\n",
      "<a href=\\\"https:\\/\\/store.steampowered.com\\/app\\/1121910\\/I_Love_You_Colonel_Sanders_A_Finger_Lickin_Good_Dating_Simulator\\/?snr=1_7_7_230_150_455\\\"\\r\\n\\t\\t\\t data-ds-appid=\\\"1121910\\\" data-ds-itemkey=\\\"App_1121910\\\" data-ds-tagids=\\\"[9551,4085,3799,5411,7782,113,5382]\\\" data-ds-crtrids=\\\"[35884284]\\\" onmouseover=\\\"GameHover( this, event, 'global_hover', {&quot;type&quot;:&quot;app&quot;,&quot;id&quot;:1121910,&quot;public&quot;:1,&quot;v6&quot;:1} );\\\" onmouseout=\\\"HideGameHover( this, event, 'global_hover' )\\\" class=\\\"search_result_row ds_collapse_flag \\\"\\r\\n\\t\\t   data-search-page=\\\"455\\\" data-gpnav=\\\"item\\\"\\r\\n\\t\\t   data-ds-steam-deck-compat-handled=\\\"true\\\">\\r\\n            <div class=\\\"col search_capsule\\\"><img src=\\\"https:\\/\\/cdn.cloudflare.steamstatic.com\\/steam\\/apps\\/1121910\\/capsule_sm_120.jpg?t=1569326440\\\" srcset=\\\"https:\\/\\/cdn.cloudflare.steamstatic.com\\/steam\\/apps\\/1121910\\/capsule_sm_120.jpg?t=1569326440 1x, https:\\/\\/cdn.cloudflare.steamstatic.com\\/steam\\/apps\\/1121910\\/capsule_231x87.jpg?t=1569326440 2x\\\"><\\/div>\\r\\n            <div class=\\\"responsive_search_name_combined\\\">\\r\\n                <div class=\\\"col search_name ellipsis\\\">\\r\\n                    <span class=\\\"title\\\">I Love You, Colonel Sanders! A Finger Lickin’ Good Dating Simulator<\\/span>\\r\\n                    <div>\\r\\n                                                <span class=\\\"platform_img win\\\"><\\/span><span class=\\\"platform_img mac\\\"><\\/span>                                            <\\/div>\\r\\n                <\\/div>\\r\\n                <div class=\\\"col search_released responsive_secondrow\\\">\\r\\n                    24 Sep, 2019                <\\/div>\\r\\n                <div class=\\\"col search_reviewscore responsive_secondrow\\\">\\r\\n                                            <span class=\\\"search_review_summary positive\\\" data-tooltip-html=\\\"Very Positive&lt;br&gt;91% of the 12,170 user reviews for this game are positive.\\\">\\r\\n\\t\\t\\t\\t\\t\\t\\t\\t<\\/span>\\r\\n                                    <\\/div>\\r\\n\\r\\n\\r\\n                <div class=\\\"col search_price_discount_combined responsive_secondrow\\\" data-price-final=\\\"0\\\">\\r\\n                    <div class=\\\"col search_discount_and_price responsive_secondrow\\\">\\r\\n                        <div class=\\\"discount_block no_discount search_discount_block\\\">\\t<div class=\\\"discount_prices\\\">\\t\\t<div class=\\\"discount_final_price free\\\">Free<\\/div>\\t<\\/div><\\/div>                    <\\/div>\\r\\n                <\\/div>\\r\\n            <\\/div>\\r\\n\\r\\n\\r\\n            <div style=\\\"clear: left;\\\"><\\/div>\\r\\n        <\\/a>\\r\\n            \\r\\n\\t\\t\\t\\t\n",
      "=====\n"
     ]
    },
    {
     "name": "stderr",
     "output_type": "stream",
     "text": [
      " 29%|█████████████████████▌                                                    | 461/1583 [7:28:28<13:44:55, 44.11s/it]"
     ]
    },
    {
     "name": "stdout",
     "output_type": "stream",
     "text": [
      "[INFO] Cannot parse following info.\n",
      "<a href=\\\"https:\\/\\/store.steampowered.com\\/app\\/1295260\\/Clockwork_Calamity_in_Mushroom_World_What_would_you_do_if_the_time_stopped_ticking\\/?snr=1_7_7_230_150_462\\\"\\r\\n\\t\\t\\t data-ds-appid=\\\"1295260\\\" data-ds-itemkey=\\\"App_1295260\\\" data-ds-tagids=\\\"[19,492,21,3834,3964,4202,4726]\\\" onmouseover=\\\"GameHover( this, event, 'global_hover', {&quot;type&quot;:&quot;app&quot;,&quot;id&quot;:1295260,&quot;public&quot;:1,&quot;v6&quot;:1} );\\\" onmouseout=\\\"HideGameHover( this, event, 'global_hover' )\\\" class=\\\"search_result_row ds_collapse_flag \\\"\\r\\n\\t\\t   data-search-page=\\\"462\\\" data-gpnav=\\\"item\\\"\\r\\n\\t\\t   data-ds-steam-deck-compat-handled=\\\"true\\\">\\r\\n            <div class=\\\"col search_capsule\\\"><img src=\\\"https:\\/\\/cdn.cloudflare.steamstatic.com\\/steam\\/apps\\/1295260\\/capsule_sm_120.jpg?t=1638360281\\\" srcset=\\\"https:\\/\\/cdn.cloudflare.steamstatic.com\\/steam\\/apps\\/1295260\\/capsule_sm_120.jpg?t=1638360281 1x, https:\\/\\/cdn.cloudflare.steamstatic.com\\/steam\\/apps\\/1295260\\/capsule_231x87.jpg?t=1638360281 2x\\\"><\\/div>\\r\\n            <div class=\\\"responsive_search_name_combined\\\">\\r\\n                <div class=\\\"col search_name ellipsis\\\">\\r\\n                    <span class=\\\"title\\\">Clockwork Calamity in Mushroom World: What would you do if the time stopped ticking?<\\/span>\\r\\n                    <div>\\r\\n                                                <span class=\\\"platform_img win\\\"><\\/span><span class=\\\"platform_img mac\\\"><\\/span><span class=\\\"platform_img linux\\\"><\\/span>                                            <\\/div>\\r\\n                <\\/div>\\r\\n                <div class=\\\"col search_released responsive_secondrow\\\">\\r\\n                    31 May, 2021                <\\/div>\\r\\n                <div class=\\\"col search_reviewscore responsive_secondrow\\\">\\r\\n                                            <span class=\\\"search_review_summary positive\\\" data-tooltip-html=\\\"Very Positive&lt;br&gt;98% of the 52 user reviews for this game are positive.\\\">\\r\\n\\t\\t\\t\\t\\t\\t\\t\\t<\\/span>\\r\\n                                    <\\/div>\\r\\n\\r\\n\\r\\n                <div class=\\\"col search_price_discount_combined responsive_secondrow\\\" data-price-final=\\\"0\\\">\\r\\n                    <div class=\\\"col search_discount_and_price responsive_secondrow\\\">\\r\\n                        <div class=\\\"discount_block no_discount search_discount_block\\\">\\t<div class=\\\"discount_prices\\\">\\t\\t<div class=\\\"discount_final_price free\\\">Free<\\/div>\\t<\\/div><\\/div>                    <\\/div>\\r\\n                <\\/div>\\r\\n            <\\/div>\\r\\n\\r\\n\\r\\n            <div style=\\\"clear: left;\\\"><\\/div>\\r\\n        <\\/a>\\r\\n            \\r\\n\\t\\t\\t\\t\n",
      "=====\n"
     ]
    },
    {
     "name": "stderr",
     "output_type": "stream",
     "text": [
      " 30%|█████████████████████▉                                                    | 470/1583 [7:34:42<12:55:34, 41.81s/it]"
     ]
    },
    {
     "name": "stdout",
     "output_type": "stream",
     "text": [
      "[INFO] Cannot parse following info.\n",
      "<a href=\\\"https:\\/\\/store.steampowered.com\\/app\\/1367490\\/a_completely_normal_dating_simulation_that_is_definitely_completely_sweet_innnocent_and_normal_SOMETHINGETH_ANIVERSARY_EDITION\\/?snr=1_7_7_230_150_470\\\"\\r\\n\\t\\t\\t data-ds-appid=\\\"1367490\\\" data-ds-itemkey=\\\"App_1367490\\\" data-ds-tagids=\\\"[113,492,599,1710,1721,9551]\\\" onmouseover=\\\"GameHover( this, event, 'global_hover', {&quot;type&quot;:&quot;app&quot;,&quot;id&quot;:1367490,&quot;public&quot;:1,&quot;v6&quot;:1} );\\\" onmouseout=\\\"HideGameHover( this, event, 'global_hover' )\\\" class=\\\"search_result_row ds_collapse_flag \\\"\\r\\n\\t\\t   data-search-page=\\\"470\\\" data-gpnav=\\\"item\\\"\\r\\n\\t\\t   data-ds-steam-deck-compat-handled=\\\"true\\\">\\r\\n            <div class=\\\"col search_capsule\\\"><img src=\\\"https:\\/\\/cdn.cloudflare.steamstatic.com\\/steam\\/apps\\/1367490\\/capsule_sm_120.jpg?t=1661538403\\\" srcset=\\\"https:\\/\\/cdn.cloudflare.steamstatic.com\\/steam\\/apps\\/1367490\\/capsule_sm_120.jpg?t=1661538403 1x, https:\\/\\/cdn.cloudflare.steamstatic.com\\/steam\\/apps\\/1367490\\/capsule_231x87.jpg?t=1661538403 2x\\\"><\\/div>\\r\\n            <div class=\\\"responsive_search_name_combined\\\">\\r\\n                <div class=\\\"col search_name ellipsis\\\">\\r\\n                    <span class=\\\"title\\\">a completely normal dating simulation that is definitely completely sweet, innnocent and normal: SOMETHINGETH ANIVERSARY EDITION<\\/span>\\r\\n                    <div>\\r\\n                                                <span class=\\\"platform_img win\\\"><\\/span><span class=\\\"platform_img mac\\\"><\\/span>                                            <\\/div>\\r\\n                <\\/div>\\r\\n                <div class=\\\"col search_released responsive_secondrow\\\">\\r\\n                    26 Aug, 2022                <\\/div>\\r\\n                <div class=\\\"col search_reviewscore responsive_secondrow\\\">\\r\\n                                            <span class=\\\"search_review_summary positive\\\" data-tooltip-html=\\\"Very Positive&lt;br&gt;93% of the 135 user reviews for this game are positive.\\\">\\r\\n\\t\\t\\t\\t\n",
      "=====\n"
     ]
    },
    {
     "name": "stderr",
     "output_type": "stream",
     "text": [
      " 30%|██████████████████████                                                    | 472/1583 [7:36:12<13:11:00, 42.72s/it]"
     ]
    },
    {
     "name": "stdout",
     "output_type": "stream",
     "text": [
      "[INFO] Cannot parse following info.\n",
      "<a href=\\\"https:\\/\\/store.steampowered.com\\/app\\/1121910\\/I_Love_You_Colonel_Sanders_A_Finger_Lickin_Good_Dating_Simulator\\/?snr=1_7_7_230_150_473\\\"\\r\\n\\t\\t\\t data-ds-appid=\\\"1121910\\\" data-ds-itemkey=\\\"App_1121910\\\" data-ds-tagids=\\\"[9551,4085,3799,5411,7782,113,5382]\\\" data-ds-crtrids=\\\"[35884284]\\\" onmouseover=\\\"GameHover( this, event, 'global_hover', {&quot;type&quot;:&quot;app&quot;,&quot;id&quot;:1121910,&quot;public&quot;:1,&quot;v6&quot;:1} );\\\" onmouseout=\\\"HideGameHover( this, event, 'global_hover' )\\\" class=\\\"search_result_row ds_collapse_flag \\\"\\r\\n\\t\\t   data-search-page=\\\"473\\\" data-gpnav=\\\"item\\\"\\r\\n\\t\\t   data-ds-steam-deck-compat-handled=\\\"true\\\">\\r\\n            <div class=\\\"col search_capsule\\\"><img src=\\\"https:\\/\\/cdn.cloudflare.steamstatic.com\\/steam\\/apps\\/1121910\\/capsule_sm_120.jpg?t=1569326440\\\" srcset=\\\"https:\\/\\/cdn.cloudflare.steamstatic.com\\/steam\\/apps\\/1121910\\/capsule_sm_120.jpg?t=1569326440 1x, https:\\/\\/cdn.cloudflare.steamstatic.com\\/steam\\/apps\\/1121910\\/capsule_231x87.jpg?t=1569326440 2x\\\"><\\/div>\\r\\n            <div class=\\\"responsive_search_name_combined\\\">\\r\\n                <div class=\\\"col search_name ellipsis\\\">\\r\\n                    <span class=\\\"title\\\">I Love You, Colonel Sanders! A Finger Lickin’ Good Dating Simulator<\\/span>\\r\\n                    <div>\\r\\n                                                <span class=\\\"platform_img win\\\"><\\/span><span class=\\\"platform_img mac\\\"><\\/span>                                            <\\/div>\\r\\n                <\\/div>\\r\\n                <div class=\\\"col search_released responsive_secondrow\\\">\\r\\n                    24 Sep, 2019                <\\/div>\\r\\n                <div class=\\\"col search_reviewscore responsive_secondrow\\\">\\r\\n                                            <span class=\\\"search_review_summary positive\\\" data-tooltip-html=\\\"Very Positive&lt;br&gt;91% of the 12,170 user reviews for this game are positive.\\\">\\r\\n\\t\\t\\t\\t\\t\\t\\t\\t<\\/span>\\r\\n                                    <\\/div>\\r\\n\\r\\n\\r\\n                <div class=\\\"col search_price_discount_combined responsive_secondrow\\\" data-price-final=\\\"0\\\">\\r\\n                    <div class=\\\"col search_discount_and_price responsive_secondrow\\\">\\r\\n                        <div class=\\\"discount_block no_discount search_discount_block\\\">\\t<div class=\\\"discount_prices\\\">\\t\\t<div class=\\\"discount_final_price free\\\">Free<\\/div>\\t<\\/div><\\/div>                    <\\/div>\\r\\n                <\\/div>\\r\\n            <\\/div>\\r\\n\\r\\n\\r\\n            <div style=\\\"clear: left;\\\"><\\/div>\\r\\n        <\\/a>\\r\\n            \\r\\n\\t\\t\\t\\t\n",
      "=====\n"
     ]
    },
    {
     "name": "stderr",
     "output_type": "stream",
     "text": [
      " 30%|██████████████████████▎                                                   | 477/1583 [7:40:02<14:34:33, 47.44s/it]"
     ]
    },
    {
     "name": "stdout",
     "output_type": "stream",
     "text": [
      "[INFO] Cannot parse following info.\n",
      "<a href=\\\"https:\\/\\/store.steampowered.com\\/app\\/1452000\\/Its_Six_Random_Characters_and_a_Single_Floor_Dungeon_Thats_the_Whole_Game\\/?snr=1_7_7_230_150_478\\\"\\r\\n\\t\\t\\t data-ds-appid=\\\"1452000\\\" data-ds-itemkey=\\\"App_1452000\\\" data-ds-tagids=\\\"[3916,122,1720,4434,4182,1716,3964]\\\" onmouseover=\\\"GameHover( this, event, 'global_hover', {&quot;type&quot;:&quot;app&quot;,&quot;id&quot;:1452000,&quot;public&quot;:1,&quot;v6&quot;:1} );\\\" onmouseout=\\\"HideGameHover( this, event, 'global_hover' )\\\" class=\\\"search_result_row ds_collapse_flag \\\"\\r\\n\\t\\t   data-search-page=\\\"478\\\" data-gpnav=\\\"item\\\"\\r\\n\\t\\t   data-ds-steam-deck-compat-handled=\\\"true\\\">\\r\\n            <div class=\\\"col search_capsule\\\"><img src=\\\"https:\\/\\/cdn.cloudflare.steamstatic.com\\/steam\\/apps\\/1452000\\/capsule_sm_120.jpg?t=1604775558\\\" srcset=\\\"https:\\/\\/cdn.cloudflare.steamstatic.com\\/steam\\/apps\\/1452000\\/capsule_sm_120.jpg?t=1604775558 1x, https:\\/\\/cdn.cloudflare.steamstatic.com\\/steam\\/apps\\/1452000\\/capsule_231x87.jpg?t=1604775558 2x\\\"><\\/div>\\r\\n            <div class=\\\"responsive_search_name_combined\\\">\\r\\n                <div class=\\\"col search_name ellipsis\\\">\\r\\n                    <span class=\\\"title\\\">It's Six Random Characters and a Single Floor Dungeon, That's the Whole Game<\\/span>\\r\\n                    <div>\\r\\n                                                <span class=\\\"platform_img win\\\"><\\/span>                                            <\\/div>\\r\\n                <\\/div>\\r\\n                <div class=\\\"col search_released responsive_secondrow\\\">\\r\\n                    2 Nov, 2020                <\\/div>\\r\\n                <div class=\\\"col search_reviewscore responsive_secondrow\\\">\\r\\n                                            <span class=\\\"search_review_summary positive\\\" data-tooltip-html=\\\"Mostly Positive&lt;br&gt;72% of the 11 user reviews for this game are positive.\\\">\\r\\n\\t\\t\\t\\t\\t\\t\\t\\t<\\/span>\\r\\n                                    <\\/div>\\r\\n\\r\\n\\r\\n                <div class=\\\"col search_price_discount_combined responsive_secondrow\\\" data-price-final=\\\"199\\\">\\r\\n                    <div class=\\\"col search_discount_and_price responsive_secondrow\\\">\\r\\n                        <div class=\\\"discount_block search_discount_block\\\" data-price-final=\\\"199\\\" data-bundlediscount=\\\"0\\\" data-discount=\\\"50\\\"><div class=\\\"discount_pct\\\">-50%<\\/div><div class=\\\"discount_prices\\\"><div class=\\\"discount_original_price\\\">£3.99<\\/div><div class=\\\"discount_final_price\\\">£1.99<\\/div><\\/div><\\/div>                    <\\/div>\\r\\n                <\\/div>\\r\\n            <\\/div>\\r\\n\\r\\n\\r\\n            <div style=\\\"clear: left;\\\"><\\/div>\\r\\n        <\\/a>\\r\\n            \\r\\n\\t\\t\\t\\t\n",
      "=====\n"
     ]
    },
    {
     "name": "stderr",
     "output_type": "stream",
     "text": [
      " 30%|██████████████████████▌                                                   | 482/1583 [7:43:52<14:04:57, 46.05s/it]"
     ]
    },
    {
     "name": "stdout",
     "output_type": "stream",
     "text": [
      "[INFO] Cannot parse following info.\n",
      "<a href=\\\"https:\\/\\/store.steampowered.com\\/app\\/830490\\/Achievement_Lurker_You_are_going_to_have_to_work_hard_for_these_nuts\\/?snr=1_7_7_230_150_483\\\"\\r\\n\\t\\t\\t data-ds-appid=\\\"830490\\\" data-ds-itemkey=\\\"App_830490\\\" data-ds-tagids=\\\"[122,5577]\\\" data-ds-crtrids=\\\"[33090057]\\\" onmouseover=\\\"GameHover( this, event, 'global_hover', {&quot;type&quot;:&quot;app&quot;,&quot;id&quot;:830490,&quot;public&quot;:1,&quot;v6&quot;:1} );\\\" onmouseout=\\\"HideGameHover( this, event, 'global_hover' )\\\" class=\\\"search_result_row ds_collapse_flag \\\"\\r\\n\\t\\t   data-search-page=\\\"483\\\" data-gpnav=\\\"item\\\"\\r\\n\\t\\t   data-ds-steam-deck-compat-handled=\\\"true\\\">\\r\\n            <div class=\\\"col search_capsule\\\"><img src=\\\"https:\\/\\/cdn.cloudflare.steamstatic.com\\/steam\\/apps\\/830490\\/capsule_sm_120.jpg?t=1529429052\\\" srcset=\\\"https:\\/\\/cdn.cloudflare.steamstatic.com\\/steam\\/apps\\/830490\\/capsule_sm_120.jpg?t=1529429052 1x, https:\\/\\/cdn.cloudflare.steamstatic.com\\/steam\\/apps\\/830490\\/capsule_231x87.jpg?t=1529429052 2x\\\"><\\/div>\\r\\n            <div class=\\\"responsive_search_name_combined\\\">\\r\\n                <div class=\\\"col search_name ellipsis\\\">\\r\\n                    <span class=\\\"title\\\">Achievement Lurker: You are going to have to work hard for these nuts<\\/span>\\r\\n                    <div>\\r\\n                                                <span class=\\\"platform_img win\\\"><\\/span>                                            <\\/div>\\r\\n                <\\/div>\\r\\n                <div class=\\\"col search_released responsive_secondrow\\\">\\r\\n                    19 Jun, 2018                <\\/div>\\r\\n                <div class=\\\"col search_reviewscore responsive_secondrow\\\">\\r\\n                                            <span class=\\\"search_review_summary positive\\\" data-tooltip-html=\\\"Mostly Positive&lt;br&gt;73% of the 60 user reviews for this game are positive.\\\">\\r\\n\\t\\t\\t\\t\\t\\t\\t\\t<\\/span>\\r\\n                                    <\\/div>\\r\\n\\r\\n\\r\\n                <div class=\\\"col search_price_discount_combined responsive_secondrow\\\" data-price-final=\\\"65\\\">\\r\\n                    <div class=\\\"col search_discount_and_price responsive_secondrow\\\">\\r\\n                        <div class=\\\"discount_block search_discount_block\\\" data-price-final=\\\"65\\\" data-bundlediscount=\\\"0\\\" data-discount=\\\"62\\\"><div class=\\\"discount_pct\\\">-62%<\\/div><div class=\\\"discount_prices\\\"><div class=\\\"discount_original_price\\\">£1.69<\\/div><div class=\\\"discount_final_price\\\">£0.65<\\/div><\\/div><\\/div>                    <\\/div>\\r\\n                <\\/div>\\r\\n            <\\/div>\\r\\n\\r\\n\\r\\n            <div style=\\\"clear: left;\\\"><\\/div>\\r\\n        <\\/a>\\r\\n            \\r\\n\\t\\t\\t\\t\n",
      "=====\n"
     ]
    },
    {
     "name": "stderr",
     "output_type": "stream",
     "text": [
      " 31%|██████████████████████▊                                                   | 488/1583 [7:48:49<15:20:30, 50.44s/it]"
     ]
    },
    {
     "name": "stdout",
     "output_type": "stream",
     "text": [
      "[INFO] Cannot parse following info.\n",
      "<a href=\\\"https:\\/\\/store.steampowered.com\\/app\\/836290\\/Achievement_Lurker_Ballad_of_the_Shimapan_Warrior__King_of_Panties\\/?snr=1_7_7_230_150_489\\\"\\r\\n\\t\\t\\t data-ds-appid=\\\"836290\\\" data-ds-itemkey=\\\"App_836290\\\" data-ds-tagids=\\\"[21,122,492,5577]\\\" data-ds-crtrids=\\\"[33090057]\\\" onmouseover=\\\"GameHover( this, event, 'global_hover', {&quot;type&quot;:&quot;app&quot;,&quot;id&quot;:836290,&quot;public&quot;:1,&quot;v6&quot;:1} );\\\" onmouseout=\\\"HideGameHover( this, event, 'global_hover' )\\\" class=\\\"search_result_row ds_collapse_flag \\\"\\r\\n\\t\\t   data-search-page=\\\"489\\\" data-gpnav=\\\"item\\\"\\r\\n\\t\\t   data-ds-steam-deck-compat-handled=\\\"true\\\">\\r\\n            <div class=\\\"col search_capsule\\\"><img src=\\\"https:\\/\\/cdn.cloudflare.steamstatic.com\\/steam\\/apps\\/836290\\/capsule_sm_120.jpg?t=1530190403\\\" srcset=\\\"https:\\/\\/cdn.cloudflare.steamstatic.com\\/steam\\/apps\\/836290\\/capsule_sm_120.jpg?t=1530190403 1x, https:\\/\\/cdn.cloudflare.steamstatic.com\\/steam\\/apps\\/836290\\/capsule_231x87.jpg?t=1530190403 2x\\\"><\\/div>\\r\\n            <div class=\\\"responsive_search_name_combined\\\">\\r\\n                <div class=\\\"col search_name ellipsis\\\">\\r\\n                    <span class=\\\"title\\\">Achievement Lurker: Ballad of the Shimapan Warrior - King of Panties<\\/span>\\r\\n                    <div>\\r\\n                                                <span class=\\\"platform_img win\\\"><\\/span>                                            <\\/div>\\r\\n                <\\/div>\\r\\n                <div class=\\\"col search_released responsive_secondrow\\\">\\r\\n                    19 Jun, 2018                <\\/div>\\r\\n                <div class=\\\"col search_reviewscore responsive_secondrow\\\">\\r\\n                                            <span class=\\\"search_review_summary positive\\\" data-tooltip-html=\\\"Mostly Positive&lt;br&gt;75% of the 28 user reviews for this game are positive.\\\">\\r\\n\\t\\t\\t\\t\\t\\t\\t\\t<\\/span>\\r\\n                                    <\\/div>\\r\\n\\r\\n\\r\\n                <div class=\\\"col search_price_discount_combined responsive_secondrow\\\" data-price-final=\\\"65\\\">\\r\\n                    <div class=\\\"col search_discount_and_price responsive_secondrow\\\">\\r\\n                        <div class=\\\"discount_block search_discount_block\\\" data-price-final=\\\"65\\\" data-bundlediscount=\\\"0\\\" data-discount=\\\"62\\\"><div class=\\\"discount_pct\\\">-62%<\\/div><div class=\\\"discount_prices\\\"><div class=\\\"discount_original_price\\\">£1.69<\\/div><div class=\\\"discount_final_price\\\">£0.65<\\/div><\\/div><\\/div>                    <\\/div>\\r\\n                <\\/div>\\r\\n            <\\/div>\\r\\n\\r\\n\\r\\n            <div style=\\\"clear: left;\\\"><\\/div>\\r\\n        <\\/a>\\r\\n            \\r\\n\\t\\t\\t\\t\n",
      "=====\n"
     ]
    },
    {
     "name": "stderr",
     "output_type": "stream",
     "text": [
      " 33%|████████████████████████▊                                                  | 523/1583 [8:11:45<9:43:30, 33.03s/it]"
     ]
    },
    {
     "name": "stdout",
     "output_type": "stream",
     "text": [
      "[INFO] Cannot parse following info.\n",
      "<a href=\\\"https:\\/\\/store.steampowered.com\\/app\\/508910\\/Deus_Ex_Machina_Game_of_the_Year_30th_Anniversary_Collectors_Edition\\/?snr=1_7_7_230_150_524\\\"\\r\\n\\t\\t\\t data-ds-appid=\\\"508910\\\" data-ds-itemkey=\\\"App_508910\\\" data-ds-tagids=\\\"[492,1693,3964]\\\" onmouseover=\\\"GameHover( this, event, 'global_hover', {&quot;type&quot;:&quot;app&quot;,&quot;id&quot;:508910,&quot;public&quot;:1,&quot;v6&quot;:1} );\\\" onmouseout=\\\"HideGameHover( this, event, 'global_hover' )\\\" class=\\\"search_result_row ds_collapse_flag \\\"\\r\\n\\t\\t   data-search-page=\\\"524\\\" data-gpnav=\\\"item\\\"\\r\\n\\t\\t   data-ds-steam-deck-compat-handled=\\\"true\\\">\\r\\n            <div class=\\\"col search_capsule\\\"><img src=\\\"https:\\/\\/cdn.cloudflare.steamstatic.com\\/steam\\/apps\\/508910\\/capsule_sm_120.jpg?t=1475178091\\\" srcset=\\\"https:\\/\\/cdn.cloudflare.steamstatic.com\\/steam\\/apps\\/508910\\/capsule_sm_120.jpg?t=1475178091 1x, https:\\/\\/cdn.cloudflare.steamstatic.com\\/steam\\/apps\\/508910\\/capsule_231x87.jpg?t=1475178091 2x\\\"><\\/div>\\r\\n            <div class=\\\"responsive_search_name_combined\\\">\\r\\n                <div class=\\\"col search_name ellipsis\\\">\\r\\n                    <span class=\\\"title\\\">Deus Ex Machina, Game of the Year, 30th Anniversary Collector’s Edition<\\/span>\\r\\n                    <div>\\r\\n                                                <span class=\\\"platform_img win\\\"><\\/span><span class=\\\"platform_img mac\\\"><\\/span><span class=\\\"platform_img linux\\\"><\\/span>                                            <\\/div>\\r\\n                <\\/div>\\r\\n                <div class=\\\"col search_released responsive_secondrow\\\">\\r\\n                    29 Sep, 2016                <\\/div>\\r\\n                <div class=\\\"col search_reviewscore responsive_secondrow\\\">\\r\\n                                            <span class=\\\"search_review_summary positive\\\" data-tooltip-html=\\\"Positive&lt;br&gt;82% of the 29 user reviews for this game are positive.\\\">\\r\\n\\t\\t\\t\\t\\t\\t\\t\\t<\\/span>\\r\\n                                    <\\/div>\\r\\n\\r\\n\\r\\n                <div class=\\\"col search_price_discount_combined responsive_secondrow\\\" data-price-final=\\\"399\\\">\\r\\n                    <div class=\\\"col search_discount_and_price responsive_secondrow\\\">\\r\\n                        <div class=\\\"discount_block search_discount_block no_discount\\\" data-price-final=\\\"399\\\" data-bundlediscount=\\\"0\\\" data-discount=\\\"0\\\"><div class=\\\"discount_prices\\\"><div class=\\\"discount_final_price\\\">£3.99<\\/div><\\/div><\\/div>                    <\\/div>\\r\\n                <\\/div>\\r\\n            <\\/div>\\r\\n\\r\\n\\r\\n            <div style=\\\"clear: left;\\\"><\\/div>\\r\\n        <\\/a>\\r\\n            \\r\\n\\t\\t\\t\\t\n",
      "=====\n"
     ]
    },
    {
     "name": "stderr",
     "output_type": "stream",
     "text": [
      " 37%|███████████████████████████▏                                              | 582/1583 [10:49:07<9:46:49, 35.17s/it]"
     ]
    },
    {
     "name": "stdout",
     "output_type": "stream",
     "text": [
      "[INFO] Cannot parse following info.\n",
      "<a href=\\\"https:\\/\\/store.steampowered.com\\/app\\/2243920\\/The_2nd_page_of_the_medical_examination_diary_Another_story_of_exciting_days_of_me_and_my_senpai\\/?snr=1_7_7_230_150_583\\\"\\r\\n\\t\\t\\t data-ds-appid=\\\"2243920\\\" data-ds-itemkey=\\\"App_2243920\\\" data-ds-tagids=\\\"[21,12095,3799,4726,4085,492,4947]\\\" data-ds-descids=\\\"[1,5]\\\" data-ds-crtrids=\\\"[42307339]\\\" onmouseover=\\\"GameHover( this, event, 'global_hover', {&quot;type&quot;:&quot;app&quot;,&quot;id&quot;:2243920,&quot;public&quot;:1,&quot;v6&quot;:1} );\\\" onmouseout=\\\"HideGameHover( this, event, 'global_hover' )\\\" class=\\\"search_result_row ds_collapse_flag \\\"\\r\\n\\t\\t   data-search-page=\\\"583\\\" data-gpnav=\\\"item\\\"\\r\\n\\t\\t   data-ds-steam-deck-compat-handled=\\\"true\\\">\\r\\n            <div class=\\\"col search_capsule\\\"><img src=\\\"https:\\/\\/cdn.cloudflare.steamstatic.com\\/steam\\/apps\\/2243920\\/capsule_sm_120.jpg?t=1675317886\\\" srcset=\\\"https:\\/\\/cdn.cloudflare.steamstatic.com\\/steam\\/apps\\/2243920\\/capsule_sm_120.jpg?t=1675317886 1x, https:\\/\\/cdn.cloudflare.steamstatic.com\\/steam\\/apps\\/2243920\\/capsule_231x87.jpg?t=1675317886 2x\\\"><\\/div>\\r\\n            <div class=\\\"responsive_search_name_combined\\\">\\r\\n                <div class=\\\"col search_name ellipsis\\\">\\r\\n                    <span class=\\\"title\\\">The 2nd page of the medical examination diary: Another story of exciting days of me and my senpai<\\/span>\\r\\n                    <div>\\r\\n                                                <span class=\\\"platform_img win\\\"><\\/span>                                            <\\/div>\\r\\n                <\\/div>\\r\\n                <div class=\\\"col search_released responsive_secondrow\\\">\\r\\n                    1 Feb, 2023                <\\/div>\\r\\n                <div class=\\\"col search_reviewscore responsive_secondrow\\\">\\r\\n                                            <span class=\\\"search_review_summary positive\\\" data-tooltip-html=\\\"Mostly Positive&lt;br&gt;76% of the 34 user reviews for this game are positive.\\\">\\r\\n\\t\\t\\t\\t\\t\\t\\t\\t<\\/span>\\r\\n                                    <\\/div>\\r\\n\\r\\n\\r\\n                <div class=\\\"col search_price_discount_combined responsive_secondrow\\\" data-price-final=\\\"849\\\">\\r\\n                    <div class=\\\"col search_discount_and_price responsive_secondrow\\\">\\r\\n                        <div class=\\\"discount_block search_discount_block\\\" data-price-final=\\\"849\\\" data-bundlediscount=\\\"0\\\" data-discount=\\\"15\\\"><div class=\\\"discount_pct\\\">-15%<\\/div><div class=\\\"discount_prices\\\"><div class=\\\"discount_original_price\\\">£9.99<\\/div><div class=\\\"discount_final_price\\\">£8.49<\\/div><\\/div><\\/div>                    <\\/div>\\r\\n                <\\/div>\\r\\n            <\\/div>\\r\\n\\r\\n\\r\\n            <div style=\\\"clear: left;\\\"><\\/div>\\r\\n        <\\/a>\\r\\n            \\r\\n\\t\\t\\t\\t\n",
      "=====\n"
     ]
    },
    {
     "name": "stderr",
     "output_type": "stream",
     "text": [
      " 37%|██████████████████████████▊                                             | 589/1583 [11:14:05<82:08:08, 297.47s/it]"
     ]
    },
    {
     "name": "stdout",
     "output_type": "stream",
     "text": [
      "[INFO] Cannot parse following info.\n",
      "<a href=\\\"https:\\/\\/store.steampowered.com\\/app\\/1129650\\/Lodestone___The_crazy_cave_adventures_of_mad_Stony_Tony_and_his_encounter_with_the_exploding_rolling_stones\\/?snr=1_7_7_230_150_590\\\"\\r\\n\\t\\t\\t data-ds-appid=\\\"1129650\\\" data-ds-itemkey=\\\"App_1129650\\\" data-ds-tagids=\\\"[113,19,492,21,4667,21978]\\\" data-ds-descids=\\\"[2,5]\\\" onmouseover=\\\"GameHover( this, event, 'global_hover', {&quot;type&quot;:&quot;app&quot;,&quot;id&quot;:1129650,&quot;public&quot;:1,&quot;v6&quot;:1} );\\\" onmouseout=\\\"HideGameHover( this, event, 'global_hover' )\\\" class=\\\"search_result_row ds_collapse_flag \\\"\\r\\n\\t\\t   data-search-page=\\\"590\\\" data-gpnav=\\\"item\\\"\\r\\n\\t\\t   data-ds-steam-deck-compat-handled=\\\"true\\\">\\r\\n            <div class=\\\"col search_capsule\\\"><img src=\\\"https:\\/\\/cdn.cloudflare.steamstatic.com\\/steam\\/apps\\/1129650\\/capsule_sm_120.jpg?t=1657543335\\\" srcset=\\\"https:\\/\\/cdn.cloudflare.steamstatic.com\\/steam\\/apps\\/1129650\\/capsule_sm_120.jpg?t=1657543335 1x, https:\\/\\/cdn.cloudflare.steamstatic.com\\/steam\\/apps\\/1129650\\/capsule_231x87.jpg?t=1657543335 2x\\\"><\\/div>\\r\\n            <div class=\\\"responsive_search_name_combined\\\">\\r\\n                <div class=\\\"col search_name ellipsis\\\">\\r\\n                    <span class=\\\"title\\\">Lodestone -  The crazy cave adventures of mad Stony Tony and his encounter with the exploding rolling stones<\\/span>\\r\\n                    <div>\\r\\n                                                <span class=\\\"platform_img win\\\"><\\/span><span class=\\\"vr_required\\\">VR Only<\\/span>                                            <\\/div>\\r\\n                <\\/div>\\r\\n                <div class=\\\"col search_released responsive_secondrow\\\">\\r\\n                    30 Oct, 2019                <\\/div>\\r\\n                <div class=\\\"col search_reviewscore responsive_secondrow\\\">\\r\\n                                            <span class=\\\"search_review_summary positive\\\" data-tooltip-html=\\\"Positive&lt;br&gt;84% of the 33 user reviews for this game are positive.\\\">\\r\\n\\t\\t\\t\\t\\t\\t\\t\\t<\\/span>\\r\\n                                    <\\/div>\\r\\n\\r\\n\\r\\n                <div class=\\\"col search_price_discount_combined responsive_secondrow\\\" data-price-final=\\\"0\\\">\\r\\n                    <div class=\\\"col search_discount_and_price responsive_secondrow\\\">\\r\\n                        <div class=\\\"discount_block no_discount search_discount_block\\\">\\t<div class=\\\"discount_prices\\\">\\t\\t<div class=\\\"discount_final_price free\\\">Free<\\/div>\\t<\\/div><\\/div>                    <\\/div>\\r\\n                <\\/div>\\r\\n            <\\/div>\\r\\n\\r\\n\\r\\n            <div style=\\\"clear: left;\\\"><\\/div>\\r\\n        <\\/a>\\r\\n            \\r\\n\\t\\t\\t\\t\n",
      "=====\n"
     ]
    },
    {
     "name": "stderr",
     "output_type": "stream",
     "text": [
      " 39%|████████████████████████████▋                                             | 615/1583 [11:27:54<8:14:01, 30.62s/it]"
     ]
    },
    {
     "name": "stdout",
     "output_type": "stream",
     "text": [
      "[INFO] Cannot parse following info.\n",
      "<a href=\\\"https:\\/\\/store.steampowered.com\\/app\\/222618\\/Train_Simulator_East_Coast_Main_Line_LondonPeterborough_Route_AddOn\\/?snr=1_7_7_230_150_616\\\"\\r\\n\\t\\t\\t data-ds-appid=\\\"222618\\\" data-ds-itemkey=\\\"App_222618\\\" data-ds-tagids=\\\"[599,1616]\\\" data-ds-crtrids=\\\"[32976291,44272646]\\\" onmouseover=\\\"GameHover( this, event, 'global_hover', {&quot;type&quot;:&quot;app&quot;,&quot;id&quot;:222618,&quot;public&quot;:1,&quot;v6&quot;:1} );\\\" onmouseout=\\\"HideGameHover( this, event, 'global_hover' )\\\" class=\\\"search_result_row ds_collapse_flag \\\"\\r\\n\\t\\t   data-search-page=\\\"616\\\" data-gpnav=\\\"item\\\"\\r\\n\\t\\t   data-ds-steam-deck-compat-handled=\\\"true\\\">\\r\\n            <div class=\\\"col search_capsule\\\"><img src=\\\"https:\\/\\/cdn.cloudflare.steamstatic.com\\/steam\\/apps\\/222618\\/capsule_sm_120.jpg?t=1493805887\\\" srcset=\\\"https:\\/\\/cdn.cloudflare.steamstatic.com\\/steam\\/apps\\/222618\\/capsule_sm_120.jpg?t=1493805887 1x, https:\\/\\/cdn.cloudflare.steamstatic.com\\/steam\\/apps\\/222618\\/capsule_231x87.jpg?t=1493805887 2x\\\"><\\/div>\\r\\n            <div class=\\\"responsive_search_name_combined\\\">\\r\\n                <div class=\\\"col search_name ellipsis\\\">\\r\\n                    <span class=\\\"title\\\">Train Simulator: East Coast Main Line London-Peterborough Route Add-On<\\/span>\\r\\n                    <div>\\r\\n                                                <span class=\\\"platform_img win\\\"><\\/span>                                            <\\/div>\\r\\n                <\\/div>\\r\\n                <div class=\\\"col search_released responsive_secondrow\\\">\\r\\n                    5 Dec, 2013                <\\/div>\\r\\n                <div class=\\\"col search_reviewscore responsive_secondrow\\\">\\r\\n                                            <span class=\\\"search_review_summary positive\\\" data-tooltip-html=\\\"Positive&lt;br&gt;84% of the 38 user reviews for this game are positive.\\\">\\r\\n\\t\\t\\t\\t\\t\\t\\t\\t<\\/span>\\r\\n                                    <\\/div>\\r\\n\\r\\n\\r\\n                <div class=\\\"col search_price_discount_combined responsive_secondrow\\\" data-price-final=\\\"749\\\">\\r\\n                    <div class=\\\"col search_discount_and_price responsive_secondrow\\\">\\r\\n                        <div class=\\\"discount_block search_discount_block\\\" data-price-final=\\\"749\\\" data-bundlediscount=\\\"0\\\" data-discount=\\\"50\\\"><div class=\\\"discount_pct\\\">-50%<\\/div><div class=\\\"discount_prices\\\"><div class=\\\"discount_original_price\\\">£14.99<\\/div><div class=\\\"discount_final_price\\\">£7.49<\\/div><\\/div><\\/div>                    <\\/div>\\r\\n                <\\/div>\\r\\n            <\\/div>\\r\\n\\r\\n\\r\\n            <div style=\\\"clear: left;\\\"><\\/div>\\r\\n        <\\/a>\\r\\n            \\r\\n\\t\\t\\t\\t\n",
      "=====\n"
     ]
    },
    {
     "name": "stderr",
     "output_type": "stream",
     "text": [
      " 40%|█████████████████████████████▊                                            | 638/1583 [11:41:27<9:21:36, 35.66s/it]"
     ]
    },
    {
     "name": "stdout",
     "output_type": "stream",
     "text": [
      "[INFO] Cannot parse following info.\n",
      "<a href=\\\"https:\\/\\/store.steampowered.com\\/app\\/374010\\/Sherlock_Holmes_Consulting_Detective_The_Case_of_the_Mummys_Curse\\/?snr=1_7_7_230_150_639\\\"\\r\\n\\t\\t\\t data-ds-appid=\\\"374010\\\" data-ds-itemkey=\\\"App_374010\\\" data-ds-tagids=\\\"[21,18594,5613]\\\" onmouseover=\\\"GameHover( this, event, 'global_hover', {&quot;type&quot;:&quot;app&quot;,&quot;id&quot;:374010,&quot;public&quot;:1,&quot;v6&quot;:1} );\\\" onmouseout=\\\"HideGameHover( this, event, 'global_hover' )\\\" class=\\\"search_result_row ds_collapse_flag \\\"\\r\\n\\t\\t   data-search-page=\\\"639\\\" data-gpnav=\\\"item\\\"\\r\\n\\t\\t   data-ds-steam-deck-compat-handled=\\\"true\\\">\\r\\n            <div class=\\\"col search_capsule\\\"><img src=\\\"https:\\/\\/cdn.cloudflare.steamstatic.com\\/steam\\/apps\\/374010\\/capsule_sm_120.jpg?t=1693615151\\\" srcset=\\\"https:\\/\\/cdn.cloudflare.steamstatic.com\\/steam\\/apps\\/374010\\/capsule_sm_120.jpg?t=1693615151 1x, https:\\/\\/cdn.cloudflare.steamstatic.com\\/steam\\/apps\\/374010\\/capsule_231x87.jpg?t=1693615151 2x\\\"><\\/div>\\r\\n            <div class=\\\"responsive_search_name_combined\\\">\\r\\n                <div class=\\\"col search_name ellipsis\\\">\\r\\n                    <span class=\\\"title\\\">Sherlock Holmes Consulting Detective: The Case of the Mummy's Curse<\\/span>\\r\\n                    <div>\\r\\n                                                <span class=\\\"platform_img win\\\"><\\/span><span class=\\\"platform_img mac\\\"><\\/span>                                            <\\/div>\\r\\n                <\\/div>\\r\\n                <div class=\\\"col search_released responsive_secondrow\\\">\\r\\n                    8 Jun, 2015                <\\/div>\\r\\n                <div class=\\\"col search_reviewscore responsive_secondrow\\\">\\r\\n                                            <span class=\\\"search_review_summary mixed\\\" data-tooltip-html=\\\"Mixed&lt;br&gt;69% of the 49 user reviews for this game are positive.\\\">\\r\\n\\t\\t\\t\\t\\t\\t\\t\\t<\\/span>\\r\\n                                    <\\/div>\\r\\n\\r\\n\\r\\n                <div class=\\\"col search_price_discount_combined responsive_secondrow\\\" data-price-final=\\\"289\\\">\\r\\n                    <div class=\\\"col search_discount_and_price responsive_secondrow\\\">\\r\\n                        <div class=\\\"discount_block search_discount_block no_discount\\\" data-price-final=\\\"289\\\" data-bundlediscount=\\\"0\\\" data-discount=\\\"0\\\"><div class=\\\"discount_prices\\\"><div class=\\\"discount_final_price\\\">£2.89<\\/div><\\/div><\\/div>                    <\\/div>\\r\\n                <\\/div>\\r\\n            <\\/div>\\r\\n\\r\\n\\r\\n            <div style=\\\"clear: left;\\\"><\\/div>\\r\\n        <\\/a>\\r\\n            \\r\\n\\t\\t\\t\\t\n",
      "=====\n"
     ]
    },
    {
     "name": "stderr",
     "output_type": "stream",
     "text": [
      " 41%|██████████████████████████████▌                                           | 653/1583 [11:50:20<9:11:45, 35.60s/it]"
     ]
    },
    {
     "name": "stdout",
     "output_type": "stream",
     "text": [
      "[INFO] Cannot parse following info.\n",
      "<a href=\\\"https:\\/\\/store.steampowered.com\\/app\\/1761740\\/My_Cashy_Side_Job_at_LostFound_in_the_Subway_of_MillionPerson_City\\/?snr=1_7_7_230_150_654\\\"\\r\\n\\t\\t\\t data-ds-appid=\\\"1761740\\\" data-ds-itemkey=\\\"App_1761740\\\" data-ds-tagids=\\\"[21,3799,6052,5984,3871,5673,6815]\\\" data-ds-descids=\\\"[2,5]\\\" data-ds-crtrids=\\\"[41216788]\\\" onmouseover=\\\"GameHover( this, event, 'global_hover', {&quot;type&quot;:&quot;app&quot;,&quot;id&quot;:1761740,&quot;public&quot;:1,&quot;v6&quot;:1} );\\\" onmouseout=\\\"HideGameHover( this, event, 'global_hover' )\\\" class=\\\"search_result_row ds_collapse_flag \\\"\\r\\n\\t\\t   data-search-page=\\\"654\\\" data-gpnav=\\\"item\\\"\\r\\n\\t\\t   data-ds-steam-deck-compat-handled=\\\"true\\\">\\r\\n            <div class=\\\"col search_capsule\\\"><img src=\\\"https:\\/\\/cdn.cloudflare.steamstatic.com\\/steam\\/apps\\/1761740\\/capsule_sm_120.jpg?t=1690666137\\\" srcset=\\\"https:\\/\\/cdn.cloudflare.steamstatic.com\\/steam\\/apps\\/1761740\\/capsule_sm_120.jpg?t=1690666137 1x, https:\\/\\/cdn.cloudflare.steamstatic.com\\/steam\\/apps\\/1761740\\/capsule_231x87.jpg?t=1690666137 2x\\\"><\\/div>\\r\\n            <div class=\\\"responsive_search_name_combined\\\">\\r\\n                <div class=\\\"col search_name ellipsis\\\">\\r\\n                    <span class=\\\"title\\\">My Cashy Side Job at Lost&amp;Found in the Subway of Million-Person City<\\/span>\\r\\n                    <div>\\r\\n                                                <span class=\\\"platform_img win\\\"><\\/span><span class=\\\"platform_img mac\\\"><\\/span><span class=\\\"platform_img linux\\\"><\\/span>                                            <\\/div>\\r\\n                <\\/div>\\r\\n                <div class=\\\"col search_released responsive_secondrow\\\">\\r\\n                    25 Nov, 2021                <\\/div>\\r\\n                <div class=\\\"col search_reviewscore responsive_secondrow\\\">\\r\\n                                            <span class=\\\"search_review_summary positive\\\" data-tooltip-html=\\\"Mostly Positive&lt;br&gt;76% of the 34 user reviews for this game are positive.\\\">\\r\\n\\t\\t\\t\\t\n",
      "=====\n"
     ]
    },
    {
     "name": "stderr",
     "output_type": "stream",
     "text": [
      " 43%|███████████████████████████████▊                                          | 680/1583 [12:05:54<8:42:18, 34.70s/it]"
     ]
    },
    {
     "name": "stdout",
     "output_type": "stream",
     "text": [
      "[INFO] Cannot parse following info.\n",
      "<a href=\\\"https:\\/\\/store.steampowered.com\\/app\\/907350\\/Welcome_To_Chichester_2__Part_I__The_Spy_Of_Chichester_And_The_Eager_Tourist_Guide_HD_Edition\\/?snr=1_7_7_230_150_681\\\"\\r\\n\\t\\t\\t data-ds-appid=\\\"907350\\\" data-ds-itemkey=\\\"App_907350\\\" data-ds-tagids=\\\"[3799,597,492,21,113,12095,4667]\\\" data-ds-descids=\\\"[1,2,5]\\\" data-ds-crtrids=\\\"[33590224]\\\" onmouseover=\\\"GameHover( this, event, 'global_hover', {&quot;type&quot;:&quot;app&quot;,&quot;id&quot;:907350,&quot;public&quot;:1,&quot;v6&quot;:1} );\\\" onmouseout=\\\"HideGameHover( this, event, 'global_hover' )\\\" class=\\\"search_result_row ds_collapse_flag \\\"\\r\\n\\t\\t   data-search-page=\\\"681\\\" data-gpnav=\\\"item\\\"\\r\\n\\t\\t   data-ds-steam-deck-compat-handled=\\\"true\\\">\\r\\n            <div class=\\\"col search_capsule\\\"><img src=\\\"https:\\/\\/cdn.cloudflare.steamstatic.com\\/steam\\/apps\\/907350\\/capsule_sm_120.jpg?t=1658931193\\\" srcset=\\\"https:\\/\\/cdn.cloudflare.steamstatic.com\\/steam\\/apps\\/907350\\/capsule_sm_120.jpg?t=1658931193 1x, https:\\/\\/cdn.cloudflare.steamstatic.com\\/steam\\/apps\\/907350\\/capsule_231x87.jpg?t=1658931193 2x\\\"><\\/div>\\r\\n            <div class=\\\"responsive_search_name_combined\\\">\\r\\n                <div class=\\\"col search_name ellipsis\\\">\\r\\n                    <span class=\\\"title\\\">Welcome To... Chichester 2 - Part I : The Spy Of Chichester And The Eager Tourist Guide HD Edition<\\/span>\\r\\n                    <div>\\r\\n                                                <span class=\\\"platform_img win\\\"><\\/span><span class=\\\"platform_img mac\\\"><\\/span><span class=\\\"platform_img linux\\\"><\\/span>                                            <\\/div>\\r\\n                <\\/div>\\r\\n                <div class=\\\"col search_released responsive_secondrow\\\">\\r\\n                    3 Aug, 2018                <\\/div>\\r\\n                <div class=\\\"col search_reviewscore responsive_secondrow\\\">\\r\\n                                            <span class=\\\"search_review_summary positive\\\" data-tooltip-html=\\\"Mostly Positive&lt;br&gt;78% of the 37 user reviews for this game are positive.\\\">\\r\\n\\t\\t\\t\\t\\t\\t\\t\\t<\\/span>\\r\\n                                    <\\/div>\\r\\n\\r\\n\\r\\n                <div class=\\\"col search_price_discount_combined responsive_secondrow\\\" data-price-final=\\\"0\\\">\\r\\n                    <div class=\\\"col search_discount_and_price responsive_secondrow\\\">\\r\\n                        <div class=\\\"discount_block no_discount search_discount_block\\\">\\t<div class=\\\"discount_prices\\\">\\t\\t<div class=\\\"discount_final_price free\\\">Free<\\/div>\\t<\\/div><\\/div>                    <\\/div>\\r\\n                <\\/div>\\r\\n            <\\/div>\\r\\n\\r\\n\\r\\n            <div style=\\\"clear: left;\\\"><\\/div>\\r\\n        <\\/a>\\r\\n            \\r\\n\\t\\t\\t\\t\n",
      "=====\n"
     ]
    },
    {
     "name": "stderr",
     "output_type": "stream",
     "text": [
      " 44%|████████████████████████████████▎                                         | 691/1583 [12:11:48<7:48:20, 31.50s/it]"
     ]
    },
    {
     "name": "stdout",
     "output_type": "stream",
     "text": [
      "[INFO] Cannot parse following info.\n",
      "<a href=\\\"https:\\/\\/store.steampowered.com\\/app\\/963770\\/Welcome_To_Chichester_1Redux__The_Spy_Of_America_And_The_Long_Vacation\\/?snr=1_7_7_230_150_692\\\"\\r\\n\\t\\t\\t data-ds-appid=\\\"963770\\\" data-ds-itemkey=\\\"App_963770\\\" data-ds-tagids=\\\"[3799,21,5984,597,492,4667,1719]\\\" data-ds-descids=\\\"[2,5]\\\" data-ds-crtrids=\\\"[33590224]\\\" onmouseover=\\\"GameHover( this, event, 'global_hover', {&quot;type&quot;:&quot;app&quot;,&quot;id&quot;:963770,&quot;public&quot;:1,&quot;v6&quot;:1} );\\\" onmouseout=\\\"HideGameHover( this, event, 'global_hover' )\\\" class=\\\"search_result_row ds_collapse_flag \\\"\\r\\n\\t\\t   data-search-page=\\\"692\\\" data-gpnav=\\\"item\\\"\\r\\n\\t\\t   data-ds-steam-deck-compat-handled=\\\"true\\\">\\r\\n            <div class=\\\"col search_capsule\\\"><img src=\\\"https:\\/\\/cdn.cloudflare.steamstatic.com\\/steam\\/apps\\/963770\\/capsule_sm_120.jpg?t=1674247149\\\" srcset=\\\"https:\\/\\/cdn.cloudflare.steamstatic.com\\/steam\\/apps\\/963770\\/capsule_sm_120.jpg?t=1674247149 1x, https:\\/\\/cdn.cloudflare.steamstatic.com\\/steam\\/apps\\/963770\\/capsule_231x87.jpg?t=1674247149 2x\\\"><\\/div>\\r\\n            <div class=\\\"responsive_search_name_combined\\\">\\r\\n                <div class=\\\"col search_name ellipsis\\\">\\r\\n                    <span class=\\\"title\\\">Welcome To... Chichester 1\\/Redux : The Spy Of America And The Long Vacation<\\/span>\\r\\n                    <div>\\r\\n                                                <span class=\\\"platform_img win\\\"><\\/span><span class=\\\"platform_img mac\\\"><\\/span><span class=\\\"platform_img linux\\\"><\\/span>                                            <\\/div>\\r\\n                <\\/div>\\r\\n                <div class=\\\"col search_released responsive_secondrow\\\">\\r\\n                    29 Jan, 2019                <\\/div>\\r\\n                <div class=\\\"col search_reviewscore responsive_secondrow\\\">\\r\\n                                            <span class=\\\"search_review_summary positive\\\" data-tooltip-html=\\\"Mostly Positive&lt;br&gt;75% of the 29 user reviews for this game are positive.\\\">\\r\\n\\t\\t\\t\\t\\t\\t\\t\\t<\\/span>\\r\\n                                    <\\/div>\\r\\n\\r\\n\\r\\n                <div class=\\\"col search_price_discount_combined responsive_secondrow\\\" data-price-final=\\\"0\\\">\\r\\n                    <div class=\\\"col search_discount_and_price responsive_secondrow\\\">\\r\\n                        <div class=\\\"discount_block no_discount search_discount_block\\\">\\t<div class=\\\"discount_prices\\\">\\t\\t<div class=\\\"discount_final_price free\\\">Free<\\/div>\\t<\\/div><\\/div>                    <\\/div>\\r\\n                <\\/div>\\r\\n            <\\/div>\\r\\n\\r\\n\\r\\n            <div style=\\\"clear: left;\\\"><\\/div>\\r\\n        <\\/a>\\r\\n            \\r\\n\\t\\t\\t\\t\n",
      "=====\n"
     ]
    },
    {
     "name": "stderr",
     "output_type": "stream",
     "text": [
      " 44%|████████████████████████████████▊                                         | 702/1583 [12:17:16<7:18:37, 29.87s/it]"
     ]
    },
    {
     "name": "stdout",
     "output_type": "stream",
     "text": [
      "[INFO] Cannot parse following info.\n",
      "<a href=\\\"https:\\/\\/store.steampowered.com\\/app\\/1414090\\/Buddi_Bot__Your_Machine_Learning_AI_Helper_With_Advanced_Neural_Networking\\/?snr=1_7_7_230_150_703\\\"\\r\\n\\t\\t\\t data-ds-appid=\\\"1414090\\\" data-ds-itemkey=\\\"App_1414090\\\" data-ds-tagids=\\\"[597,1664,1036,4182,1698,4191,4195]\\\" onmouseover=\\\"GameHover( this, event, 'global_hover', {&quot;type&quot;:&quot;app&quot;,&quot;id&quot;:1414090,&quot;public&quot;:1,&quot;v6&quot;:1} );\\\" onmouseout=\\\"HideGameHover( this, event, 'global_hover' )\\\" class=\\\"search_result_row ds_collapse_flag \\\"\\r\\n\\t\\t   data-search-page=\\\"703\\\" data-gpnav=\\\"item\\\"\\r\\n\\t\\t   data-ds-steam-deck-compat-handled=\\\"true\\\">\\r\\n            <div class=\\\"col search_capsule\\\"><img src=\\\"https:\\/\\/cdn.cloudflare.steamstatic.com\\/steam\\/apps\\/1414090\\/capsule_sm_120.jpg?t=1641921200\\\" srcset=\\\"https:\\/\\/cdn.cloudflare.steamstatic.com\\/steam\\/apps\\/1414090\\/capsule_sm_120.jpg?t=1641921200 1x, https:\\/\\/cdn.cloudflare.steamstatic.com\\/steam\\/apps\\/1414090\\/capsule_231x87.jpg?t=1641921200 2x\\\"><\\/div>\\r\\n            <div class=\\\"responsive_search_name_combined\\\">\\r\\n                <div class=\\\"col search_name ellipsis\\\">\\r\\n                    <span class=\\\"title\\\">Buddi Bot:  Your Machine Learning AI Helper With Advanced Neural Networking!<\\/span>\\r\\n                    <div>\\r\\n                                                <span class=\\\"platform_img win\\\"><\\/span><span class=\\\"platform_img mac\\\"><\\/span>                                            <\\/div>\\r\\n                <\\/div>\\r\\n                <div class=\\\"col search_released responsive_secondrow\\\">\\r\\n                    29 Sep, 2020                <\\/div>\\r\\n                <div class=\\\"col search_reviewscore responsive_secondrow\\\">\\r\\n                                            <span class=\\\"search_review_summary positive\\\" data-tooltip-html=\\\"Mostly Positive&lt;br&gt;76% of the 17 user reviews for this game are positive.\\\">\\r\\n\\t\\t\\t\\t\\t\\t\\t\\t<\\/span>\\r\\n                                    <\\/div>\\r\\n\\r\\n\\r\\n                <div class=\\\"col search_price_discount_combined responsive_secondrow\\\" data-price-final=\\\"0\\\">\\r\\n                    <div class=\\\"col search_discount_and_price responsive_secondrow\\\">\\r\\n                        <div class=\\\"discount_block no_discount search_discount_block\\\">\\t<div class=\\\"discount_prices\\\">\\t\\t<div class=\\\"discount_final_price free\\\">Free<\\/div>\\t<\\/div><\\/div>                    <\\/div>\\r\\n                <\\/div>\\r\\n            <\\/div>\\r\\n\\r\\n\\r\\n            <div style=\\\"clear: left;\\\"><\\/div>\\r\\n        <\\/a>\\r\\n            \\r\\n\\t\\t\\t\\t\n",
      "=====\n"
     ]
    },
    {
     "name": "stderr",
     "output_type": "stream",
     "text": [
      " 45%|█████████████████████████████████▎                                        | 713/1583 [12:23:06<7:53:13, 32.64s/it]"
     ]
    },
    {
     "name": "stdout",
     "output_type": "stream",
     "text": [
      "[INFO] Cannot parse following info.\n",
      "<a href=\\\"https:\\/\\/store.steampowered.com\\/app\\/222160\\/Hamlet_or_the_Last_Game_without_MMORPG_Features_Shaders_and_Product_Placement\\/?snr=1_7_7_230_150_714\\\"\\r\\n\\t\\t\\t data-ds-appid=\\\"222160\\\" data-ds-itemkey=\\\"App_222160\\\" data-ds-tagids=\\\"[21,492,1698,1664,4234,1719,3871]\\\" data-ds-crtrids=\\\"[32980097]\\\" onmouseover=\\\"GameHover( this, event, 'global_hover', {&quot;type&quot;:&quot;app&quot;,&quot;id&quot;:222160,&quot;public&quot;:1,&quot;v6&quot;:1} );\\\" onmouseout=\\\"HideGameHover( this, event, 'global_hover' )\\\" class=\\\"search_result_row ds_collapse_flag \\\"\\r\\n\\t\\t   data-search-page=\\\"714\\\" data-gpnav=\\\"item\\\"\\r\\n\\t\\t   data-ds-steam-deck-compat-handled=\\\"true\\\">\\r\\n            <div class=\\\"col search_capsule\\\"><img src=\\\"https:\\/\\/cdn.cloudflare.steamstatic.com\\/steam\\/apps\\/222160\\/capsule_sm_120.jpg?t=1679637380\\\" srcset=\\\"https:\\/\\/cdn.cloudflare.steamstatic.com\\/steam\\/apps\\/222160\\/capsule_sm_120.jpg?t=1679637380 1x, https:\\/\\/cdn.cloudflare.steamstatic.com\\/steam\\/apps\\/222160\\/capsule_231x87.jpg?t=1679637380 2x\\\"><\\/div>\\r\\n            <div class=\\\"responsive_search_name_combined\\\">\\r\\n                <div class=\\\"col search_name ellipsis\\\">\\r\\n                    <span class=\\\"title\\\">Hamlet or the Last Game without MMORPG Features, Shaders and Product Placement<\\/span>\\r\\n                    <div>\\r\\n                                                <span class=\\\"platform_img win\\\"><\\/span>                                            <\\/div>\\r\\n                <\\/div>\\r\\n                <div class=\\\"col search_released responsive_secondrow\\\">\\r\\n                    22 Oct, 2012                <\\/div>\\r\\n                <div class=\\\"col search_reviewscore responsive_secondrow\\\">\\r\\n                                            <span class=\\\"search_review_summary mixed\\\" data-tooltip-html=\\\"Mixed&lt;br&gt;65% of the 314 user reviews for this game are positive.\\\">\\r\\n\\t\\t\\t\\t\\t\\t\\t\\t<\\/span>\\r\\n                                    <\\/div>\\r\\n\\r\\n\\r\\n                <div class=\\\"col search_price_discount_combined responsive_secondrow\\\" data-price-final=\\\"85\\\">\\r\\n                    <div class=\\\"col search_discount_and_price responsive_secondrow\\\">\\r\\n                        <div class=\\\"discount_block search_discount_block\\\" data-price-final=\\\"85\\\" data-bundlediscount=\\\"0\\\" data-discount=\\\"80\\\"><div class=\\\"discount_pct\\\">-80%<\\/div><div class=\\\"discount_prices\\\"><div class=\\\"discount_original_price\\\">£4.29<\\/div><div class=\\\"discount_final_price\\\">£0.85<\\/div><\\/div><\\/div>                    <\\/div>\\r\\n                <\\/div>\\r\\n            <\\/div>\\r\\n\\r\\n\\r\\n            <div style=\\\"clear: left;\\\"><\\/div>\\r\\n        <\\/a>\\r\\n            \\r\\n\\t\\t\\t\\t\n",
      "=====\n"
     ]
    },
    {
     "name": "stderr",
     "output_type": "stream",
     "text": [
      " 50%|████████████████████████████████████▋                                     | 785/1583 [13:02:51<6:31:21, 29.43s/it]"
     ]
    },
    {
     "name": "stdout",
     "output_type": "stream",
     "text": [
      "[INFO] Cannot parse following info.\n",
      "<a href=\\\"https:\\/\\/store.steampowered.com\\/app\\/908500\\/crazy_maze_____Laberinto_loco__Labyrinthe_fou__Verrcktes_Labyrinth\\/?snr=1_7_7_230_150_786\\\"\\r\\n\\t\\t\\t data-ds-appid=\\\"908500\\\" data-ds-itemkey=\\\"App_908500\\\" data-ds-tagids=\\\"[597,492,9,21]\\\" onmouseover=\\\"GameHover( this, event, 'global_hover', {&quot;type&quot;:&quot;app&quot;,&quot;id&quot;:908500,&quot;public&quot;:1,&quot;v6&quot;:1} );\\\" onmouseout=\\\"HideGameHover( this, event, 'global_hover' )\\\" class=\\\"search_result_row ds_collapse_flag \\\"\\r\\n\\t\\t   data-search-page=\\\"786\\\" data-gpnav=\\\"item\\\"\\r\\n\\t\\t   data-ds-steam-deck-compat-handled=\\\"true\\\">\\r\\n            <div class=\\\"col search_capsule\\\"><img src=\\\"https:\\/\\/cdn.cloudflare.steamstatic.com\\/steam\\/apps\\/908500\\/capsule_sm_120.jpg?t=1640105724\\\" srcset=\\\"https:\\/\\/cdn.cloudflare.steamstatic.com\\/steam\\/apps\\/908500\\/capsule_sm_120.jpg?t=1640105724 1x, https:\\/\\/cdn.cloudflare.steamstatic.com\\/steam\\/apps\\/908500\\/capsule_231x87.jpg?t=1640105724 2x\\\"><\\/div>\\r\\n            <div class=\\\"responsive_search_name_combined\\\">\\r\\n                <div class=\\\"col search_name ellipsis\\\">\\r\\n                    <span class=\\\"title\\\">crazy maze ~疯狂迷宫 ~ 狂った迷路 ~ Laberinto loco ~ Labyrinthe fou ~ Verrücktes Labyrinth<\\/span>\\r\\n                    <div>\\r\\n                                                <span class=\\\"platform_img win\\\"><\\/span>                                            <\\/div>\\r\\n                <\\/div>\\r\\n                <div class=\\\"col search_released responsive_secondrow\\\">\\r\\n                    1 Nov, 2018                <\\/div>\\r\\n                <div class=\\\"col search_reviewscore responsive_secondrow\\\">\\r\\n                                            <span class=\\\"search_review_summary mixed\\\" data-tooltip-html=\\\"Mixed&lt;br&gt;58% of the 29 user reviews for this game are positive.\\\">\\r\\n\\t\\t\\t\\t\\t\\t\\t\\t<\\/span>\\r\\n                                    <\\/div>\\r\\n\\r\\n\\r\\n                <div class=\\\"col search_price_discount_combined responsive_secondrow\\\" data-price-final=\\\"0\\\">\\r\\n                    <div class=\\\"col search_discount_and_price responsive_secondrow\\\">\\r\\n                        <div class=\\\"discount_block no_discount search_discount_block\\\">\\t<div class=\\\"discount_prices\\\">\\t\\t<div class=\\\"discount_final_price free\\\">Free<\\/div>\\t<\\/div><\\/div>                    <\\/div>\\r\\n                <\\/div>\\r\\n            <\\/div>\\r\\n\\r\\n\\r\\n            <div style=\\\"clear: left;\\\"><\\/div>\\r\\n        <\\/a>\\r\\n            \\r\\n\\t\\t\\t\\t\n",
      "=====\n"
     ]
    },
    {
     "name": "stderr",
     "output_type": "stream",
     "text": [
      " 51%|█████████████████████████████████████▊                                    | 810/1583 [13:14:34<6:06:39, 28.46s/it]"
     ]
    },
    {
     "name": "stdout",
     "output_type": "stream",
     "text": [
      "[INFO] Cannot parse following info.\n",
      "<a href=\\\"https:\\/\\/store.steampowered.com\\/app\\/814740\\/Armored_Battle_Crew_World_War_1__Tank_Warfare_and_Crew_Management_Simulator\\/?snr=1_7_7_230_150_811\\\"\\r\\n\\t\\t\\t data-ds-appid=\\\"814740\\\" data-ds-itemkey=\\\"App_814740\\\" data-ds-tagids=\\\"[493,13276,5382,492,9,599,4168]\\\" data-ds-descids=\\\"[5]\\\" data-ds-crtrids=\\\"[25631277]\\\" onmouseover=\\\"GameHover( this, event, 'global_hover', {&quot;type&quot;:&quot;app&quot;,&quot;id&quot;:814740,&quot;public&quot;:1,&quot;v6&quot;:1} );\\\" onmouseout=\\\"HideGameHover( this, event, 'global_hover' )\\\" class=\\\"search_result_row ds_collapse_flag \\\"\\r\\n\\t\\t   data-search-page=\\\"811\\\" data-gpnav=\\\"item\\\"\\r\\n\\t\\t   data-ds-steam-deck-compat-handled=\\\"true\\\">\\r\\n            <div class=\\\"col search_capsule\\\"><img src=\\\"https:\\/\\/cdn.cloudflare.steamstatic.com\\/steam\\/apps\\/814740\\/capsule_sm_120.jpg?t=1585154027\\\" srcset=\\\"https:\\/\\/cdn.cloudflare.steamstatic.com\\/steam\\/apps\\/814740\\/capsule_sm_120.jpg?t=1585154027 1x, https:\\/\\/cdn.cloudflare.steamstatic.com\\/steam\\/apps\\/814740\\/capsule_231x87.jpg?t=1585154027 2x\\\"><\\/div>\\r\\n            <div class=\\\"responsive_search_name_combined\\\">\\r\\n                <div class=\\\"col search_name ellipsis\\\">\\r\\n                    <span class=\\\"title\\\">Armored Battle Crew [World War 1] - Tank Warfare and Crew Management Simulator<\\/span>\\r\\n                    <div>\\r\\n                                                <span class=\\\"platform_img win\\\"><\\/span>                                            <\\/div>\\r\\n                <\\/div>\\r\\n                <div class=\\\"col search_released responsive_secondrow\\\">\\r\\n                    5 Jun, 2019                <\\/div>\\r\\n                <div class=\\\"col search_reviewscore responsive_secondrow\\\">\\r\\n                                            <span class=\\\"search_review_summary negative\\\" data-tooltip-html=\\\"Mostly Negative&lt;br&gt;37% of the 573 user reviews for this game are positive.\\\">\\r\\n\\t\\t\\t\\t\\t\\t\\t\\t<\\/span>\\r\\n                                    <\\/div>\\r\\n\\r\\n\\r\\n                <div class=\\\"col search_price_discount_combined responsive_secondrow\\\" data-price-final=\\\"1084\\\">\\r\\n                    <div class=\\\"col search_discount_and_price responsive_secondrow\\\">\\r\\n                        <div class=\\\"discount_block search_discount_block\\\" data-price-final=\\\"1084\\\" data-bundlediscount=\\\"0\\\" data-discount=\\\"30\\\"><div class=\\\"discount_pct\\\">-30%<\\/div><div class=\\\"discount_prices\\\"><div class=\\\"discount_original_price\\\">£15.49<\\/div><div class=\\\"discount_final_price\\\">£10.84<\\/div><\\/div><\\/div>                    <\\/div>\\r\\n                <\\/div>\\r\\n            <\\/div>\\r\\n\\r\\n\\r\\n            <div style=\\\"clear: left;\\\"><\\/div>\\r\\n        <\\/a>\\r\\n            \\r\\n\\t\\t\\t\\t\n",
      "=====\n"
     ]
    },
    {
     "name": "stderr",
     "output_type": "stream",
     "text": [
      " 51%|█████████████████████████████████████▉                                    | 812/1583 [13:15:32<6:09:56, 28.79s/it]"
     ]
    },
    {
     "name": "stdout",
     "output_type": "stream",
     "text": [
      "[INFO] Cannot parse following info.\n",
      "<a href=\\\"https:\\/\\/store.steampowered.com\\/app\\/896990\\/Dark_Tales_Edgar_Allan_Poes_The_TellTale_Heart_Collectors_Edition\\/?snr=1_7_7_230_150_813\\\"\\r\\n\\t\\t\\t data-ds-appid=\\\"896990\\\" data-ds-itemkey=\\\"App_896990\\\" data-ds-tagids=\\\"[21,597,1738]\\\" data-ds-crtrids=\\\"[33566870]\\\" onmouseover=\\\"GameHover( this, event, 'global_hover', {&quot;type&quot;:&quot;app&quot;,&quot;id&quot;:896990,&quot;public&quot;:1,&quot;v6&quot;:1} );\\\" onmouseout=\\\"HideGameHover( this, event, 'global_hover' )\\\" class=\\\"search_result_row ds_collapse_flag \\\"\\r\\n\\t\\t   data-search-page=\\\"813\\\" data-gpnav=\\\"item\\\"\\r\\n\\t\\t   data-ds-steam-deck-compat-handled=\\\"true\\\">\\r\\n            <div class=\\\"col search_capsule\\\"><img src=\\\"https:\\/\\/cdn.cloudflare.steamstatic.com\\/steam\\/apps\\/896990\\/capsule_sm_120.jpg?t=1608672848\\\" srcset=\\\"https:\\/\\/cdn.cloudflare.steamstatic.com\\/steam\\/apps\\/896990\\/capsule_sm_120.jpg?t=1608672848 1x, https:\\/\\/cdn.cloudflare.steamstatic.com\\/steam\\/apps\\/896990\\/capsule_231x87.jpg?t=1608672848 2x\\\"><\\/div>\\r\\n            <div class=\\\"responsive_search_name_combined\\\">\\r\\n                <div class=\\\"col search_name ellipsis\\\">\\r\\n                    <span class=\\\"title\\\">Dark Tales: Edgar Allan Poe's The Tell-Tale Heart Collector's Edition<\\/span>\\r\\n                    <div>\\r\\n                                                <span class=\\\"platform_img win\\\"><\\/span>                                            <\\/div>\\r\\n                <\\/div>\\r\\n                <div class=\\\"col search_released responsive_secondrow\\\">\\r\\n                    1 Aug, 2018                <\\/div>\\r\\n                <div class=\\\"col search_reviewscore responsive_secondrow\\\">\\r\\n                                            <span class=\\\"search_review_summary negative\\\" data-tooltip-html=\\\"Mostly Negative&lt;br&gt;33% of the 12 user reviews for this game are positive.\\\">\\r\\n\\t\\t\\t\\t\\t\\t\\t\\t<\\/span>\\r\\n                                    <\\/div>\\r\\n\\r\\n\\r\\n                <div class=\\\"col search_price_discount_combined responsive_secondrow\\\" data-price-final=\\\"359\\\">\\r\\n                    <div class=\\\"col search_discount_and_price responsive_secondrow\\\">\\r\\n                        <div class=\\\"discount_block search_discount_block\\\" data-price-final=\\\"359\\\" data-bundlediscount=\\\"0\\\" data-discount=\\\"50\\\"><div class=\\\"discount_pct\\\">-50%<\\/div><div class=\\\"discount_prices\\\"><div class=\\\"discount_original_price\\\">£7.19<\\/div><div class=\\\"discount_final_price\\\">£3.59<\\/div><\\/div><\\/div>                    <\\/div>\\r\\n                <\\/div>\\r\\n            <\\/div>\\r\\n\\r\\n\\r\\n            <div style=\\\"clear: left;\\\"><\\/div>\\r\\n        <\\/a>\\r\\n            \\r\\n\\t\\t\\t\\t\n",
      "=====\n"
     ]
    },
    {
     "name": "stderr",
     "output_type": "stream",
     "text": [
      " 53%|███████████████████████████████████████▌                                  | 846/1583 [13:33:47<6:10:45, 30.18s/it]"
     ]
    },
    {
     "name": "stdout",
     "output_type": "stream",
     "text": [
      "[INFO] Cannot parse following info.\n",
      "<a href=\\\"https:\\/\\/store.steampowered.com\\/app\\/514720\\/Dark_Tales_Edgar_Allan_Poes_The_Masque_of_the_Red_Death_Collectors_Edition\\/?snr=1_7_7_230_150_847\\\"\\r\\n\\t\\t\\t data-ds-appid=\\\"514720\\\" data-ds-itemkey=\\\"App_514720\\\" data-ds-tagids=\\\"[21,597,1738]\\\" data-ds-crtrids=\\\"[33566870]\\\" onmouseover=\\\"GameHover( this, event, 'global_hover', {&quot;type&quot;:&quot;app&quot;,&quot;id&quot;:514720,&quot;public&quot;:1,&quot;v6&quot;:1} );\\\" onmouseout=\\\"HideGameHover( this, event, 'global_hover' )\\\" class=\\\"search_result_row ds_collapse_flag \\\"\\r\\n\\t\\t   data-search-page=\\\"847\\\" data-gpnav=\\\"item\\\"\\r\\n\\t\\t   data-ds-steam-deck-compat-handled=\\\"true\\\">\\r\\n            <div class=\\\"col search_capsule\\\"><img src=\\\"https:\\/\\/cdn.cloudflare.steamstatic.com\\/steam\\/apps\\/514720\\/capsule_sm_120.jpg?t=1608673158\\\" srcset=\\\"https:\\/\\/cdn.cloudflare.steamstatic.com\\/steam\\/apps\\/514720\\/capsule_sm_120.jpg?t=1608673158 1x, https:\\/\\/cdn.cloudflare.steamstatic.com\\/steam\\/apps\\/514720\\/capsule_231x87.jpg?t=1608673158 2x\\\"><\\/div>\\r\\n            <div class=\\\"responsive_search_name_combined\\\">\\r\\n                <div class=\\\"col search_name ellipsis\\\">\\r\\n                    <span class=\\\"title\\\">Dark Tales: Edgar Allan Poe's The Masque of the Red Death Collector's Edition<\\/span>\\r\\n                    <div>\\r\\n                                                <span class=\\\"platform_img win\\\"><\\/span>                                            <\\/div>\\r\\n                <\\/div>\\r\\n                <div class=\\\"col search_released responsive_secondrow\\\">\\r\\n                    2 Dec, 2016                <\\/div>\\r\\n                <div class=\\\"col search_reviewscore responsive_secondrow\\\">\\r\\n                                    <\\/div>\\r\\n\\r\\n\\r\\n                <div class=\\\"col search_price_discount_combined responsive_secondrow\\\" data-price-final=\\\"349\\\">\\r\\n                    <div class=\\\"col search_discount_and_price responsive_secondrow\\\">\\r\\n                        <div class=\\\"discount_block search_discount_block\\\" data-price-final=\\\"349\\\" data-bundlediscount=\\\"0\\\" data-discount=\\\"50\\\"><div class=\\\"discount_pct\\\">-50%<\\/div><div class=\\\"discount_prices\\\"><div class=\\\"discount_original_price\\\">£6.99<\\/div><div class=\\\"discount_final_price\\\">£3.49<\\/div><\\/div><\\/div>                    <\\/div>\\r\\n                <\\/div>\\r\\n            <\\/div>\\r\\n\\r\\n\\r\\n            <div style=\\\"clear: left;\\\"><\\/div>\\r\\n        <\\/a>\\r\\n            \\r\\n\\t\\t\\t\\t\n",
      "=====\n"
     ]
    },
    {
     "name": "stderr",
     "output_type": "stream",
     "text": [
      " 54%|███████████████████████████████████████▋                                  | 848/1583 [13:34:48<6:13:08, 30.46s/it]"
     ]
    },
    {
     "name": "stdout",
     "output_type": "stream",
     "text": [
      "[INFO] Cannot parse following info.\n",
      "<a href=\\\"https:\\/\\/store.steampowered.com\\/app\\/1498460\\/Bridge_to_Another_World_Secrets_of_the_Nutcracker_Collectors_Edition\\/?snr=1_7_7_230_150_849\\\"\\r\\n\\t\\t\\t data-ds-appid=\\\"1498460\\\" data-ds-itemkey=\\\"App_1498460\\\" data-ds-tagids=\\\"[21,597,3955,11014,1698,8369,3871]\\\" data-ds-crtrids=\\\"[33566870]\\\" onmouseover=\\\"GameHover( this, event, 'global_hover', {&quot;type&quot;:&quot;app&quot;,&quot;id&quot;:1498460,&quot;public&quot;:1,&quot;v6&quot;:1} );\\\" onmouseout=\\\"HideGameHover( this, event, 'global_hover' )\\\" class=\\\"search_result_row ds_collapse_flag \\\"\\r\\n\\t\\t   data-search-page=\\\"849\\\" data-gpnav=\\\"item\\\"\\r\\n\\t\\t   data-ds-steam-deck-compat-handled=\\\"true\\\">\\r\\n            <div class=\\\"col search_capsule\\\"><img src=\\\"https:\\/\\/cdn.cloudflare.steamstatic.com\\/steam\\/apps\\/1498460\\/capsule_sm_120.jpg?t=1608674605\\\" srcset=\\\"https:\\/\\/cdn.cloudflare.steamstatic.com\\/steam\\/apps\\/1498460\\/capsule_sm_120.jpg?t=1608674605 1x, https:\\/\\/cdn.cloudflare.steamstatic.com\\/steam\\/apps\\/1498460\\/capsule_231x87.jpg?t=1608674605 2x\\\"><\\/div>\\r\\n            <div class=\\\"responsive_search_name_combined\\\">\\r\\n                <div class=\\\"col search_name ellipsis\\\">\\r\\n                    <span class=\\\"title\\\">Bridge to Another World: Secrets of the Nutcracker Collector's Edition<\\/span>\\r\\n                    <div>\\r\\n                                                <span class=\\\"platform_img win\\\"><\\/span>                                            <\\/div>\\r\\n                <\\/div>\\r\\n                <div class=\\\"col search_released responsive_secondrow\\\">\\r\\n                    21 Dec, 2020                <\\/div>\\r\\n                <div class=\\\"col search_reviewscore responsive_secondrow\\\">\\r\\n                                    <\\/div>\\r\\n\\r\\n\\r\\n                <div class=\\\"col search_price_discount_combined responsive_secondrow\\\" data-price-final=\\\"549\\\">\\r\\n                    <div class=\\\"col search_discount_and_price responsive_secondrow\\\">\\r\\n                        <div class=\\\"discount_block search_discount_block\\\" data-price-final=\\\"549\\\" data-bundlediscount=\\\"0\\\" data-discount=\\\"50\\\"><div class=\\\"discount_pct\\\">-50%<\\/div><div class=\\\"discount_prices\\\"><div class=\\\"discount_original_price\\\">£10.99<\\/div><div class=\\\"discount_final_price\\\">£5.49<\\/div><\\/div><\\/div>                    <\\/div>\\r\\n                <\\/div>\\r\\n            <\\/div>\\r\\n\\r\\n\\r\\n            <div style=\\\"clear: left;\\\"><\\/div>\\r\\n        <\\/a>\\r\\n            \\r\\n\\t\\t\\t\\t\n",
      "=====\n"
     ]
    },
    {
     "name": "stderr",
     "output_type": "stream",
     "text": [
      " 54%|███████████████████████████████████████▋                                  | 849/1583 [13:35:17<6:07:17, 30.02s/it]"
     ]
    },
    {
     "name": "stdout",
     "output_type": "stream",
     "text": [
      "[INFO] Cannot parse following info.\n",
      "<a href=\\\"https:\\/\\/store.steampowered.com\\/app\\/1176040\\/I_Have_Low_Stats_But_My_Class_Is_Leader_So_I_Recruited_Everyone_I_Know_To_Fight_The_Dark_Lord\\/?snr=1_7_7_230_150_850\\\"\\r\\n\\t\\t\\t data-ds-appid=\\\"1176040\\\" data-ds-itemkey=\\\"App_1176040\\\" data-ds-tagids=\\\"[4434,597,4026,1677,10695,1741,7208]\\\" onmouseover=\\\"GameHover( this, event, 'global_hover', {&quot;type&quot;:&quot;app&quot;,&quot;id&quot;:1176040,&quot;public&quot;:1,&quot;v6&quot;:1} );\\\" onmouseout=\\\"HideGameHover( this, event, 'global_hover' )\\\" class=\\\"search_result_row ds_collapse_flag \\\"\\r\\n\\t\\t   data-search-page=\\\"850\\\" data-gpnav=\\\"item\\\"\\r\\n\\t\\t   data-ds-steam-deck-compat-handled=\\\"true\\\">\\r\\n            <div class=\\\"col search_capsule\\\"><img src=\\\"https:\\/\\/cdn.cloudflare.steamstatic.com\\/steam\\/apps\\/1176040\\/capsule_sm_120.jpg?t=1572826982\\\" srcset=\\\"https:\\/\\/cdn.cloudflare.steamstatic.com\\/steam\\/apps\\/1176040\\/capsule_sm_120.jpg?t=1572826982 1x, https:\\/\\/cdn.cloudflare.steamstatic.com\\/steam\\/apps\\/1176040\\/capsule_231x87.jpg?t=1572826982 2x\\\"><\\/div>\\r\\n            <div class=\\\"responsive_search_name_combined\\\">\\r\\n                <div class=\\\"col search_name ellipsis\\\">\\r\\n                    <span class=\\\"title\\\">I Have Low Stats But My Class Is &quot;Leader&quot;, So I Recruited Everyone I Know To Fight The Dark Lord<\\/span>\\r\\n                    <div>\\r\\n                                                <span class=\\\"platform_img win\\\"><\\/span>                                            <\\/div>\\r\\n                <\\/div>\\r\\n                <div class=\\\"col search_released responsive_secondrow\\\">\\r\\n                    29 Oct, 2019                <\\/div>\\r\\n                <div class=\\\"col search_reviewscore responsive_secondrow\\\">\\r\\n                                    <\\/div>\\r\\n\\r\\n\\r\\n                <div class=\\\"col search_price_discount_combined responsive_secondrow\\\" data-price-final=\\\"455\\\">\\r\\n                    <div class=\\\"col search_discount_and_price responsive_secondrow\\\">\\r\\n                        <div class=\\\"discount_block search_discount_block\\\" data-price-final=\\\"455\\\" data-bundlediscount=\\\"0\\\" data-discount=\\\"60\\\"><div class=\\\"discount_pct\\\">-60%<\\/div><div class=\\\"discount_prices\\\"><div class=\\\"discount_original_price\\\">£11.39<\\/div><div class=\\\"discount_final_price\\\">£4.55<\\/div><\\/div><\\/div>                    <\\/div>\\r\\n                <\\/div>\\r\\n            <\\/div>\\r\\n\\r\\n\\r\\n            <div style=\\\"clear: left;\\\"><\\/div>\\r\\n        <\\/a>\\r\\n            \\r\\n\\t\\t\\t\\t\n",
      "=====\n"
     ]
    },
    {
     "name": "stderr",
     "output_type": "stream",
     "text": [
      " 54%|███████████████████████████████████████▊                                  | 852/1583 [13:36:49<6:15:24, 30.81s/it]"
     ]
    },
    {
     "name": "stdout",
     "output_type": "stream",
     "text": [
      "[INFO] Cannot parse following info.\n",
      "<a href=\\\"https:\\/\\/store.steampowered.com\\/app\\/1176040\\/I_Have_Low_Stats_But_My_Class_Is_Leader_So_I_Recruited_Everyone_I_Know_To_Fight_The_Dark_Lord\\/?snr=1_7_7_230_150_853\\\"\\r\\n\\t\\t\\t data-ds-appid=\\\"1176040\\\" data-ds-itemkey=\\\"App_1176040\\\" data-ds-tagids=\\\"[4434,597,4026,1677,10695,1741,7208]\\\" onmouseover=\\\"GameHover( this, event, 'global_hover', {&quot;type&quot;:&quot;app&quot;,&quot;id&quot;:1176040,&quot;public&quot;:1,&quot;v6&quot;:1} );\\\" onmouseout=\\\"HideGameHover( this, event, 'global_hover' )\\\" class=\\\"search_result_row ds_collapse_flag \\\"\\r\\n\\t\\t   data-search-page=\\\"853\\\" data-gpnav=\\\"item\\\"\\r\\n\\t\\t   data-ds-steam-deck-compat-handled=\\\"true\\\">\\r\\n            <div class=\\\"col search_capsule\\\"><img src=\\\"https:\\/\\/cdn.cloudflare.steamstatic.com\\/steam\\/apps\\/1176040\\/capsule_sm_120.jpg?t=1572826982\\\" srcset=\\\"https:\\/\\/cdn.cloudflare.steamstatic.com\\/steam\\/apps\\/1176040\\/capsule_sm_120.jpg?t=1572826982 1x, https:\\/\\/cdn.cloudflare.steamstatic.com\\/steam\\/apps\\/1176040\\/capsule_231x87.jpg?t=1572826982 2x\\\"><\\/div>\\r\\n            <div class=\\\"responsive_search_name_combined\\\">\\r\\n                <div class=\\\"col search_name ellipsis\\\">\\r\\n                    <span class=\\\"title\\\">I Have Low Stats But My Class Is &quot;Leader&quot;, So I Recruited Everyone I Know To Fight The Dark Lord<\\/span>\\r\\n                    <div>\\r\\n                                                <span class=\\\"platform_img win\\\"><\\/span>                                            <\\/div>\\r\\n                <\\/div>\\r\\n                <div class=\\\"col search_released responsive_secondrow\\\">\\r\\n                    29 Oct, 2019                <\\/div>\\r\\n                <div class=\\\"col search_reviewscore responsive_secondrow\\\">\\r\\n                                    <\\/div>\\r\\n\\r\\n\\r\\n                <div class=\\\"col search_price_discount_combined responsive_secondrow\\\" data-price-final=\\\"455\\\">\\r\\n                    <div class=\\\"col search_discount_and_price responsive_secondrow\\\">\\r\\n                        <div class=\\\"discount_block search_discount_block\\\" data-price-final=\\\"455\\\" data-bundlediscount=\\\"0\\\" data-discount=\\\"60\\\"><div class=\\\"discount_pct\\\">-60%<\\/div><div class=\\\"discount_prices\\\"><div class=\\\"discount_original_price\\\">£11.39<\\/div><div class=\\\"discount_final_price\\\">£4.55<\\/div><\\/div><\\/div>                    <\\/div>\\r\\n                <\\/div>\\r\\n            <\\/div>\\r\\n\\r\\n\\r\\n            <div style=\\\"clear: left;\\\"><\\/div>\\r\\n        <\\/a>\\r\\n            \\r\\n\\t\\t\\t\\t\n",
      "=====\n"
     ]
    },
    {
     "name": "stderr",
     "output_type": "stream",
     "text": [
      " 54%|████████████████████████████████████████▏                                 | 859/1583 [13:40:27<6:14:26, 31.03s/it]"
     ]
    },
    {
     "name": "stdout",
     "output_type": "stream",
     "text": [
      "[INFO] Cannot parse following info.\n",
      "<a href=\\\"https:\\/\\/store.steampowered.com\\/app\\/926100\\/Mystery_of_the_Ancients_Curse_of_the_Black_Water_Collectors_Edition\\/?snr=1_7_7_230_150_860\\\"\\r\\n\\t\\t\\t data-ds-appid=\\\"926100\\\" data-ds-itemkey=\\\"App_926100\\\" data-ds-tagids=\\\"[597,21,1738]\\\" data-ds-crtrids=\\\"[33566870]\\\" onmouseover=\\\"GameHover( this, event, 'global_hover', {&quot;type&quot;:&quot;app&quot;,&quot;id&quot;:926100,&quot;public&quot;:1,&quot;v6&quot;:1} );\\\" onmouseout=\\\"HideGameHover( this, event, 'global_hover' )\\\" class=\\\"search_result_row ds_collapse_flag \\\"\\r\\n\\t\\t   data-search-page=\\\"860\\\" data-gpnav=\\\"item\\\"\\r\\n\\t\\t   data-ds-steam-deck-compat-handled=\\\"true\\\">\\r\\n            <div class=\\\"col search_capsule\\\"><img src=\\\"https:\\/\\/cdn.cloudflare.steamstatic.com\\/steam\\/apps\\/926100\\/capsule_sm_120.jpg?t=1536167338\\\" srcset=\\\"https:\\/\\/cdn.cloudflare.steamstatic.com\\/steam\\/apps\\/926100\\/capsule_sm_120.jpg?t=1536167338 1x, https:\\/\\/cdn.cloudflare.steamstatic.com\\/steam\\/apps\\/926100\\/capsule_231x87.jpg?t=1536167338 2x\\\"><\\/div>\\r\\n            <div class=\\\"responsive_search_name_combined\\\">\\r\\n                <div class=\\\"col search_name ellipsis\\\">\\r\\n                    <span class=\\\"title\\\">Mystery of the Ancients: Curse of the Black Water Collector's Edition<\\/span>\\r\\n                    <div>\\r\\n                                                <span class=\\\"platform_img win\\\"><\\/span>                                            <\\/div>\\r\\n                <\\/div>\\r\\n                <div class=\\\"col search_released responsive_secondrow\\\">\\r\\n                    5 Sep, 2018                <\\/div>\\r\\n                <div class=\\\"col search_reviewscore responsive_secondrow\\\">\\r\\n                                    <\\/div>\\r\\n\\r\\n\\r\\n                <div class=\\\"col search_price_discount_combined responsive_secondrow\\\" data-price-final=\\\"359\\\">\\r\\n                    <div class=\\\"col search_discount_and_price responsive_secondrow\\\">\\r\\n                        <div class=\\\"discount_block search_discount_block\\\" data-price-final=\\\"359\\\" data-bundlediscount=\\\"0\\\" data-discount=\\\"50\\\"><div class=\\\"discount_pct\\\">-50%<\\/div><div class=\\\"discount_prices\\\"><div class=\\\"discount_original_price\\\">£7.19<\\/div><div class=\\\"discount_final_price\\\">£3.59<\\/div><\\/div><\\/div>                    <\\/div>\\r\\n                <\\/div>\\r\\n            <\\/div>\\r\\n\\r\\n\\r\\n            <div style=\\\"clear: left;\\\"><\\/div>\\r\\n        <\\/a>\\r\\n            \\r\\n\\t\\t\\t\\t\n",
      "=====\n"
     ]
    },
    {
     "name": "stderr",
     "output_type": "stream",
     "text": [
      " 55%|████████████████████████████████████████▌                                 | 868/1583 [13:45:11<6:17:01, 31.64s/it]"
     ]
    },
    {
     "name": "stdout",
     "output_type": "stream",
     "text": [
      "[INFO] Cannot parse following info.\n",
      "<a href=\\\"https:\\/\\/store.steampowered.com\\/app\\/2024890\\/Reincarnated_in_a_stone_in_a_different_world_I_want_to_protect_the_girl_so_I_will_be_strong\\/?snr=1_7_7_230_150_869\\\"\\r\\n\\t\\t\\t data-ds-appid=\\\"2024890\\\" data-ds-itemkey=\\\"App_2024890\\\" data-ds-tagids=\\\"[122,4434,5379,4726,4085,3871,3964]\\\" data-ds-crtrids=\\\"[38431062]\\\" onmouseover=\\\"GameHover( this, event, 'global_hover', {&quot;type&quot;:&quot;app&quot;,&quot;id&quot;:2024890,&quot;public&quot;:1,&quot;v6&quot;:1} );\\\" onmouseout=\\\"HideGameHover( this, event, 'global_hover' )\\\" class=\\\"search_result_row ds_collapse_flag \\\"\\r\\n\\t\\t   data-search-page=\\\"869\\\" data-gpnav=\\\"item\\\"\\r\\n\\t\\t   data-ds-steam-deck-compat-handled=\\\"true\\\">\\r\\n            <div class=\\\"col search_capsule\\\"><img src=\\\"https:\\/\\/cdn.cloudflare.steamstatic.com\\/steam\\/apps\\/2024890\\/capsule_sm_120.jpg?t=1701318251\\\" srcset=\\\"https:\\/\\/cdn.cloudflare.steamstatic.com\\/steam\\/apps\\/2024890\\/capsule_sm_120.jpg?t=1701318251 1x, https:\\/\\/cdn.cloudflare.steamstatic.com\\/steam\\/apps\\/2024890\\/capsule_231x87.jpg?t=1701318251 2x\\\"><\\/div>\\r\\n            <div class=\\\"responsive_search_name_combined\\\">\\r\\n                <div class=\\\"col search_name ellipsis\\\">\\r\\n                    <span class=\\\"title\\\">Reincarnated in a stone in a different world, I want to protect the girl, so I will be strong<\\/span>\\r\\n                    <div>\\r\\n                                                <span class=\\\"platform_img win\\\"><\\/span>                                            <\\/div>\\r\\n                <\\/div>\\r\\n                <div class=\\\"col search_released responsive_secondrow\\\">\\r\\n                    8 Jun, 2023                <\\/div>\\r\\n                <div class=\\\"col search_reviewscore responsive_secondrow\\\">\\r\\n                                    <\\/div>\\r\\n\\r\\n\\r\\n                <div class=\\\"col search_price_discount_combined responsive_secondrow\\\" data-price-final=\\\"511\\\">\\r\\n                    <div class=\\\"col search_discount_and_price responsive_secondrow\\\">\\r\\n                        <div class=\\\"discount_block search_discount_block\\\" data-price-final=\\\"511\\\" data-bundlediscount=\\\"0\\\" data-discount=\\\"60\\\"><div class=\\\"discount_pct\\\">-60%<\\/div><div class=\\\"discount_prices\\\"><div class=\\\"discount_original_price\\\">£12.79<\\/div><div class=\\\"discount_final_price\\\">£5.11<\\/div><\\/div><\\/div>                    <\\/div>\\r\\n                <\\/div>\\r\\n            <\\/div>\\r\\n\\r\\n\\r\\n            <div style=\\\"clear: left;\\\"><\\/div>\\r\\n        <\\/a>\\r\\n            \\r\\n\\t\\t\\t\\t\n",
      "=====\n"
     ]
    },
    {
     "name": "stderr",
     "output_type": "stream",
     "text": [
      " 55%|████████████████████████████████████████▉                                 | 876/1583 [13:49:18<6:01:46, 30.70s/it]"
     ]
    },
    {
     "name": "stdout",
     "output_type": "stream",
     "text": [
      "[INFO] Cannot parse following info.\n",
      "<a href=\\\"https:\\/\\/store.steampowered.com\\/app\\/2192200\\/Sherlock_Holmes_Consulting_Detective_The_Case_of_Bankers_Final_Debt\\/?snr=1_7_7_230_150_877\\\"\\r\\n\\t\\t\\t data-ds-appid=\\\"2192200\\\" data-ds-itemkey=\\\"App_2192200\\\" data-ds-tagids=\\\"[21,1698,18594,5716,4182,5613,4004]\\\" onmouseover=\\\"GameHover( this, event, 'global_hover', {&quot;type&quot;:&quot;app&quot;,&quot;id&quot;:2192200,&quot;public&quot;:1,&quot;v6&quot;:1} );\\\" onmouseout=\\\"HideGameHover( this, event, 'global_hover' )\\\" class=\\\"search_result_row ds_collapse_flag \\\"\\r\\n\\t\\t   data-search-page=\\\"877\\\" data-gpnav=\\\"item\\\"\\r\\n\\t\\t   data-ds-steam-deck-compat-handled=\\\"true\\\">\\r\\n            <div class=\\\"col search_capsule\\\"><img src=\\\"https:\\/\\/cdn.cloudflare.steamstatic.com\\/steam\\/apps\\/2192200\\/capsule_sm_120.jpg?t=1690979871\\\" srcset=\\\"https:\\/\\/cdn.cloudflare.steamstatic.com\\/steam\\/apps\\/2192200\\/capsule_sm_120.jpg?t=1690979871 1x, https:\\/\\/cdn.cloudflare.steamstatic.com\\/steam\\/apps\\/2192200\\/capsule_231x87.jpg?t=1690979871 2x\\\"><\\/div>\\r\\n            <div class=\\\"responsive_search_name_combined\\\">\\r\\n                <div class=\\\"col search_name ellipsis\\\">\\r\\n                    <span class=\\\"title\\\">Sherlock Holmes Consulting Detective: The Case of Banker's Final Debt<\\/span>\\r\\n                    <div>\\r\\n                                                <span class=\\\"platform_img win\\\"><\\/span><span class=\\\"platform_img mac\\\"><\\/span>                                            <\\/div>\\r\\n                <\\/div>\\r\\n                <div class=\\\"col search_released responsive_secondrow\\\">\\r\\n                    2 Aug, 2023                <\\/div>\\r\\n                <div class=\\\"col search_reviewscore responsive_secondrow\\\">\\r\\n                                    <\\/div>\\r\\n\\r\\n\\r\\n                <div class=\\\"col search_price_discount_combined responsive_secondrow\\\" data-price-final=\\\"339\\\">\\r\\n                    <div class=\\\"col search_discount_and_price responsive_secondrow\\\">\\r\\n                        <div class=\\\"discount_block search_discount_block no_discount\\\" data-price-final=\\\"339\\\" data-bundlediscount=\\\"0\\\" data-discount=\\\"0\\\"><div class=\\\"discount_prices\\\"><div class=\\\"discount_final_price\\\">£3.39<\\/div><\\/div><\\/div>                    <\\/div>\\r\\n                <\\/div>\\r\\n            <\\/div>\\r\\n\\r\\n\\r\\n            <div style=\\\"clear: left;\\\"><\\/div>\\r\\n        <\\/a>\\r\\n            \\r\\n\\t\\t\\t\\t\n",
      "=====\n"
     ]
    },
    {
     "name": "stderr",
     "output_type": "stream",
     "text": [
      " 56%|█████████████████████████████████████████▍                                | 887/1583 [13:54:54<6:02:42, 31.27s/it]"
     ]
    },
    {
     "name": "stdout",
     "output_type": "stream",
     "text": [
      "[INFO] Cannot parse following info.\n",
      "<a href=\\\"https:\\/\\/store.steampowered.com\\/app\\/374640\\/March_of_Industry_Very_Capitalist_Factory_Simulator_Entertainments\\/?snr=1_7_7_230_150_888\\\"\\r\\n\\t\\t\\t data-ds-appid=\\\"374640\\\" data-ds-itemkey=\\\"App_374640\\\" data-ds-tagids=\\\"[492,1702,599,9,3964,12472,4845]\\\" data-ds-crtrids=\\\"[33017905]\\\" onmouseover=\\\"GameHover( this, event, 'global_hover', {&quot;type&quot;:&quot;app&quot;,&quot;id&quot;:374640,&quot;public&quot;:1,&quot;v6&quot;:1} );\\\" onmouseout=\\\"HideGameHover( this, event, 'global_hover' )\\\" class=\\\"search_result_row ds_collapse_flag \\\"\\r\\n\\t\\t   data-search-page=\\\"888\\\" data-gpnav=\\\"item\\\"\\r\\n\\t\\t   data-ds-steam-deck-compat-handled=\\\"true\\\">\\r\\n            <div class=\\\"col search_capsule\\\"><img src=\\\"https:\\/\\/cdn.cloudflare.steamstatic.com\\/steam\\/apps\\/374640\\/capsule_sm_120.jpg?t=1656376370\\\" srcset=\\\"https:\\/\\/cdn.cloudflare.steamstatic.com\\/steam\\/apps\\/374640\\/capsule_sm_120.jpg?t=1656376370 1x, https:\\/\\/cdn.cloudflare.steamstatic.com\\/steam\\/apps\\/374640\\/capsule_231x87.jpg?t=1656376370 2x\\\"><\\/div>\\r\\n            <div class=\\\"responsive_search_name_combined\\\">\\r\\n                <div class=\\\"col search_name ellipsis\\\">\\r\\n                    <span class=\\\"title\\\">March of Industry: Very Capitalist Factory Simulator Entertainments<\\/span>\\r\\n                    <div>\\r\\n                                                <span class=\\\"platform_img win\\\"><\\/span><span class=\\\"platform_img mac\\\"><\\/span>                                            <\\/div>\\r\\n                <\\/div>\\r\\n                <div class=\\\"col search_released responsive_secondrow\\\">\\r\\n                    7 Oct, 2015                <\\/div>\\r\\n                <div class=\\\"col search_reviewscore responsive_secondrow\\\">\\r\\n                                            <span class=\\\"search_review_summary negative\\\" data-tooltip-html=\\\"Very Negative&lt;br&gt;16% of the 59 user reviews for this game are positive.\\\">\\r\\n\\t\\t\\t\\t\\t\\t\\t\\t<\\/span>\\r\\n                                    <\\/div>\\r\\n\\r\\n\\r\\n                <div class=\\\"col search_price_discount_combined responsive_secondrow\\\" data-price-final=\\\"850\\\">\\r\\n                    <div class=\\\"col search_discount_and_price responsive_secondrow\\\">\\r\\n                        <div class=\\\"discount_block search_discount_block no_discount\\\" data-price-final=\\\"850\\\" data-bundlediscount=\\\"0\\\" data-discount=\\\"0\\\"><div class=\\\"discount_prices\\\"><div class=\\\"discount_final_price\\\">£8.50<\\/div><\\/div><\\/div>                    <\\/div>\\r\\n                <\\/div>\\r\\n            <\\/div>\\r\\n\\r\\n\\r\\n            <div style=\\\"clear: left;\\\"><\\/div>\\r\\n        <\\/a>\\r\\n            \\r\\n\\t\\t\\t\\t\n",
      "=====\n"
     ]
    },
    {
     "name": "stderr",
     "output_type": "stream",
     "text": [
      " 57%|██████████████████████████████████████████▏                               | 902/1583 [14:02:27<5:43:00, 30.22s/it]"
     ]
    },
    {
     "name": "stdout",
     "output_type": "stream",
     "text": [
      "[INFO] Cannot parse following info.\n",
      "<a href=\\\"https:\\/\\/store.steampowered.com\\/app\\/1921200\\/A_List_Of_People_Who_Went_Missing_In_The_Scheleirland_National_Forest\\/?snr=1_7_7_230_150_903\\\"\\r\\n\\t\\t\\t data-ds-appid=\\\"1921200\\\" data-ds-itemkey=\\\"App_1921200\\\" data-ds-tagids=\\\"[1667,1721,11014,3799,1710,4342,6815]\\\" data-ds-descids=\\\"[2,5]\\\" data-ds-crtrids=\\\"[42253928]\\\" onmouseover=\\\"GameHover( this, event, 'global_hover', {&quot;type&quot;:&quot;app&quot;,&quot;id&quot;:1921200,&quot;public&quot;:1,&quot;v6&quot;:1} );\\\" onmouseout=\\\"HideGameHover( this, event, 'global_hover' )\\\" class=\\\"search_result_row ds_collapse_flag \\\"\\r\\n\\t\\t   data-search-page=\\\"903\\\" data-gpnav=\\\"item\\\"\\r\\n\\t\\t   data-ds-steam-deck-compat-handled=\\\"true\\\">\\r\\n            <div class=\\\"col search_capsule\\\"><img src=\\\"https:\\/\\/cdn.cloudflare.steamstatic.com\\/steam\\/apps\\/1921200\\/capsule_sm_120.jpg?t=1656514221\\\" srcset=\\\"https:\\/\\/cdn.cloudflare.steamstatic.com\\/steam\\/apps\\/1921200\\/capsule_sm_120.jpg?t=1656514221 1x, https:\\/\\/cdn.cloudflare.steamstatic.com\\/steam\\/apps\\/1921200\\/capsule_231x87.jpg?t=1656514221 2x\\\"><\\/div>\\r\\n            <div class=\\\"responsive_search_name_combined\\\">\\r\\n                <div class=\\\"col search_name ellipsis\\\">\\r\\n                    <span class=\\\"title\\\">A List Of People Who Went Missing In The Scheleirland National Forest<\\/span>\\r\\n                    <div>\\r\\n                                                <span class=\\\"platform_img win\\\"><\\/span><span class=\\\"platform_img mac\\\"><\\/span>                                            <\\/div>\\r\\n                <\\/div>\\r\\n                <div class=\\\"col search_released responsive_secondrow\\\">\\r\\n                    14 Mar, 2022                <\\/div>\\r\\n                <div class=\\\"col search_reviewscore responsive_secondrow\\\">\\r\\n                                    <\\/div>\\r\\n\\r\\n\\r\\n                <div class=\\\"col search_price_discount_combined responsive_secondrow\\\" data-price-final=\\\"263\\\">\\r\\n                    <div class=\\\"col search_discount_and_price responsive_secondrow\\\">\\r\\n                        <div class=\\\"discount_block search_discount_block\\\" data-price-final=\\\"263\\\" data-bundlediscount=\\\"0\\\" data-discount=\\\"45\\\"><div class=\\\"discount_pct\\\">-45%<\\/div><div class=\\\"discount_prices\\\"><div class=\\\"discount_original_price\\\">£4.79<\\/div><div class=\\\"discount_final_price\\\">£2.63<\\/div><\\/div><\\/div>                    <\\/div>\\r\\n                <\\/div>\\r\\n            <\\/div>\\r\\n\\r\\n\\r\\n            <div style=\\\"clear: left;\\\"><\\/div>\\r\\n        <\\/a>\\r\\n            \\r\\n\\t\\t\\t\\t\n",
      "=====\n"
     ]
    },
    {
     "name": "stderr",
     "output_type": "stream",
     "text": [
      " 57%|██████████████████████████████████████████▎                               | 905/1583 [14:03:59<5:43:30, 30.40s/it]"
     ]
    },
    {
     "name": "stdout",
     "output_type": "stream",
     "text": [
      "[INFO] Cannot parse following info.\n",
      "<a href=\\\"https:\\/\\/store.steampowered.com\\/app\\/1526360\\/Customers_From_Hell__Game_For_Retail_Workers_Zombie_Survival_Game\\/?snr=1_7_7_230_150_906\\\"\\r\\n\\t\\t\\t data-ds-appid=\\\"1526360\\\" data-ds-itemkey=\\\"App_1526360\\\" data-ds-tagids=\\\"[19,3978,599,3814,1659,21,597]\\\" data-ds-descids=\\\"[2,5]\\\" data-ds-crtrids=\\\"[39599280]\\\" onmouseover=\\\"GameHover( this, event, 'global_hover', {&quot;type&quot;:&quot;app&quot;,&quot;id&quot;:1526360,&quot;public&quot;:1,&quot;v6&quot;:1} );\\\" onmouseout=\\\"HideGameHover( this, event, 'global_hover' )\\\" class=\\\"search_result_row ds_collapse_flag \\\"\\r\\n\\t\\t   data-search-page=\\\"906\\\" data-gpnav=\\\"item\\\"\\r\\n\\t\\t   data-ds-steam-deck-compat-handled=\\\"true\\\">\\r\\n            <div class=\\\"col search_capsule\\\"><img src=\\\"https:\\/\\/cdn.cloudflare.steamstatic.com\\/steam\\/apps\\/1526360\\/capsule_sm_120.jpg?t=1667025400\\\" srcset=\\\"https:\\/\\/cdn.cloudflare.steamstatic.com\\/steam\\/apps\\/1526360\\/capsule_sm_120.jpg?t=1667025400 1x, https:\\/\\/cdn.cloudflare.steamstatic.com\\/steam\\/apps\\/1526360\\/capsule_231x87.jpg?t=1667025400 2x\\\"><\\/div>\\r\\n            <div class=\\\"responsive_search_name_combined\\\">\\r\\n                <div class=\\\"col search_name ellipsis\\\">\\r\\n                    <span class=\\\"title\\\">Customers From Hell - Game For Retail Workers (Zombie Survival Game)<\\/span>\\r\\n                    <div>\\r\\n                                                <span class=\\\"platform_img win\\\"><\\/span>                                            <\\/div>\\r\\n                <\\/div>\\r\\n                <div class=\\\"col search_released responsive_secondrow\\\">\\r\\n                    3 Aug, 2021                <\\/div>\\r\\n                <div class=\\\"col search_reviewscore responsive_secondrow\\\">\\r\\n                                    <\\/div>\\r\\n\\r\\n\\r\\n                <div class=\\\"col search_price_discount_combined responsive_secondrow\\\" data-price-final=\\\"434\\\">\\r\\n                    <div class=\\\"col search_discount_and_price responsive_secondrow\\\">\\r\\n                        <div class=\\\"discount_block search_discount_block\\\" data-price-final=\\\"434\\\" data-bundlediscount=\\\"0\\\" data-discount=\\\"25\\\"><div class=\\\"discount_pct\\\">-25%<\\/div><div class=\\\"discount_prices\\\"><div class=\\\"discount_original_price\\\">£5.79<\\/div><div class=\\\"discount_final_price\\\">£4.34<\\/div><\\/div><\\/div>                    <\\/div>\\r\\n                <\\/div>\\r\\n            <\\/div>\\r\\n\\r\\n\\r\\n            <div style=\\\"clear: left;\\\"><\\/div>\\r\\n        <\\/a>\\r\\n            \\r\\n\\t\\t\\t\\t\n",
      "=====\n"
     ]
    },
    {
     "name": "stderr",
     "output_type": "stream",
     "text": [
      " 57%|██████████████████████████████████████████▍                               | 907/1583 [14:05:00<5:41:39, 30.33s/it]"
     ]
    },
    {
     "name": "stdout",
     "output_type": "stream",
     "text": [
      "[INFO] Cannot parse following info.\n",
      "<a href=\\\"https:\\/\\/store.steampowered.com\\/app\\/347240\\/Challenge_of_the_Five_Realms_Spellbound_in_the_World_of_Nhagardia\\/?snr=1_7_7_230_150_908\\\"\\r\\n\\t\\t\\t data-ds-appid=\\\"347240\\\" data-ds-itemkey=\\\"App_347240\\\" data-ds-tagids=\\\"[21,122,1693]\\\" data-ds-crtrids=\\\"[40527942]\\\" onmouseover=\\\"GameHover( this, event, 'global_hover', {&quot;type&quot;:&quot;app&quot;,&quot;id&quot;:347240,&quot;public&quot;:1,&quot;v6&quot;:1} );\\\" onmouseout=\\\"HideGameHover( this, event, 'global_hover' )\\\" class=\\\"search_result_row ds_collapse_flag \\\"\\r\\n\\t\\t   data-search-page=\\\"908\\\" data-gpnav=\\\"item\\\"\\r\\n\\t\\t   data-ds-steam-deck-compat-handled=\\\"true\\\">\\r\\n            <div class=\\\"col search_capsule\\\"><img src=\\\"https:\\/\\/cdn.cloudflare.steamstatic.com\\/steam\\/apps\\/347240\\/capsule_sm_120.jpg?t=1691612485\\\" srcset=\\\"https:\\/\\/cdn.cloudflare.steamstatic.com\\/steam\\/apps\\/347240\\/capsule_sm_120.jpg?t=1691612485 1x, https:\\/\\/cdn.cloudflare.steamstatic.com\\/steam\\/apps\\/347240\\/capsule_231x87.jpg?t=1691612485 2x\\\"><\\/div>\\r\\n            <div class=\\\"responsive_search_name_combined\\\">\\r\\n                <div class=\\\"col search_name ellipsis\\\">\\r\\n                    <span class=\\\"title\\\">Challenge of the Five Realms: Spellbound in the World of Nhagardia<\\/span>\\r\\n                    <div>\\r\\n                                                <span class=\\\"platform_img win\\\"><\\/span><span class=\\\"platform_img mac\\\"><\\/span><span class=\\\"platform_img linux\\\"><\\/span>                                            <\\/div>\\r\\n                <\\/div>\\r\\n                <div class=\\\"col search_released responsive_secondrow\\\">\\r\\n                    1 Apr, 2015                <\\/div>\\r\\n                <div class=\\\"col search_reviewscore responsive_secondrow\\\">\\r\\n                                    <\\/div>\\r\\n\\r\\n\\r\\n                <div class=\\\"col search_price_discount_combined responsive_secondrow\\\" data-price-final=\\\"249\\\">\\r\\n                    <div class=\\\"col search_discount_and_price responsive_secondrow\\\">\\r\\n                        <div class=\\\"discount_block search_discount_block\\\" data-price-final=\\\"249\\\" data-bundlediscount=\\\"0\\\" data-discount=\\\"50\\\"><div class=\\\"discount_pct\\\">-50%<\\/div><div class=\\\"discount_prices\\\"><div class=\\\"discount_original_price\\\">£4.99<\\/div><div class=\\\"discount_final_price\\\">£2.49<\\/div><\\/div><\\/div>                    <\\/div>\\r\\n                <\\/div>\\r\\n            <\\/div>\\r\\n\\r\\n\\r\\n            <div style=\\\"clear: left;\\\"><\\/div>\\r\\n        <\\/a>\\r\\n            \\r\\n\\t\\t\\t\\t\n",
      "=====\n"
     ]
    },
    {
     "name": "stderr",
     "output_type": "stream",
     "text": [
      " 57%|██████████████████████████████████████████▍                               | 908/1583 [14:05:30<5:42:29, 30.44s/it]"
     ]
    },
    {
     "name": "stdout",
     "output_type": "stream",
     "text": [
      "[INFO] Cannot parse following info.\n",
      "<a href=\\\"https:\\/\\/store.steampowered.com\\/app\\/763000\\/Super_Army_of_Tentacles_3_The_Search_for_Army_of_Tentacles_2_Black_GOAT_of_the_Woods_Edition\\/?snr=1_7_7_230_150_909\\\"\\r\\n\\t\\t\\t data-ds-appid=\\\"763000\\\" data-ds-itemkey=\\\"App_763000\\\" data-ds-tagids=\\\"[4474,3799,10695,4747,122,3871,4726]\\\" data-ds-crtrids=\\\"[33017070]\\\" onmouseover=\\\"GameHover( this, event, 'global_hover', {&quot;type&quot;:&quot;app&quot;,&quot;id&quot;:763000,&quot;public&quot;:1,&quot;v6&quot;:1} );\\\" onmouseout=\\\"HideGameHover( this, event, 'global_hover' )\\\" class=\\\"search_result_row ds_collapse_flag \\\"\\r\\n\\t\\t   data-search-page=\\\"909\\\" data-gpnav=\\\"item\\\"\\r\\n\\t\\t   data-ds-steam-deck-compat-handled=\\\"true\\\">\\r\\n            <div class=\\\"col search_capsule\\\"><img src=\\\"https:\\/\\/cdn.cloudflare.steamstatic.com\\/steam\\/apps\\/763000\\/capsule_sm_120.jpg?t=1663115091\\\" srcset=\\\"https:\\/\\/cdn.cloudflare.steamstatic.com\\/steam\\/apps\\/763000\\/capsule_sm_120.jpg?t=1663115091 1x, https:\\/\\/cdn.cloudflare.steamstatic.com\\/steam\\/apps\\/763000\\/capsule_231x87.jpg?t=1663115091 2x\\\"><\\/div>\\r\\n            <div class=\\\"responsive_search_name_combined\\\">\\r\\n                <div class=\\\"col search_name ellipsis\\\">\\r\\n                    <span class=\\\"title\\\">Super Army of Tentacles 3: The Search for Army of Tentacles 2: Black GOAT of the Woods Edition<\\/span>\\r\\n                    <div>\\r\\n                                                <span class=\\\"platform_img win\\\"><\\/span><span class=\\\"platform_img linux\\\"><\\/span>                                            <\\/div>\\r\\n                <\\/div>\\r\\n                <div class=\\\"col search_released responsive_secondrow\\\">\\r\\n                    5 Feb, 2018                <\\/div>\\r\\n                <div class=\\\"col search_reviewscore responsive_secondrow\\\">\\r\\n                                    <\\/div>\\r\\n\\r\\n\\r\\n                <div class=\\\"col search_price_discount_combined responsive_secondrow\\\" data-price-final=\\\"449\\\">\\r\\n                    <div class=\\\"col search_discount_and_price responsive_secondrow\\\">\\r\\n                        <div class=\\\"discount_block search_discount_block\\\" data-price-final=\\\"449\\\" data-bundlediscount=\\\"0\\\" data-discount=\\\"82\\\"><div class=\\\"discount_pct\\\">-82%<\\/div><div class=\\\"discount_prices\\\"><div class=\\\"discount_original_price\\\">£24.99<\\/div><div class=\\\"discount_final_price\\\">£4.49<\\/div><\\/div><\\/div>                    <\\/div>\\r\\n                <\\/div>\\r\\n            <\\/div>\\r\\n\\r\\n\\r\\n            <div style=\\\"clear: left;\\\"><\\/div>\\r\\n        <\\/a>\\r\\n            \\r\\n\\t\\t\\t\\t\n",
      "=====\n"
     ]
    },
    {
     "name": "stderr",
     "output_type": "stream",
     "text": [
      " 57%|██████████████████████████████████████████▍                               | 909/1583 [14:06:01<5:40:58, 30.35s/it]"
     ]
    },
    {
     "name": "stdout",
     "output_type": "stream",
     "text": [
      "[INFO] Cannot parse following info.\n",
      "<a href=\\\"https:\\/\\/store.steampowered.com\\/app\\/1405980\\/Astronomy_Lab_on_PC_Relativity_Lunar_Landing_Space_Flight_and_Interstellar_Travelling\\/?snr=1_7_7_230_150_910\\\"\\r\\n\\t\\t\\t data-ds-appid=\\\"1405980\\\" data-ds-itemkey=\\\"App_1405980\\\" data-ds-tagids=\\\"[597,13782,1755,3968,4182]\\\" onmouseover=\\\"GameHover( this, event, 'global_hover', {&quot;type&quot;:&quot;app&quot;,&quot;id&quot;:1405980,&quot;public&quot;:1,&quot;v6&quot;:1} );\\\" onmouseout=\\\"HideGameHover( this, event, 'global_hover' )\\\" class=\\\"search_result_row ds_collapse_flag \\\"\\r\\n\\t\\t   data-search-page=\\\"910\\\" data-gpnav=\\\"item\\\"\\r\\n\\t\\t   data-ds-steam-deck-compat-handled=\\\"true\\\">\\r\\n            <div class=\\\"col search_capsule\\\"><img src=\\\"https:\\/\\/cdn.cloudflare.steamstatic.com\\/steam\\/apps\\/1405980\\/capsule_sm_120.jpg?t=1659426846\\\" srcset=\\\"https:\\/\\/cdn.cloudflare.steamstatic.com\\/steam\\/apps\\/1405980\\/capsule_sm_120.jpg?t=1659426846 1x, https:\\/\\/cdn.cloudflare.steamstatic.com\\/steam\\/apps\\/1405980\\/capsule_231x87.jpg?t=1659426846 2x\\\"><\\/div>\\r\\n            <div class=\\\"responsive_search_name_combined\\\">\\r\\n                <div class=\\\"col search_name ellipsis\\\">\\r\\n                    <span class=\\\"title\\\">Astronomy Lab on PC: Relativity, Lunar Landing, Space Flight, and Interstellar Travelling<\\/span>\\r\\n                    <div>\\r\\n                                                <span class=\\\"platform_img win\\\"><\\/span>                                            <\\/div>\\r\\n                <\\/div>\\r\\n                <div class=\\\"col search_released responsive_secondrow\\\">\\r\\n                    12 Sep, 2020                <\\/div>\\r\\n                <div class=\\\"col search_reviewscore responsive_secondrow\\\">\\r\\n                                    <\\/div>\\r\\n\\r\\n\\r\\n                <div class=\\\"col search_price_discount_combined responsive_secondrow\\\" data-price-final=\\\"337\\\">\\r\\n                    <div class=\\\"col search_discount_and_price responsive_secondrow\\\">\\r\\n                        <div class=\\\"discount_block search_discount_block\\\" data-price-final=\\\"337\\\" data-bundlediscount=\\\"0\\\" data-discount=\\\"53\\\"><div class=\\\"discount_pct\\\">-53%<\\/div><div class=\\\"discount_prices\\\"><div class=\\\"discount_original_price\\\">£7.19<\\/div><div class=\\\"discount_final_price\\\">£3.37<\\/div><\\/div><\\/div>                    <\\/div>\\r\\n                <\\/div>\\r\\n            <\\/div>\\r\\n\\r\\n\\r\\n            <div style=\\\"clear: left;\\\"><\\/div>\\r\\n        <\\/a>\\r\\n            \\r\\n\\t\\t\\t\\t\n",
      "=====\n"
     ]
    },
    {
     "name": "stderr",
     "output_type": "stream",
     "text": [
      " 58%|██████████████████████████████████████████▋                               | 913/1583 [14:08:05<5:45:31, 30.94s/it]"
     ]
    },
    {
     "name": "stdout",
     "output_type": "stream",
     "text": [
      "[INFO] Cannot parse following info.\n",
      "<a href=\\\"https:\\/\\/store.steampowered.com\\/app\\/2238430\\/MonYu_Defeat_Monsters_And_Gain_Strong_Weapons_And_Armor_You_May_Be_Defeated_But_Dont_Give_Up_Become_Stronger_I_Believe_There_Will_Be_A_Day_When_The_Heroes_Defeat_The_Devil_King\\/?snr=1_7_7_230_150_914\\\"\\r\\n\\t\\t\\t data-ds-appid=\\\"2238430\\\" data-ds-itemkey=\\\"App_2238430\\\" data-ds-tagids=\\\"[122,4434,1720,3871,1684,4747,4182]\\\" data-ds-crtrids=\\\"[33021927]\\\" onmouseover=\\\"GameHover( this, event, 'global_hover', {&quot;type&quot;:&quot;app&quot;,&quot;id&quot;:2238430,&quot;public&quot;:1,&quot;v6&quot;:1} );\\\" onmouseout=\\\"HideGameHover( this, event, 'global_hover' )\\\" class=\\\"search_result_row ds_collapse_flag \\\"\\r\\n\\t\\t   data-search-page=\\\"914\\\" data-gpnav=\\\"item\\\"\\r\\n\\t\\t   data-ds-steam-deck-compat-handled=\\\"true\\\">\\r\\n            <div class=\\\"col search_capsule\\\"><img src=\\\"https:\\/\\/cdn.cloudflare.steamstatic.com\\/steam\\/apps\\/2238430\\/capsule_sm_120.jpg?t=1695279689\\\" srcset=\\\"https:\\/\\/cdn.cloudflare.steamstatic.com\\/steam\\/apps\\/2238430\\/capsule_sm_120.jpg?t=1695279689 1x, https:\\/\\/cdn.cloudflare.steamstatic.com\\/steam\\/apps\\/2238430\\/capsule_231x87.jpg?t=1695279689 2x\\\"><\\/div>\\r\\n            <div class=\\\"responsive_search_name_combined\\\">\\r\\n                <div class=\\\"col search_name ellipsis\\\">\\r\\n                    <span class=\\\"title\\\">Mon-Yu: Defeat Monsters And Gain Strong Weapons And Armor. You May Be Defeated, But Don’t Give Up. Become Stronger. I Believe There Will Be A Day When The Heroes Defeat The Devil King.<\\/span>\\r\\n                    <div>\\r\\n                                                <span class=\\\"platform_img win\\\"><\\/span>                                            <\\/div>\\r\\n                <\\/div>\\r\\n                <div class=\\\"col search_released responsive_secondrow\\\">\\r\\n                    21 Sep, 2023                <\\/div>\\r\\n                <div class=\\\"col search_reviewscore responsive_secondrow\\\">\\r\\n                                    <\\/div>\\r\\n\\r\\n\\r\\n                <div class=\\\"col search_price_discount_combined responsive_secondrow\\\" data-price-final=\\\"4199\\\">\\r\\n                    <div class=\\\"col search_discount_and_price responsive_secondrow\\\">\\r\\n                        <div class=\\\"discount_block search_discount_block no_discount\\\" data-price-final=\\\"4199\\\" data-bundlediscount=\\\"0\\\" data-discount=\\\"0\\\"><div class=\\\"discount_prices\\\"><div class=\\\"discount_final_price\\\">£41.99<\\/div><\\/div><\\/div>                    <\\/div>\\r\\n                <\\/div>\\r\\n            <\\/div>\\r\\n\\r\\n\\r\\n            <div style=\\\"clear: left;\\\"><\\/div>\\r\\n        <\\/a>\\r\\n            \\r\\n\\t\\t\\t\\t\n",
      "=====\n"
     ]
    },
    {
     "name": "stderr",
     "output_type": "stream",
     "text": [
      " 61%|████████████████████████████████████████████▊                             | 958/1583 [14:31:20<5:24:07, 31.12s/it]"
     ]
    },
    {
     "name": "stdout",
     "output_type": "stream",
     "text": [
      "[INFO] Cannot parse following info.\n",
      "<a href=\\\"https:\\/\\/store.steampowered.com\\/app\\/1065680\\/The_Chronicles_of_King_Arthur_Episode_2__Knights_of_the_Round_Table\\/?snr=1_7_7_230_150_959\\\"\\r\\n\\t\\t\\t data-ds-appid=\\\"1065680\\\" data-ds-itemkey=\\\"App_1065680\\\" data-ds-tagids=\\\"[597,1665]\\\" data-ds-crtrids=\\\"[35103482,34049251]\\\" onmouseover=\\\"GameHover( this, event, 'global_hover', {&quot;type&quot;:&quot;app&quot;,&quot;id&quot;:1065680,&quot;public&quot;:1,&quot;v6&quot;:1} );\\\" onmouseout=\\\"HideGameHover( this, event, 'global_hover' )\\\" class=\\\"search_result_row ds_collapse_flag \\\"\\r\\n\\t\\t   data-search-page=\\\"959\\\" data-gpnav=\\\"item\\\"\\r\\n\\t\\t   data-ds-steam-deck-compat-handled=\\\"true\\\">\\r\\n            <div class=\\\"col search_capsule\\\"><img src=\\\"https:\\/\\/cdn.cloudflare.steamstatic.com\\/steam\\/apps\\/1065680\\/capsule_sm_120.jpg?t=1667127695\\\" srcset=\\\"https:\\/\\/cdn.cloudflare.steamstatic.com\\/steam\\/apps\\/1065680\\/capsule_sm_120.jpg?t=1667127695 1x, https:\\/\\/cdn.cloudflare.steamstatic.com\\/steam\\/apps\\/1065680\\/capsule_231x87.jpg?t=1667127695 2x\\\"><\\/div>\\r\\n            <div class=\\\"responsive_search_name_combined\\\">\\r\\n                <div class=\\\"col search_name ellipsis\\\">\\r\\n                    <span class=\\\"title\\\">The Chronicles of King Arthur: Episode 2 - Knights of the Round Table<\\/span>\\r\\n                    <div>\\r\\n                                                <span class=\\\"platform_img win\\\"><\\/span>                                            <\\/div>\\r\\n                <\\/div>\\r\\n                <div class=\\\"col search_released responsive_secondrow\\\">\\r\\n                    3 May, 2019                <\\/div>\\r\\n                <div class=\\\"col search_reviewscore responsive_secondrow\\\">\\r\\n                                    <\\/div>\\r\\n\\r\\n\\r\\n                <div class=\\\"col search_price_discount_combined responsive_secondrow\\\" data-price-final=\\\"449\\\">\\r\\n                    <div class=\\\"col search_discount_and_price responsive_secondrow\\\">\\r\\n                        <div class=\\\"discount_block search_discount_block\\\" data-price-final=\\\"449\\\" data-bundlediscount=\\\"0\\\" data-discount=\\\"10\\\"><div class=\\\"discount_pct\\\">-10%<\\/div><div class=\\\"discount_prices\\\"><div class=\\\"discount_original_price\\\">£4.99<\\/div><div class=\\\"discount_final_price\\\">£4.49<\\/div><\\/div><\\/div>                    <\\/div>\\r\\n                <\\/div>\\r\\n            <\\/div>\\r\\n\\r\\n\\r\\n            <div style=\\\"clear: left;\\\"><\\/div>\\r\\n        <\\/a>\\r\\n            \\r\\n\\t\\t\\t\\t\n",
      "=====\n"
     ]
    },
    {
     "name": "stderr",
     "output_type": "stream",
     "text": [
      " 61%|█████████████████████████████████████████████▎                            | 968/1583 [14:36:39<5:33:58, 32.58s/it]"
     ]
    },
    {
     "name": "stdout",
     "output_type": "stream",
     "text": [
      "[INFO] Cannot parse following info.\n",
      "<a href=\\\"https:\\/\\/store.steampowered.com\\/app\\/1368330\\/VR_Marco_Polos_Travelling_in_Medieval_Asia_The_Far_East_Chinese_Japanese_Shogun_Khitanrevisit_AD_1290\\/?snr=1_7_7_230_150_969\\\"\\r\\n\\t\\t\\t data-ds-appid=\\\"1368330\\\" data-ds-itemkey=\\\"App_1368330\\\" data-ds-tagids=\\\"[597,5900,21978,1654,4182]\\\" onmouseover=\\\"GameHover( this, event, 'global_hover', {&quot;type&quot;:&quot;app&quot;,&quot;id&quot;:1368330,&quot;public&quot;:1,&quot;v6&quot;:1} );\\\" onmouseout=\\\"HideGameHover( this, event, 'global_hover' )\\\" class=\\\"search_result_row ds_collapse_flag \\\"\\r\\n\\t\\t   data-search-page=\\\"969\\\" data-gpnav=\\\"item\\\"\\r\\n\\t\\t   data-ds-steam-deck-compat-handled=\\\"true\\\">\\r\\n            <div class=\\\"col search_capsule\\\"><img src=\\\"https:\\/\\/cdn.cloudflare.steamstatic.com\\/steam\\/apps\\/1368330\\/capsule_sm_120.jpg?t=1667372840\\\" srcset=\\\"https:\\/\\/cdn.cloudflare.steamstatic.com\\/steam\\/apps\\/1368330\\/capsule_sm_120.jpg?t=1667372840 1x, https:\\/\\/cdn.cloudflare.steamstatic.com\\/steam\\/apps\\/1368330\\/capsule_231x87.jpg?t=1667372840 2x\\\"><\\/div>\\r\\n            <div class=\\\"responsive_search_name_combined\\\">\\r\\n                <div class=\\\"col search_name ellipsis\\\">\\r\\n                    <span class=\\\"title\\\">VR Marco Polo's Travelling in Medieval Asia (The Far East, Chinese, Japanese, Shogun, Khitan...revisit A.D. 1290)<\\/span>\\r\\n                    <div>\\r\\n                                                <span class=\\\"platform_img win\\\"><\\/span><span class=\\\"vr_required\\\">VR Only<\\/span>                                                \\t<span class=\\\"includes_games_results\\\">Includes 3 games<\\/span>\\r\\n                                            <\\/div>\\r\\n                <\\/div>\\r\\n                <div class=\\\"col search_released responsive_secondrow\\\">\\r\\n                    27 Jul, 2020                <\\/div>\\r\\n                <div class=\\\"col search_reviewscore responsive_secondrow\\\">\\r\\n                                    <\\/div>\\r\\n\\r\\n\\r\\n                <div class=\\\"col search_price_discount_combined responsive_secondrow\\\" data-price-final=\\\"535\\\">\\r\\n                    <div class=\\\"col search_discount_and_price responsive_secondrow\\\">\\r\\n                        <div class=\\\"discount_block search_discount_block\\\" data-price-final=\\\"453\\\" data-bundlediscount=\\\"38\\\" data-discount=\\\"71\\\"><div class=\\\"bundle_base_discount\\\">-38%<\\/div><div class=\\\"discount_pct\\\">-71%<\\/div><div class=\\\"discount_prices\\\"><div class=\\\"discount_original_price\\\">£15.57<\\/div><div class=\\\"discount_final_price\\\">£4.53<\\/div><\\/div><\\/div>                    <\\/div>\\r\\n                <\\/div>\\r\\n            <\\/div>\\r\\n\\r\\n\\r\\n            <div style=\\\"clear: left;\\\"><\\/div>\\r\\n        <\\/a>\\r\\n            \\r\\n\\t\\t\\t\\t\n",
      "=====\n"
     ]
    },
    {
     "name": "stderr",
     "output_type": "stream",
     "text": [
      " 62%|█████████████████████████████████████████████▉                            | 982/1583 [14:44:18<5:30:55, 33.04s/it]"
     ]
    },
    {
     "name": "stdout",
     "output_type": "stream",
     "text": [
      "[INFO] Cannot parse following info.\n",
      "<a href=\\\"https:\\/\\/store.steampowered.com\\/app\\/1675410\\/There_May_Be_NinetyNine_Of_Us_But_We_Have_To_Win_In_NinetyNine_Turns\\/?snr=1_7_7_230_150_983\\\"\\r\\n\\t\\t\\t data-ds-appid=\\\"1675410\\\" data-ds-itemkey=\\\"App_1675410\\\" data-ds-tagids=\\\"[122,4182,17305,1664,1719,4747,3871]\\\" onmouseover=\\\"GameHover( this, event, 'global_hover', {&quot;type&quot;:&quot;app&quot;,&quot;id&quot;:1675410,&quot;public&quot;:1,&quot;v6&quot;:1} );\\\" onmouseout=\\\"HideGameHover( this, event, 'global_hover' )\\\" class=\\\"search_result_row ds_collapse_flag \\\"\\r\\n\\t\\t   data-search-page=\\\"983\\\" data-gpnav=\\\"item\\\"\\r\\n\\t\\t   data-ds-steam-deck-compat-handled=\\\"true\\\">\\r\\n            <div class=\\\"col search_capsule\\\"><img src=\\\"https:\\/\\/cdn.cloudflare.steamstatic.com\\/steam\\/apps\\/1675410\\/capsule_sm_120.jpg?t=1626246051\\\" srcset=\\\"https:\\/\\/cdn.cloudflare.steamstatic.com\\/steam\\/apps\\/1675410\\/capsule_sm_120.jpg?t=1626246051 1x, https:\\/\\/cdn.cloudflare.steamstatic.com\\/steam\\/apps\\/1675410\\/capsule_231x87.jpg?t=1626246051 2x\\\"><\\/div>\\r\\n            <div class=\\\"responsive_search_name_combined\\\">\\r\\n                <div class=\\\"col search_name ellipsis\\\">\\r\\n                    <span class=\\\"title\\\">There May Be Ninety-Nine Of Us, But We Have To Win In Ninety-Nine Turns!<\\/span>\\r\\n                    <div>\\r\\n                                                <span class=\\\"platform_img win\\\"><\\/span>                                            <\\/div>\\r\\n                <\\/div>\\r\\n                <div class=\\\"col search_released responsive_secondrow\\\">\\r\\n                    14 Jul, 2021                <\\/div>\\r\\n                <div class=\\\"col search_reviewscore responsive_secondrow\\\">\\r\\n                                    <\\/div>\\r\\n\\r\\n\\r\\n                <div class=\\\"col search_price_discount_combined responsive_secondrow\\\" data-price-final=\\\"144\\\">\\r\\n                    <div class=\\\"col search_discount_and_price responsive_secondrow\\\">\\r\\n                        <div class=\\\"discount_block search_discount_block\\\" data-price-final=\\\"144\\\" data-bundlediscount=\\\"0\\\" data-discount=\\\"50\\\"><div class=\\\"discount_pct\\\">-50%<\\/div><div class=\\\"discount_prices\\\"><div class=\\\"discount_original_price\\\">£2.89<\\/div><div class=\\\"discount_final_price\\\">£1.44<\\/div><\\/div><\\/div>                    <\\/div>\\r\\n                <\\/div>\\r\\n            <\\/div>\\r\\n\\r\\n\\r\\n            <div style=\\\"clear: left;\\\"><\\/div>\\r\\n        <\\/a>\\r\\n            \\r\\n\\t\\t\\t\\t\n",
      "=====\n"
     ]
    },
    {
     "name": "stderr",
     "output_type": "stream",
     "text": [
      " 63%|██████████████████████████████████████████████▎                           | 990/1583 [14:48:30<5:07:19, 31.10s/it]"
     ]
    },
    {
     "name": "stdout",
     "output_type": "stream",
     "text": [
      "[INFO] Cannot parse following info.\n",
      "<a href=\\\"https:\\/\\/store.steampowered.com\\/app\\/926110\\/Death_and_Betrayal_in_Romania_A_Dana_Knightstone_Novel_Collectors_Edition\\/?snr=1_7_7_230_150_991\\\"\\r\\n\\t\\t\\t data-ds-appid=\\\"926110\\\" data-ds-itemkey=\\\"App_926110\\\" data-ds-tagids=\\\"[597,21,1738]\\\" data-ds-crtrids=\\\"[33566870]\\\" onmouseover=\\\"GameHover( this, event, 'global_hover', {&quot;type&quot;:&quot;app&quot;,&quot;id&quot;:926110,&quot;public&quot;:1,&quot;v6&quot;:1} );\\\" onmouseout=\\\"HideGameHover( this, event, 'global_hover' )\\\" class=\\\"search_result_row ds_collapse_flag \\\"\\r\\n\\t\\t   data-search-page=\\\"991\\\" data-gpnav=\\\"item\\\"\\r\\n\\t\\t   data-ds-steam-deck-compat-handled=\\\"true\\\">\\r\\n            <div class=\\\"col search_capsule\\\"><img src=\\\"https:\\/\\/cdn.cloudflare.steamstatic.com\\/steam\\/apps\\/926110\\/capsule_sm_120.jpg?t=1536598248\\\" srcset=\\\"https:\\/\\/cdn.cloudflare.steamstatic.com\\/steam\\/apps\\/926110\\/capsule_sm_120.jpg?t=1536598248 1x, https:\\/\\/cdn.cloudflare.steamstatic.com\\/steam\\/apps\\/926110\\/capsule_231x87.jpg?t=1536598248 2x\\\"><\\/div>\\r\\n            <div class=\\\"responsive_search_name_combined\\\">\\r\\n                <div class=\\\"col search_name ellipsis\\\">\\r\\n                    <span class=\\\"title\\\">Death and Betrayal in Romania: A Dana Knightstone Novel Collector's Edition<\\/span>\\r\\n                    <div>\\r\\n                                                <span class=\\\"platform_img win\\\"><\\/span>                                            <\\/div>\\r\\n                <\\/div>\\r\\n                <div class=\\\"col search_released responsive_secondrow\\\">\\r\\n                    10 Sep, 2018                <\\/div>\\r\\n                <div class=\\\"col search_reviewscore responsive_secondrow\\\">\\r\\n                                    <\\/div>\\r\\n\\r\\n\\r\\n                <div class=\\\"col search_price_discount_combined responsive_secondrow\\\" data-price-final=\\\"359\\\">\\r\\n                    <div class=\\\"col search_discount_and_price responsive_secondrow\\\">\\r\\n                        <div class=\\\"discount_block search_discount_block\\\" data-price-final=\\\"359\\\" data-bundlediscount=\\\"0\\\" data-discount=\\\"50\\\"><div class=\\\"discount_pct\\\">-50%<\\/div><div class=\\\"discount_prices\\\"><div class=\\\"discount_original_price\\\">£7.19<\\/div><div class=\\\"discount_final_price\\\">£3.59<\\/div><\\/div><\\/div>                    <\\/div>\\r\\n                <\\/div>\\r\\n            <\\/div>\\r\\n\\r\\n\\r\\n            <div style=\\\"clear: left;\\\"><\\/div>\\r\\n        <\\/a>\\r\\n            \\r\\n\\t\\t\\t\\t\n",
      "=====\n"
     ]
    },
    {
     "name": "stderr",
     "output_type": "stream",
     "text": [
      " 63%|██████████████████████████████████████████████                           | 1000/1583 [14:53:50<5:12:42, 32.18s/it]"
     ]
    },
    {
     "name": "stdout",
     "output_type": "stream",
     "text": [
      "[INFO] Cannot parse following info.\n",
      "<a href=\\\"https:\\/\\/store.steampowered.com\\/app\\/1397230\\/VR_Time_Machine_Travelling_in_history_Visit_ancient_Egypt_Babylon_and_Greece_in_BC_400\\/?snr=1_7_7_230_150_1001\\\"\\r\\n\\t\\t\\t data-ds-appid=\\\"1397230\\\" data-ds-itemkey=\\\"App_1397230\\\" data-ds-tagids=\\\"[597,3834,21978,4172,4182]\\\" onmouseover=\\\"GameHover( this, event, 'global_hover', {&quot;type&quot;:&quot;app&quot;,&quot;id&quot;:1397230,&quot;public&quot;:1,&quot;v6&quot;:1} );\\\" onmouseout=\\\"HideGameHover( this, event, 'global_hover' )\\\" class=\\\"search_result_row ds_collapse_flag \\\"\\r\\n\\t\\t   data-search-page=\\\"1001\\\" data-gpnav=\\\"item\\\"\\r\\n\\t\\t   data-ds-steam-deck-compat-handled=\\\"true\\\">\\r\\n            <div class=\\\"col search_capsule\\\"><img src=\\\"https:\\/\\/cdn.cloudflare.steamstatic.com\\/steam\\/apps\\/1397230\\/capsule_sm_120.jpg?t=1659581002\\\" srcset=\\\"https:\\/\\/cdn.cloudflare.steamstatic.com\\/steam\\/apps\\/1397230\\/capsule_sm_120.jpg?t=1659581002 1x, https:\\/\\/cdn.cloudflare.steamstatic.com\\/steam\\/apps\\/1397230\\/capsule_231x87.jpg?t=1659581002 2x\\\"><\\/div>\\r\\n            <div class=\\\"responsive_search_name_combined\\\">\\r\\n                <div class=\\\"col search_name ellipsis\\\">\\r\\n                    <span class=\\\"title\\\">VR Time Machine Travelling in history: Visit ancient Egypt, Babylon and Greece in B.C. 400<\\/span>\\r\\n                    <div>\\r\\n                                                <span class=\\\"platform_img win\\\"><\\/span><span class=\\\"vr_required\\\">VR Only<\\/span>                                            <\\/div>\\r\\n                <\\/div>\\r\\n                <div class=\\\"col search_released responsive_secondrow\\\">\\r\\n                    30 Aug, 2020                <\\/div>\\r\\n                <div class=\\\"col search_reviewscore responsive_secondrow\\\">\\r\\n                                    <\\/div>\\r\\n\\r\\n\\r\\n                <div class=\\\"col search_price_discount_combined responsive_secondrow\\\" data-price-final=\\\"337\\\">\\r\\n                    <div class=\\\"col search_discount_and_price responsive_secondrow\\\">\\r\\n                        <div class=\\\"discount_block search_discount_block\\\" data-price-final=\\\"337\\\" data-bundlediscount=\\\"0\\\" data-discount=\\\"53\\\"><div class=\\\"discount_pct\\\">-53%<\\/div><div class=\\\"discount_prices\\\"><div class=\\\"discount_original_price\\\">£7.19<\\/div><div class=\\\"discount_final_price\\\">£3.37<\\/div><\\/div><\\/div>                    <\\/div>\\r\\n                <\\/div>\\r\\n            <\\/div>\\r\\n\\r\\n\\r\\n            <div style=\\\"clear: left;\\\"><\\/div>\\r\\n        <\\/a>\\r\\n            \\r\\n\\t\\t\\t\\t\n",
      "=====\n"
     ]
    },
    {
     "name": "stderr",
     "output_type": "stream",
     "text": [
      " 64%|██████████████████████████████████████████████▍                          | 1006/1583 [14:56:58<5:00:22, 31.23s/it]"
     ]
    },
    {
     "name": "stdout",
     "output_type": "stream",
     "text": [
      "[INFO] Cannot parse following info.\n",
      "<a href=\\\"https:\\/\\/store.steampowered.com\\/app\\/1374330\\/VR_Time_Travelling_in_Medieval_Towns_and_Islands_Magellans_Life_in_ancient_Europe_the_Great_Exploration_Age_and_AD1500_Time_Machine\\/?snr=1_7_7_230_150_1007\\\"\\r\\n\\t\\t\\t data-ds-appid=\\\"1374330\\\" data-ds-itemkey=\\\"App_1374330\\\" data-ds-tagids=\\\"[597,3834,5395,21978,4172]\\\" onmouseover=\\\"GameHover( this, event, 'global_hover', {&quot;type&quot;:&quot;app&quot;,&quot;id&quot;:1374330,&quot;public&quot;:1,&quot;v6&quot;:1} );\\\" onmouseout=\\\"HideGameHover( this, event, 'global_hover' )\\\" class=\\\"search_result_row ds_collapse_flag \\\"\\r\\n\\t\\t   data-search-page=\\\"1007\\\" data-gpnav=\\\"item\\\"\\r\\n\\t\\t   data-ds-steam-deck-compat-handled=\\\"true\\\">\\r\\n            <div class=\\\"col search_capsule\\\"><img src=\\\"https:\\/\\/cdn.cloudflare.steamstatic.com\\/steam\\/apps\\/1374330\\/capsule_sm_120.jpg?t=1658912971\\\" srcset=\\\"https:\\/\\/cdn.cloudflare.steamstatic.com\\/steam\\/apps\\/1374330\\/capsule_sm_120.jpg?t=1658912971 1x, https:\\/\\/cdn.cloudflare.steamstatic.com\\/steam\\/apps\\/1374330\\/capsule_231x87.jpg?t=1658912971 2x\\\"><\\/div>\\r\\n            <div class=\\\"responsive_search_name_combined\\\">\\r\\n                <div class=\\\"col search_name ellipsis\\\">\\r\\n                    <span class=\\\"title\\\">VR Time Travelling in Medieval Towns and Islands: Magellan's Life in ancient Europe, the Great Exploration Age, and A.D.1500 Time Machine<\\/span>\\r\\n                    <div>\\r\\n                                                <span class=\\\"platform_img win\\\"><\\/span><span class=\\\"vr_required\\\">VR Only<\\/span>                                            <\\/div>\\r\\n                <\\/div>\\r\\n                <div class=\\\"col search_released responsive_secondrow\\\">\\r\\n                    5 Aug, 2020                <\\/div>\\r\\n                <div class=\\\"col search_reviewscore responsive_secondrow\\\">\\r\\n                                    <\\/div>\\r\\n\\r\\n\\r\\n                <div class=\\\"col search_price_discount_combined responsive_secondrow\\\" data-price-final=\\\"337\\\">\\r\\n                    <div class=\\\"col search_discount_and_price responsive_secondrow\\\">\\r\\n                        <div class=\\\"discount_block search_discount_block\\\" data-price-final=\\\"337\\\" data-bundlediscount=\\\"0\\\" data-discount=\\\"53\\\"><div class=\\\"discount_pct\\\">-53%<\\/div><div class=\\\"discount_prices\\\"><div class=\\\"discount_original_price\\\">£7.19<\\/div><div class=\\\"discount_final_price\\\">£3.37<\\/div><\\/div><\\/div>                    <\\/div>\\r\\n                <\\/div>\\r\\n            <\\/div>\\r\\n\\r\\n\\r\\n            <div style=\\\"clear: left;\\\"><\\/div>\\r\\n        <\\/a>\\r\\n            \\r\\n\\t\\t\\t\\t\n",
      "=====\n"
     ]
    },
    {
     "name": "stderr",
     "output_type": "stream",
     "text": [
      " 64%|██████████████████████████████████████████████▍                          | 1008/1583 [14:58:00<4:58:02, 31.10s/it]"
     ]
    },
    {
     "name": "stdout",
     "output_type": "stream",
     "text": [
      "[INFO] Cannot parse following info.\n",
      "<a href=\\\"https:\\/\\/store.steampowered.com\\/app\\/1336440\\/Enchanted_Kingdom_The_Secret_of_the_Golden_Lamp_Collectors_Edition\\/?snr=1_7_7_230_150_1009\\\"\\r\\n\\t\\t\\t data-ds-appid=\\\"1336440\\\" data-ds-itemkey=\\\"App_1336440\\\" data-ds-tagids=\\\"[21,597,1698,1738,5716]\\\" data-ds-crtrids=\\\"[33566870]\\\" onmouseover=\\\"GameHover( this, event, 'global_hover', {&quot;type&quot;:&quot;app&quot;,&quot;id&quot;:1336440,&quot;public&quot;:1,&quot;v6&quot;:1} );\\\" onmouseout=\\\"HideGameHover( this, event, 'global_hover' )\\\" class=\\\"search_result_row ds_collapse_flag \\\"\\r\\n\\t\\t   data-search-page=\\\"1009\\\" data-gpnav=\\\"item\\\"\\r\\n\\t\\t   data-ds-steam-deck-compat-handled=\\\"true\\\">\\r\\n            <div class=\\\"col search_capsule\\\"><img src=\\\"https:\\/\\/cdn.cloudflare.steamstatic.com\\/steam\\/apps\\/1336440\\/capsule_sm_120.jpg?t=1590789544\\\" srcset=\\\"https:\\/\\/cdn.cloudflare.steamstatic.com\\/steam\\/apps\\/1336440\\/capsule_sm_120.jpg?t=1590789544 1x, https:\\/\\/cdn.cloudflare.steamstatic.com\\/steam\\/apps\\/1336440\\/capsule_231x87.jpg?t=1590789544 2x\\\"><\\/div>\\r\\n            <div class=\\\"responsive_search_name_combined\\\">\\r\\n                <div class=\\\"col search_name ellipsis\\\">\\r\\n                    <span class=\\\"title\\\">Enchanted Kingdom: The Secret of the Golden Lamp Collector's Edition<\\/span>\\r\\n                    <div>\\r\\n                                                <span class=\\\"platform_img win\\\"><\\/span>                                            <\\/div>\\r\\n                <\\/div>\\r\\n                <div class=\\\"col search_released responsive_secondrow\\\">\\r\\n                    29 May, 2020                <\\/div>\\r\\n                <div class=\\\"col search_reviewscore responsive_secondrow\\\">\\r\\n                                    <\\/div>\\r\\n\\r\\n\\r\\n                <div class=\\\"col search_price_discount_combined responsive_secondrow\\\" data-price-final=\\\"359\\\">\\r\\n                    <div class=\\\"col search_discount_and_price responsive_secondrow\\\">\\r\\n                        <div class=\\\"discount_block search_discount_block\\\" data-price-final=\\\"359\\\" data-bundlediscount=\\\"0\\\" data-discount=\\\"50\\\"><div class=\\\"discount_pct\\\">-50%<\\/div><div class=\\\"discount_prices\\\"><div class=\\\"discount_original_price\\\">£7.19<\\/div><div class=\\\"discount_final_price\\\">£3.59<\\/div><\\/div><\\/div>                    <\\/div>\\r\\n                <\\/div>\\r\\n            <\\/div>\\r\\n\\r\\n\\r\\n            <div style=\\\"clear: left;\\\"><\\/div>\\r\\n        <\\/a>\\r\\n            \\r\\n\\t\\t\\t\\t\n",
      "=====\n"
     ]
    },
    {
     "name": "stderr",
     "output_type": "stream",
     "text": [
      " 64%|██████████████████████████████████████████████▌                          | 1010/1583 [14:59:01<4:53:47, 30.76s/it]"
     ]
    },
    {
     "name": "stdout",
     "output_type": "stream",
     "text": [
      "[INFO] Cannot parse following info.\n",
      "<a href=\\\"https:\\/\\/store.steampowered.com\\/app\\/1399150\\/VR_Time_Machine_Travelling_in_ancient_civilizations_Mayan_Kingdom_Inca_Empire_Indians_and_Aztecs_before_conquest_AD1000\\/?snr=1_7_7_230_150_1011\\\"\\r\\n\\t\\t\\t data-ds-appid=\\\"1399150\\\" data-ds-itemkey=\\\"App_1399150\\\" data-ds-tagids=\\\"[597,5900,21978,4172,4182]\\\" onmouseover=\\\"GameHover( this, event, 'global_hover', {&quot;type&quot;:&quot;app&quot;,&quot;id&quot;:1399150,&quot;public&quot;:1,&quot;v6&quot;:1} );\\\" onmouseout=\\\"HideGameHover( this, event, 'global_hover' )\\\" class=\\\"search_result_row ds_collapse_flag \\\"\\r\\n\\t\\t   data-search-page=\\\"1011\\\" data-gpnav=\\\"item\\\"\\r\\n\\t\\t   data-ds-steam-deck-compat-handled=\\\"true\\\">\\r\\n            <div class=\\\"col search_capsule\\\"><img src=\\\"https:\\/\\/cdn.cloudflare.steamstatic.com\\/steam\\/apps\\/1399150\\/capsule_sm_120.jpg?t=1658807061\\\" srcset=\\\"https:\\/\\/cdn.cloudflare.steamstatic.com\\/steam\\/apps\\/1399150\\/capsule_sm_120.jpg?t=1658807061 1x, https:\\/\\/cdn.cloudflare.steamstatic.com\\/steam\\/apps\\/1399150\\/capsule_231x87.jpg?t=1658807061 2x\\\"><\\/div>\\r\\n            <div class=\\\"responsive_search_name_combined\\\">\\r\\n                <div class=\\\"col search_name ellipsis\\\">\\r\\n                    <span class=\\\"title\\\">VR Time Machine Travelling in ancient civilizations: Mayan Kingdom, Inca Empire, Indians, and Aztecs before conquest A.D.1000<\\/span>\\r\\n                    <div>\\r\\n                                                <span class=\\\"platform_img win\\\"><\\/span><span class=\\\"vr_required\\\">VR Only<\\/span>                                            <\\/div>\\r\\n                <\\/div>\\r\\n                <div class=\\\"col search_released responsive_secondrow\\\">\\r\\n                    2 Sep, 2020                <\\/div>\\r\\n                <div class=\\\"col search_reviewscore responsive_secondrow\\\">\\r\\n                                    <\\/div>\\r\\n\\r\\n\\r\\n                <div class=\\\"col search_price_discount_combined responsive_secondrow\\\" data-price-final=\\\"337\\\">\\r\\n                    <div class=\\\"col search_discount_and_price responsive_secondrow\\\">\\r\\n                        <div class=\\\"discount_block search_discount_block\\\" data-price-final=\\\"337\\\" data-bundlediscount=\\\"0\\\" data-discount=\\\"53\\\"><div class=\\\"discount_pct\\\">-53%<\\/div><div class=\\\"discount_prices\\\"><div class=\\\"discount_original_price\\\">£7.19<\\/div><div class=\\\"discount_final_price\\\">£3.37<\\/div><\\/div><\\/div>                    <\\/div>\\r\\n                <\\/div>\\r\\n            <\\/div>\\r\\n\\r\\n\\r\\n            <div style=\\\"clear: left;\\\"><\\/div>\\r\\n        <\\/a>\\r\\n            \\r\\n\\t\\t\\t\\t\n",
      "=====\n"
     ]
    },
    {
     "name": "stderr",
     "output_type": "stream",
     "text": [
      " 64%|██████████████████████████████████████████████▊                          | 1014/1583 [15:01:01<4:44:13, 29.97s/it]"
     ]
    },
    {
     "name": "stdout",
     "output_type": "stream",
     "text": [
      "[INFO] Cannot parse following info.\n",
      "<a href=\\\"https:\\/\\/store.steampowered.com\\/app\\/1405170\\/VR_historical_journey_to_the_age_of_Crusaders_Medieval_Jerusalem_Saracen_Cities_Arabic_Culture_East_Land\\/?snr=1_7_7_230_150_1015\\\"\\r\\n\\t\\t\\t data-ds-appid=\\\"1405170\\\" data-ds-itemkey=\\\"App_1405170\\\" data-ds-tagids=\\\"[597,5900,21978,4172,4182]\\\" onmouseover=\\\"GameHover( this, event, 'global_hover', {&quot;type&quot;:&quot;app&quot;,&quot;id&quot;:1405170,&quot;public&quot;:1,&quot;v6&quot;:1} );\\\" onmouseout=\\\"HideGameHover( this, event, 'global_hover' )\\\" class=\\\"search_result_row ds_collapse_flag \\\"\\r\\n\\t\\t   data-search-page=\\\"1015\\\" data-gpnav=\\\"item\\\"\\r\\n\\t\\t   data-ds-steam-deck-compat-handled=\\\"true\\\">\\r\\n            <div class=\\\"col search_capsule\\\"><img src=\\\"https:\\/\\/cdn.cloudflare.steamstatic.com\\/steam\\/apps\\/1405170\\/capsule_sm_120.jpg?t=1659580730\\\" srcset=\\\"https:\\/\\/cdn.cloudflare.steamstatic.com\\/steam\\/apps\\/1405170\\/capsule_sm_120.jpg?t=1659580730 1x, https:\\/\\/cdn.cloudflare.steamstatic.com\\/steam\\/apps\\/1405170\\/capsule_231x87.jpg?t=1659580730 2x\\\"><\\/div>\\r\\n            <div class=\\\"responsive_search_name_combined\\\">\\r\\n                <div class=\\\"col search_name ellipsis\\\">\\r\\n                    <span class=\\\"title\\\">VR historical journey to the age of Crusaders: Medieval Jerusalem, Saracen Cities, Arabic Culture, East Land<\\/span>\\r\\n                    <div>\\r\\n                                                <span class=\\\"platform_img win\\\"><\\/span><span class=\\\"vr_required\\\">VR Only<\\/span>                                                \\t<span class=\\\"includes_games_results\\\">Includes 2 games<\\/span>\\r\\n                                            <\\/div>\\r\\n                <\\/div>\\r\\n                <div class=\\\"col search_released responsive_secondrow\\\">\\r\\n                    22 Sep, 2020                <\\/div>\\r\\n                <div class=\\\"col search_reviewscore responsive_secondrow\\\">\\r\\n                                    <\\/div>\\r\\n\\r\\n\\r\\n                <div class=\\\"col search_price_discount_combined responsive_secondrow\\\" data-price-final=\\\"337\\\">\\r\\n                    <div class=\\\"col search_discount_and_price responsive_secondrow\\\">\\r\\n                        <div class=\\\"discount_block search_discount_block\\\" data-price-final=\\\"142\\\" data-bundlediscount=\\\"79\\\" data-discount=\\\"90\\\"><div class=\\\"bundle_base_discount\\\">-79%<\\/div><div class=\\\"discount_pct\\\">-90%<\\/div><div class=\\\"discount_prices\\\"><div class=\\\"discount_original_price\\\">£14.38<\\/div><div class=\\\"discount_final_price\\\">£1.42<\\/div><\\/div><\\/div>                    <\\/div>\\r\\n                <\\/div>\\r\\n            <\\/div>\\r\\n\\r\\n\\r\\n            <div style=\\\"clear: left;\\\"><\\/div>\\r\\n        <\\/a>\\r\\n            \\r\\n\\t\\t\\t\\t\n",
      "=====\n"
     ]
    },
    {
     "name": "stderr",
     "output_type": "stream",
     "text": [
      " 64%|██████████████████████████████████████████████▊                          | 1016/1583 [15:01:58<4:36:05, 29.22s/it]"
     ]
    },
    {
     "name": "stdout",
     "output_type": "stream",
     "text": [
      "[INFO] Cannot parse following info.\n",
      "<a href=\\\"https:\\/\\/store.steampowered.com\\/app\\/1386530\\/VR_Travelling_in_the_Roman_Empire_VR_Rome_Time_machine_travel_in_history\\/?snr=1_7_7_230_150_1017\\\"\\r\\n\\t\\t\\t data-ds-appid=\\\"1386530\\\" data-ds-itemkey=\\\"App_1386530\\\" data-ds-tagids=\\\"[597,3834,5395,21978,6948,4182]\\\" onmouseover=\\\"GameHover( this, event, 'global_hover', {&quot;type&quot;:&quot;app&quot;,&quot;id&quot;:1386530,&quot;public&quot;:1,&quot;v6&quot;:1} );\\\" onmouseout=\\\"HideGameHover( this, event, 'global_hover' )\\\" class=\\\"search_result_row ds_collapse_flag \\\"\\r\\n\\t\\t   data-search-page=\\\"1017\\\" data-gpnav=\\\"item\\\"\\r\\n\\t\\t   data-ds-steam-deck-compat-handled=\\\"true\\\">\\r\\n            <div class=\\\"col search_capsule\\\"><img src=\\\"https:\\/\\/cdn.cloudflare.steamstatic.com\\/steam\\/apps\\/1386530\\/capsule_sm_120.jpg?t=1659427076\\\" srcset=\\\"https:\\/\\/cdn.cloudflare.steamstatic.com\\/steam\\/apps\\/1386530\\/capsule_sm_120.jpg?t=1659427076 1x, https:\\/\\/cdn.cloudflare.steamstatic.com\\/steam\\/apps\\/1386530\\/capsule_231x87.jpg?t=1659427076 2x\\\"><\\/div>\\r\\n            <div class=\\\"responsive_search_name_combined\\\">\\r\\n                <div class=\\\"col search_name ellipsis\\\">\\r\\n                    <span class=\\\"title\\\">VR Travelling in the Roman Empire (VR Rome Time machine travel in history)<\\/span>\\r\\n                    <div>\\r\\n                                                <span class=\\\"platform_img win\\\"><\\/span><span class=\\\"vr_required\\\">VR Only<\\/span>                                            <\\/div>\\r\\n                <\\/div>\\r\\n                <div class=\\\"col search_released responsive_secondrow\\\">\\r\\n                    18 Aug, 2020                <\\/div>\\r\\n                <div class=\\\"col search_reviewscore responsive_secondrow\\\">\\r\\n                                    <\\/div>\\r\\n\\r\\n\\r\\n                <div class=\\\"col search_price_discount_combined responsive_secondrow\\\" data-price-final=\\\"337\\\">\\r\\n                    <div class=\\\"col search_discount_and_price responsive_secondrow\\\">\\r\\n                        <div class=\\\"discount_block search_discount_block\\\" data-price-final=\\\"337\\\" data-bundlediscount=\\\"0\\\" data-discount=\\\"53\\\"><div class=\\\"discount_pct\\\">-53%<\\/div><div class=\\\"discount_prices\\\"><div class=\\\"discount_original_price\\\">£7.19<\\/div><div class=\\\"discount_final_price\\\">£3.37<\\/div><\\/div><\\/div>                    <\\/div>\\r\\n                <\\/div>\\r\\n            <\\/div>\\r\\n\\r\\n\\r\\n            <div style=\\\"clear: left;\\\"><\\/div>\\r\\n        <\\/a>\\r\\n            \\r\\n\\t\\t\\t\\t\n",
      "=====\n"
     ]
    },
    {
     "name": "stderr",
     "output_type": "stream",
     "text": [
      " 64%|██████████████████████████████████████████████▉                          | 1018/1583 [15:02:55<4:30:37, 28.74s/it]"
     ]
    },
    {
     "name": "stdout",
     "output_type": "stream",
     "text": [
      "[INFO] Cannot parse following info.\n",
      "<a href=\\\"https:\\/\\/store.steampowered.com\\/app\\/2278380\\/Haunting_of_the_Evil_Spirit__Horror_Choose_your_own_adventure_Story\\/?snr=1_7_7_230_150_1019\\\"\\r\\n\\t\\t\\t data-ds-appid=\\\"2278380\\\" data-ds-itemkey=\\\"App_2278380\\\" data-ds-tagids=\\\"[1667,4486,3978,1721,31275,4182,3834]\\\" data-ds-descids=\\\"[5]\\\" onmouseover=\\\"GameHover( this, event, 'global_hover', {&quot;type&quot;:&quot;app&quot;,&quot;id&quot;:2278380,&quot;public&quot;:1,&quot;v6&quot;:1} );\\\" onmouseout=\\\"HideGameHover( this, event, 'global_hover' )\\\" class=\\\"search_result_row ds_collapse_flag \\\"\\r\\n\\t\\t   data-search-page=\\\"1019\\\" data-gpnav=\\\"item\\\"\\r\\n\\t\\t   data-ds-steam-deck-compat-handled=\\\"true\\\">\\r\\n            <div class=\\\"col search_capsule\\\"><img src=\\\"https:\\/\\/cdn.cloudflare.steamstatic.com\\/steam\\/apps\\/2278380\\/capsule_sm_120.jpg?t=1701108169\\\" srcset=\\\"https:\\/\\/cdn.cloudflare.steamstatic.com\\/steam\\/apps\\/2278380\\/capsule_sm_120.jpg?t=1701108169 1x, https:\\/\\/cdn.cloudflare.steamstatic.com\\/steam\\/apps\\/2278380\\/capsule_231x87.jpg?t=1701108169 2x\\\"><\\/div>\\r\\n            <div class=\\\"responsive_search_name_combined\\\">\\r\\n                <div class=\\\"col search_name ellipsis\\\">\\r\\n                    <span class=\\\"title\\\">Haunting of the Evil Spirit - Horror Choose your own adventure Story<\\/span>\\r\\n                    <div>\\r\\n                                                <span class=\\\"platform_img win\\\"><\\/span>                                            <\\/div>\\r\\n                <\\/div>\\r\\n                <div class=\\\"col search_released responsive_secondrow\\\">\\r\\n                    26 Jan, 2023                <\\/div>\\r\\n                <div class=\\\"col search_reviewscore responsive_secondrow\\\">\\r\\n                                    <\\/div>\\r\\n\\r\\n\\r\\n                <div class=\\\"col search_price_discount_combined responsive_secondrow\\\" data-price-final=\\\"249\\\">\\r\\n                    <div class=\\\"col search_discount_and_price responsive_secondrow\\\">\\r\\n                        <div class=\\\"discount_block search_discount_block\\\" data-price-final=\\\"249\\\" data-bundlediscount=\\\"0\\\" data-discount=\\\"50\\\"><div class=\\\"discount_pct\\\">-50%<\\/div><div class=\\\"discount_prices\\\"><div class=\\\"discount_original_price\\\">£4.99<\\/div><div class=\\\"discount_final_price\\\">£2.49<\\/div><\\/div><\\/div>                    <\\/div>\\r\\n                <\\/div>\\r\\n            <\\/div>\\r\\n\\r\\n\\r\\n            <div style=\\\"clear: left;\\\"><\\/div>\\r\\n        <\\/a>\\r\\n            \\r\\n\\t\\t\\t\\t\n",
      "=====\n"
     ]
    },
    {
     "name": "stderr",
     "output_type": "stream",
     "text": [
      " 65%|███████████████████████████████████████████████▏                         | 1023/1583 [15:05:16<4:22:28, 28.12s/it]"
     ]
    },
    {
     "name": "stdout",
     "output_type": "stream",
     "text": [
      "[INFO] Cannot parse following info.\n",
      "<a href=\\\"https:\\/\\/store.steampowered.com\\/app\\/1372120\\/VR_Time_Machine_Travelling_in_history_Medieval_Castle_Fort_and_Village_Life_in_10711453_Europe\\/?snr=1_7_7_230_150_1024\\\"\\r\\n\\t\\t\\t data-ds-appid=\\\"1372120\\\" data-ds-itemkey=\\\"App_1372120\\\" data-ds-tagids=\\\"[597,5900,21978,9204,4172]\\\" onmouseover=\\\"GameHover( this, event, 'global_hover', {&quot;type&quot;:&quot;app&quot;,&quot;id&quot;:1372120,&quot;public&quot;:1,&quot;v6&quot;:1} );\\\" onmouseout=\\\"HideGameHover( this, event, 'global_hover' )\\\" class=\\\"search_result_row ds_collapse_flag \\\"\\r\\n\\t\\t   data-search-page=\\\"1024\\\" data-gpnav=\\\"item\\\"\\r\\n\\t\\t   data-ds-steam-deck-compat-handled=\\\"true\\\">\\r\\n            <div class=\\\"col search_capsule\\\"><img src=\\\"https:\\/\\/cdn.cloudflare.steamstatic.com\\/steam\\/apps\\/1372120\\/capsule_sm_120.jpg?t=1658808631\\\" srcset=\\\"https:\\/\\/cdn.cloudflare.steamstatic.com\\/steam\\/apps\\/1372120\\/capsule_sm_120.jpg?t=1658808631 1x, https:\\/\\/cdn.cloudflare.steamstatic.com\\/steam\\/apps\\/1372120\\/capsule_231x87.jpg?t=1658808631 2x\\\"><\\/div>\\r\\n            <div class=\\\"responsive_search_name_combined\\\">\\r\\n                <div class=\\\"col search_name ellipsis\\\">\\r\\n                    <span class=\\\"title\\\">VR Time Machine Travelling in history: Medieval Castle, Fort, and Village Life in 1071-1453 Europe<\\/span>\\r\\n                    <div>\\r\\n                                                <span class=\\\"platform_img win\\\"><\\/span><span class=\\\"vr_required\\\">VR Only<\\/span>                                            <\\/div>\\r\\n                <\\/div>\\r\\n                <div class=\\\"col search_released responsive_secondrow\\\">\\r\\n                    31 Jul, 2020                <\\/div>\\r\\n                <div class=\\\"col search_reviewscore responsive_secondrow\\\">\\r\\n                                    <\\/div>\\r\\n\\r\\n\\r\\n                <div class=\\\"col search_price_discount_combined responsive_secondrow\\\" data-price-final=\\\"337\\\">\\r\\n                    <div class=\\\"col search_discount_and_price responsive_secondrow\\\">\\r\\n                        <div class=\\\"discount_block search_discount_block\\\" data-price-final=\\\"337\\\" data-bundlediscount=\\\"0\\\" data-discount=\\\"53\\\"><div class=\\\"discount_pct\\\">-53%<\\/div><div class=\\\"discount_prices\\\"><div class=\\\"discount_original_price\\\">£7.19<\\/div><div class=\\\"discount_final_price\\\">£3.37<\\/div><\\/div><\\/div>                    <\\/div>\\r\\n                <\\/div>\\r\\n            <\\/div>\\r\\n\\r\\n\\r\\n            <div style=\\\"clear: left;\\\"><\\/div>\\r\\n        <\\/a>\\r\\n            \\r\\n\\t\\t\\t\\t\n",
      "=====\n"
     ]
    },
    {
     "name": "stderr",
     "output_type": "stream",
     "text": [
      " 65%|███████████████████████████████████████████████▎                         | 1026/1583 [15:06:41<4:22:27, 28.27s/it]"
     ]
    },
    {
     "name": "stdout",
     "output_type": "stream",
     "text": [
      "[INFO] Cannot parse following info.\n",
      "<a href=\\\"https:\\/\\/store.steampowered.com\\/app\\/1696610\\/Escape_from_the_Lockdown_The_Demon_Fortress_Steam_Version__Day_1\\/?snr=1_7_7_230_150_1027\\\"\\r\\n\\t\\t\\t data-ds-appid=\\\"1696610\\\" data-ds-itemkey=\\\"App_1696610\\\" data-ds-tagids=\\\"[122,597,9,1664,17305,1770,1698]\\\" onmouseover=\\\"GameHover( this, event, 'global_hover', {&quot;type&quot;:&quot;app&quot;,&quot;id&quot;:1696610,&quot;public&quot;:1,&quot;v6&quot;:1} );\\\" onmouseout=\\\"HideGameHover( this, event, 'global_hover' )\\\" class=\\\"search_result_row ds_collapse_flag \\\"\\r\\n\\t\\t   data-search-page=\\\"1027\\\" data-gpnav=\\\"item\\\"\\r\\n\\t\\t   data-ds-steam-deck-compat-handled=\\\"true\\\">\\r\\n            <div class=\\\"col search_capsule\\\"><img src=\\\"https:\\/\\/cdn.cloudflare.steamstatic.com\\/steam\\/apps\\/1696610\\/capsule_sm_120.jpg?t=1631002120\\\" srcset=\\\"https:\\/\\/cdn.cloudflare.steamstatic.com\\/steam\\/apps\\/1696610\\/capsule_sm_120.jpg?t=1631002120 1x, https:\\/\\/cdn.cloudflare.steamstatic.com\\/steam\\/apps\\/1696610\\/capsule_231x87.jpg?t=1631002120 2x\\\"><\\/div>\\r\\n            <div class=\\\"responsive_search_name_combined\\\">\\r\\n                <div class=\\\"col search_name ellipsis\\\">\\r\\n                    <span class=\\\"title\\\">Escape from the Lockdown: The Demon Fortress (Steam Version) - Day 1<\\/span>\\r\\n                    <div>\\r\\n                                                <span class=\\\"platform_img win\\\"><\\/span>                                            <\\/div>\\r\\n                <\\/div>\\r\\n                <div class=\\\"col search_released responsive_secondrow\\\">\\r\\n                    27 Aug, 2021                <\\/div>\\r\\n                <div class=\\\"col search_reviewscore responsive_secondrow\\\">\\r\\n                                    <\\/div>\\r\\n\\r\\n\\r\\n                <div class=\\\"col search_price_discount_combined responsive_secondrow\\\" data-price-final=\\\"0\\\">\\r\\n                    <div class=\\\"col search_discount_and_price responsive_secondrow\\\">\\r\\n                        <div class=\\\"discount_block no_discount search_discount_block\\\">\\t<div class=\\\"discount_prices\\\">\\t\\t<div class=\\\"discount_final_price free\\\">Free<\\/div>\\t<\\/div><\\/div>                    <\\/div>\\r\\n                <\\/div>\\r\\n            <\\/div>\\r\\n\\r\\n\\r\\n            <div style=\\\"clear: left;\\\"><\\/div>\\r\\n        <\\/a>\\r\\n            \\r\\n\\t\\t\\t\\t\n",
      "=====\n"
     ]
    },
    {
     "name": "stderr",
     "output_type": "stream",
     "text": [
      " 65%|███████████████████████████████████████████████▎                         | 1027/1583 [15:07:08<4:20:08, 28.07s/it]"
     ]
    },
    {
     "name": "stdout",
     "output_type": "stream",
     "text": [
      "[INFO] Cannot parse following info.\n",
      "<a href=\\\"https:\\/\\/store.steampowered.com\\/app\\/1824590\\/Furry_Shakespeare_Two_Incredibly_Ripped_Absolutely_Shredded_Noble_Kinsmen\\/?snr=1_7_7_230_150_1028\\\"\\r\\n\\t\\t\\t data-ds-appid=\\\"1824590\\\" data-ds-itemkey=\\\"App_1824590\\\" data-ds-tagids=\\\"[597,26921,1742,11014,3799,1684,3871]\\\" data-ds-crtrids=\\\"[33017070]\\\" onmouseover=\\\"GameHover( this, event, 'global_hover', {&quot;type&quot;:&quot;app&quot;,&quot;id&quot;:1824590,&quot;public&quot;:1,&quot;v6&quot;:1} );\\\" onmouseout=\\\"HideGameHover( this, event, 'global_hover' )\\\" class=\\\"search_result_row ds_collapse_flag \\\"\\r\\n\\t\\t   data-search-page=\\\"1028\\\" data-gpnav=\\\"item\\\"\\r\\n\\t\\t   data-ds-steam-deck-compat-handled=\\\"true\\\">\\r\\n            <div class=\\\"col search_capsule\\\"><img src=\\\"https:\\/\\/cdn.cloudflare.steamstatic.com\\/steam\\/apps\\/1824590\\/capsule_sm_120.jpg?t=1649371205\\\" srcset=\\\"https:\\/\\/cdn.cloudflare.steamstatic.com\\/steam\\/apps\\/1824590\\/capsule_sm_120.jpg?t=1649371205 1x, https:\\/\\/cdn.cloudflare.steamstatic.com\\/steam\\/apps\\/1824590\\/capsule_231x87.jpg?t=1649371205 2x\\\"><\\/div>\\r\\n            <div class=\\\"responsive_search_name_combined\\\">\\r\\n                <div class=\\\"col search_name ellipsis\\\">\\r\\n                    <span class=\\\"title\\\">Furry Shakespeare: Two Incredibly Ripped, Absolutely Shredded Noble Kinsmen<\\/span>\\r\\n                    <div>\\r\\n                                                <span class=\\\"platform_img win\\\"><\\/span><span class=\\\"platform_img linux\\\"><\\/span>                                            <\\/div>\\r\\n                <\\/div>\\r\\n                <div class=\\\"col search_released responsive_secondrow\\\">\\r\\n                    7 Apr, 2022                <\\/div>\\r\\n                <div class=\\\"col search_reviewscore responsive_secondrow\\\">\\r\\n                                    <\\/div>\\r\\n\\r\\n\\r\\n                <div class=\\\"col search_price_discount_combined responsive_secondrow\\\" data-price-final=\\\"722\\\">\\r\\n                    <div class=\\\"col search_discount_and_price responsive_secondrow\\\">\\r\\n                        <div class=\\\"discount_block search_discount_block\\\" data-price-final=\\\"722\\\" data-bundlediscount=\\\"0\\\" data-discount=\\\"15\\\"><div class=\\\"discount_pct\\\">-15%<\\/div><div class=\\\"discount_prices\\\"><div class=\\\"discount_original_price\\\">£8.50<\\/div><div class=\\\"discount_final_price\\\">£7.22<\\/div><\\/div><\\/div>                    <\\/div>\\r\\n                <\\/div>\\r\\n            <\\/div>\\r\\n\\r\\n\\r\\n            <div style=\\\"clear: left;\\\"><\\/div>\\r\\n        <\\/a>\\r\\n            \\r\\n\\t\\t\\t\\t\n",
      "=====\n"
     ]
    },
    {
     "name": "stderr",
     "output_type": "stream",
     "text": [
      " 65%|███████████████████████████████████████████████▍                         | 1030/1583 [15:08:36<4:25:16, 28.78s/it]"
     ]
    },
    {
     "name": "stdout",
     "output_type": "stream",
     "text": [
      "[INFO] Cannot parse following info.\n",
      "<a href=\\\"https:\\/\\/store.steampowered.com\\/app\\/1399400\\/VR_historical_journey_to_the_Buddhist_civilizations_VR_ancient_India_and_Asia\\/?snr=1_7_7_230_150_1031\\\"\\r\\n\\t\\t\\t data-ds-appid=\\\"1399400\\\" data-ds-itemkey=\\\"App_1399400\\\" data-ds-tagids=\\\"[597,5900,21978,4172,4182]\\\" onmouseover=\\\"GameHover( this, event, 'global_hover', {&quot;type&quot;:&quot;app&quot;,&quot;id&quot;:1399400,&quot;public&quot;:1,&quot;v6&quot;:1} );\\\" onmouseout=\\\"HideGameHover( this, event, 'global_hover' )\\\" class=\\\"search_result_row ds_collapse_flag \\\"\\r\\n\\t\\t   data-search-page=\\\"1031\\\" data-gpnav=\\\"item\\\"\\r\\n\\t\\t   data-ds-steam-deck-compat-handled=\\\"true\\\">\\r\\n            <div class=\\\"col search_capsule\\\"><img src=\\\"https:\\/\\/cdn.cloudflare.steamstatic.com\\/steam\\/apps\\/1399400\\/capsule_sm_120.jpg?t=1659429955\\\" srcset=\\\"https:\\/\\/cdn.cloudflare.steamstatic.com\\/steam\\/apps\\/1399400\\/capsule_sm_120.jpg?t=1659429955 1x, https:\\/\\/cdn.cloudflare.steamstatic.com\\/steam\\/apps\\/1399400\\/capsule_231x87.jpg?t=1659429955 2x\\\"><\\/div>\\r\\n            <div class=\\\"responsive_search_name_combined\\\">\\r\\n                <div class=\\\"col search_name ellipsis\\\">\\r\\n                    <span class=\\\"title\\\">VR historical journey to the Buddhist civilizations: VR ancient India and Asia<\\/span>\\r\\n                    <div>\\r\\n                                                <span class=\\\"platform_img win\\\"><\\/span><span class=\\\"vr_required\\\">VR Only<\\/span>                                                \\t<span class=\\\"includes_games_results\\\">Includes 2 games<\\/span>\\r\\n                                            <\\/div>\\r\\n                <\\/div>\\r\\n                <div class=\\\"col search_released responsive_secondrow\\\">\\r\\n                    22 Sep, 2020                <\\/div>\\r\\n                <div class=\\\"col search_reviewscore responsive_secondrow\\\">\\r\\n                                    <\\/div>\\r\\n\\r\\n\\r\\n                <div class=\\\"col search_price_discount_combined responsive_secondrow\\\" data-price-final=\\\"337\\\">\\r\\n                    <div class=\\\"col search_discount_and_price responsive_secondrow\\\">\\r\\n                        <div class=\\\"discount_block search_discount_block\\\" data-price-final=\\\"142\\\" data-bundlediscount=\\\"79\\\" data-discount=\\\"90\\\"><div class=\\\"bundle_base_discount\\\">-79%<\\/div><div class=\\\"discount_pct\\\">-90%<\\/div><div class=\\\"discount_prices\\\"><div class=\\\"discount_original_price\\\">£14.38<\\/div><div class=\\\"discount_final_price\\\">£1.42<\\/div><\\/div><\\/div>                    <\\/div>\\r\\n                <\\/div>\\r\\n            <\\/div>\\r\\n\\r\\n\\r\\n            <div style=\\\"clear: left;\\\"><\\/div>\\r\\n        <\\/a>\\r\\n            \\r\\n\\t\\t\\t\\t\n",
      "=====\n"
     ]
    },
    {
     "name": "stderr",
     "output_type": "stream",
     "text": [
      " 66%|███████████████████████████████████████████████▉                         | 1040/1583 [15:13:36<4:32:43, 30.14s/it]"
     ]
    },
    {
     "name": "stdout",
     "output_type": "stream",
     "text": [
      "[INFO] Cannot parse following info.\n",
      "<a href=\\\"https:\\/\\/store.steampowered.com\\/app\\/1884470\\/Construction_Machines_SIM_Bridges_buildings_and_constructor_trucks_simulator\\/?snr=1_7_7_230_150_1041\\\"\\r\\n\\t\\t\\t data-ds-appid=\\\"1884470\\\" data-ds-itemkey=\\\"App_1884470\\\" data-ds-tagids=\\\"[599,597,1100687,4191,7481,3968,4175]\\\" onmouseover=\\\"GameHover( this, event, 'global_hover', {&quot;type&quot;:&quot;app&quot;,&quot;id&quot;:1884470,&quot;public&quot;:1,&quot;v6&quot;:1} );\\\" onmouseout=\\\"HideGameHover( this, event, 'global_hover' )\\\" class=\\\"search_result_row ds_collapse_flag \\\"\\r\\n\\t\\t   data-search-page=\\\"1041\\\" data-gpnav=\\\"item\\\"\\r\\n\\t\\t   data-ds-steam-deck-compat-handled=\\\"true\\\">\\r\\n            <div class=\\\"col search_capsule\\\"><img src=\\\"https:\\/\\/cdn.cloudflare.steamstatic.com\\/steam\\/apps\\/1884470\\/capsule_sm_120.jpg?t=1651734037\\\" srcset=\\\"https:\\/\\/cdn.cloudflare.steamstatic.com\\/steam\\/apps\\/1884470\\/capsule_sm_120.jpg?t=1651734037 1x, https:\\/\\/cdn.cloudflare.steamstatic.com\\/steam\\/apps\\/1884470\\/capsule_231x87.jpg?t=1651734037 2x\\\"><\\/div>\\r\\n            <div class=\\\"responsive_search_name_combined\\\">\\r\\n                <div class=\\\"col search_name ellipsis\\\">\\r\\n                    <span class=\\\"title\\\">Construction Machines SIM: Bridges, buildings and constructor trucks simulator<\\/span>\\r\\n                    <div>\\r\\n                                                <span class=\\\"platform_img win\\\"><\\/span>                                            <\\/div>\\r\\n                <\\/div>\\r\\n                <div class=\\\"col search_released responsive_secondrow\\\">\\r\\n                    5 May, 2022                <\\/div>\\r\\n                <div class=\\\"col search_reviewscore responsive_secondrow\\\">\\r\\n                                    <\\/div>\\r\\n\\r\\n\\r\\n                <div class=\\\"col search_price_discount_combined responsive_secondrow\\\" data-price-final=\\\"1399\\\">\\r\\n                    <div class=\\\"col search_discount_and_price responsive_secondrow\\\">\\r\\n                        <div class=\\\"discount_block search_discount_block no_discount\\\" data-price-final=\\\"1399\\\" data-bundlediscount=\\\"0\\\" data-discount=\\\"0\\\"><div class=\\\"discount_prices\\\"><div class=\\\"discount_final_price\\\">£13.99<\\/div><\\/div><\\/div>                    <\\/div>\\r\\n                <\\/div>\\r\\n            <\\/div>\\r\\n\\r\\n\\r\\n            <div style=\\\"clear: left;\\\"><\\/div>\\r\\n        <\\/a>\\r\\n            \\r\\n\\t\\t\\t\\t\n",
      "=====\n"
     ]
    },
    {
     "name": "stderr",
     "output_type": "stream",
     "text": [
      " 66%|████████████████████████████████████████████████▏                        | 1044/1583 [15:15:37<4:33:29, 30.44s/it]"
     ]
    },
    {
     "name": "stdout",
     "output_type": "stream",
     "text": [
      "[INFO] Cannot parse following info.\n",
      "<a href=\\\"https:\\/\\/store.steampowered.com\\/app\\/2573420\\/Visual_novel_for_the_kids_Lumi_And_Baby__Hamster_And_Baby_Dragon\\/?snr=1_7_7_230_150_1045\\\"\\r\\n\\t\\t\\t data-ds-appid=\\\"2573420\\\" data-ds-itemkey=\\\"App_2573420\\\" data-ds-tagids=\\\"[3799,3834,4726,11014,4195,4136,6815]\\\" onmouseover=\\\"GameHover( this, event, 'global_hover', {&quot;type&quot;:&quot;app&quot;,&quot;id&quot;:2573420,&quot;public&quot;:1,&quot;v6&quot;:1} );\\\" onmouseout=\\\"HideGameHover( this, event, 'global_hover' )\\\" class=\\\"search_result_row ds_collapse_flag \\\"\\r\\n\\t\\t   data-search-page=\\\"1045\\\" data-gpnav=\\\"item\\\"\\r\\n\\t\\t   data-ds-steam-deck-compat-handled=\\\"true\\\">\\r\\n            <div class=\\\"col search_capsule\\\"><img src=\\\"https:\\/\\/cdn.cloudflare.steamstatic.com\\/steam\\/apps\\/2573420\\/capsule_sm_120.jpg?t=1701036629\\\" srcset=\\\"https:\\/\\/cdn.cloudflare.steamstatic.com\\/steam\\/apps\\/2573420\\/capsule_sm_120.jpg?t=1701036629 1x, https:\\/\\/cdn.cloudflare.steamstatic.com\\/steam\\/apps\\/2573420\\/capsule_231x87.jpg?t=1701036629 2x\\\"><\\/div>\\r\\n            <div class=\\\"responsive_search_name_combined\\\">\\r\\n                <div class=\\\"col search_name ellipsis\\\">\\r\\n                    <span class=\\\"title\\\">Visual novel for the kids: Lumi And Baby - Hamster And Baby Dragon<\\/span>\\r\\n                    <div>\\r\\n                                                <span class=\\\"platform_img win\\\"><\\/span><span class=\\\"platform_img mac\\\"><\\/span>                                            <\\/div>\\r\\n                <\\/div>\\r\\n                <div class=\\\"col search_released responsive_secondrow\\\">\\r\\n                    14 Nov, 2023                <\\/div>\\r\\n                <div class=\\\"col search_reviewscore responsive_secondrow\\\">\\r\\n                                    <\\/div>\\r\\n\\r\\n\\r\\n                <div class=\\\"col search_price_discount_combined responsive_secondrow\\\" data-price-final=\\\"339\\\">\\r\\n                    <div class=\\\"col search_discount_and_price responsive_secondrow\\\">\\r\\n                        <div class=\\\"discount_block search_discount_block no_discount\\\" data-price-final=\\\"339\\\" data-bundlediscount=\\\"0\\\" data-discount=\\\"0\\\"><div class=\\\"discount_prices\\\"><div class=\\\"discount_final_price\\\">£3.39<\\/div><\\/div><\\/div>                    <\\/div>\\r\\n                <\\/div>\\r\\n            <\\/div>\\r\\n\\r\\n\\r\\n            <div style=\\\"clear: left;\\\"><\\/div>\\r\\n        <\\/a>\\r\\n            \\r\\n\\t\\t\\t\\t\n",
      "=====\n"
     ]
    },
    {
     "name": "stderr",
     "output_type": "stream",
     "text": [
      " 67%|████████████████████████████████████████████████▋                        | 1055/1583 [15:21:08<4:20:43, 29.63s/it]"
     ]
    },
    {
     "name": "stdout",
     "output_type": "stream",
     "text": [
      "[INFO] Cannot parse following info.\n",
      "<a href=\\\"https:\\/\\/store.steampowered.com\\/app\\/1299150\\/Software_Engineering_Course__Informatyka__zrozum_i_zaprogramuj_komputer\\/?snr=1_7_7_230_150_1056\\\"\\r\\n\\t\\t\\t data-ds-appid=\\\"1299150\\\" data-ds-itemkey=\\\"App_1299150\\\" data-ds-tagids=\\\"[5432,1036,5502,6129,1664,492,3871]\\\" onmouseover=\\\"GameHover( this, event, 'global_hover', {&quot;type&quot;:&quot;app&quot;,&quot;id&quot;:1299150,&quot;public&quot;:1,&quot;v6&quot;:1} );\\\" onmouseout=\\\"HideGameHover( this, event, 'global_hover' )\\\" class=\\\"search_result_row ds_collapse_flag \\\"\\r\\n\\t\\t   data-search-page=\\\"1056\\\" data-gpnav=\\\"item\\\"\\r\\n\\t\\t   data-ds-steam-deck-compat-handled=\\\"true\\\">\\r\\n            <div class=\\\"col search_capsule\\\"><img src=\\\"https:\\/\\/cdn.cloudflare.steamstatic.com\\/steam\\/apps\\/1299150\\/capsule_sm_120.jpg?t=1649920766\\\" srcset=\\\"https:\\/\\/cdn.cloudflare.steamstatic.com\\/steam\\/apps\\/1299150\\/capsule_sm_120.jpg?t=1649920766 1x, https:\\/\\/cdn.cloudflare.steamstatic.com\\/steam\\/apps\\/1299150\\/capsule_231x87.jpg?t=1649920766 2x\\\"><\\/div>\\r\\n            <div class=\\\"responsive_search_name_combined\\\">\\r\\n                <div class=\\\"col search_name ellipsis\\\">\\r\\n                    <span class=\\\"title\\\">Software Engineering Course \\/ Informatyka - zrozum i zaprogramuj komputer<\\/span>\\r\\n                    <div>\\r\\n                                                <span class=\\\"platform_img win\\\"><\\/span>                                            <\\/div>\\r\\n                <\\/div>\\r\\n                <div class=\\\"col search_released responsive_secondrow\\\">\\r\\n                    11 May, 2020                <\\/div>\\r\\n                <div class=\\\"col search_reviewscore responsive_secondrow\\\">\\r\\n                                    <\\/div>\\r\\n\\r\\n\\r\\n                <div class=\\\"col search_price_discount_combined responsive_secondrow\\\" data-price-final=\\\"169\\\">\\r\\n                    <div class=\\\"col search_discount_and_price responsive_secondrow\\\">\\r\\n                        <div class=\\\"discount_block search_discount_block no_discount\\\" data-price-final=\\\"169\\\" data-bundlediscount=\\\"0\\\" data-discount=\\\"0\\\"><div class=\\\"discount_prices\\\"><div class=\\\"discount_final_price\\\">£1.69<\\/div><\\/div><\\/div>                    <\\/div>\\r\\n                <\\/div>\\r\\n            <\\/div>\\r\\n\\r\\n\\r\\n            <div style=\\\"clear: left;\\\"><\\/div>\\r\\n        <\\/a>\\r\\n            \\r\\n\\t\\t\\t\\t\n",
      "=====\n"
     ]
    },
    {
     "name": "stderr",
     "output_type": "stream",
     "text": [
      " 67%|████████████████████████████████████████████████▋                        | 1056/1583 [15:21:37<4:19:58, 29.60s/it]"
     ]
    },
    {
     "name": "stdout",
     "output_type": "stream",
     "text": [
      "[INFO] Cannot parse following info.\n",
      "<a href=\\\"https:\\/\\/store.steampowered.com\\/app\\/1409320\\/VR_Travelling_towards_World_War_III_Scenario_Post_Nuclear_War_Earth_Fantasy\\/?snr=1_7_7_230_150_1057\\\"\\r\\n\\t\\t\\t data-ds-appid=\\\"1409320\\\" data-ds-itemkey=\\\"App_1409320\\\" data-ds-tagids=\\\"[597,5900,21978,3835,4182]\\\" onmouseover=\\\"GameHover( this, event, 'global_hover', {&quot;type&quot;:&quot;app&quot;,&quot;id&quot;:1409320,&quot;public&quot;:1,&quot;v6&quot;:1} );\\\" onmouseout=\\\"HideGameHover( this, event, 'global_hover' )\\\" class=\\\"search_result_row ds_collapse_flag \\\"\\r\\n\\t\\t   data-search-page=\\\"1057\\\" data-gpnav=\\\"item\\\"\\r\\n\\t\\t   data-ds-steam-deck-compat-handled=\\\"true\\\">\\r\\n            <div class=\\\"col search_capsule\\\"><img src=\\\"https:\\/\\/cdn.cloudflare.steamstatic.com\\/steam\\/apps\\/1409320\\/capsule_sm_120.jpg?t=1659101938\\\" srcset=\\\"https:\\/\\/cdn.cloudflare.steamstatic.com\\/steam\\/apps\\/1409320\\/capsule_sm_120.jpg?t=1659101938 1x, https:\\/\\/cdn.cloudflare.steamstatic.com\\/steam\\/apps\\/1409320\\/capsule_231x87.jpg?t=1659101938 2x\\\"><\\/div>\\r\\n            <div class=\\\"responsive_search_name_combined\\\">\\r\\n                <div class=\\\"col search_name ellipsis\\\">\\r\\n                    <span class=\\\"title\\\">VR Travelling towards World War III Scenario: Post Nuclear War Earth Fantasy<\\/span>\\r\\n                    <div>\\r\\n                                                <span class=\\\"platform_img win\\\"><\\/span><span class=\\\"vr_required\\\">VR Only<\\/span>                                            <\\/div>\\r\\n                <\\/div>\\r\\n                <div class=\\\"col search_released responsive_secondrow\\\">\\r\\n                    15 Sep, 2020                <\\/div>\\r\\n                <div class=\\\"col search_reviewscore responsive_secondrow\\\">\\r\\n                                    <\\/div>\\r\\n\\r\\n\\r\\n                <div class=\\\"col search_price_discount_combined responsive_secondrow\\\" data-price-final=\\\"337\\\">\\r\\n                    <div class=\\\"col search_discount_and_price responsive_secondrow\\\">\\r\\n                        <div class=\\\"discount_block search_discount_block\\\" data-price-final=\\\"337\\\" data-bundlediscount=\\\"0\\\" data-discount=\\\"53\\\"><div class=\\\"discount_pct\\\">-53%<\\/div><div class=\\\"discount_prices\\\"><div class=\\\"discount_original_price\\\">£7.19<\\/div><div class=\\\"discount_final_price\\\">£3.37<\\/div><\\/div><\\/div>                    <\\/div>\\r\\n                <\\/div>\\r\\n            <\\/div>\\r\\n\\r\\n\\r\\n            <div style=\\\"clear: left;\\\"><\\/div>\\r\\n        <\\/a>\\r\\n            \\r\\n\\t\\t\\t\\t\n",
      "=====\n"
     ]
    },
    {
     "name": "stderr",
     "output_type": "stream",
     "text": [
      " 67%|████████████████████████████████████████████████▋                        | 1057/1583 [15:22:10<4:26:08, 30.36s/it]"
     ]
    },
    {
     "name": "stdout",
     "output_type": "stream",
     "text": [
      "[INFO] Cannot parse following info.\n",
      "<a href=\\\"https:\\/\\/store.steampowered.com\\/app\\/2079020\\/Sippin_Hot_Blickety_Block_N_Bop_Those_Bad_Battle_Boys_Down_To_Size_Supreme\\/?snr=1_7_7_230_150_1058\\\"\\r\\n\\t\\t\\t data-ds-appid=\\\"2079020\\\" data-ds-itemkey=\\\"App_2079020\\\" data-ds-tagids=\\\"[8666,3798,4726,4305,1759,19,1773]\\\" onmouseover=\\\"GameHover( this, event, 'global_hover', {&quot;type&quot;:&quot;app&quot;,&quot;id&quot;:2079020,&quot;public&quot;:1,&quot;v6&quot;:1} );\\\" onmouseout=\\\"HideGameHover( this, event, 'global_hover' )\\\" class=\\\"search_result_row ds_collapse_flag \\\"\\r\\n\\t\\t   data-search-page=\\\"1058\\\" data-gpnav=\\\"item\\\"\\r\\n\\t\\t   data-ds-steam-deck-compat-handled=\\\"true\\\">\\r\\n            <div class=\\\"col search_capsule\\\"><img src=\\\"https:\\/\\/cdn.cloudflare.steamstatic.com\\/steam\\/apps\\/2079020\\/capsule_sm_120.jpg?t=1661842828\\\" srcset=\\\"https:\\/\\/cdn.cloudflare.steamstatic.com\\/steam\\/apps\\/2079020\\/capsule_sm_120.jpg?t=1661842828 1x, https:\\/\\/cdn.cloudflare.steamstatic.com\\/steam\\/apps\\/2079020\\/capsule_231x87.jpg?t=1661842828 2x\\\"><\\/div>\\r\\n            <div class=\\\"responsive_search_name_combined\\\">\\r\\n                <div class=\\\"col search_name ellipsis\\\">\\r\\n                    <span class=\\\"title\\\">Sippin Hot Blickety Block N Bop Those Bad Battle Boys Down To Size Supreme<\\/span>\\r\\n                    <div>\\r\\n                                                <span class=\\\"platform_img win\\\"><\\/span>                                            <\\/div>\\r\\n                <\\/div>\\r\\n                <div class=\\\"col search_released responsive_secondrow\\\">\\r\\n                    30 Aug, 2022                <\\/div>\\r\\n                <div class=\\\"col search_reviewscore responsive_secondrow\\\">\\r\\n                                    <\\/div>\\r\\n\\r\\n\\r\\n                <div class=\\\"col search_price_discount_combined responsive_secondrow\\\" data-price-final=\\\"243\\\">\\r\\n                    <div class=\\\"col search_discount_and_price responsive_secondrow\\\">\\r\\n                        <div class=\\\"discount_block search_discount_block\\\" data-price-final=\\\"243\\\" data-bundlediscount=\\\"0\\\" data-discount=\\\"39\\\"><div class=\\\"discount_pct\\\">-39%<\\/div><div class=\\\"discount_prices\\\"><div class=\\\"discount_original_price\\\">£3.99<\\/div><div class=\\\"discount_final_price\\\">£2.43<\\/div><\\/div><\\/div>                    <\\/div>\\r\\n                <\\/div>\\r\\n            <\\/div>\\r\\n\\r\\n\\r\\n            <div style=\\\"clear: left;\\\"><\\/div>\\r\\n        <\\/a>\\r\\n            \\r\\n\\t\\t\\t\\t\n",
      "=====\n"
     ]
    },
    {
     "name": "stderr",
     "output_type": "stream",
     "text": [
      " 67%|████████████████████████████████████████████████▉                        | 1060/1583 [15:23:45<4:36:05, 31.67s/it]"
     ]
    },
    {
     "name": "stdout",
     "output_type": "stream",
     "text": [
      "[INFO] Cannot parse following info.\n",
      "<a href=\\\"https:\\/\\/store.steampowered.com\\/app\\/2153400\\/Scientifically_Accurate_Dinosaur_Mating_Simulator_2022_American_Revolution_1775__1786\\/?snr=1_7_7_230_150_1061\\\"\\r\\n\\t\\t\\t data-ds-appid=\\\"2153400\\\" data-ds-itemkey=\\\"App_2153400\\\" data-ds-tagids=\\\"[21,597,5160,11014,3799,4106,1741]\\\" data-ds-crtrids=\\\"[33017070]\\\" onmouseover=\\\"GameHover( this, event, 'global_hover', {&quot;type&quot;:&quot;app&quot;,&quot;id&quot;:2153400,&quot;public&quot;:1,&quot;v6&quot;:1} );\\\" onmouseout=\\\"HideGameHover( this, event, 'global_hover' )\\\" class=\\\"search_result_row ds_collapse_flag \\\"\\r\\n\\t\\t   data-search-page=\\\"1061\\\" data-gpnav=\\\"item\\\"\\r\\n\\t\\t   data-ds-steam-deck-compat-handled=\\\"true\\\">\\r\\n            <div class=\\\"col search_capsule\\\"><img src=\\\"https:\\/\\/cdn.cloudflare.steamstatic.com\\/steam\\/apps\\/2153400\\/capsule_sm_120.jpg?t=1703138114\\\" srcset=\\\"https:\\/\\/cdn.cloudflare.steamstatic.com\\/steam\\/apps\\/2153400\\/capsule_sm_120.jpg?t=1703138114 1x, https:\\/\\/cdn.cloudflare.steamstatic.com\\/steam\\/apps\\/2153400\\/capsule_231x87.jpg?t=1703138114 2x\\\"><\\/div>\\r\\n            <div class=\\\"responsive_search_name_combined\\\">\\r\\n                <div class=\\\"col search_name ellipsis\\\">\\r\\n                    <span class=\\\"title\\\">Scientifically Accurate Dinosaur Mating Simulator 2022: American Revolution 1775 - 1786<\\/span>\\r\\n                    <div>\\r\\n                                                <span class=\\\"platform_img win\\\"><\\/span><span class=\\\"platform_img linux\\\"><\\/span>                                            <\\/div>\\r\\n                <\\/div>\\r\\n                <div class=\\\"col search_released responsive_secondrow\\\">\\r\\n                    2 Jan, 2023                <\\/div>\\r\\n                <div class=\\\"col search_reviewscore responsive_secondrow\\\">\\r\\n                                    <\\/div>\\r\\n\\r\\n\\r\\n                <div class=\\\"col search_price_discount_combined responsive_secondrow\\\" data-price-final=\\\"89\\\">\\r\\n                    <div class=\\\"col search_discount_and_price responsive_secondrow\\\">\\r\\n                        <div class=\\\"discount_block search_discount_block no_discount\\\" data-price-final=\\\"89\\\" data-bundlediscount=\\\"0\\\" data-discount=\\\"0\\\"><div class=\\\"discount_prices\\\"><div class=\\\"discount_final_price\\\">£0.89<\\/div><\\/div><\\/div>                    <\\/div>\\r\\n                <\\/div>\\r\\n            <\\/div>\\r\\n\\r\\n\\r\\n            <div style=\\\"clear: left;\\\"><\\/div>\\r\\n        <\\/a>\\r\\n            \\r\\n\\t\\t\\t\\t\n",
      "=====\n"
     ]
    },
    {
     "name": "stderr",
     "output_type": "stream",
     "text": [
      " 69%|██████████████████████████████████████████████████▋                      | 1100/1583 [15:44:21<4:19:35, 32.25s/it]"
     ]
    },
    {
     "name": "stdout",
     "output_type": "stream",
     "text": [
      "[INFO] Cannot parse following info.\n",
      "<a href=\\\"https:\\/\\/store.steampowered.com\\/app\\/770380\\/Army_of_Tentacles_Not_A_Cthulhu_Dating_Sim_Black_GOAT_of_the_Woods_Edition\\/?snr=1_7_7_230_150_1101\\\"\\r\\n\\t\\t\\t data-ds-appid=\\\"770380\\\" data-ds-itemkey=\\\"App_770380\\\" data-ds-tagids=\\\"[4474,16689,7432,122,10695,3799,4106]\\\" data-ds-crtrids=\\\"[33017070]\\\" onmouseover=\\\"GameHover( this, event, 'global_hover', {&quot;type&quot;:&quot;app&quot;,&quot;id&quot;:770380,&quot;public&quot;:1,&quot;v6&quot;:1} );\\\" onmouseout=\\\"HideGameHover( this, event, 'global_hover' )\\\" class=\\\"search_result_row ds_collapse_flag \\\"\\r\\n\\t\\t   data-search-page=\\\"1101\\\" data-gpnav=\\\"item\\\"\\r\\n\\t\\t   data-ds-steam-deck-compat-handled=\\\"true\\\">\\r\\n            <div class=\\\"col search_capsule\\\"><img src=\\\"https:\\/\\/cdn.cloudflare.steamstatic.com\\/steam\\/apps\\/770380\\/capsule_sm_120.jpg?t=1663111568\\\" srcset=\\\"https:\\/\\/cdn.cloudflare.steamstatic.com\\/steam\\/apps\\/770380\\/capsule_sm_120.jpg?t=1663111568 1x, https:\\/\\/cdn.cloudflare.steamstatic.com\\/steam\\/apps\\/770380\\/capsule_231x87.jpg?t=1663111568 2x\\\"><\\/div>\\r\\n            <div class=\\\"responsive_search_name_combined\\\">\\r\\n                <div class=\\\"col search_name ellipsis\\\">\\r\\n                    <span class=\\\"title\\\">Army of Tentacles: (Not) A Cthulhu Dating Sim: Black GOAT of the Woods Edition<\\/span>\\r\\n                    <div>\\r\\n                                                <span class=\\\"platform_img win\\\"><\\/span><span class=\\\"platform_img linux\\\"><\\/span>                                            <\\/div>\\r\\n                <\\/div>\\r\\n                <div class=\\\"col search_released responsive_secondrow\\\">\\r\\n                    4 Jan, 2018                <\\/div>\\r\\n                <div class=\\\"col search_reviewscore responsive_secondrow\\\">\\r\\n                                    <\\/div>\\r\\n\\r\\n\\r\\n                <div class=\\\"col search_price_discount_combined responsive_secondrow\\\" data-price-final=\\\"287\\\">\\r\\n                    <div class=\\\"col search_discount_and_price responsive_secondrow\\\">\\r\\n                        <div class=\\\"discount_block search_discount_block\\\" data-price-final=\\\"287\\\" data-bundlediscount=\\\"0\\\" data-discount=\\\"69\\\"><div class=\\\"discount_pct\\\">-69%<\\/div><div class=\\\"discount_prices\\\"><div class=\\\"discount_original_price\\\">£9.29<\\/div><div class=\\\"discount_final_price\\\">£2.87<\\/div><\\/div><\\/div>                    <\\/div>\\r\\n                <\\/div>\\r\\n            <\\/div>\\r\\n\\r\\n\\r\\n            <div style=\\\"clear: left;\\\"><\\/div>\\r\\n        <\\/a>\\r\\n            \\r\\n\\t\\t\\t\\t\n",
      "=====\n"
     ]
    },
    {
     "name": "stderr",
     "output_type": "stream",
     "text": [
      " 70%|███████████████████████████████████████████████████▎                     | 1112/1583 [15:50:25<3:59:00, 30.45s/it]"
     ]
    },
    {
     "name": "stdout",
     "output_type": "stream",
     "text": [
      "[INFO] Cannot parse following info.\n",
      "<a href=\\\"https:\\/\\/store.steampowered.com\\/app\\/1011870\\/_Cute_Adventure__Survival__Sopravvivere_berleben___Survivre__Sobrevivir_____avventura__aventura______aventure______Abenteuer\\/?snr=1_7_7_230_150_1113\\\"\\r\\n\\t\\t\\t data-ds-appid=\\\"1011870\\\" data-ds-itemkey=\\\"App_1011870\\\" data-ds-tagids=\\\"[597,492,21,19,599,3814,4106]\\\" onmouseover=\\\"GameHover( this, event, 'global_hover', {&quot;type&quot;:&quot;app&quot;,&quot;id&quot;:1011870,&quot;public&quot;:1,&quot;v6&quot;:1} );\\\" onmouseout=\\\"HideGameHover( this, event, 'global_hover' )\\\" class=\\\"search_result_row ds_collapse_flag \\\"\\r\\n\\t\\t   data-search-page=\\\"1113\\\" data-gpnav=\\\"item\\\"\\r\\n\\t\\t   data-ds-steam-deck-compat-handled=\\\"true\\\">\\r\\n            <div class=\\\"col search_capsule\\\"><img src=\\\"https:\\/\\/cdn.cloudflare.steamstatic.com\\/steam\\/apps\\/1011870\\/capsule_sm_120.jpg?t=1677737466\\\" srcset=\\\"https:\\/\\/cdn.cloudflare.steamstatic.com\\/steam\\/apps\\/1011870\\/capsule_sm_120.jpg?t=1677737466 1x, https:\\/\\/cdn.cloudflare.steamstatic.com\\/steam\\/apps\\/1011870\\/capsule_231x87.jpg?t=1677737466 2x\\\"><\\/div>\\r\\n            <div class=\\\"responsive_search_name_combined\\\">\\r\\n                <div class=\\\"col search_name ellipsis\\\">\\r\\n                    <span class=\\\"title\\\">萌盟大冒险 Cute Adventure 生存 Survival 生き残ります Sopravvivere Überleben Выживать  Survivre 생존하다 Sobrevivir   冒險  avventura  aventura 冒険  모험   aventure приключение     Abenteuer<\\/span>\\r\\n                    <div>\\r\\n                                                <span class=\\\"platform_img win\\\"><\\/span>                                            <\\/div>\\r\\n                <\\/div>\\r\\n                <div class=\\\"col search_released responsive_secondrow\\\">\\r\\n                    20 Nov, 2019                <\\/div>\\r\\n                <div class=\\\"col search_reviewscore responsive_secondrow\\\">\\r\\n                                    <\\/div>\\r\\n\\r\\n\\r\\n                <div class=\\\"col search_price_discount_combined responsive_secondrow\\\" data-price-final=\\\"339\\\">\\r\\n                    <div class=\\\"col search_discount_and_price responsive_secondrow\\\">\\r\\n                        <div class=\\\"discount_block search_discount_block no_discount\\\" data-price-final=\\\"339\\\" data-bundlediscount=\\\"0\\\" data-discount=\\\"0\\\"><div class=\\\"discount_prices\\\"><div class=\\\"discount_final_price\\\">£3.39<\\/div><\\/div><\\/div>                    <\\/div>\\r\\n                <\\/div>\\r\\n            <\\/div>\\r\\n\\r\\n\\r\\n            <div style=\\\"clear: left;\\\"><\\/div>\\r\\n        <\\/a>\\r\\n            \\r\\n\\t\\t\\t\\t\n",
      "=====\n"
     ]
    },
    {
     "name": "stderr",
     "output_type": "stream",
     "text": [
      " 72%|████████████████████████████████████████████████████▎                    | 1135/1583 [16:02:27<3:51:39, 31.03s/it]"
     ]
    },
    {
     "name": "stdout",
     "output_type": "stream",
     "text": [
      "[INFO] Cannot parse following info.\n",
      "<a href=\\\"https:\\/\\/store.steampowered.com\\/app\\/1760990\\/Gecky_The_Deenosaur_Stars_In_Adventures_In_SunnyDoodle_Swimmingland\\/?snr=1_7_7_230_150_1136\\\"\\r\\n\\t\\t\\t data-ds-appid=\\\"1760990\\\" data-ds-itemkey=\\\"App_1760990\\\" data-ds-tagids=\\\"[21,122,1698,4562,1695,9204,4136]\\\" onmouseover=\\\"GameHover( this, event, 'global_hover', {&quot;type&quot;:&quot;app&quot;,&quot;id&quot;:1760990,&quot;public&quot;:1,&quot;v6&quot;:1} );\\\" onmouseout=\\\"HideGameHover( this, event, 'global_hover' )\\\" class=\\\"search_result_row ds_collapse_flag \\\"\\r\\n\\t\\t   data-search-page=\\\"1136\\\" data-gpnav=\\\"item\\\"\\r\\n\\t\\t   data-ds-steam-deck-compat-handled=\\\"true\\\">\\r\\n            <div class=\\\"col search_capsule\\\"><img src=\\\"https:\\/\\/cdn.cloudflare.steamstatic.com\\/steam\\/apps\\/1760990\\/capsule_sm_120.jpg?t=1634886297\\\" srcset=\\\"https:\\/\\/cdn.cloudflare.steamstatic.com\\/steam\\/apps\\/1760990\\/capsule_sm_120.jpg?t=1634886297 1x, https:\\/\\/cdn.cloudflare.steamstatic.com\\/steam\\/apps\\/1760990\\/capsule_231x87.jpg?t=1634886297 2x\\\"><\\/div>\\r\\n            <div class=\\\"responsive_search_name_combined\\\">\\r\\n                <div class=\\\"col search_name ellipsis\\\">\\r\\n                    <span class=\\\"title\\\">Gecky The Deenosaur Stars In! Adventures In SunnyDoodle Swimmingland!<\\/span>\\r\\n                    <div>\\r\\n                                                <span class=\\\"platform_img win\\\"><\\/span>                                            <\\/div>\\r\\n                <\\/div>\\r\\n                <div class=\\\"col search_released responsive_secondrow\\\">\\r\\n                    22 Oct, 2021                <\\/div>\\r\\n                <div class=\\\"col search_reviewscore responsive_secondrow\\\">\\r\\n                                    <\\/div>\\r\\n\\r\\n\\r\\n                <div class=\\\"col search_price_discount_combined responsive_secondrow\\\" data-price-final=\\\"104\\\">\\r\\n                    <div class=\\\"col search_discount_and_price responsive_secondrow\\\">\\r\\n                        <div class=\\\"discount_block search_discount_block no_discount\\\" data-price-final=\\\"104\\\" data-bundlediscount=\\\"0\\\" data-discount=\\\"0\\\"><div class=\\\"discount_prices\\\"><div class=\\\"discount_final_price\\\">£1.04<\\/div><\\/div><\\/div>                    <\\/div>\\r\\n                <\\/div>\\r\\n            <\\/div>\\r\\n\\r\\n\\r\\n            <div style=\\\"clear: left;\\\"><\\/div>\\r\\n        <\\/a>\\r\\n            \\r\\n\\t\\t\\t\\t\n",
      "=====\n"
     ]
    },
    {
     "name": "stderr",
     "output_type": "stream",
     "text": [
      " 72%|████████████████████████████████████████████████████▍                    | 1136/1583 [16:02:56<3:45:46, 30.30s/it]"
     ]
    },
    {
     "name": "stdout",
     "output_type": "stream",
     "text": [
      "[INFO] Cannot parse following info.\n",
      "<a href=\\\"https:\\/\\/store.steampowered.com\\/app\\/644680\\/Libra_of_the_Vampire_Princess_Lycoris__Aoi_in_The_Promise_PLUS_Iris_in_Homeworld\\/?snr=1_7_7_230_150_1137\\\"\\r\\n\\t\\t\\t data-ds-appid=\\\"644680\\\" data-ds-itemkey=\\\"App_644680\\\" data-ds-tagids=\\\"[21,597,599,3799,4085]\\\" data-ds-crtrids=\\\"[33076600]\\\" onmouseover=\\\"GameHover( this, event, 'global_hover', {&quot;type&quot;:&quot;app&quot;,&quot;id&quot;:644680,&quot;public&quot;:1,&quot;v6&quot;:1} );\\\" onmouseout=\\\"HideGameHover( this, event, 'global_hover' )\\\" class=\\\"search_result_row ds_collapse_flag \\\"\\r\\n\\t\\t   data-search-page=\\\"1137\\\" data-gpnav=\\\"item\\\"\\r\\n\\t\\t   data-ds-steam-deck-compat-handled=\\\"true\\\">\\r\\n            <div class=\\\"col search_capsule\\\"><img src=\\\"https:\\/\\/cdn.cloudflare.steamstatic.com\\/steam\\/apps\\/644680\\/capsule_sm_120.jpg?t=1499930453\\\" srcset=\\\"https:\\/\\/cdn.cloudflare.steamstatic.com\\/steam\\/apps\\/644680\\/capsule_sm_120.jpg?t=1499930453 1x, https:\\/\\/cdn.cloudflare.steamstatic.com\\/steam\\/apps\\/644680\\/capsule_231x87.jpg?t=1499930453 2x\\\"><\\/div>\\r\\n            <div class=\\\"responsive_search_name_combined\\\">\\r\\n                <div class=\\\"col search_name ellipsis\\\">\\r\\n                    <span class=\\\"title\\\">Libra of the Vampire Princess: Lycoris &amp; Aoi in &quot;The Promise&quot; PLUS Iris in &quot;Homeworld&quot;<\\/span>\\r\\n                    <div>\\r\\n                                                <span class=\\\"platform_img win\\\"><\\/span>                                            <\\/div>\\r\\n                <\\/div>\\r\\n                <div class=\\\"col search_released responsive_secondrow\\\">\\r\\n                    7 Jul, 2017                <\\/div>\\r\\n                <div class=\\\"col search_reviewscore responsive_secondrow\\\">\\r\\n                                    <\\/div>\\r\\n\\r\\n\\r\\n                <div class=\\\"col search_price_discount_combined responsive_secondrow\\\" data-price-final=\\\"1199\\\">\\r\\n                    <div class=\\\"col search_discount_and_price responsive_secondrow\\\">\\r\\n                        <div class=\\\"discount_block search_discount_block no_discount\\\" data-price-final=\\\"1199\\\" data-bundlediscount=\\\"0\\\" data-discount=\\\"0\\\"><div class=\\\"discount_prices\\\"><div class=\\\"discount_final_price\\\">£11.99<\\/div><\\/div><\\/div>                    <\\/div>\\r\\n                <\\/div>\\r\\n            <\\/div>\\r\\n\\r\\n\\r\\n            <div style=\\\"clear: left;\\\"><\\/div>\\r\\n        <\\/a>\\r\\n            \\r\\n\\t\\t\\t\\t\n",
      "=====\n"
     ]
    },
    {
     "name": "stderr",
     "output_type": "stream",
     "text": [
      " 73%|█████████████████████████████████████████████████████▌                   | 1162/1583 [16:16:16<3:40:33, 31.43s/it]"
     ]
    },
    {
     "name": "stdout",
     "output_type": "stream",
     "text": [
      "[INFO] Cannot parse following info.\n",
      "<a href=\\\"https:\\/\\/store.steampowered.com\\/app\\/892640\\/FANCIE_VEER_Fish_Are_Nasty_Cake_Is_Excellent_Vektor_Evading_Emblazed_Rapture\\/?snr=1_7_7_230_150_1163\\\"\\r\\n\\t\\t\\t data-ds-appid=\\\"892640\\\" data-ds-itemkey=\\\"App_892640\\\" data-ds-tagids=\\\"[19]\\\" data-ds-crtrids=\\\"[27737447]\\\" onmouseover=\\\"GameHover( this, event, 'global_hover', {&quot;type&quot;:&quot;app&quot;,&quot;id&quot;:892640,&quot;public&quot;:1,&quot;v6&quot;:1} );\\\" onmouseout=\\\"HideGameHover( this, event, 'global_hover' )\\\" class=\\\"search_result_row ds_collapse_flag \\\"\\r\\n\\t\\t   data-search-page=\\\"1163\\\" data-gpnav=\\\"item\\\"\\r\\n\\t\\t   data-ds-steam-deck-compat-handled=\\\"true\\\">\\r\\n            <div class=\\\"col search_capsule\\\"><img src=\\\"https:\\/\\/cdn.cloudflare.steamstatic.com\\/steam\\/apps\\/892640\\/capsule_sm_120.jpg?t=1686440820\\\" srcset=\\\"https:\\/\\/cdn.cloudflare.steamstatic.com\\/steam\\/apps\\/892640\\/capsule_sm_120.jpg?t=1686440820 1x, https:\\/\\/cdn.cloudflare.steamstatic.com\\/steam\\/apps\\/892640\\/capsule_231x87.jpg?t=1686440820 2x\\\"><\\/div>\\r\\n            <div class=\\\"responsive_search_name_combined\\\">\\r\\n                <div class=\\\"col search_name ellipsis\\\">\\r\\n                    <span class=\\\"title\\\">FAN'CIE VEER! (Fish Are Nasty, Cake Is Excellent Vektor Evading Emblazed Rapture)<\\/span>\\r\\n                    <div>\\r\\n                                                <span class=\\\"platform_img win\\\"><\\/span>                                            <\\/div>\\r\\n                <\\/div>\\r\\n                <div class=\\\"col search_released responsive_secondrow\\\">\\r\\n                    13 Jul, 2018                <\\/div>\\r\\n                <div class=\\\"col search_reviewscore responsive_secondrow\\\">\\r\\n                                    <\\/div>\\r\\n\\r\\n\\r\\n                <div class=\\\"col search_price_discount_combined responsive_secondrow\\\" data-price-final=\\\"88\\\">\\r\\n                    <div class=\\\"col search_discount_and_price responsive_secondrow\\\">\\r\\n                        <div class=\\\"discount_block search_discount_block\\\" data-price-final=\\\"88\\\" data-bundlediscount=\\\"0\\\" data-discount=\\\"67\\\"><div class=\\\"discount_pct\\\">-67%<\\/div><div class=\\\"discount_prices\\\"><div class=\\\"discount_original_price\\\">£2.69<\\/div><div class=\\\"discount_final_price\\\">£0.88<\\/div><\\/div><\\/div>                    <\\/div>\\r\\n                <\\/div>\\r\\n            <\\/div>\\r\\n\\r\\n\\r\\n            <div style=\\\"clear: left;\\\"><\\/div>\\r\\n        <\\/a>\\r\\n            \\r\\n\\t\\t\\t\\t\n",
      "=====\n"
     ]
    },
    {
     "name": "stderr",
     "output_type": "stream",
     "text": [
      " 74%|█████████████████████████████████████████████████████▋                   | 1164/1583 [16:17:19<3:39:06, 31.38s/it]"
     ]
    },
    {
     "name": "stdout",
     "output_type": "stream",
     "text": [
      "[INFO] Cannot parse following info.\n",
      "<a href=\\\"https:\\/\\/store.steampowered.com\\/app\\/1727200\\/Kittens_in_PostApocalyptic_Fantasy_San_Francisco_Battle_School_for_Only_the_Most_Awesome_Monsters\\/?snr=1_7_7_230_150_1165\\\"\\r\\n\\t\\t\\t data-ds-appid=\\\"1727200\\\" data-ds-itemkey=\\\"App_1727200\\\" data-ds-tagids=\\\"[4474,916648,122,4726,3799,4328,11014]\\\" data-ds-crtrids=\\\"[33017070]\\\" onmouseover=\\\"GameHover( this, event, 'global_hover', {&quot;type&quot;:&quot;app&quot;,&quot;id&quot;:1727200,&quot;public&quot;:1,&quot;v6&quot;:1} );\\\" onmouseout=\\\"HideGameHover( this, event, 'global_hover' )\\\" class=\\\"search_result_row ds_collapse_flag \\\"\\r\\n\\t\\t   data-search-page=\\\"1165\\\" data-gpnav=\\\"item\\\"\\r\\n\\t\\t   data-ds-steam-deck-compat-handled=\\\"true\\\">\\r\\n            <div class=\\\"col search_capsule\\\"><img src=\\\"https:\\/\\/cdn.cloudflare.steamstatic.com\\/steam\\/apps\\/1727200\\/capsule_sm_120.jpg?t=1660435859\\\" srcset=\\\"https:\\/\\/cdn.cloudflare.steamstatic.com\\/steam\\/apps\\/1727200\\/capsule_sm_120.jpg?t=1660435859 1x, https:\\/\\/cdn.cloudflare.steamstatic.com\\/steam\\/apps\\/1727200\\/capsule_231x87.jpg?t=1660435859 2x\\\"><\\/div>\\r\\n            <div class=\\\"responsive_search_name_combined\\\">\\r\\n                <div class=\\\"col search_name ellipsis\\\">\\r\\n                    <span class=\\\"title\\\">Kittens in Post-Apocalyptic Fantasy San Francisco: Battle School for Only the Most Awesome Monsters<\\/span>\\r\\n                    <div>\\r\\n                                                <span class=\\\"platform_img win\\\"><\\/span><span class=\\\"platform_img linux\\\"><\\/span>                                            <\\/div>\\r\\n                <\\/div>\\r\\n                <div class=\\\"col search_released responsive_secondrow\\\">\\r\\n                    9 Aug, 2022                <\\/div>\\r\\n                <div class=\\\"col search_reviewscore responsive_secondrow\\\">\\r\\n                                    <\\/div>\\r\\n\\r\\n\\r\\n                <div class=\\\"col search_price_discount_combined responsive_secondrow\\\" data-price-final=\\\"789\\\">\\r\\n                    <div class=\\\"col search_discount_and_price responsive_secondrow\\\">\\r\\n                        <div class=\\\"discount_block search_discount_block\\\" data-price-final=\\\"789\\\" data-bundlediscount=\\\"0\\\" data-discount=\\\"15\\\"><div class=\\\"discount_pct\\\">-15%<\\/div><div class=\\\"discount_prices\\\"><div class=\\\"discount_original_price\\\">£9.29<\\/div><div class=\\\"discount_final_price\\\">£7.89<\\/div><\\/div><\\/div>                    <\\/div>\\r\\n                <\\/div>\\r\\n            <\\/div>\\r\\n\\r\\n\\r\\n            <div style=\\\"clear: left;\\\"><\\/div>\\r\\n        <\\/a>\\r\\n            \\r\\n\\t\\t\\t\\t\n",
      "=====\n"
     ]
    },
    {
     "name": "stderr",
     "output_type": "stream",
     "text": [
      " 85%|█████████████████████████████████████████████████████████████▋           | 1338/1583 [18:17:56<3:08:40, 46.21s/it]"
     ]
    },
    {
     "name": "stdout",
     "output_type": "stream",
     "text": [
      "[INFO] Cannot parse following info.\n",
      "<a href=\\\"https:\\/\\/store.steampowered.com\\/app\\/1547580\\/Welcome_To_Chichester_2__Part_II__No_Extra_Regrets_For_The_Future\\/?snr=1_7_7_230_150_1339\\\"\\r\\n\\t\\t\\t data-ds-appid=\\\"1547580\\\" data-ds-itemkey=\\\"App_1547580\\\" data-ds-tagids=\\\"[3799,597,4085,4562,4195,4145,4305]\\\" data-ds-descids=\\\"[5]\\\" data-ds-crtrids=\\\"[33590224]\\\" onmouseover=\\\"GameHover( this, event, 'global_hover', {&quot;type&quot;:&quot;app&quot;,&quot;id&quot;:1547580,&quot;public&quot;:1,&quot;v6&quot;:1} );\\\" onmouseout=\\\"HideGameHover( this, event, 'global_hover' )\\\" class=\\\"search_result_row ds_collapse_flag \\\"\\r\\n\\t\\t   data-search-page=\\\"1339\\\" data-gpnav=\\\"item\\\"\\r\\n\\t\\t   data-ds-steam-deck-compat-handled=\\\"true\\\">\\r\\n            <div class=\\\"col search_capsule\\\"><img src=\\\"https:\\/\\/cdn.cloudflare.steamstatic.com\\/steam\\/apps\\/1547580\\/capsule_sm_120.jpg?t=1679593174\\\" srcset=\\\"https:\\/\\/cdn.cloudflare.steamstatic.com\\/steam\\/apps\\/1547580\\/capsule_sm_120.jpg?t=1679593174 1x, https:\\/\\/cdn.cloudflare.steamstatic.com\\/steam\\/apps\\/1547580\\/capsule_231x87.jpg?t=1679593174 2x\\\"><\\/div>\\r\\n            <div class=\\\"responsive_search_name_combined\\\">\\r\\n                <div class=\\\"col search_name ellipsis\\\">\\r\\n                    <span class=\\\"title\\\">Welcome To... Chichester 2 - Part II : No Extra Regrets For The Future<\\/span>\\r\\n                    <div>\\r\\n                                                <span class=\\\"platform_img win\\\"><\\/span><span class=\\\"platform_img mac\\\"><\\/span><span class=\\\"platform_img linux\\\"><\\/span>                                            <\\/div>\\r\\n                <\\/div>\\r\\n                <div class=\\\"col search_released responsive_secondrow\\\">\\r\\n                    30 Sep, 2021                <\\/div>\\r\\n                <div class=\\\"col search_reviewscore responsive_secondrow\\\">\\r\\n                                    <\\/div>\\r\\n\\r\\n\\r\\n                <div class=\\\"col search_price_discount_combined responsive_secondrow\\\" data-price-final=\\\"510\\\">\\r\\n                    <div class=\\\"col search_discount_and_price responsive_secondrow\\\">\\r\\n                        <div class=\\\"discount_block search_discount_block\\\" data-price-final=\\\"510\\\" data-bundlediscount=\\\"0\\\" data-discount=\\\"40\\\"><div class=\\\"discount_pct\\\">-40%<\\/div><div class=\\\"discount_prices\\\"><div class=\\\"discount_original_price\\\">£8.50<\\/div><div class=\\\"discount_final_price\\\">£5.10<\\/div><\\/div><\\/div>                    <\\/div>\\r\\n                <\\/div>\\r\\n            <\\/div>\\r\\n\\r\\n\\r\\n            <div style=\\\"clear: left;\\\"><\\/div>\\r\\n        <\\/a>\\r\\n            \\r\\n\\t\\t\\t\\t\n",
      "=====\n"
     ]
    },
    {
     "name": "stderr",
     "output_type": "stream",
     "text": [
      " 86%|██████████████████████████████████████████████████████████████▉          | 1366/1583 [18:31:53<1:43:08, 28.52s/it]"
     ]
    },
    {
     "name": "stdout",
     "output_type": "stream",
     "text": [
      "[INFO] Cannot parse following info.\n",
      "<a href=\\\"https:\\/\\/store.steampowered.com\\/app\\/1766140\\/_Special_Girl_Spcial_fille_Ragazza_speciale_Chica_especial___Ein_besonderes_mdchen\\/?snr=1_7_7_230_150_1367\\\"\\r\\n\\t\\t\\t data-ds-appid=\\\"1766140\\\" data-ds-itemkey=\\\"App_1766140\\\" data-ds-tagids=\\\"[21,19,3993,4182,492,7481,4106]\\\" onmouseover=\\\"GameHover( this, event, 'global_hover', {&quot;type&quot;:&quot;app&quot;,&quot;id&quot;:1766140,&quot;public&quot;:1,&quot;v6&quot;:1} );\\\" onmouseout=\\\"HideGameHover( this, event, 'global_hover' )\\\" class=\\\"search_result_row ds_collapse_flag \\\"\\r\\n\\t\\t   data-search-page=\\\"1367\\\" data-gpnav=\\\"item\\\"\\r\\n\\t\\t   data-ds-steam-deck-compat-handled=\\\"true\\\">\\r\\n            <div class=\\\"col search_capsule\\\"><img src=\\\"https:\\/\\/cdn.cloudflare.steamstatic.com\\/steam\\/apps\\/1766140\\/capsule_sm_120.jpg?t=1680255139\\\" srcset=\\\"https:\\/\\/cdn.cloudflare.steamstatic.com\\/steam\\/apps\\/1766140\\/capsule_sm_120.jpg?t=1680255139 1x, https:\\/\\/cdn.cloudflare.steamstatic.com\\/steam\\/apps\\/1766140\\/capsule_231x87.jpg?t=1680255139 2x\\\"><\\/div>\\r\\n            <div class=\\\"responsive_search_name_combined\\\">\\r\\n                <div class=\\\"col search_name ellipsis\\\">\\r\\n                    <span class=\\\"title\\\">异能女者 Special Girl Spécial fille Ragazza speciale Chica especial Особенная девушка, Ein besonderes mädchen. 特別な女の子だっ 특별 한 소녀<\\/span>\\r\\n                    <div>\\r\\n                                                <span class=\\\"platform_img win\\\"><\\/span>                                            <\\/div>\\r\\n                <\\/div>\\r\\n                <div class=\\\"col search_released responsive_secondrow\\\">\\r\\n                    Coming soon                <\\/div>\\r\\n                <div class=\\\"col search_reviewscore responsive_secondrow\\\">\\r\\n                                    <\\/div>\\r\\n\\r\\n\\r\\n                <div class=\\\"col search_price_discount_combined responsive_secondrow\\\" data-price-final=\\\"0\\\">\\r\\n                    <div class=\\\"col search_discount_and_price responsive_secondrow\\\">\\r\\n                                            <\\/div>\\r\\n                <\\/div>\\r\\n            <\\/div>\\r\\n\\r\\n\\r\\n            <div style=\\\"clear: left;\\\"><\\/div>\\r\\n        <\\/a>\\r\\n            \\r\\n\\t\\t\\t\\t\n",
      "=====\n"
     ]
    },
    {
     "name": "stderr",
     "output_type": "stream",
     "text": [
      " 87%|███████████████████████████████████████████████████████████████▏         | 1370/1583 [18:34:02<1:52:23, 31.66s/it]"
     ]
    },
    {
     "name": "stdout",
     "output_type": "stream",
     "text": [
      "[INFO] Cannot parse following info.\n",
      "<a href=\\\"https:\\/\\/store.steampowered.com\\/app\\/1822660\\/KOTOMASHO_I_Cant_Believe_This_NEET_Guy_Turned_Into_a_Magical_Girl\\/?snr=1_7_7_230_150_1371\\\"\\r\\n\\t\\t\\t data-ds-appid=\\\"1822660\\\" data-ds-itemkey=\\\"App_1822660\\\" data-ds-tagids=\\\"[21,1664,4085,3964,19,3834,492]\\\" onmouseover=\\\"GameHover( this, event, 'global_hover', {&quot;type&quot;:&quot;app&quot;,&quot;id&quot;:1822660,&quot;public&quot;:1,&quot;v6&quot;:1} );\\\" onmouseout=\\\"HideGameHover( this, event, 'global_hover' )\\\" class=\\\"search_result_row ds_collapse_flag \\\"\\r\\n\\t\\t   data-search-page=\\\"1371\\\" data-gpnav=\\\"item\\\"\\r\\n\\t\\t   data-ds-steam-deck-compat-handled=\\\"true\\\">\\r\\n            <div class=\\\"col search_capsule\\\"><img src=\\\"https:\\/\\/cdn.cloudflare.steamstatic.com\\/steam\\/apps\\/1822660\\/capsule_sm_120.jpg?t=1675910417\\\" srcset=\\\"https:\\/\\/cdn.cloudflare.steamstatic.com\\/steam\\/apps\\/1822660\\/capsule_sm_120.jpg?t=1675910417 1x, https:\\/\\/cdn.cloudflare.steamstatic.com\\/steam\\/apps\\/1822660\\/capsule_231x87.jpg?t=1675910417 2x\\\"><\\/div>\\r\\n            <div class=\\\"responsive_search_name_combined\\\">\\r\\n                <div class=\\\"col search_name ellipsis\\\">\\r\\n                    <span class=\\\"title\\\">KOTOMASHO: I Can't Believe This NEET Guy Turned Into a Magical Girl!<\\/span>\\r\\n                    <div>\\r\\n                                                <span class=\\\"platform_img win\\\"><\\/span>                                            <\\/div>\\r\\n                <\\/div>\\r\\n                <div class=\\\"col search_released responsive_secondrow\\\">\\r\\n                    To be announced                <\\/div>\\r\\n                <div class=\\\"col search_reviewscore responsive_secondrow\\\">\\r\\n                                    <\\/div>\\r\\n\\r\\n\\r\\n                <div class=\\\"col search_price_discount_combined responsive_secondrow\\\" data-price-final=\\\"0\\\">\\r\\n                    <div class=\\\"col search_discount_and_price responsive_secondrow\\\">\\r\\n                                            <\\/div>\\r\\n                <\\/div>\\r\\n            <\\/div>\\r\\n\\r\\n\\r\\n            <div style=\\\"clear: left;\\\"><\\/div>\\r\\n        <\\/a>\\r\\n            \\r\\n\\t\\t\\t\\t\n",
      "=====\n"
     ]
    },
    {
     "name": "stderr",
     "output_type": "stream",
     "text": [
      " 91%|██████████████████████████████████████████████████████████████████▋      | 1446/1583 [19:15:17<1:14:12, 32.50s/it]"
     ]
    },
    {
     "name": "stdout",
     "output_type": "stream",
     "text": [
      "[INFO] Cannot parse following info.\n",
      "<a href=\\\"https:\\/\\/store.steampowered.com\\/app\\/2468680\\/WACKY_WONDERLAND_WOLLOP_A_3D_PLATFORMER_FOR_THE_AGES_GAME_OF_THE_YEAR_GREATEST_GAME_OF_ALL_TIME__THE_GAME\\/?snr=1_7_7_230_150_1447\\\"\\r\\n\\t\\t\\t data-ds-appid=\\\"2468680\\\" data-ds-itemkey=\\\"App_2468680\\\" data-ds-tagids=\\\"[4136,7702,5395,5537,3877,1719,4400]\\\" data-ds-descids=\\\"[5]\\\" onmouseover=\\\"GameHover( this, event, 'global_hover', {&quot;type&quot;:&quot;app&quot;,&quot;id&quot;:2468680,&quot;public&quot;:1,&quot;v6&quot;:1} );\\\" onmouseout=\\\"HideGameHover( this, event, 'global_hover' )\\\" class=\\\"search_result_row ds_collapse_flag \\\"\\r\\n\\t\\t   data-search-page=\\\"1447\\\" data-gpnav=\\\"item\\\"\\r\\n\\t\\t   data-ds-steam-deck-compat-handled=\\\"true\\\">\\r\\n            <div class=\\\"col search_capsule\\\"><img src=\\\"https:\\/\\/cdn.cloudflare.steamstatic.com\\/steam\\/apps\\/2468680\\/capsule_sm_120.jpg?t=1701629278\\\" srcset=\\\"https:\\/\\/cdn.cloudflare.steamstatic.com\\/steam\\/apps\\/2468680\\/capsule_sm_120.jpg?t=1701629278 1x, https:\\/\\/cdn.cloudflare.steamstatic.com\\/steam\\/apps\\/2468680\\/capsule_231x87.jpg?t=1701629278 2x\\\"><\\/div>\\r\\n            <div class=\\\"responsive_search_name_combined\\\">\\r\\n                <div class=\\\"col search_name ellipsis\\\">\\r\\n                    <span class=\\\"title\\\">WACKY WONDERLAND WOLLOP: A 3D PLATFORMER FOR THE AGES GAME OF THE YEAR GREATEST GAME OF ALL TIME : THE GAME<\\/span>\\r\\n                    <div>\\r\\n                                                <span class=\\\"platform_img win\\\"><\\/span><span class=\\\"platform_img mac\\\"><\\/span><span class=\\\"platform_img linux\\\"><\\/span>                                            <\\/div>\\r\\n                <\\/div>\\r\\n                <div class=\\\"col search_released responsive_secondrow\\\">\\r\\n                    Q1 2024                <\\/div>\\r\\n                <div class=\\\"col search_reviewscore responsive_secondrow\\\">\\r\\n                                    <\\/div>\\r\\n\\r\\n\\r\\n                <div class=\\\"col search_price_discount_combined responsive_secondrow\\\" data-price-final=\\\"0\\\">\\r\\n                    <div class=\\\"col search_discount_and_price responsive_secondrow\\\">\\r\\n                                            <\\/div>\\r\\n                <\\/div>\\r\\n            <\\/div>\\r\\n\\r\\n\\r\\n            <div style=\\\"clear: left;\\\"><\\/div>\\r\\n        <\\/a>\\r\\n            \\r\\n\\t\\t\\t\\t\n",
      "=====\n"
     ]
    },
    {
     "name": "stderr",
     "output_type": "stream",
     "text": [
      " 99%|██████████████████████████████████████████████████████████████████████████▏| 1565/1583 [22:08:00<11:49, 39.41s/it]"
     ]
    },
    {
     "name": "stdout",
     "output_type": "stream",
     "text": [
      "[INFO] Cannot parse following info.\n",
      "<a href=\\\"https:\\/\\/store.steampowered.com\\/app\\/1460070\\/Is_It_Wrong_To_Try_To_Rescue_Monster_Girls_From_The_Inquisition\\/?snr=1_7_7_230_150_1566\\\"\\r\\n\\t\\t\\t data-ds-appid=\\\"1460070\\\" data-ds-itemkey=\\\"App_1460070\\\" data-ds-tagids=\\\"[3799,4085,1664,5611,4136,4726,1742]\\\" data-ds-descids=\\\"[5]\\\" onmouseover=\\\"GameHover( this, event, 'global_hover', {&quot;type&quot;:&quot;app&quot;,&quot;id&quot;:1460070,&quot;public&quot;:1,&quot;v6&quot;:1} );\\\" onmouseout=\\\"HideGameHover( this, event, 'global_hover' )\\\" class=\\\"search_result_row ds_collapse_flag \\\"\\r\\n\\t\\t   data-search-page=\\\"1566\\\" data-gpnav=\\\"item\\\"\\r\\n\\t\\t   data-ds-steam-deck-compat-handled=\\\"true\\\">\\r\\n            <div class=\\\"col search_capsule\\\"><img src=\\\"https:\\/\\/cdn.cloudflare.steamstatic.com\\/steam\\/apps\\/1460070\\/capsule_sm_120.jpg?t=1684826473\\\" srcset=\\\"https:\\/\\/cdn.cloudflare.steamstatic.com\\/steam\\/apps\\/1460070\\/capsule_sm_120.jpg?t=1684826473 1x, https:\\/\\/cdn.cloudflare.steamstatic.com\\/steam\\/apps\\/1460070\\/capsule_231x87.jpg?t=1684826473 2x\\\"><\\/div>\\r\\n            <div class=\\\"responsive_search_name_combined\\\">\\r\\n                <div class=\\\"col search_name ellipsis\\\">\\r\\n                    <span class=\\\"title\\\">Is It Wrong To Try To Rescue Monster Girls From The Inquisition?<\\/span>\\r\\n                    <div>\\r\\n                                                <span class=\\\"platform_img win\\\"><\\/span>                                            <\\/div>\\r\\n                <\\/div>\\r\\n                <div class=\\\"col search_released responsive_secondrow\\\">\\r\\n                    Coming soon                <\\/div>\\r\\n                <div class=\\\"col search_reviewscore responsive_secondrow\\\">\\r\\n                                    <\\/div>\\r\\n\\r\\n\\r\\n                <div class=\\\"col search_price_discount_combined responsive_secondrow\\\" data-price-final=\\\"0\\\">\\r\\n                    <div class=\\\"col search_discount_and_price responsive_secondrow\\\">\\r\\n                                            <\\/div>\\r\\n                <\\/div>\\r\\n            <\\/div>\\r\\n\\r\\n\\r\\n            <div style=\\\"clear: left;\\\"><\\/div>\\r\\n        <\\/a>\\r\\n            \\r\\n\\t\\t\\t\\t\n",
      "=====\n"
     ]
    },
    {
     "name": "stderr",
     "output_type": "stream",
     "text": [
      "100%|██████████████████████████████████████████████████████████████████████████▊| 1578/1583 [22:15:41<02:48, 33.74s/it]"
     ]
    },
    {
     "name": "stdout",
     "output_type": "stream",
     "text": [
      "[INFO] Cannot parse following info.\n",
      "<a href=\\\"https:\\/\\/store.steampowered.com\\/app\\/796660\\/About_how_he_earned_a_suite_from_TFinancial_Platform_in_four_months\\/?snr=1_7_7_230_150_1579\\\"\\r\\n\\t\\t\\t data-ds-appid=\\\"796660\\\" data-ds-itemkey=\\\"App_796660\\\" data-ds-tagids=\\\"[113,597,599,492,9,122]\\\" data-ds-crtrids=\\\"[34173458]\\\" onmouseover=\\\"GameHover( this, event, 'global_hover', {&quot;type&quot;:&quot;app&quot;,&quot;id&quot;:796660,&quot;public&quot;:1,&quot;v6&quot;:1} );\\\" onmouseout=\\\"HideGameHover( this, event, 'global_hover' )\\\" class=\\\"search_result_row ds_collapse_flag \\\"\\r\\n\\t\\t   data-search-page=\\\"1579\\\" data-gpnav=\\\"item\\\"\\r\\n\\t\\t   data-ds-steam-deck-compat-handled=\\\"true\\\">\\r\\n            <div class=\\\"col search_capsule\\\"><img src=\\\"https:\\/\\/cdn.cloudflare.steamstatic.com\\/steam\\/apps\\/796660\\/capsule_sm_120.jpg?t=1582483362\\\" srcset=\\\"https:\\/\\/cdn.cloudflare.steamstatic.com\\/steam\\/apps\\/796660\\/capsule_sm_120.jpg?t=1582483362 1x, https:\\/\\/cdn.cloudflare.steamstatic.com\\/steam\\/apps\\/796660\\/capsule_231x87.jpg?t=1582483362 2x\\\"><\\/div>\\r\\n            <div class=\\\"responsive_search_name_combined\\\">\\r\\n                <div class=\\\"col search_name ellipsis\\\">\\r\\n                    <span class=\\\"title\\\">About how he earned a suite from T-Financial Platform in four months<\\/span>\\r\\n                    <div>\\r\\n                                                <span class=\\\"platform_img win\\\"><\\/span>                                            <\\/div>\\r\\n                <\\/div>\\r\\n                <div class=\\\"col search_released responsive_secondrow\\\">\\r\\n                    Coming soon                <\\/div>\\r\\n                <div class=\\\"col search_reviewscore responsive_secondrow\\\">\\r\\n                                    <\\/div>\\r\\n\\r\\n\\r\\n                <div class=\\\"col search_price_discount_combined responsive_secondrow\\\" data-price-final=\\\"0\\\">\\r\\n                    <div class=\\\"col search_discount_and_price responsive_secondrow\\\">\\r\\n                        <div class=\\\"discount_block no_discount search_discount_block\\\">\\t<div class=\\\"discount_prices\\\">\\t\\t<div class=\\\"discount_final_price free\\\">Free<\\/div>\\t<\\/div><\\/div>                    <\\/div>\\r\\n                <\\/div>\\r\\n            <\\/div>\\r\\n\\r\\n\\r\\n            <div style=\\\"clear: left;\\\"><\\/div>\\r\\n        <\\/a>\\r\\n            \\r\\n\\t\\t\\t\\t\n",
      "=====\n"
     ]
    },
    {
     "name": "stderr",
     "output_type": "stream",
     "text": [
      "100%|███████████████████████████████████████████████████████████████████████████| 1583/1583 [22:18:41<00:00, 50.74s/it]\n"
     ]
    }
   ],
   "source": [
    "def scrape_game_info(records, genres, url):\n",
    "    page = requests.get(url)\n",
    "    \n",
    "    result = str(page.content.decode())\n",
    "    \n",
    "    string = '<span class=\\\"title\\\">Steam Deck<\\/span>'\n",
    "    results = re.findall(r'<a href=\\\\\"https:\\\\\\/\\\\\\/store\\.steampowered\\.com\\\\\\/app.{1,2750}\\\\r\\\\n\\\\t\\\\t\\\\t\\\\t', result)\n",
    "\n",
    "    if debug:\n",
    "        iters = 1\n",
    "    else:\n",
    "        iters = len(results)\n",
    "        \n",
    "    for i in range(iters):\n",
    "        current = results[i]\n",
    "\n",
    "        # DEBUGGING - Print the info about the current game to see the request content structure\n",
    "        if debug:\n",
    "            print(current)\n",
    "\n",
    "        try:\n",
    "            # Get 'title'\n",
    "            title = re.findall(r'class=\\\\\"title\\\\\">.{1,300}<\\\\\\/span', current)[0]\n",
    "            title = title[title.index(\">\")+1:title.index(\"<\\/span>\")]\n",
    "    \n",
    "            # Get 'prices'\n",
    "            if re.search(r'class=\\\\\"discount_prices\\\\\">.{1,300}<\\\\\\/div', current) == None: # No price information given\n",
    "                discount_price = None\n",
    "                final_price = None\n",
    "            else:\n",
    "                price = re.findall(r'class=\\\\\"discount_prices\\\\\">.{1,300}<\\\\\\/div', current)[0] # All price information\n",
    "                if \"discount_original_price\" in price: # The price of the game before discount\n",
    "                    discount_price = price[price.index(\"original_price\")+17:price.index(\"<\\/div>\")]\n",
    "                    price = price[price.index(\"<\\/div>\")+7:]\n",
    "                else: # There is no discount\n",
    "                    discount_price = None\n",
    "                if 'free' in price:\n",
    "                    final_price = 'Free'\n",
    "                else:\n",
    "                    final_price = price[price.index('final_price\\\\')+14:price.index(\"<\\/div>\")] # The current price of the game, either regular or after discount\n",
    "                if discount_price == None: # If no discount, set pre-discount price to same as current (final) price\n",
    "                    discount_price = final_price\n",
    "\n",
    "            # Get 'reviews'\n",
    "            if re.search(r'class=\\\\\"search_review_summary positive\\\\\".{1,300}\\\\\">', current) == None:\n",
    "                review_class = None # Overwhelmingly positive, positive, mixed etc.\n",
    "                reviews = None\n",
    "                review_percent = None # Percent of reviews that are positive\n",
    "                review_absolute = None # Number of reviews\n",
    "            else:\n",
    "                review = re.findall(r'class=\\\\\"search_review_summary positive\\\\\".{1,300}\\\\\">', current)[0]\n",
    "                review_class = review[review.index('html=\\\\\"')+7:review.index(\"&lt\")]\n",
    "                reviews = review[review.index('&gt;')+4:review.index('.')]\n",
    "                review_percent = reviews[:reviews.index('%')]\n",
    "                review_absolute = reviews[reviews.index('the ')+4:reviews.index(' user')].replace(\",\", \"\")\n",
    "                \n",
    "            # Get 'date'\n",
    "            if re.search(r'class=\\\\\"col search_released responsive_secondrow\\\\\">.{1,200}<\\\\\\/div>', current) == None:\n",
    "                date = None\n",
    "            else:\n",
    "                date = re.findall(r'class=\\\\\"col search_released responsive_secondrow\\\\\">.{1,200}<\\\\\\/div>', current)[0]\n",
    "                date = date[date.index(r'\\r\\n')+4:date.index('<\\/div>')].lstrip().rstrip()\n",
    "                if date == \"\": # If no date, will match to whitespace so will be stripped to empty string\n",
    "                    date = None\n",
    "    \n",
    "            game_page_url = re.findall(r'<a href=\\\\\"https:\\\\\\/\\\\\\/store\\.steampowered\\.com\\\\\\/app.{1,100}\\\\r\\\\n\\\\t\\\\t\\\\t', current)[0]\n",
    "            game_page_url = game_page_url[game_page_url.index(\"https\"):game_page_url.index('\\\\\"\\\\r')].replace(\"\\\\\", \"\")\n",
    "            # print(game_page_url)\n",
    "            \n",
    "            game_page = requests.get(game_page_url)\n",
    "            soup = BeautifulSoup(game_page.content, \"html.parser\")\n",
    "            genre_info = soup.find(\"div\", {\"id\": \"genresAndManufacturer\"})\n",
    "            # print(genres)\n",
    "            game_genres = []\n",
    "            children = genre_info.findChildren(\"a\", recursive=True)\n",
    "            for child in children:\n",
    "                if \"genre\" in str(child):\n",
    "                    # print(child.text)\n",
    "                    game_genres.append(child.text)\n",
    "            # print(game_genres)\n",
    "            genres.append(game_genres)\n",
    "            records.append([title, discount_price, final_price, review_percent, review_absolute, review_class, date])\n",
    "            \n",
    "           \n",
    "        except:\n",
    "            print('[INFO] Cannot parse following info.')\n",
    "            print(current)\n",
    "            print('=====')\n",
    "            \n",
    "    return records, genres\n",
    "\n",
    "# Scrapes game info in batches of 50, so total number of games scraped = ~50*lim\n",
    "if debug:\n",
    "    lim = 1\n",
    "else:\n",
    "    lim = game_count // 50\n",
    "records = []\n",
    "genres = []\n",
    "print('[INFO] Scraping... ')\n",
    "for i in tqdm(range(lim)):\n",
    "    records, genres = scrape_game_info(records, genres, url_raw.replace('#', str(i*50)))\n",
    "    # if i % 5 == 0:\n",
    "    #     with open('data_records_backup.csv', 'w', newline='') as f:\n",
    "    #         writer = csv.writer(f)\n",
    "    #         writer.writerows(records)\n",
    "    #         f.close()\n",
    "    #     with open('data_genres_backup.csv', 'w', newline='') as f:\n",
    "    #         writer = csv.writer(f)\n",
    "    #         writer.writerows(genres)\n",
    "    #         f.close()"
   ]
  },
  {
   "cell_type": "markdown",
   "id": "fd2ce617-10da-4a47-a13c-5dc13c926abc",
   "metadata": {},
   "source": [
    "### 4. Save game info to CSV"
   ]
  },
  {
   "cell_type": "code",
   "execution_count": 7,
   "id": "c4bbabf0-9fd7-41bd-ba39-acecee42172f",
   "metadata": {},
   "outputs": [],
   "source": [
    "with open('data_records_backup.csv', 'w', newline='', encoding='utf8') as f:\n",
    "    writer = csv.writer(f)\n",
    "    writer.writerows(records)\n",
    "    f.close()\n",
    "with open('data_genres_backup.csv', 'w', newline='', encoding='utf8') as f:\n",
    "    writer = csv.writer(f)\n",
    "    writer.writerows(genres)\n",
    "    f.close()"
   ]
  },
  {
   "cell_type": "markdown",
   "id": "10d0eb81-2676-47ae-ad69-fd8fa4e4d6fd",
   "metadata": {},
   "source": [
    "### (Optional) Load game info from CSV"
   ]
  },
  {
   "cell_type": "code",
   "execution_count": 23,
   "id": "22d593c9-f87f-45f2-8993-496b54ee8352",
   "metadata": {},
   "outputs": [
    {
     "name": "stdout",
     "output_type": "stream",
     "text": [
      "76567\n",
      "                           title pre-discount-price sale-price  \\\n",
      "0                Baldur's Gate 3             £49.99     £44.99   \n",
      "1                 Lethal Company              £8.50      £8.50   \n",
      "2                 Cyberpunk 2077                                 \n",
      "3               Counter-Strike 2               Free       Free   \n",
      "4                  Call of Duty®                                 \n",
      "...                          ...                ...        ...   \n",
      "76562                  Seek Love             £10.99      £1.09   \n",
      "76563  Age of Cards - Ra's Chess                                 \n",
      "76564                  Thrunt XL                                 \n",
      "76565                       荒野寻踪              £8.50      £8.50   \n",
      "76566                Unsacrifice                                 \n",
      "\n",
      "      positive-review-percent num-reviews             review-class  \\\n",
      "0                          96      454247  Overwhelmingly Positive   \n",
      "1                          98      166011  Overwhelmingly Positive   \n",
      "2                                                                    \n",
      "3                          87     7802681            Very Positive   \n",
      "4                                                                    \n",
      "...                       ...         ...                      ...   \n",
      "76562                                                                \n",
      "76563                                                                \n",
      "76564                                                                \n",
      "76565                                                                \n",
      "76566                                                                \n",
      "\n",
      "      date-released  \n",
      "0       3 Aug, 2023  \n",
      "1      23 Oct, 2023  \n",
      "2       9 Dec, 2020  \n",
      "3      21 Aug, 2012  \n",
      "4      27 Oct, 2022  \n",
      "...             ...  \n",
      "76562  21 Nov, 2018  \n",
      "76563   Coming soon  \n",
      "76564   Coming soon  \n",
      "76565   1 Jun, 2018  \n",
      "76566   Coming soon  \n",
      "\n",
      "[76567 rows x 7 columns]\n"
     ]
    }
   ],
   "source": [
    "records = []\n",
    "with open('data_records_backup.csv', encoding='utf8') as csvfile:\n",
    "    reader = csv.reader(csvfile) # change contents to floats\n",
    "    for row in reader: # each row is a list\n",
    "        records.append(row)\n",
    "\n",
    "print(len(records))\n",
    "\n",
    "records_df = pd.DataFrame(records, columns=['title', 'pre-discount-price', 'sale-price', 'positive-review-percent', 'num-reviews', 'review-class', 'date-released'])\n",
    "print(records_df)\n",
    "# genres = []\n",
    "# with open('data_genres_backup.csv', encoding='utf8') as csvfile:\n",
    "#     reader = csv.reader(csvfile) # change contents to floats\n",
    "#     for row in reader: # each row is a list\n",
    "#         genres.append(row)"
   ]
  },
  {
   "cell_type": "markdown",
   "id": "90f39681-d33b-4250-b21b-3e9265ff289e",
   "metadata": {},
   "source": [
    "### 5. One-hot encode genres and convert data to pandas DF"
   ]
  },
  {
   "cell_type": "code",
   "execution_count": 24,
   "id": "e8c3fb72-5e49-4d6e-96b3-5dc1675f2f39",
   "metadata": {},
   "outputs": [
    {
     "data": {
      "text/html": [
       "<div>\n",
       "<style scoped>\n",
       "    .dataframe tbody tr th:only-of-type {\n",
       "        vertical-align: middle;\n",
       "    }\n",
       "\n",
       "    .dataframe tbody tr th {\n",
       "        vertical-align: top;\n",
       "    }\n",
       "\n",
       "    .dataframe thead th {\n",
       "        text-align: right;\n",
       "    }\n",
       "</style>\n",
       "<table border=\"1\" class=\"dataframe\">\n",
       "  <thead>\n",
       "    <tr style=\"text-align: right;\">\n",
       "      <th></th>\n",
       "      <th>title</th>\n",
       "      <th>pre-discount-price</th>\n",
       "      <th>sale-price</th>\n",
       "      <th>positive-review-percent</th>\n",
       "      <th>num-reviews</th>\n",
       "      <th>review-class</th>\n",
       "      <th>date-released</th>\n",
       "      <th>Adventure</th>\n",
       "      <th>RPG</th>\n",
       "      <th>Strategy</th>\n",
       "      <th>...</th>\n",
       "      <th>Movie</th>\n",
       "      <th>Video Production</th>\n",
       "      <th>Software Training</th>\n",
       "      <th>Accounting</th>\n",
       "      <th>Photo Editing</th>\n",
       "      <th>Documentary</th>\n",
       "      <th>Episodic</th>\n",
       "      <th>Short</th>\n",
       "      <th>Tutorial</th>\n",
       "      <th>360 Video</th>\n",
       "    </tr>\n",
       "  </thead>\n",
       "  <tbody>\n",
       "    <tr>\n",
       "      <th>0</th>\n",
       "      <td>Baldur's Gate 3</td>\n",
       "      <td>£49.99</td>\n",
       "      <td>£44.99</td>\n",
       "      <td>96</td>\n",
       "      <td>454247</td>\n",
       "      <td>Overwhelmingly Positive</td>\n",
       "      <td>3 Aug, 2023</td>\n",
       "      <td>1</td>\n",
       "      <td>1</td>\n",
       "      <td>1</td>\n",
       "      <td>...</td>\n",
       "      <td>0</td>\n",
       "      <td>0</td>\n",
       "      <td>0</td>\n",
       "      <td>0</td>\n",
       "      <td>0</td>\n",
       "      <td>0</td>\n",
       "      <td>0</td>\n",
       "      <td>0</td>\n",
       "      <td>0</td>\n",
       "      <td>0</td>\n",
       "    </tr>\n",
       "    <tr>\n",
       "      <th>1</th>\n",
       "      <td>Lethal Company</td>\n",
       "      <td>£8.50</td>\n",
       "      <td>£8.50</td>\n",
       "      <td>98</td>\n",
       "      <td>166011</td>\n",
       "      <td>Overwhelmingly Positive</td>\n",
       "      <td>23 Oct, 2023</td>\n",
       "      <td>1</td>\n",
       "      <td>0</td>\n",
       "      <td>0</td>\n",
       "      <td>...</td>\n",
       "      <td>0</td>\n",
       "      <td>0</td>\n",
       "      <td>0</td>\n",
       "      <td>0</td>\n",
       "      <td>0</td>\n",
       "      <td>0</td>\n",
       "      <td>0</td>\n",
       "      <td>0</td>\n",
       "      <td>0</td>\n",
       "      <td>0</td>\n",
       "    </tr>\n",
       "    <tr>\n",
       "      <th>2</th>\n",
       "      <td>Cyberpunk 2077</td>\n",
       "      <td></td>\n",
       "      <td></td>\n",
       "      <td></td>\n",
       "      <td></td>\n",
       "      <td></td>\n",
       "      <td>9 Dec, 2020</td>\n",
       "      <td>0</td>\n",
       "      <td>1</td>\n",
       "      <td>0</td>\n",
       "      <td>...</td>\n",
       "      <td>0</td>\n",
       "      <td>0</td>\n",
       "      <td>0</td>\n",
       "      <td>0</td>\n",
       "      <td>0</td>\n",
       "      <td>0</td>\n",
       "      <td>0</td>\n",
       "      <td>0</td>\n",
       "      <td>0</td>\n",
       "      <td>0</td>\n",
       "    </tr>\n",
       "    <tr>\n",
       "      <th>3</th>\n",
       "      <td>Counter-Strike 2</td>\n",
       "      <td>Free</td>\n",
       "      <td>Free</td>\n",
       "      <td>87</td>\n",
       "      <td>7802681</td>\n",
       "      <td>Very Positive</td>\n",
       "      <td>21 Aug, 2012</td>\n",
       "      <td>0</td>\n",
       "      <td>0</td>\n",
       "      <td>0</td>\n",
       "      <td>...</td>\n",
       "      <td>0</td>\n",
       "      <td>0</td>\n",
       "      <td>0</td>\n",
       "      <td>0</td>\n",
       "      <td>0</td>\n",
       "      <td>0</td>\n",
       "      <td>0</td>\n",
       "      <td>0</td>\n",
       "      <td>0</td>\n",
       "      <td>0</td>\n",
       "    </tr>\n",
       "    <tr>\n",
       "      <th>4</th>\n",
       "      <td>Call of Duty®</td>\n",
       "      <td></td>\n",
       "      <td></td>\n",
       "      <td></td>\n",
       "      <td></td>\n",
       "      <td></td>\n",
       "      <td>27 Oct, 2022</td>\n",
       "      <td>0</td>\n",
       "      <td>0</td>\n",
       "      <td>0</td>\n",
       "      <td>...</td>\n",
       "      <td>0</td>\n",
       "      <td>0</td>\n",
       "      <td>0</td>\n",
       "      <td>0</td>\n",
       "      <td>0</td>\n",
       "      <td>0</td>\n",
       "      <td>0</td>\n",
       "      <td>0</td>\n",
       "      <td>0</td>\n",
       "      <td>0</td>\n",
       "    </tr>\n",
       "    <tr>\n",
       "      <th>...</th>\n",
       "      <td>...</td>\n",
       "      <td>...</td>\n",
       "      <td>...</td>\n",
       "      <td>...</td>\n",
       "      <td>...</td>\n",
       "      <td>...</td>\n",
       "      <td>...</td>\n",
       "      <td>...</td>\n",
       "      <td>...</td>\n",
       "      <td>...</td>\n",
       "      <td>...</td>\n",
       "      <td>...</td>\n",
       "      <td>...</td>\n",
       "      <td>...</td>\n",
       "      <td>...</td>\n",
       "      <td>...</td>\n",
       "      <td>...</td>\n",
       "      <td>...</td>\n",
       "      <td>...</td>\n",
       "      <td>...</td>\n",
       "      <td>...</td>\n",
       "    </tr>\n",
       "    <tr>\n",
       "      <th>76562</th>\n",
       "      <td>Seek Love</td>\n",
       "      <td>£10.99</td>\n",
       "      <td>£1.09</td>\n",
       "      <td></td>\n",
       "      <td></td>\n",
       "      <td></td>\n",
       "      <td>21 Nov, 2018</td>\n",
       "      <td>1</td>\n",
       "      <td>0</td>\n",
       "      <td>1</td>\n",
       "      <td>...</td>\n",
       "      <td>0</td>\n",
       "      <td>0</td>\n",
       "      <td>0</td>\n",
       "      <td>0</td>\n",
       "      <td>0</td>\n",
       "      <td>0</td>\n",
       "      <td>0</td>\n",
       "      <td>0</td>\n",
       "      <td>0</td>\n",
       "      <td>0</td>\n",
       "    </tr>\n",
       "    <tr>\n",
       "      <th>76563</th>\n",
       "      <td>Age of Cards - Ra's Chess</td>\n",
       "      <td></td>\n",
       "      <td></td>\n",
       "      <td></td>\n",
       "      <td></td>\n",
       "      <td></td>\n",
       "      <td>Coming soon</td>\n",
       "      <td>0</td>\n",
       "      <td>0</td>\n",
       "      <td>1</td>\n",
       "      <td>...</td>\n",
       "      <td>0</td>\n",
       "      <td>0</td>\n",
       "      <td>0</td>\n",
       "      <td>0</td>\n",
       "      <td>0</td>\n",
       "      <td>0</td>\n",
       "      <td>0</td>\n",
       "      <td>0</td>\n",
       "      <td>0</td>\n",
       "      <td>0</td>\n",
       "    </tr>\n",
       "    <tr>\n",
       "      <th>76564</th>\n",
       "      <td>Thrunt XL</td>\n",
       "      <td></td>\n",
       "      <td></td>\n",
       "      <td></td>\n",
       "      <td></td>\n",
       "      <td></td>\n",
       "      <td>Coming soon</td>\n",
       "      <td>0</td>\n",
       "      <td>0</td>\n",
       "      <td>0</td>\n",
       "      <td>...</td>\n",
       "      <td>0</td>\n",
       "      <td>0</td>\n",
       "      <td>0</td>\n",
       "      <td>0</td>\n",
       "      <td>0</td>\n",
       "      <td>0</td>\n",
       "      <td>0</td>\n",
       "      <td>0</td>\n",
       "      <td>0</td>\n",
       "      <td>0</td>\n",
       "    </tr>\n",
       "    <tr>\n",
       "      <th>76565</th>\n",
       "      <td>荒野寻踪</td>\n",
       "      <td>£8.50</td>\n",
       "      <td>£8.50</td>\n",
       "      <td></td>\n",
       "      <td></td>\n",
       "      <td></td>\n",
       "      <td>1 Jun, 2018</td>\n",
       "      <td>1</td>\n",
       "      <td>0</td>\n",
       "      <td>1</td>\n",
       "      <td>...</td>\n",
       "      <td>0</td>\n",
       "      <td>0</td>\n",
       "      <td>0</td>\n",
       "      <td>0</td>\n",
       "      <td>0</td>\n",
       "      <td>0</td>\n",
       "      <td>0</td>\n",
       "      <td>0</td>\n",
       "      <td>0</td>\n",
       "      <td>0</td>\n",
       "    </tr>\n",
       "    <tr>\n",
       "      <th>76566</th>\n",
       "      <td>Unsacrifice</td>\n",
       "      <td></td>\n",
       "      <td></td>\n",
       "      <td></td>\n",
       "      <td></td>\n",
       "      <td></td>\n",
       "      <td>Coming soon</td>\n",
       "      <td>0</td>\n",
       "      <td>0</td>\n",
       "      <td>0</td>\n",
       "      <td>...</td>\n",
       "      <td>0</td>\n",
       "      <td>0</td>\n",
       "      <td>0</td>\n",
       "      <td>0</td>\n",
       "      <td>0</td>\n",
       "      <td>0</td>\n",
       "      <td>0</td>\n",
       "      <td>0</td>\n",
       "      <td>0</td>\n",
       "      <td>0</td>\n",
       "    </tr>\n",
       "  </tbody>\n",
       "</table>\n",
       "<p>76567 rows × 36 columns</p>\n",
       "</div>"
      ],
      "text/plain": [
       "                           title pre-discount-price sale-price  \\\n",
       "0                Baldur's Gate 3             £49.99     £44.99   \n",
       "1                 Lethal Company              £8.50      £8.50   \n",
       "2                 Cyberpunk 2077                                 \n",
       "3               Counter-Strike 2               Free       Free   \n",
       "4                  Call of Duty®                                 \n",
       "...                          ...                ...        ...   \n",
       "76562                  Seek Love             £10.99      £1.09   \n",
       "76563  Age of Cards - Ra's Chess                                 \n",
       "76564                  Thrunt XL                                 \n",
       "76565                       荒野寻踪              £8.50      £8.50   \n",
       "76566                Unsacrifice                                 \n",
       "\n",
       "      positive-review-percent num-reviews             review-class  \\\n",
       "0                          96      454247  Overwhelmingly Positive   \n",
       "1                          98      166011  Overwhelmingly Positive   \n",
       "2                                                                    \n",
       "3                          87     7802681            Very Positive   \n",
       "4                                                                    \n",
       "...                       ...         ...                      ...   \n",
       "76562                                                                \n",
       "76563                                                                \n",
       "76564                                                                \n",
       "76565                                                                \n",
       "76566                                                                \n",
       "\n",
       "      date-released  Adventure  RPG  Strategy  ...  Movie  Video Production  \\\n",
       "0       3 Aug, 2023          1    1         1  ...      0                 0   \n",
       "1      23 Oct, 2023          1    0         0  ...      0                 0   \n",
       "2       9 Dec, 2020          0    1         0  ...      0                 0   \n",
       "3      21 Aug, 2012          0    0         0  ...      0                 0   \n",
       "4      27 Oct, 2022          0    0         0  ...      0                 0   \n",
       "...             ...        ...  ...       ...  ...    ...               ...   \n",
       "76562  21 Nov, 2018          1    0         1  ...      0                 0   \n",
       "76563   Coming soon          0    0         1  ...      0                 0   \n",
       "76564   Coming soon          0    0         0  ...      0                 0   \n",
       "76565   1 Jun, 2018          1    0         1  ...      0                 0   \n",
       "76566   Coming soon          0    0         0  ...      0                 0   \n",
       "\n",
       "       Software Training  Accounting  Photo Editing  Documentary  Episodic  \\\n",
       "0                      0           0              0            0         0   \n",
       "1                      0           0              0            0         0   \n",
       "2                      0           0              0            0         0   \n",
       "3                      0           0              0            0         0   \n",
       "4                      0           0              0            0         0   \n",
       "...                  ...         ...            ...          ...       ...   \n",
       "76562                  0           0              0            0         0   \n",
       "76563                  0           0              0            0         0   \n",
       "76564                  0           0              0            0         0   \n",
       "76565                  0           0              0            0         0   \n",
       "76566                  0           0              0            0         0   \n",
       "\n",
       "       Short  Tutorial  360 Video  \n",
       "0          0         0          0  \n",
       "1          0         0          0  \n",
       "2          0         0          0  \n",
       "3          0         0          0  \n",
       "4          0         0          0  \n",
       "...      ...       ...        ...  \n",
       "76562      0         0          0  \n",
       "76563      0         0          0  \n",
       "76564      0         0          0  \n",
       "76565      0         0          0  \n",
       "76566      0         0          0  \n",
       "\n",
       "[76567 rows x 36 columns]"
      ]
     },
     "execution_count": 24,
     "metadata": {},
     "output_type": "execute_result"
    }
   ],
   "source": [
    "def one_hot_encode_genres(X):\n",
    "\n",
    "    # Create array of all genres in X\n",
    "    genres = []\n",
    "    for i in X:\n",
    "        for j in i:\n",
    "            if j not in genres:\n",
    "                genres.append(j)\n",
    "    \n",
    "    # print(genres)\n",
    "\n",
    "    # Initialise empty genre dictionary\n",
    "    genre_dict = {}\n",
    "    for i in genres:\n",
    "        genre_dict[i] = []\n",
    "    \n",
    "    # print(genre_dict)\n",
    "\n",
    "    # Add 1 for each genre in game i, add 0 for each genre not in game i\n",
    "    for i in X:\n",
    "        for j in i:\n",
    "            genre_dict[j].append(1)\n",
    "        for k in [x for x in genres if x not in i]:\n",
    "            genre_dict[k].append(0)\n",
    "\n",
    "    return genre_dict\n",
    "\n",
    "# one_hot_genres = one_hot_encode_genres(genres)\n",
    "# genre_df = pd.DataFrame.from_dict(one_hot_genres)\n",
    "\n",
    "df = pd.DataFrame(records, columns=['title', 'pre-discount-price', 'sale-price', 'positive-review-percent', 'num-reviews', 'review-class', 'date-released'])\n",
    "df = pd.concat([df, genre_df], axis=1)\n",
    "df"
   ]
  },
  {
   "cell_type": "code",
   "execution_count": 18,
   "id": "3f6bd8f4-382e-493e-9e52-4565cf5e2c58",
   "metadata": {},
   "outputs": [
    {
     "data": {
      "text/html": [
       "<div>\n",
       "<style scoped>\n",
       "    .dataframe tbody tr th:only-of-type {\n",
       "        vertical-align: middle;\n",
       "    }\n",
       "\n",
       "    .dataframe tbody tr th {\n",
       "        vertical-align: top;\n",
       "    }\n",
       "\n",
       "    .dataframe thead th {\n",
       "        text-align: right;\n",
       "    }\n",
       "</style>\n",
       "<table border=\"1\" class=\"dataframe\">\n",
       "  <thead>\n",
       "    <tr style=\"text-align: right;\">\n",
       "      <th></th>\n",
       "      <th>title</th>\n",
       "      <th>pre-discount-price</th>\n",
       "      <th>sale-price</th>\n",
       "      <th>positive-review-percent</th>\n",
       "      <th>num-reviews</th>\n",
       "      <th>review-class</th>\n",
       "      <th>date-released</th>\n",
       "      <th>Adventure</th>\n",
       "      <th>RPG</th>\n",
       "      <th>Strategy</th>\n",
       "      <th>...</th>\n",
       "      <th>Movie</th>\n",
       "      <th>Video Production</th>\n",
       "      <th>Software Training</th>\n",
       "      <th>Accounting</th>\n",
       "      <th>Photo Editing</th>\n",
       "      <th>Documentary</th>\n",
       "      <th>Episodic</th>\n",
       "      <th>Short</th>\n",
       "      <th>Tutorial</th>\n",
       "      <th>360 Video</th>\n",
       "    </tr>\n",
       "  </thead>\n",
       "  <tbody>\n",
       "    <tr>\n",
       "      <th>0</th>\n",
       "      <td>Baldur's Gate 3</td>\n",
       "      <td>£49.99</td>\n",
       "      <td>£44.99</td>\n",
       "      <td>96</td>\n",
       "      <td>454247</td>\n",
       "      <td>Overwhelmingly Positive</td>\n",
       "      <td>None</td>\n",
       "      <td>1</td>\n",
       "      <td>1</td>\n",
       "      <td>1</td>\n",
       "      <td>...</td>\n",
       "      <td>0</td>\n",
       "      <td>0</td>\n",
       "      <td>0</td>\n",
       "      <td>0</td>\n",
       "      <td>0</td>\n",
       "      <td>0</td>\n",
       "      <td>0</td>\n",
       "      <td>0</td>\n",
       "      <td>0</td>\n",
       "      <td>0</td>\n",
       "    </tr>\n",
       "    <tr>\n",
       "      <th>1</th>\n",
       "      <td>Lethal Company</td>\n",
       "      <td>£8.50</td>\n",
       "      <td>£8.50</td>\n",
       "      <td>98</td>\n",
       "      <td>166011</td>\n",
       "      <td>Overwhelmingly Positive</td>\n",
       "      <td>None</td>\n",
       "      <td>1</td>\n",
       "      <td>0</td>\n",
       "      <td>0</td>\n",
       "      <td>...</td>\n",
       "      <td>0</td>\n",
       "      <td>0</td>\n",
       "      <td>0</td>\n",
       "      <td>0</td>\n",
       "      <td>0</td>\n",
       "      <td>0</td>\n",
       "      <td>0</td>\n",
       "      <td>0</td>\n",
       "      <td>0</td>\n",
       "      <td>0</td>\n",
       "    </tr>\n",
       "    <tr>\n",
       "      <th>2</th>\n",
       "      <td>Cyberpunk 2077</td>\n",
       "      <td>None</td>\n",
       "      <td>None</td>\n",
       "      <td>None</td>\n",
       "      <td>None</td>\n",
       "      <td>None</td>\n",
       "      <td>None</td>\n",
       "      <td>0</td>\n",
       "      <td>1</td>\n",
       "      <td>0</td>\n",
       "      <td>...</td>\n",
       "      <td>0</td>\n",
       "      <td>0</td>\n",
       "      <td>0</td>\n",
       "      <td>0</td>\n",
       "      <td>0</td>\n",
       "      <td>0</td>\n",
       "      <td>0</td>\n",
       "      <td>0</td>\n",
       "      <td>0</td>\n",
       "      <td>0</td>\n",
       "    </tr>\n",
       "    <tr>\n",
       "      <th>3</th>\n",
       "      <td>Counter-Strike 2</td>\n",
       "      <td>Free</td>\n",
       "      <td>Free</td>\n",
       "      <td>87</td>\n",
       "      <td>7802681</td>\n",
       "      <td>Very Positive</td>\n",
       "      <td>None</td>\n",
       "      <td>0</td>\n",
       "      <td>0</td>\n",
       "      <td>0</td>\n",
       "      <td>...</td>\n",
       "      <td>0</td>\n",
       "      <td>0</td>\n",
       "      <td>0</td>\n",
       "      <td>0</td>\n",
       "      <td>0</td>\n",
       "      <td>0</td>\n",
       "      <td>0</td>\n",
       "      <td>0</td>\n",
       "      <td>0</td>\n",
       "      <td>0</td>\n",
       "    </tr>\n",
       "    <tr>\n",
       "      <th>4</th>\n",
       "      <td>Call of Duty®</td>\n",
       "      <td>None</td>\n",
       "      <td>None</td>\n",
       "      <td>None</td>\n",
       "      <td>None</td>\n",
       "      <td>None</td>\n",
       "      <td>None</td>\n",
       "      <td>0</td>\n",
       "      <td>0</td>\n",
       "      <td>0</td>\n",
       "      <td>...</td>\n",
       "      <td>0</td>\n",
       "      <td>0</td>\n",
       "      <td>0</td>\n",
       "      <td>0</td>\n",
       "      <td>0</td>\n",
       "      <td>0</td>\n",
       "      <td>0</td>\n",
       "      <td>0</td>\n",
       "      <td>0</td>\n",
       "      <td>0</td>\n",
       "    </tr>\n",
       "    <tr>\n",
       "      <th>...</th>\n",
       "      <td>...</td>\n",
       "      <td>...</td>\n",
       "      <td>...</td>\n",
       "      <td>...</td>\n",
       "      <td>...</td>\n",
       "      <td>...</td>\n",
       "      <td>...</td>\n",
       "      <td>...</td>\n",
       "      <td>...</td>\n",
       "      <td>...</td>\n",
       "      <td>...</td>\n",
       "      <td>...</td>\n",
       "      <td>...</td>\n",
       "      <td>...</td>\n",
       "      <td>...</td>\n",
       "      <td>...</td>\n",
       "      <td>...</td>\n",
       "      <td>...</td>\n",
       "      <td>...</td>\n",
       "      <td>...</td>\n",
       "      <td>...</td>\n",
       "    </tr>\n",
       "    <tr>\n",
       "      <th>76562</th>\n",
       "      <td>Seek Love</td>\n",
       "      <td>£10.99</td>\n",
       "      <td>£1.09</td>\n",
       "      <td>None</td>\n",
       "      <td>None</td>\n",
       "      <td>None</td>\n",
       "      <td>None</td>\n",
       "      <td>1</td>\n",
       "      <td>0</td>\n",
       "      <td>1</td>\n",
       "      <td>...</td>\n",
       "      <td>0</td>\n",
       "      <td>0</td>\n",
       "      <td>0</td>\n",
       "      <td>0</td>\n",
       "      <td>0</td>\n",
       "      <td>0</td>\n",
       "      <td>0</td>\n",
       "      <td>0</td>\n",
       "      <td>0</td>\n",
       "      <td>0</td>\n",
       "    </tr>\n",
       "    <tr>\n",
       "      <th>76563</th>\n",
       "      <td>Age of Cards - Ra's Chess</td>\n",
       "      <td>None</td>\n",
       "      <td>None</td>\n",
       "      <td>None</td>\n",
       "      <td>None</td>\n",
       "      <td>None</td>\n",
       "      <td>None</td>\n",
       "      <td>0</td>\n",
       "      <td>0</td>\n",
       "      <td>1</td>\n",
       "      <td>...</td>\n",
       "      <td>0</td>\n",
       "      <td>0</td>\n",
       "      <td>0</td>\n",
       "      <td>0</td>\n",
       "      <td>0</td>\n",
       "      <td>0</td>\n",
       "      <td>0</td>\n",
       "      <td>0</td>\n",
       "      <td>0</td>\n",
       "      <td>0</td>\n",
       "    </tr>\n",
       "    <tr>\n",
       "      <th>76564</th>\n",
       "      <td>Thrunt XL</td>\n",
       "      <td>None</td>\n",
       "      <td>None</td>\n",
       "      <td>None</td>\n",
       "      <td>None</td>\n",
       "      <td>None</td>\n",
       "      <td>None</td>\n",
       "      <td>0</td>\n",
       "      <td>0</td>\n",
       "      <td>0</td>\n",
       "      <td>...</td>\n",
       "      <td>0</td>\n",
       "      <td>0</td>\n",
       "      <td>0</td>\n",
       "      <td>0</td>\n",
       "      <td>0</td>\n",
       "      <td>0</td>\n",
       "      <td>0</td>\n",
       "      <td>0</td>\n",
       "      <td>0</td>\n",
       "      <td>0</td>\n",
       "    </tr>\n",
       "    <tr>\n",
       "      <th>76565</th>\n",
       "      <td>荒野寻踪</td>\n",
       "      <td>£8.50</td>\n",
       "      <td>£8.50</td>\n",
       "      <td>None</td>\n",
       "      <td>None</td>\n",
       "      <td>None</td>\n",
       "      <td>None</td>\n",
       "      <td>1</td>\n",
       "      <td>0</td>\n",
       "      <td>1</td>\n",
       "      <td>...</td>\n",
       "      <td>0</td>\n",
       "      <td>0</td>\n",
       "      <td>0</td>\n",
       "      <td>0</td>\n",
       "      <td>0</td>\n",
       "      <td>0</td>\n",
       "      <td>0</td>\n",
       "      <td>0</td>\n",
       "      <td>0</td>\n",
       "      <td>0</td>\n",
       "    </tr>\n",
       "    <tr>\n",
       "      <th>76566</th>\n",
       "      <td>Unsacrifice</td>\n",
       "      <td>None</td>\n",
       "      <td>None</td>\n",
       "      <td>None</td>\n",
       "      <td>None</td>\n",
       "      <td>None</td>\n",
       "      <td>None</td>\n",
       "      <td>0</td>\n",
       "      <td>0</td>\n",
       "      <td>0</td>\n",
       "      <td>...</td>\n",
       "      <td>0</td>\n",
       "      <td>0</td>\n",
       "      <td>0</td>\n",
       "      <td>0</td>\n",
       "      <td>0</td>\n",
       "      <td>0</td>\n",
       "      <td>0</td>\n",
       "      <td>0</td>\n",
       "      <td>0</td>\n",
       "      <td>0</td>\n",
       "    </tr>\n",
       "  </tbody>\n",
       "</table>\n",
       "<p>76567 rows × 36 columns</p>\n",
       "</div>"
      ],
      "text/plain": [
       "                           title pre-discount-price sale-price  \\\n",
       "0                Baldur's Gate 3             £49.99     £44.99   \n",
       "1                 Lethal Company              £8.50      £8.50   \n",
       "2                 Cyberpunk 2077               None       None   \n",
       "3               Counter-Strike 2               Free       Free   \n",
       "4                  Call of Duty®               None       None   \n",
       "...                          ...                ...        ...   \n",
       "76562                  Seek Love             £10.99      £1.09   \n",
       "76563  Age of Cards - Ra's Chess               None       None   \n",
       "76564                  Thrunt XL               None       None   \n",
       "76565                       荒野寻踪              £8.50      £8.50   \n",
       "76566                Unsacrifice               None       None   \n",
       "\n",
       "      positive-review-percent num-reviews             review-class  \\\n",
       "0                          96      454247  Overwhelmingly Positive   \n",
       "1                          98      166011  Overwhelmingly Positive   \n",
       "2                        None        None                     None   \n",
       "3                          87     7802681            Very Positive   \n",
       "4                        None        None                     None   \n",
       "...                       ...         ...                      ...   \n",
       "76562                    None        None                     None   \n",
       "76563                    None        None                     None   \n",
       "76564                    None        None                     None   \n",
       "76565                    None        None                     None   \n",
       "76566                    None        None                     None   \n",
       "\n",
       "      date-released  Adventure  RPG  Strategy  ...  Movie  Video Production  \\\n",
       "0              None          1    1         1  ...      0                 0   \n",
       "1              None          1    0         0  ...      0                 0   \n",
       "2              None          0    1         0  ...      0                 0   \n",
       "3              None          0    0         0  ...      0                 0   \n",
       "4              None          0    0         0  ...      0                 0   \n",
       "...             ...        ...  ...       ...  ...    ...               ...   \n",
       "76562          None          1    0         1  ...      0                 0   \n",
       "76563          None          0    0         1  ...      0                 0   \n",
       "76564          None          0    0         0  ...      0                 0   \n",
       "76565          None          1    0         1  ...      0                 0   \n",
       "76566          None          0    0         0  ...      0                 0   \n",
       "\n",
       "       Software Training  Accounting  Photo Editing  Documentary  Episodic  \\\n",
       "0                      0           0              0            0         0   \n",
       "1                      0           0              0            0         0   \n",
       "2                      0           0              0            0         0   \n",
       "3                      0           0              0            0         0   \n",
       "4                      0           0              0            0         0   \n",
       "...                  ...         ...            ...          ...       ...   \n",
       "76562                  0           0              0            0         0   \n",
       "76563                  0           0              0            0         0   \n",
       "76564                  0           0              0            0         0   \n",
       "76565                  0           0              0            0         0   \n",
       "76566                  0           0              0            0         0   \n",
       "\n",
       "       Short  Tutorial  360 Video  \n",
       "0          0         0          0  \n",
       "1          0         0          0  \n",
       "2          0         0          0  \n",
       "3          0         0          0  \n",
       "4          0         0          0  \n",
       "...      ...       ...        ...  \n",
       "76562      0         0          0  \n",
       "76563      0         0          0  \n",
       "76564      0         0          0  \n",
       "76565      0         0          0  \n",
       "76566      0         0          0  \n",
       "\n",
       "[76567 rows x 36 columns]"
      ]
     },
     "execution_count": 18,
     "metadata": {},
     "output_type": "execute_result"
    }
   ],
   "source": [
    "df = df_raw\n",
    "df"
   ]
  },
  {
   "cell_type": "markdown",
   "id": "e2f43603-fd28-41f7-b9d4-1a71b8ab3e4a",
   "metadata": {},
   "source": [
    "### 6. Change date format"
   ]
  },
  {
   "cell_type": "code",
   "execution_count": 41,
   "id": "36a6fbee-e909-4da1-a8c4-3247b2a4ff65",
   "metadata": {},
   "outputs": [
    {
     "name": "stdout",
     "output_type": "stream",
     "text": [
      "[INFO] Changing date format...\n"
     ]
    },
    {
     "name": "stderr",
     "output_type": "stream",
     "text": [
      "100%|████████████████████████████████████████████████████████████████████████| 76567/76567 [00:00<00:00, 135393.96it/s]\n"
     ]
    },
    {
     "data": {
      "text/html": [
       "<div>\n",
       "<style scoped>\n",
       "    .dataframe tbody tr th:only-of-type {\n",
       "        vertical-align: middle;\n",
       "    }\n",
       "\n",
       "    .dataframe tbody tr th {\n",
       "        vertical-align: top;\n",
       "    }\n",
       "\n",
       "    .dataframe thead th {\n",
       "        text-align: right;\n",
       "    }\n",
       "</style>\n",
       "<table border=\"1\" class=\"dataframe\">\n",
       "  <thead>\n",
       "    <tr style=\"text-align: right;\">\n",
       "      <th></th>\n",
       "      <th>title</th>\n",
       "      <th>pre-discount-price</th>\n",
       "      <th>sale-price</th>\n",
       "      <th>positive-review-percent</th>\n",
       "      <th>num-reviews</th>\n",
       "      <th>review-class</th>\n",
       "      <th>date-released</th>\n",
       "      <th>Adventure</th>\n",
       "      <th>RPG</th>\n",
       "      <th>Strategy</th>\n",
       "      <th>...</th>\n",
       "      <th>Movie</th>\n",
       "      <th>Video Production</th>\n",
       "      <th>Software Training</th>\n",
       "      <th>Accounting</th>\n",
       "      <th>Photo Editing</th>\n",
       "      <th>Documentary</th>\n",
       "      <th>Episodic</th>\n",
       "      <th>Short</th>\n",
       "      <th>Tutorial</th>\n",
       "      <th>360 Video</th>\n",
       "    </tr>\n",
       "  </thead>\n",
       "  <tbody>\n",
       "    <tr>\n",
       "      <th>0</th>\n",
       "      <td>Baldur's Gate 3</td>\n",
       "      <td>£49.99</td>\n",
       "      <td>£44.99</td>\n",
       "      <td>96</td>\n",
       "      <td>454247</td>\n",
       "      <td>Overwhelmingly Positive</td>\n",
       "      <td>2023-08-03</td>\n",
       "      <td>1</td>\n",
       "      <td>1</td>\n",
       "      <td>1</td>\n",
       "      <td>...</td>\n",
       "      <td>0</td>\n",
       "      <td>0</td>\n",
       "      <td>0</td>\n",
       "      <td>0</td>\n",
       "      <td>0</td>\n",
       "      <td>0</td>\n",
       "      <td>0</td>\n",
       "      <td>0</td>\n",
       "      <td>0</td>\n",
       "      <td>0</td>\n",
       "    </tr>\n",
       "    <tr>\n",
       "      <th>1</th>\n",
       "      <td>Lethal Company</td>\n",
       "      <td>£8.50</td>\n",
       "      <td>£8.50</td>\n",
       "      <td>98</td>\n",
       "      <td>166011</td>\n",
       "      <td>Overwhelmingly Positive</td>\n",
       "      <td>2023-10-23</td>\n",
       "      <td>1</td>\n",
       "      <td>0</td>\n",
       "      <td>0</td>\n",
       "      <td>...</td>\n",
       "      <td>0</td>\n",
       "      <td>0</td>\n",
       "      <td>0</td>\n",
       "      <td>0</td>\n",
       "      <td>0</td>\n",
       "      <td>0</td>\n",
       "      <td>0</td>\n",
       "      <td>0</td>\n",
       "      <td>0</td>\n",
       "      <td>0</td>\n",
       "    </tr>\n",
       "    <tr>\n",
       "      <th>2</th>\n",
       "      <td>Cyberpunk 2077</td>\n",
       "      <td></td>\n",
       "      <td></td>\n",
       "      <td></td>\n",
       "      <td></td>\n",
       "      <td></td>\n",
       "      <td>2020-12-09</td>\n",
       "      <td>0</td>\n",
       "      <td>1</td>\n",
       "      <td>0</td>\n",
       "      <td>...</td>\n",
       "      <td>0</td>\n",
       "      <td>0</td>\n",
       "      <td>0</td>\n",
       "      <td>0</td>\n",
       "      <td>0</td>\n",
       "      <td>0</td>\n",
       "      <td>0</td>\n",
       "      <td>0</td>\n",
       "      <td>0</td>\n",
       "      <td>0</td>\n",
       "    </tr>\n",
       "    <tr>\n",
       "      <th>3</th>\n",
       "      <td>Counter-Strike 2</td>\n",
       "      <td>Free</td>\n",
       "      <td>Free</td>\n",
       "      <td>87</td>\n",
       "      <td>7802681</td>\n",
       "      <td>Very Positive</td>\n",
       "      <td>2012-08-21</td>\n",
       "      <td>0</td>\n",
       "      <td>0</td>\n",
       "      <td>0</td>\n",
       "      <td>...</td>\n",
       "      <td>0</td>\n",
       "      <td>0</td>\n",
       "      <td>0</td>\n",
       "      <td>0</td>\n",
       "      <td>0</td>\n",
       "      <td>0</td>\n",
       "      <td>0</td>\n",
       "      <td>0</td>\n",
       "      <td>0</td>\n",
       "      <td>0</td>\n",
       "    </tr>\n",
       "    <tr>\n",
       "      <th>4</th>\n",
       "      <td>Call of Duty®</td>\n",
       "      <td></td>\n",
       "      <td></td>\n",
       "      <td></td>\n",
       "      <td></td>\n",
       "      <td></td>\n",
       "      <td>2022-10-27</td>\n",
       "      <td>0</td>\n",
       "      <td>0</td>\n",
       "      <td>0</td>\n",
       "      <td>...</td>\n",
       "      <td>0</td>\n",
       "      <td>0</td>\n",
       "      <td>0</td>\n",
       "      <td>0</td>\n",
       "      <td>0</td>\n",
       "      <td>0</td>\n",
       "      <td>0</td>\n",
       "      <td>0</td>\n",
       "      <td>0</td>\n",
       "      <td>0</td>\n",
       "    </tr>\n",
       "    <tr>\n",
       "      <th>...</th>\n",
       "      <td>...</td>\n",
       "      <td>...</td>\n",
       "      <td>...</td>\n",
       "      <td>...</td>\n",
       "      <td>...</td>\n",
       "      <td>...</td>\n",
       "      <td>...</td>\n",
       "      <td>...</td>\n",
       "      <td>...</td>\n",
       "      <td>...</td>\n",
       "      <td>...</td>\n",
       "      <td>...</td>\n",
       "      <td>...</td>\n",
       "      <td>...</td>\n",
       "      <td>...</td>\n",
       "      <td>...</td>\n",
       "      <td>...</td>\n",
       "      <td>...</td>\n",
       "      <td>...</td>\n",
       "      <td>...</td>\n",
       "      <td>...</td>\n",
       "    </tr>\n",
       "    <tr>\n",
       "      <th>76562</th>\n",
       "      <td>Seek Love</td>\n",
       "      <td>£10.99</td>\n",
       "      <td>£1.09</td>\n",
       "      <td></td>\n",
       "      <td></td>\n",
       "      <td></td>\n",
       "      <td>2018-11-21</td>\n",
       "      <td>1</td>\n",
       "      <td>0</td>\n",
       "      <td>1</td>\n",
       "      <td>...</td>\n",
       "      <td>0</td>\n",
       "      <td>0</td>\n",
       "      <td>0</td>\n",
       "      <td>0</td>\n",
       "      <td>0</td>\n",
       "      <td>0</td>\n",
       "      <td>0</td>\n",
       "      <td>0</td>\n",
       "      <td>0</td>\n",
       "      <td>0</td>\n",
       "    </tr>\n",
       "    <tr>\n",
       "      <th>76563</th>\n",
       "      <td>Age of Cards - Ra's Chess</td>\n",
       "      <td></td>\n",
       "      <td></td>\n",
       "      <td></td>\n",
       "      <td></td>\n",
       "      <td></td>\n",
       "      <td>None</td>\n",
       "      <td>0</td>\n",
       "      <td>0</td>\n",
       "      <td>1</td>\n",
       "      <td>...</td>\n",
       "      <td>0</td>\n",
       "      <td>0</td>\n",
       "      <td>0</td>\n",
       "      <td>0</td>\n",
       "      <td>0</td>\n",
       "      <td>0</td>\n",
       "      <td>0</td>\n",
       "      <td>0</td>\n",
       "      <td>0</td>\n",
       "      <td>0</td>\n",
       "    </tr>\n",
       "    <tr>\n",
       "      <th>76564</th>\n",
       "      <td>Thrunt XL</td>\n",
       "      <td></td>\n",
       "      <td></td>\n",
       "      <td></td>\n",
       "      <td></td>\n",
       "      <td></td>\n",
       "      <td>None</td>\n",
       "      <td>0</td>\n",
       "      <td>0</td>\n",
       "      <td>0</td>\n",
       "      <td>...</td>\n",
       "      <td>0</td>\n",
       "      <td>0</td>\n",
       "      <td>0</td>\n",
       "      <td>0</td>\n",
       "      <td>0</td>\n",
       "      <td>0</td>\n",
       "      <td>0</td>\n",
       "      <td>0</td>\n",
       "      <td>0</td>\n",
       "      <td>0</td>\n",
       "    </tr>\n",
       "    <tr>\n",
       "      <th>76565</th>\n",
       "      <td>荒野寻踪</td>\n",
       "      <td>£8.50</td>\n",
       "      <td>£8.50</td>\n",
       "      <td></td>\n",
       "      <td></td>\n",
       "      <td></td>\n",
       "      <td>2018-06-01</td>\n",
       "      <td>1</td>\n",
       "      <td>0</td>\n",
       "      <td>1</td>\n",
       "      <td>...</td>\n",
       "      <td>0</td>\n",
       "      <td>0</td>\n",
       "      <td>0</td>\n",
       "      <td>0</td>\n",
       "      <td>0</td>\n",
       "      <td>0</td>\n",
       "      <td>0</td>\n",
       "      <td>0</td>\n",
       "      <td>0</td>\n",
       "      <td>0</td>\n",
       "    </tr>\n",
       "    <tr>\n",
       "      <th>76566</th>\n",
       "      <td>Unsacrifice</td>\n",
       "      <td></td>\n",
       "      <td></td>\n",
       "      <td></td>\n",
       "      <td></td>\n",
       "      <td></td>\n",
       "      <td>None</td>\n",
       "      <td>0</td>\n",
       "      <td>0</td>\n",
       "      <td>0</td>\n",
       "      <td>...</td>\n",
       "      <td>0</td>\n",
       "      <td>0</td>\n",
       "      <td>0</td>\n",
       "      <td>0</td>\n",
       "      <td>0</td>\n",
       "      <td>0</td>\n",
       "      <td>0</td>\n",
       "      <td>0</td>\n",
       "      <td>0</td>\n",
       "      <td>0</td>\n",
       "    </tr>\n",
       "  </tbody>\n",
       "</table>\n",
       "<p>76567 rows × 36 columns</p>\n",
       "</div>"
      ],
      "text/plain": [
       "                           title pre-discount-price sale-price  \\\n",
       "0                Baldur's Gate 3             £49.99     £44.99   \n",
       "1                 Lethal Company              £8.50      £8.50   \n",
       "2                 Cyberpunk 2077                                 \n",
       "3               Counter-Strike 2               Free       Free   \n",
       "4                  Call of Duty®                                 \n",
       "...                          ...                ...        ...   \n",
       "76562                  Seek Love             £10.99      £1.09   \n",
       "76563  Age of Cards - Ra's Chess                                 \n",
       "76564                  Thrunt XL                                 \n",
       "76565                       荒野寻踪              £8.50      £8.50   \n",
       "76566                Unsacrifice                                 \n",
       "\n",
       "      positive-review-percent num-reviews             review-class  \\\n",
       "0                          96      454247  Overwhelmingly Positive   \n",
       "1                          98      166011  Overwhelmingly Positive   \n",
       "2                                                                    \n",
       "3                          87     7802681            Very Positive   \n",
       "4                                                                    \n",
       "...                       ...         ...                      ...   \n",
       "76562                                                                \n",
       "76563                                                                \n",
       "76564                                                                \n",
       "76565                                                                \n",
       "76566                                                                \n",
       "\n",
       "      date-released  Adventure  RPG  Strategy  ...  Movie  Video Production  \\\n",
       "0        2023-08-03          1    1         1  ...      0                 0   \n",
       "1        2023-10-23          1    0         0  ...      0                 0   \n",
       "2        2020-12-09          0    1         0  ...      0                 0   \n",
       "3        2012-08-21          0    0         0  ...      0                 0   \n",
       "4        2022-10-27          0    0         0  ...      0                 0   \n",
       "...             ...        ...  ...       ...  ...    ...               ...   \n",
       "76562    2018-11-21          1    0         1  ...      0                 0   \n",
       "76563          None          0    0         1  ...      0                 0   \n",
       "76564          None          0    0         0  ...      0                 0   \n",
       "76565    2018-06-01          1    0         1  ...      0                 0   \n",
       "76566          None          0    0         0  ...      0                 0   \n",
       "\n",
       "       Software Training  Accounting  Photo Editing  Documentary  Episodic  \\\n",
       "0                      0           0              0            0         0   \n",
       "1                      0           0              0            0         0   \n",
       "2                      0           0              0            0         0   \n",
       "3                      0           0              0            0         0   \n",
       "4                      0           0              0            0         0   \n",
       "...                  ...         ...            ...          ...       ...   \n",
       "76562                  0           0              0            0         0   \n",
       "76563                  0           0              0            0         0   \n",
       "76564                  0           0              0            0         0   \n",
       "76565                  0           0              0            0         0   \n",
       "76566                  0           0              0            0         0   \n",
       "\n",
       "       Short  Tutorial  360 Video  \n",
       "0          0         0          0  \n",
       "1          0         0          0  \n",
       "2          0         0          0  \n",
       "3          0         0          0  \n",
       "4          0         0          0  \n",
       "...      ...       ...        ...  \n",
       "76562      0         0          0  \n",
       "76563      0         0          0  \n",
       "76564      0         0          0  \n",
       "76565      0         0          0  \n",
       "76566      0         0          0  \n",
       "\n",
       "[76567 rows x 36 columns]"
      ]
     },
     "execution_count": 41,
     "metadata": {},
     "output_type": "execute_result"
    }
   ],
   "source": [
    "from sklearn.preprocessing import LabelEncoder\n",
    "\n",
    "# Change month into number format\n",
    "def switch(date):\n",
    "    if date == 'Jan':\n",
    "        return '01'\n",
    "    elif date == 'Feb':\n",
    "        return '02'\n",
    "    elif date == 'Mar':\n",
    "        return '03'\n",
    "    elif date == 'Apr':\n",
    "        return '04'\n",
    "    elif date == 'May':\n",
    "        return '05'\n",
    "    elif date == 'Jun':\n",
    "        return '06'\n",
    "    elif date == 'Jul':\n",
    "        return '07'\n",
    "    elif date == 'Aug':\n",
    "        return '08'\n",
    "    elif date == 'Sep':\n",
    "        return '09'\n",
    "    elif date == 'Oct':\n",
    "        return '10'\n",
    "    elif date == 'Nov':\n",
    "        return '11'\n",
    "    elif date == 'Dec':\n",
    "        return '12'\n",
    "    return None\n",
    "\n",
    "df_raw = df\n",
    "\n",
    "# Change date format to YYYY-MM-DD\n",
    "print('[INFO] Changing date format...')\n",
    "converted_dates = []\n",
    "for i in tqdm(range(len(df))):\n",
    "    date = str(df['date-released'].iloc[i])\n",
    "    if len(date.split(\" \")) == 3 and \",\" in date:\n",
    "        try:\n",
    "            year = date[date.index(\", \")+2:]\n",
    "            month = date[date.index(\" \")+1:date.index(\",\")]\n",
    "            day = date[:date.index(\" \")]\n",
    "            month = switch(month) # Turn month into number format\n",
    "            date = year + '-' + month + '-' + day.zfill(2)\n",
    "        except:\n",
    "            date = 'None'\n",
    "    elif len(date.split(\"-\")) == 3:\n",
    "        date = date\n",
    "    else:\n",
    "        date = 'None'\n",
    "    converted_dates.append(date)\n",
    "\n",
    "# print(converted_dates)\n",
    "df['date-released'] = converted_dates\n",
    "df"
   ]
  },
  {
   "cell_type": "markdown",
   "id": "27c23d67-1f40-4dfb-86ec-cee6e0d5fad4",
   "metadata": {},
   "source": [
    "### 7. Clean up data - remove missing values and change formatting"
   ]
  },
  {
   "cell_type": "code",
   "execution_count": 54,
   "id": "d14d9ce2-b6c8-4bfb-898e-58085c002a5d",
   "metadata": {},
   "outputs": [
    {
     "name": "stderr",
     "output_type": "stream",
     "text": [
      "100%|█████████████████████████████████████████████████████████████████████████| 65384/65384 [00:01<00:00, 43044.40it/s]\n"
     ]
    },
    {
     "data": {
      "text/html": [
       "<div>\n",
       "<style scoped>\n",
       "    .dataframe tbody tr th:only-of-type {\n",
       "        vertical-align: middle;\n",
       "    }\n",
       "\n",
       "    .dataframe tbody tr th {\n",
       "        vertical-align: top;\n",
       "    }\n",
       "\n",
       "    .dataframe thead th {\n",
       "        text-align: right;\n",
       "    }\n",
       "</style>\n",
       "<table border=\"1\" class=\"dataframe\">\n",
       "  <thead>\n",
       "    <tr style=\"text-align: right;\">\n",
       "      <th></th>\n",
       "      <th>title</th>\n",
       "      <th>pre-discount-price</th>\n",
       "      <th>sale-price</th>\n",
       "      <th>positive-review-percent</th>\n",
       "      <th>num-reviews</th>\n",
       "      <th>review-class</th>\n",
       "      <th>date-released</th>\n",
       "      <th>Adventure</th>\n",
       "      <th>RPG</th>\n",
       "      <th>Strategy</th>\n",
       "      <th>...</th>\n",
       "      <th>Movie</th>\n",
       "      <th>Video Production</th>\n",
       "      <th>Software Training</th>\n",
       "      <th>Accounting</th>\n",
       "      <th>Photo Editing</th>\n",
       "      <th>Documentary</th>\n",
       "      <th>Episodic</th>\n",
       "      <th>Short</th>\n",
       "      <th>Tutorial</th>\n",
       "      <th>360 Video</th>\n",
       "    </tr>\n",
       "  </thead>\n",
       "  <tbody>\n",
       "    <tr>\n",
       "      <th>0</th>\n",
       "      <td>Baldur's Gate 3</td>\n",
       "      <td>49.99</td>\n",
       "      <td>44.99</td>\n",
       "      <td>96</td>\n",
       "      <td>454247</td>\n",
       "      <td>Overwhelmingly Positive</td>\n",
       "      <td>2023-08-03</td>\n",
       "      <td>1</td>\n",
       "      <td>1</td>\n",
       "      <td>1</td>\n",
       "      <td>...</td>\n",
       "      <td>0</td>\n",
       "      <td>0</td>\n",
       "      <td>0</td>\n",
       "      <td>0</td>\n",
       "      <td>0</td>\n",
       "      <td>0</td>\n",
       "      <td>0</td>\n",
       "      <td>0</td>\n",
       "      <td>0</td>\n",
       "      <td>0</td>\n",
       "    </tr>\n",
       "    <tr>\n",
       "      <th>1</th>\n",
       "      <td>Lethal Company</td>\n",
       "      <td>8.50</td>\n",
       "      <td>8.50</td>\n",
       "      <td>98</td>\n",
       "      <td>166011</td>\n",
       "      <td>Overwhelmingly Positive</td>\n",
       "      <td>2023-10-23</td>\n",
       "      <td>1</td>\n",
       "      <td>0</td>\n",
       "      <td>0</td>\n",
       "      <td>...</td>\n",
       "      <td>0</td>\n",
       "      <td>0</td>\n",
       "      <td>0</td>\n",
       "      <td>0</td>\n",
       "      <td>0</td>\n",
       "      <td>0</td>\n",
       "      <td>0</td>\n",
       "      <td>0</td>\n",
       "      <td>0</td>\n",
       "      <td>0</td>\n",
       "    </tr>\n",
       "    <tr>\n",
       "      <th>3</th>\n",
       "      <td>Counter-Strike 2</td>\n",
       "      <td>0.00</td>\n",
       "      <td>0.00</td>\n",
       "      <td>87</td>\n",
       "      <td>7802681</td>\n",
       "      <td>Very Positive</td>\n",
       "      <td>2012-08-21</td>\n",
       "      <td>0</td>\n",
       "      <td>0</td>\n",
       "      <td>0</td>\n",
       "      <td>...</td>\n",
       "      <td>0</td>\n",
       "      <td>0</td>\n",
       "      <td>0</td>\n",
       "      <td>0</td>\n",
       "      <td>0</td>\n",
       "      <td>0</td>\n",
       "      <td>0</td>\n",
       "      <td>0</td>\n",
       "      <td>0</td>\n",
       "      <td>0</td>\n",
       "    </tr>\n",
       "    <tr>\n",
       "      <th>6</th>\n",
       "      <td>Red Dead Redemption 2</td>\n",
       "      <td>59.99</td>\n",
       "      <td>19.79</td>\n",
       "      <td>91</td>\n",
       "      <td>464773</td>\n",
       "      <td>Very Positive</td>\n",
       "      <td>2019-12-05</td>\n",
       "      <td>1</td>\n",
       "      <td>0</td>\n",
       "      <td>0</td>\n",
       "      <td>...</td>\n",
       "      <td>0</td>\n",
       "      <td>0</td>\n",
       "      <td>0</td>\n",
       "      <td>0</td>\n",
       "      <td>0</td>\n",
       "      <td>0</td>\n",
       "      <td>0</td>\n",
       "      <td>0</td>\n",
       "      <td>0</td>\n",
       "      <td>0</td>\n",
       "    </tr>\n",
       "    <tr>\n",
       "      <th>7</th>\n",
       "      <td>Hogwarts Legacy</td>\n",
       "      <td>49.99</td>\n",
       "      <td>24.99</td>\n",
       "      <td>92</td>\n",
       "      <td>175314</td>\n",
       "      <td>Very Positive</td>\n",
       "      <td>2023-02-10</td>\n",
       "      <td>1</td>\n",
       "      <td>1</td>\n",
       "      <td>0</td>\n",
       "      <td>...</td>\n",
       "      <td>0</td>\n",
       "      <td>0</td>\n",
       "      <td>0</td>\n",
       "      <td>0</td>\n",
       "      <td>0</td>\n",
       "      <td>0</td>\n",
       "      <td>0</td>\n",
       "      <td>0</td>\n",
       "      <td>0</td>\n",
       "      <td>0</td>\n",
       "    </tr>\n",
       "    <tr>\n",
       "      <th>...</th>\n",
       "      <td>...</td>\n",
       "      <td>...</td>\n",
       "      <td>...</td>\n",
       "      <td>...</td>\n",
       "      <td>...</td>\n",
       "      <td>...</td>\n",
       "      <td>...</td>\n",
       "      <td>...</td>\n",
       "      <td>...</td>\n",
       "      <td>...</td>\n",
       "      <td>...</td>\n",
       "      <td>...</td>\n",
       "      <td>...</td>\n",
       "      <td>...</td>\n",
       "      <td>...</td>\n",
       "      <td>...</td>\n",
       "      <td>...</td>\n",
       "      <td>...</td>\n",
       "      <td>...</td>\n",
       "      <td>...</td>\n",
       "      <td>...</td>\n",
       "    </tr>\n",
       "    <tr>\n",
       "      <th>33621</th>\n",
       "      <td>Orake Classic</td>\n",
       "      <td>0.00</td>\n",
       "      <td>0.00</td>\n",
       "      <td>71</td>\n",
       "      <td>639</td>\n",
       "      <td>Mostly Positive</td>\n",
       "      <td>2017-06-16</td>\n",
       "      <td>1</td>\n",
       "      <td>1</td>\n",
       "      <td>1</td>\n",
       "      <td>...</td>\n",
       "      <td>0</td>\n",
       "      <td>0</td>\n",
       "      <td>0</td>\n",
       "      <td>0</td>\n",
       "      <td>0</td>\n",
       "      <td>0</td>\n",
       "      <td>0</td>\n",
       "      <td>0</td>\n",
       "      <td>0</td>\n",
       "      <td>0</td>\n",
       "    </tr>\n",
       "    <tr>\n",
       "      <th>33622</th>\n",
       "      <td>PooShooter: Toilet Invaders</td>\n",
       "      <td>0.00</td>\n",
       "      <td>0.00</td>\n",
       "      <td>72</td>\n",
       "      <td>93</td>\n",
       "      <td>Mostly Positive</td>\n",
       "      <td>2016-10-03</td>\n",
       "      <td>0</td>\n",
       "      <td>0</td>\n",
       "      <td>0</td>\n",
       "      <td>...</td>\n",
       "      <td>0</td>\n",
       "      <td>0</td>\n",
       "      <td>0</td>\n",
       "      <td>0</td>\n",
       "      <td>0</td>\n",
       "      <td>0</td>\n",
       "      <td>0</td>\n",
       "      <td>0</td>\n",
       "      <td>0</td>\n",
       "      <td>0</td>\n",
       "    </tr>\n",
       "    <tr>\n",
       "      <th>33623</th>\n",
       "      <td>Gauntlet of IRE</td>\n",
       "      <td>0.00</td>\n",
       "      <td>0.00</td>\n",
       "      <td>74</td>\n",
       "      <td>181</td>\n",
       "      <td>Mostly Positive</td>\n",
       "      <td>2017-12-15</td>\n",
       "      <td>0</td>\n",
       "      <td>0</td>\n",
       "      <td>0</td>\n",
       "      <td>...</td>\n",
       "      <td>0</td>\n",
       "      <td>0</td>\n",
       "      <td>0</td>\n",
       "      <td>0</td>\n",
       "      <td>0</td>\n",
       "      <td>0</td>\n",
       "      <td>0</td>\n",
       "      <td>0</td>\n",
       "      <td>0</td>\n",
       "      <td>0</td>\n",
       "    </tr>\n",
       "    <tr>\n",
       "      <th>33624</th>\n",
       "      <td>Iron League</td>\n",
       "      <td>0.00</td>\n",
       "      <td>0.00</td>\n",
       "      <td>72</td>\n",
       "      <td>804</td>\n",
       "      <td>Mostly Positive</td>\n",
       "      <td>2018-03-14</td>\n",
       "      <td>0</td>\n",
       "      <td>0</td>\n",
       "      <td>1</td>\n",
       "      <td>...</td>\n",
       "      <td>0</td>\n",
       "      <td>0</td>\n",
       "      <td>0</td>\n",
       "      <td>0</td>\n",
       "      <td>0</td>\n",
       "      <td>0</td>\n",
       "      <td>0</td>\n",
       "      <td>0</td>\n",
       "      <td>0</td>\n",
       "      <td>0</td>\n",
       "    </tr>\n",
       "    <tr>\n",
       "      <th>33625</th>\n",
       "      <td>Minds Eyes</td>\n",
       "      <td>0.00</td>\n",
       "      <td>0.00</td>\n",
       "      <td>70</td>\n",
       "      <td>1645</td>\n",
       "      <td>Mostly Positive</td>\n",
       "      <td>2016-08-31</td>\n",
       "      <td>1</td>\n",
       "      <td>0</td>\n",
       "      <td>0</td>\n",
       "      <td>...</td>\n",
       "      <td>0</td>\n",
       "      <td>0</td>\n",
       "      <td>0</td>\n",
       "      <td>0</td>\n",
       "      <td>0</td>\n",
       "      <td>0</td>\n",
       "      <td>0</td>\n",
       "      <td>0</td>\n",
       "      <td>0</td>\n",
       "      <td>0</td>\n",
       "    </tr>\n",
       "  </tbody>\n",
       "</table>\n",
       "<p>27948 rows × 36 columns</p>\n",
       "</div>"
      ],
      "text/plain": [
       "                             title pre-discount-price sale-price  \\\n",
       "0                  Baldur's Gate 3              49.99      44.99   \n",
       "1                   Lethal Company               8.50       8.50   \n",
       "3                 Counter-Strike 2               0.00       0.00   \n",
       "6            Red Dead Redemption 2              59.99      19.79   \n",
       "7                  Hogwarts Legacy              49.99      24.99   \n",
       "...                            ...                ...        ...   \n",
       "33621                Orake Classic               0.00       0.00   \n",
       "33622  PooShooter: Toilet Invaders               0.00       0.00   \n",
       "33623              Gauntlet of IRE               0.00       0.00   \n",
       "33624                  Iron League               0.00       0.00   \n",
       "33625                   Minds Eyes               0.00       0.00   \n",
       "\n",
       "      positive-review-percent num-reviews             review-class  \\\n",
       "0                          96      454247  Overwhelmingly Positive   \n",
       "1                          98      166011  Overwhelmingly Positive   \n",
       "3                          87     7802681            Very Positive   \n",
       "6                          91      464773            Very Positive   \n",
       "7                          92      175314            Very Positive   \n",
       "...                       ...         ...                      ...   \n",
       "33621                      71         639          Mostly Positive   \n",
       "33622                      72          93          Mostly Positive   \n",
       "33623                      74         181          Mostly Positive   \n",
       "33624                      72         804          Mostly Positive   \n",
       "33625                      70        1645          Mostly Positive   \n",
       "\n",
       "      date-released  Adventure  RPG  Strategy  ...  Movie  Video Production  \\\n",
       "0        2023-08-03          1    1         1  ...      0                 0   \n",
       "1        2023-10-23          1    0         0  ...      0                 0   \n",
       "3        2012-08-21          0    0         0  ...      0                 0   \n",
       "6        2019-12-05          1    0         0  ...      0                 0   \n",
       "7        2023-02-10          1    1         0  ...      0                 0   \n",
       "...             ...        ...  ...       ...  ...    ...               ...   \n",
       "33621    2017-06-16          1    1         1  ...      0                 0   \n",
       "33622    2016-10-03          0    0         0  ...      0                 0   \n",
       "33623    2017-12-15          0    0         0  ...      0                 0   \n",
       "33624    2018-03-14          0    0         1  ...      0                 0   \n",
       "33625    2016-08-31          1    0         0  ...      0                 0   \n",
       "\n",
       "       Software Training  Accounting  Photo Editing  Documentary  Episodic  \\\n",
       "0                      0           0              0            0         0   \n",
       "1                      0           0              0            0         0   \n",
       "3                      0           0              0            0         0   \n",
       "6                      0           0              0            0         0   \n",
       "7                      0           0              0            0         0   \n",
       "...                  ...         ...            ...          ...       ...   \n",
       "33621                  0           0              0            0         0   \n",
       "33622                  0           0              0            0         0   \n",
       "33623                  0           0              0            0         0   \n",
       "33624                  0           0              0            0         0   \n",
       "33625                  0           0              0            0         0   \n",
       "\n",
       "       Short  Tutorial  360 Video  \n",
       "0          0         0          0  \n",
       "1          0         0          0  \n",
       "3          0         0          0  \n",
       "6          0         0          0  \n",
       "7          0         0          0  \n",
       "...      ...       ...        ...  \n",
       "33621      0         0          0  \n",
       "33622      0         0          0  \n",
       "33623      0         0          0  \n",
       "33624      0         0          0  \n",
       "33625      0         0          0  \n",
       "\n",
       "[27948 rows x 36 columns]"
      ]
     },
     "execution_count": 54,
     "metadata": {},
     "output_type": "execute_result"
    }
   ],
   "source": [
    "# Remove rows where review-class is None\n",
    "df = df.loc[df['review-class'].notna()]\n",
    "\n",
    "df = df.loc[df['sale-price'].notna()]\n",
    "df = df.loc[df['pre-discount-price'].notna()]\n",
    "\n",
    "converted_disc_prices = []\n",
    "converted_sale_prices = []\n",
    "review_classes = []\n",
    "for i in tqdm(range(len(df))):\n",
    "    # Change empty review-class values to None\n",
    "    if len(df['review-class'].iloc[i]) == 0:\n",
    "        review_class = None\n",
    "    else:\n",
    "        review_class = df['review-class'].iloc[i]\n",
    "    \n",
    "    discount_price = df['pre-discount-price'].iloc[i]\n",
    "    sale_price = df['sale-price'].iloc[i]\n",
    "\n",
    "    if sale_price == 'Free':\n",
    "        sale_price = '0.00'\n",
    "        discount_price = '0.00'\n",
    "    if len(sale_price) == 0:\n",
    "        sale_price = None\n",
    "    else:\n",
    "        sale_price = sale_price.replace(\"£\", \"\")\n",
    "    if len(discount_price) == 0:\n",
    "        discount_price = None\n",
    "    else:\n",
    "        discount_price = discount_price.replace(\"£\", \"\")\n",
    "    \n",
    "\n",
    "    converted_disc_prices.append(discount_price)\n",
    "    converted_sale_prices.append(sale_price)\n",
    "    review_classes.append(review_class)\n",
    "    \n",
    "df['pre-discount-price'] = converted_disc_prices\n",
    "df['sale-price'] = converted_sale_prices\n",
    "df['review-class'] = review_classes\n",
    "\n",
    "df = df.loc[df['sale-price'].notna()]\n",
    "df = df.loc[df['pre-discount-price'].notna()]\n",
    "\n",
    "df = df.loc[df['review-class'].notna()]\n",
    "\n",
    "df"
   ]
  },
  {
   "cell_type": "markdown",
   "id": "430e955e-c6e4-4e02-bb47-3a5aa785fae6",
   "metadata": {},
   "source": [
    "### 8. Save DataFrame to CSV"
   ]
  },
  {
   "cell_type": "code",
   "execution_count": 57,
   "id": "2c049427-264d-470b-9c27-68217f3f67dd",
   "metadata": {},
   "outputs": [
    {
     "name": "stdout",
     "output_type": "stream",
     "text": [
      "[INFO] Dataframe saved.\n"
     ]
    }
   ],
   "source": [
    "def save_df(df):\n",
    "    df.to_csv('data.csv', header=True, index=False)\n",
    "\n",
    "save_df(df)\n",
    "print('[INFO] Dataframe saved.')"
   ]
  }
 ],
 "metadata": {
  "kernelspec": {
   "display_name": "Python 3 (ipykernel)",
   "language": "python",
   "name": "python3"
  },
  "language_info": {
   "codemirror_mode": {
    "name": "ipython",
    "version": 3
   },
   "file_extension": ".py",
   "mimetype": "text/x-python",
   "name": "python",
   "nbconvert_exporter": "python",
   "pygments_lexer": "ipython3",
   "version": "3.9.0"
  }
 },
 "nbformat": 4,
 "nbformat_minor": 5
}
